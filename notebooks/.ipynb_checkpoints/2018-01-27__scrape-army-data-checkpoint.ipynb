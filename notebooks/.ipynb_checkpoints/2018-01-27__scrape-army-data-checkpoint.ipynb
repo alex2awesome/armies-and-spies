{
 "cells": [
  {
   "cell_type": "code",
   "execution_count": 75,
   "metadata": {
    "hideCode": false,
    "hidePrompt": false
   },
   "outputs": [],
   "source": [
    "# pdf parsing\n",
    "from pdfminer.pdfinterp import PDFResourceManager, PDFPageInterpreter\n",
    "from pdfminer.converter import TextConverter\n",
    "from pdfminer.layout import LAParams\n",
    "from pdfminer.pdfpage import PDFPage\n",
    "from cStringIO import StringIO\n",
    "# \n",
    "import re\n",
    "import pandas as pd\n",
    "import textract\n",
    "# html parsing\n",
    "import requests\n",
    "from bs4 import BeautifulSoup\n",
    "# other\n",
    "import pandas as pd\n",
    "from tempfile import NamedTemporaryFile\n",
    "import os\n",
    "\n",
    "# https://stackoverflow.com/questions/26494211/extracting-text-from-a-pdf-file-using-pdfminer-in-python\n",
    "def convert_pdf_to_txt(path):\n",
    "    rsrcmgr = PDFResourceManager()\n",
    "    retstr = StringIO()\n",
    "    codec = 'utf-8'\n",
    "    laparams = LAParams()\n",
    "    device = TextConverter(rsrcmgr, retstr, codec=codec, laparams=laparams)\n",
    "    fp = file(path, 'rb')\n",
    "    interpreter = PDFPageInterpreter(rsrcmgr, device)\n",
    "    password = \"\"\n",
    "    maxpages = 0\n",
    "    caching = True\n",
    "    pagenos=set()\n",
    "\n",
    "    for page in PDFPage.get_pages(fp, pagenos, maxpages=maxpages, password=password,caching=caching, check_extractable=True):\n",
    "        interpreter.process_page(page)\n",
    "\n",
    "    text = retstr.getvalue()\n",
    "\n",
    "    fp.close()\n",
    "    device.close()\n",
    "    retstr.close()\n",
    "    return text"
   ]
  },
  {
   "cell_type": "markdown",
   "metadata": {},
   "source": [
    "# Predone URLs"
   ]
  },
  {
   "cell_type": "code",
   "execution_count": 463,
   "metadata": {},
   "outputs": [],
   "source": [
    "predone = ['https://www.armytimes.com/news/your-army/2017/05/12/army-releases-verdicts-of-march-courts-martial/',\n",
    "'https://www.armytimes.com/pay-benefits/military-benefits/2016/08/30/army-releases-verdicts-from-july-courts-martial/',\n",
    "'https://www.armytimes.com/news/your-army/2017/01/24/army-releases-verdicts-of-november-courts-martial/',\n",
    "'https://www.armytimes.com/news/your-army/2015/06/16/army-releases-verdicts-of-may-courts-martial/',\n",
    "'https://www.armytimes.com/news/your-army/2015/03/13/army-releases-verdicts-of-february-courts-martial/',\n",
    "'https://www.armytimes.com/news/your-army/2016/11/02/army-releases-verdicts-of-september-courts-martial/',\n",
    "'https://www.armytimes.com/news/your-army/2015/04/17/army-releases-verdicts-of-march-courts-martial/',\n",
    "'https://www.armytimes.com/news/your-army/2015/01/23/army-releases-courts-martial-verdicts-for-december/',\n",
    "'https://www.armytimes.com/news/your-army/2017/01/24/army-releases-verdicts-of-november-courts-martial/',]"
   ]
  },
  {
   "cell_type": "markdown",
   "metadata": {
    "hideCode": false,
    "hidePrompt": false
   },
   "source": [
    "# Get text context from URLs"
   ]
  },
  {
   "cell_type": "code",
   "execution_count": 64,
   "metadata": {
    "hideCode": false,
    "hidePrompt": false
   },
   "outputs": [],
   "source": [
    "urls= {\n",
    "    'January':{\n",
    "        '2015':'https://www.militarytimes.com/2015/02/19/army-releases-verdicts-of-january-courts-martial/',\n",
    "        '2016':'https://www.armytimes.com/news/your-army/2016/02/22/army-releases-results-of-january-courts-martial/',\n",
    "        '2017':'https://www.mcmilitarylaw.com/uploads/6/6/2/2/66228603/january_202017.pdf',\n",
    "    },\n",
    "    'February': {\n",
    "        '2015':'https://www.armytimes.com/news/your-army/2015/03/13/army-releases-verdicts-of-february-courts-martial/',\n",
    "        '2016':'https://www.armytimes.com/news/your-army/2016/03/24/army-announces-results-of-february-courts-martial/',\n",
    "        '2017':'https://www.mcmilitarylaw.com/uploads/6/6/2/2/66228603/february_202017.pdf',\n",
    "    },\n",
    "    'March':{\n",
    "        '2015':'https://www.armytimes.com/news/your-army/2015/04/17/army-releases-verdicts-of-march-courts-martial/',\n",
    "        '2016':'https://www.armytimes.com/news/your-army/2016/04/21/army-releases-results-of-march-courts-martial/',\n",
    "        '2017':'https://www.armytimes.com/news/your-army/2017/05/12/army-releases-verdicts-of-march-courts-martial/',\n",
    "    },\n",
    "    'April':{\n",
    "        '2015':'https://www.armytimes.com/news/your-army/2015/05/21/army-releases-results-of-april-courts-martial/',\n",
    "        '2016':'https://www.armytimes.com/news/your-army/2016/05/23/army-releases-results-of-april-courts-martial/',\n",
    "    },\n",
    "    'May':{\n",
    "        '2015':'https://www.armytimes.com/news/your-army/2015/06/16/army-releases-verdicts-of-may-courts-martial/',\n",
    "        '2016':'https://www.armytimes.com/news/your-army/2016/06/20/army-releases-results-of-may-courts-martial/',\n",
    "    },\n",
    "    'June':\n",
    "    {\n",
    "        '2016':'https://www.armytimes.com/news/your-army/2016/07/18/army-releases-results-of-june-courts-martial/',\n",
    "    },\n",
    "    'July':\n",
    "    {\n",
    "        '2016':'https://www.armytimes.com/pay-benefits/military-benefits/2016/08/30/army-releases-verdicts-from-july-courts-martial/',\n",
    "        '2017':'https://www.mcmilitarylaw.com/uploads/6/6/2/2/66228603/july_202017_20-_20final_20courts-martial_20results.pdf',\n",
    "    },\n",
    "    'August':{\n",
    "        '2015':'https://www.armytimes.com/news/your-army/2015/09/18/army-releases-results-of-august-courts-martial/',\n",
    "        '2016':'https://www.armytimes.com/news/your-army/2016/09/25/army-releases-results-of-august-courts-martial/',\n",
    "    },\n",
    "    'September': {\n",
    "        '2015':'https://www.armytimes.com/news/your-army/2015/10/22/army-releases-results-of-september-courts-martial/',\n",
    "        '2016':'https://www.armytimes.com/news/your-army/2016/11/02/army-releases-verdicts-of-september-courts-martial/',\n",
    "    },\n",
    "    'October': {\n",
    "        '2015':'https://www.armytimes.com/news/your-army/2015/11/18/army-releases-results-of-october-courts-martial/',\n",
    "    },\n",
    "    'November': {\n",
    "        '2015':'https://www.armytimes.com/news/your-army/2015/12/17/army-releases-results-of-november-courts-martial/',\n",
    "        '2017':'https://www.armytimes.com/news/your-army/2017/01/24/army-releases-verdicts-of-november-courts-martial/',\n",
    "    },\n",
    "    'December': {\n",
    "        '2015':'https://www.armytimes.com/news/your-army/2015/01/23/army-releases-courts-martial-verdicts-for-december/',\n",
    "        '2016':'https://www.armytimes.com/news/your-army/2016/01/17/army-releases-results-of-december-courts-martial/'\n",
    "    },\n",
    "}"
   ]
  },
  {
   "cell_type": "code",
   "execution_count": 71,
   "metadata": {
    "hideCode": false,
    "hidePrompt": false
   },
   "outputs": [
    {
     "data": {
      "text/html": [
       "<div>\n",
       "<style scoped>\n",
       "    .dataframe tbody tr th:only-of-type {\n",
       "        vertical-align: middle;\n",
       "    }\n",
       "\n",
       "    .dataframe tbody tr th {\n",
       "        vertical-align: top;\n",
       "    }\n",
       "\n",
       "    .dataframe thead th {\n",
       "        text-align: right;\n",
       "    }\n",
       "</style>\n",
       "<table border=\"1\" class=\"dataframe\">\n",
       "  <thead>\n",
       "    <tr style=\"text-align: right;\">\n",
       "      <th></th>\n",
       "      <th>April</th>\n",
       "      <th>August</th>\n",
       "      <th>December</th>\n",
       "      <th>February</th>\n",
       "      <th>January</th>\n",
       "      <th>July</th>\n",
       "      <th>June</th>\n",
       "      <th>March</th>\n",
       "      <th>May</th>\n",
       "      <th>November</th>\n",
       "      <th>October</th>\n",
       "      <th>September</th>\n",
       "    </tr>\n",
       "  </thead>\n",
       "  <tbody>\n",
       "    <tr>\n",
       "      <th>2015</th>\n",
       "      <td>https://www.armytimes.com/news/your-army/2015/...</td>\n",
       "      <td>https://www.armytimes.com/news/your-army/2015/...</td>\n",
       "      <td>https://www.armytimes.com/news/your-army/2015/...</td>\n",
       "      <td>https://www.armytimes.com/news/your-army/2015/...</td>\n",
       "      <td>https://www.militarytimes.com/2015/02/19/army-...</td>\n",
       "      <td>NaN</td>\n",
       "      <td>NaN</td>\n",
       "      <td>https://www.armytimes.com/news/your-army/2015/...</td>\n",
       "      <td>https://www.armytimes.com/news/your-army/2015/...</td>\n",
       "      <td>https://www.armytimes.com/news/your-army/2015/...</td>\n",
       "      <td>https://www.armytimes.com/news/your-army/2015/...</td>\n",
       "      <td>https://www.armytimes.com/news/your-army/2015/...</td>\n",
       "    </tr>\n",
       "    <tr>\n",
       "      <th>2016</th>\n",
       "      <td>https://www.armytimes.com/news/your-army/2016/...</td>\n",
       "      <td>https://www.armytimes.com/news/your-army/2016/...</td>\n",
       "      <td>https://www.armytimes.com/news/your-army/2016/...</td>\n",
       "      <td>https://www.armytimes.com/news/your-army/2016/...</td>\n",
       "      <td>https://www.armytimes.com/news/your-army/2016/...</td>\n",
       "      <td>https://www.armytimes.com/pay-benefits/militar...</td>\n",
       "      <td>https://www.armytimes.com/news/your-army/2016/...</td>\n",
       "      <td>https://www.armytimes.com/news/your-army/2016/...</td>\n",
       "      <td>https://www.armytimes.com/news/your-army/2016/...</td>\n",
       "      <td>NaN</td>\n",
       "      <td>NaN</td>\n",
       "      <td>https://www.armytimes.com/news/your-army/2016/...</td>\n",
       "    </tr>\n",
       "    <tr>\n",
       "      <th>2017</th>\n",
       "      <td>NaN</td>\n",
       "      <td>NaN</td>\n",
       "      <td>NaN</td>\n",
       "      <td>https://www.mcmilitarylaw.com/uploads/6/6/2/2/...</td>\n",
       "      <td>https://www.mcmilitarylaw.com/uploads/6/6/2/2/...</td>\n",
       "      <td>https://www.mcmilitarylaw.com/uploads/6/6/2/2/...</td>\n",
       "      <td>NaN</td>\n",
       "      <td>https://www.armytimes.com/news/your-army/2017/...</td>\n",
       "      <td>NaN</td>\n",
       "      <td>https://www.armytimes.com/news/your-army/2017/...</td>\n",
       "      <td>NaN</td>\n",
       "      <td>NaN</td>\n",
       "    </tr>\n",
       "  </tbody>\n",
       "</table>\n",
       "</div>"
      ],
      "text/plain": [
       "                                                  April  \\\n",
       "2015  https://www.armytimes.com/news/your-army/2015/...   \n",
       "2016  https://www.armytimes.com/news/your-army/2016/...   \n",
       "2017                                                NaN   \n",
       "\n",
       "                                                 August  \\\n",
       "2015  https://www.armytimes.com/news/your-army/2015/...   \n",
       "2016  https://www.armytimes.com/news/your-army/2016/...   \n",
       "2017                                                NaN   \n",
       "\n",
       "                                               December  \\\n",
       "2015  https://www.armytimes.com/news/your-army/2015/...   \n",
       "2016  https://www.armytimes.com/news/your-army/2016/...   \n",
       "2017                                                NaN   \n",
       "\n",
       "                                               February  \\\n",
       "2015  https://www.armytimes.com/news/your-army/2015/...   \n",
       "2016  https://www.armytimes.com/news/your-army/2016/...   \n",
       "2017  https://www.mcmilitarylaw.com/uploads/6/6/2/2/...   \n",
       "\n",
       "                                                January  \\\n",
       "2015  https://www.militarytimes.com/2015/02/19/army-...   \n",
       "2016  https://www.armytimes.com/news/your-army/2016/...   \n",
       "2017  https://www.mcmilitarylaw.com/uploads/6/6/2/2/...   \n",
       "\n",
       "                                                   July  \\\n",
       "2015                                                NaN   \n",
       "2016  https://www.armytimes.com/pay-benefits/militar...   \n",
       "2017  https://www.mcmilitarylaw.com/uploads/6/6/2/2/...   \n",
       "\n",
       "                                                   June  \\\n",
       "2015                                                NaN   \n",
       "2016  https://www.armytimes.com/news/your-army/2016/...   \n",
       "2017                                                NaN   \n",
       "\n",
       "                                                  March  \\\n",
       "2015  https://www.armytimes.com/news/your-army/2015/...   \n",
       "2016  https://www.armytimes.com/news/your-army/2016/...   \n",
       "2017  https://www.armytimes.com/news/your-army/2017/...   \n",
       "\n",
       "                                                    May  \\\n",
       "2015  https://www.armytimes.com/news/your-army/2015/...   \n",
       "2016  https://www.armytimes.com/news/your-army/2016/...   \n",
       "2017                                                NaN   \n",
       "\n",
       "                                               November  \\\n",
       "2015  https://www.armytimes.com/news/your-army/2015/...   \n",
       "2016                                                NaN   \n",
       "2017  https://www.armytimes.com/news/your-army/2017/...   \n",
       "\n",
       "                                                October  \\\n",
       "2015  https://www.armytimes.com/news/your-army/2015/...   \n",
       "2016                                                NaN   \n",
       "2017                                                NaN   \n",
       "\n",
       "                                              September  \n",
       "2015  https://www.armytimes.com/news/your-army/2015/...  \n",
       "2016  https://www.armytimes.com/news/your-army/2016/...  \n",
       "2017                                                NaN  "
      ]
     },
     "execution_count": 71,
     "metadata": {},
     "output_type": "execute_result"
    }
   ],
   "source": [
    "url_df = pd.DataFrame.from_dict(urls)\n",
    "url_df"
   ]
  },
  {
   "cell_type": "code",
   "execution_count": 113,
   "metadata": {
    "hideCode": false,
    "hidePrompt": false
   },
   "outputs": [
    {
     "data": {
      "text/plain": [
       "[(('April', '2015'),\n",
       "  'https://www.armytimes.com/news/your-army/2015/05/21/army-releases-results-of-april-courts-martial/'),\n",
       " (('April', '2016'),\n",
       "  'https://www.armytimes.com/news/your-army/2016/05/23/army-releases-results-of-april-courts-martial/')]"
      ]
     },
     "execution_count": 113,
     "metadata": {},
     "output_type": "execute_result"
    }
   ],
   "source": [
    "list(url_df.unstack().dropna().iteritems())[:2]"
   ]
  },
  {
   "cell_type": "code",
   "execution_count": 351,
   "metadata": {
    "hideCode": false,
    "hidePrompt": false
   },
   "outputs": [
    {
     "name": "stdout",
     "output_type": "stream",
     "text": [
      "fetching: https://www.armytimes.com/news/your-army/2015/05/21/army-releases-results-of-april-courts-martial/...\n",
      "fetching: https://www.armytimes.com/news/your-army/2016/05/23/army-releases-results-of-april-courts-martial/...\n",
      "fetching: https://www.armytimes.com/news/your-army/2015/09/18/army-releases-results-of-august-courts-martial/...\n",
      "fetching: https://www.armytimes.com/news/your-army/2016/09/25/army-releases-results-of-august-courts-martial/...\n",
      "fetching: https://www.armytimes.com/news/your-army/2015/01/23/army-releases-courts-martial-verdicts-for-december/...\n",
      "fetching: https://www.armytimes.com/news/your-army/2016/01/17/army-releases-results-of-december-courts-martial/...\n",
      "fetching: https://www.armytimes.com/news/your-army/2015/03/13/army-releases-verdicts-of-february-courts-martial/...\n",
      "fetching: https://www.armytimes.com/news/your-army/2016/03/24/army-announces-results-of-february-courts-martial/...\n",
      "fetching: https://www.mcmilitarylaw.com/uploads/6/6/2/2/66228603/february_202017.pdf...\n",
      "fetching: https://www.militarytimes.com/2015/02/19/army-releases-verdicts-of-january-courts-martial/...\n",
      "fetching: https://www.armytimes.com/news/your-army/2016/02/22/army-releases-results-of-january-courts-martial/...\n",
      "fetching: https://www.mcmilitarylaw.com/uploads/6/6/2/2/66228603/january_202017.pdf...\n",
      "fetching: https://www.armytimes.com/pay-benefits/military-benefits/2016/08/30/army-releases-verdicts-from-july-courts-martial/...\n",
      "fetching: https://www.mcmilitarylaw.com/uploads/6/6/2/2/66228603/july_202017_20-_20final_20courts-martial_20results.pdf...\n",
      "fetching: https://www.armytimes.com/news/your-army/2016/07/18/army-releases-results-of-june-courts-martial/...\n",
      "fetching: https://www.armytimes.com/news/your-army/2015/04/17/army-releases-verdicts-of-march-courts-martial/...\n",
      "fetching: https://www.armytimes.com/news/your-army/2016/04/21/army-releases-results-of-march-courts-martial/...\n",
      "fetching: https://www.armytimes.com/news/your-army/2017/05/12/army-releases-verdicts-of-march-courts-martial/...\n",
      "fetching: https://www.armytimes.com/news/your-army/2015/06/16/army-releases-verdicts-of-may-courts-martial/...\n",
      "fetching: https://www.armytimes.com/news/your-army/2016/06/20/army-releases-results-of-may-courts-martial/...\n",
      "fetching: https://www.armytimes.com/news/your-army/2015/12/17/army-releases-results-of-november-courts-martial/...\n",
      "fetching: https://www.armytimes.com/news/your-army/2017/01/24/army-releases-verdicts-of-november-courts-martial/...\n",
      "fetching: https://www.armytimes.com/news/your-army/2015/11/18/army-releases-results-of-october-courts-martial/...\n",
      "fetching: https://www.armytimes.com/news/your-army/2015/10/22/army-releases-results-of-september-courts-martial/...\n",
      "fetching: https://www.armytimes.com/news/your-army/2016/11/02/army-releases-verdicts-of-september-courts-martial/...\n"
     ]
    }
   ],
   "source": [
    "urls2content = {}\n",
    "for date, url in url_df.unstack().dropna().iteritems():\n",
    "    print 'fetching: %s...' % url\n",
    "    resp = requests.get(url)\n",
    "    if '.pdf' in url:\n",
    "        # PDF\n",
    "        urls2content[url] = {'type': 'pdf'}\n",
    "        fn = os.path.join('data', '-'.join(list(date)))\n",
    "        with open(fn, 'w') as f:\n",
    "            f.write(resp.content)\n",
    "            f.close()\n",
    "            text = convert_pdf_to_txt(fn)\n",
    "            if text:\n",
    "                urls2content[url]['content'] = text.split('\\n \\n')\n",
    "    else:\n",
    "        # HTML\n",
    "        urls2content[url] = {'type': 'html'}\n",
    "        soup = BeautifulSoup(resp.text, 'html.parser')\n",
    "        urls2content[url]['soup'] = soup\n",
    "        # break this parsing elsewhere\n",
    "        divs = soup.findAll(\"p\", {\"class\": \"element element-paragraph\"})\n",
    "        divs += soup.findAll(\"ul\", {\"class\": \"element-ul\"})\n",
    "        urls2content[url]['content'] = divs"
   ]
  },
  {
   "cell_type": "markdown",
   "metadata": {
    "collapsed": true,
    "hideCode": false,
    "hidePrompt": false
   },
   "source": [
    "# Parse text"
   ]
  },
  {
   "cell_type": "code",
   "execution_count": 131,
   "metadata": {
    "hideCode": false,
    "hidePrompt": false
   },
   "outputs": [],
   "source": [
    "url_content_df = pd.DataFrame.from_dict(urls2content).T"
   ]
  },
  {
   "cell_type": "markdown",
   "metadata": {},
   "source": [
    "## Determine type"
   ]
  },
  {
   "cell_type": "code",
   "execution_count": 161,
   "metadata": {
    "hideCode": false,
    "hidePrompt": false
   },
   "outputs": [],
   "source": [
    "import numpy as np\n",
    "url_content_df['format'] = np.nan"
   ]
  },
  {
   "cell_type": "code",
   "execution_count": 174,
   "metadata": {
    "hideCode": false,
    "hidePrompt": false
   },
   "outputs": [],
   "source": [
    "# Label types of content - done\n",
    "\n",
    "# for idx in range(len(url_content_df)):\n",
    "#     if url_content_df.iloc[idx, 1] == 'html':\n",
    "#         print url_content_df.iloc[idx, 0]\n",
    "#         content_type = raw_input('type:')\n",
    "#         url_content_df.iloc[idx, 2] = content_type"
   ]
  },
  {
   "cell_type": "code",
   "execution_count": 231,
   "metadata": {},
   "outputs": [],
   "source": [
    "url_content_df['parsed_content'] = np.nan"
   ]
  },
  {
   "cell_type": "markdown",
   "metadata": {},
   "source": [
    "## Parse li"
   ]
  },
  {
   "cell_type": "code",
   "execution_count": 233,
   "metadata": {
    "hideCode": false,
    "hidePrompt": false
   },
   "outputs": [],
   "source": [
    "for idx in range(len(url_content_df)):\n",
    "    if url_content_df.iloc[idx]['format'] == 'li':\n",
    "        month_data = url_content_df.iloc[idx, 0]\n",
    "        larger_par = filter(lambda x: '<ul' in x.prettify()[:5], t3)\n",
    "\n",
    "        output = []\n",
    "        for smaller_par in larger_par:\n",
    "            output += map(lambda case: case.text.strip(), \n",
    "                filter(lambda line: not isinstance(line, basestring), smaller_par.contents)\n",
    "            )\n",
    "            \n",
    "        url_content_df.iloc[idx, 3] = '\\n\\n\\n'.join(output)"
   ]
  },
  {
   "cell_type": "markdown",
   "metadata": {},
   "source": [
    "## Parse element-paragraph"
   ]
  },
  {
   "cell_type": "code",
   "execution_count": 415,
   "metadata": {},
   "outputs": [],
   "source": [
    "url_content_df.iloc[15]['format'] = 'element-paragraph-full'"
   ]
  },
  {
   "cell_type": "code",
   "execution_count": 441,
   "metadata": {},
   "outputs": [],
   "source": [
    "mapping_df = (url_df\n",
    " .unstack()\n",
    " .dropna()\n",
    " .reset_index()\n",
    " .assign(date=lambda x: x['level_0'] + '_' + x['level_1'])\n",
    " .rename(columns={0:'url'})\n",
    ")[['url','date']]"
   ]
  },
  {
   "cell_type": "code",
   "execution_count": 445,
   "metadata": {},
   "outputs": [],
   "source": [
    "url_mapping = mapping_df.set_index('url')['date'].to_dict()"
   ]
  },
  {
   "cell_type": "code",
   "execution_count": 449,
   "metadata": {},
   "outputs": [
    {
     "name": "stdout",
     "output_type": "stream",
     "text": [
      "5\n",
      "6\n",
      "7\n",
      "8\n",
      "9\n",
      "10\n",
      "11\n",
      "12\n",
      "13\n",
      "[u'Fort Hood, Texas, April 4:', u'Name:']\n",
      "[u'Vilseck, Germany, April 4:', u'Name:']\n",
      "14\n"
     ]
    }
   ],
   "source": [
    "checker = {}\n",
    "month_data_checker = {}\n",
    "\n",
    "for idx in range(len(url_content_df)):\n",
    "    if url_content_df.iloc[idx]['format'] == 'element-paragraph':\n",
    "        print idx\n",
    "        month_data = url_content_df.iloc[idx].content\n",
    "        month_data_checker[idx] = month_data\n",
    "        \n",
    "        output = []\n",
    "        curr_circuit = None\n",
    "        for t5 in month_data:            \n",
    "            t6 = [item.split('<br>') for item in t5.decode_contents().split('<br/>')]\n",
    "            t6 = reduce(lambda x, y: x+y, t6, [])\n",
    "            if len(t6) >= 3:\n",
    "                t6 = map(lambda x: (x.strip()\n",
    "                                    .replace('<strong>','')\n",
    "                                    .replace('</strong>', '')\n",
    "                                    .replace('</br>', '')\n",
    "                                    .replace('<b>', '')\n",
    "                                    .replace('</b>', '')\n",
    "                                   ), t6)\n",
    "                if 'Judicial Circuit' in t6[0]:\n",
    "                    curr_circuit = (t6\n",
    "                                    .pop(0)\n",
    "                                    .replace('<em>', '')\n",
    "                                    .replace('</em>', '')\n",
    "                                    .strip()\n",
    "                                   )\n",
    "                try:\n",
    "                    result = {\n",
    "                        'Place': ', '.join(t6[0].split(', ')[:-1]),\n",
    "                        'Date': t6[0].split(', ')[-1].replace(':',''),\n",
    "                        'Name': t6[1].replace('Name: ', '').strip(),\n",
    "                        'Current_circuit': curr_circuit\n",
    "                    }\n",
    "                    if 'Conviction' in t6[2]:\n",
    "                        result['status'] = 'Conviction'\n",
    "                        result['Conviction'] = t6[2].replace('Conviction:' ,'').strip()\n",
    "                        if 'Acquittal' in t6[3]:\n",
    "                            result['status'] = 'Acquittal'\n",
    "                            result['Acquittal'] = t6[3].replace('Acquittal:' ,'').strip()\n",
    "                        else: \n",
    "                            result['Sentence'] = t6[3].replace('Sentence:' ,'').strip()\n",
    "                    elif 'Acquittal' in t6[2]:\n",
    "                        result['status'] = 'Acquittal'\n",
    "                        result['Acquittal'] = t6[2].replace('Acquittal:' ,'').strip()\n",
    "                    else:\n",
    "                        result['chunk'] = t6\n",
    "\n",
    "                    output.append(result)\n",
    "                except:\n",
    "                    print t6\n",
    "                    \n",
    "        checker[idx] = output\n",
    "        url = url_content_df.iloc[idx].name\n",
    "        pd.DataFrame(output).to_csv('../data/army-files/' + url_mapping[url] + '.csv', encoding='utf-8')\n",
    "        "
   ]
  },
  {
   "cell_type": "code",
   "execution_count": 451,
   "metadata": {},
   "outputs": [
    {
     "data": {
      "text/html": [
       "<div>\n",
       "<style scoped>\n",
       "    .dataframe tbody tr th:only-of-type {\n",
       "        vertical-align: middle;\n",
       "    }\n",
       "\n",
       "    .dataframe tbody tr th {\n",
       "        vertical-align: top;\n",
       "    }\n",
       "\n",
       "    .dataframe thead th {\n",
       "        text-align: right;\n",
       "    }\n",
       "</style>\n",
       "<table border=\"1\" class=\"dataframe\">\n",
       "  <thead>\n",
       "    <tr style=\"text-align: right;\">\n",
       "      <th></th>\n",
       "      <th>content</th>\n",
       "      <th>type</th>\n",
       "      <th>format</th>\n",
       "      <th>parsed_content</th>\n",
       "      <th>soup</th>\n",
       "    </tr>\n",
       "  </thead>\n",
       "  <tbody>\n",
       "    <tr>\n",
       "      <th>https://www.armytimes.com/news/your-army/2015/01/23/army-releases-courts-martial-verdicts-for-december/</th>\n",
       "      <td>[&lt;p class=\"element element-paragraph\"&gt; &lt;img al...</td>\n",
       "      <td>html</td>\n",
       "      <td>li</td>\n",
       "      <td>On Dec. 3 at a general court-martial convened ...</td>\n",
       "      <td>&lt;!DOCTYPE html&gt;\n",
       " &lt;html class=\"\"&gt; &lt;head&gt; &lt;style...</td>\n",
       "    </tr>\n",
       "    <tr>\n",
       "      <th>https://www.armytimes.com/news/your-army/2015/03/13/army-releases-verdicts-of-february-courts-martial/</th>\n",
       "      <td>[&lt;p class=\"element element-paragraph\"&gt; &lt;b&gt;Firs...</td>\n",
       "      <td>html</td>\n",
       "      <td>li</td>\n",
       "      <td>On Dec. 3 at a general court-martial convened ...</td>\n",
       "      <td>&lt;!DOCTYPE html&gt;\n",
       " &lt;html class=\"\"&gt; &lt;head&gt; &lt;style...</td>\n",
       "    </tr>\n",
       "    <tr>\n",
       "      <th>https://www.armytimes.com/news/your-army/2015/04/17/army-releases-verdicts-of-march-courts-martial/</th>\n",
       "      <td>[&lt;p class=\"element element-paragraph\"&gt; The ver...</td>\n",
       "      <td>html</td>\n",
       "      <td>li</td>\n",
       "      <td>On Dec. 3 at a general court-martial convened ...</td>\n",
       "      <td>&lt;!DOCTYPE html&gt;\n",
       " &lt;html class=\"\"&gt; &lt;head&gt; &lt;style...</td>\n",
       "    </tr>\n",
       "    <tr>\n",
       "      <th>https://www.armytimes.com/news/your-army/2015/05/21/army-releases-results-of-april-courts-martial/</th>\n",
       "      <td>[&lt;p class=\"element element-paragraph\"&gt; The Arm...</td>\n",
       "      <td>html</td>\n",
       "      <td>li</td>\n",
       "      <td>On Dec. 3 at a general court-martial convened ...</td>\n",
       "      <td>&lt;!DOCTYPE html&gt;\n",
       " &lt;html class=\"\"&gt; &lt;head&gt; &lt;style...</td>\n",
       "    </tr>\n",
       "    <tr>\n",
       "      <th>https://www.armytimes.com/news/your-army/2015/06/16/army-releases-verdicts-of-may-courts-martial/</th>\n",
       "      <td>[&lt;p class=\"element element-paragraph\"&gt; Results...</td>\n",
       "      <td>html</td>\n",
       "      <td>li</td>\n",
       "      <td>On Dec. 3 at a general court-martial convened ...</td>\n",
       "      <td>&lt;!DOCTYPE html&gt;\n",
       " &lt;html class=\"\"&gt; &lt;head&gt; &lt;style...</td>\n",
       "    </tr>\n",
       "  </tbody>\n",
       "</table>\n",
       "</div>"
      ],
      "text/plain": [
       "                                                                                              content  \\\n",
       "https://www.armytimes.com/news/your-army/2015/0...  [<p class=\"element element-paragraph\"> <img al...   \n",
       "https://www.armytimes.com/news/your-army/2015/0...  [<p class=\"element element-paragraph\"> <b>Firs...   \n",
       "https://www.armytimes.com/news/your-army/2015/0...  [<p class=\"element element-paragraph\"> The ver...   \n",
       "https://www.armytimes.com/news/your-army/2015/0...  [<p class=\"element element-paragraph\"> The Arm...   \n",
       "https://www.armytimes.com/news/your-army/2015/0...  [<p class=\"element element-paragraph\"> Results...   \n",
       "\n",
       "                                                    type format  \\\n",
       "https://www.armytimes.com/news/your-army/2015/0...  html     li   \n",
       "https://www.armytimes.com/news/your-army/2015/0...  html     li   \n",
       "https://www.armytimes.com/news/your-army/2015/0...  html     li   \n",
       "https://www.armytimes.com/news/your-army/2015/0...  html     li   \n",
       "https://www.armytimes.com/news/your-army/2015/0...  html     li   \n",
       "\n",
       "                                                                                       parsed_content  \\\n",
       "https://www.armytimes.com/news/your-army/2015/0...  On Dec. 3 at a general court-martial convened ...   \n",
       "https://www.armytimes.com/news/your-army/2015/0...  On Dec. 3 at a general court-martial convened ...   \n",
       "https://www.armytimes.com/news/your-army/2015/0...  On Dec. 3 at a general court-martial convened ...   \n",
       "https://www.armytimes.com/news/your-army/2015/0...  On Dec. 3 at a general court-martial convened ...   \n",
       "https://www.armytimes.com/news/your-army/2015/0...  On Dec. 3 at a general court-martial convened ...   \n",
       "\n",
       "                                                                                                 soup  \n",
       "https://www.armytimes.com/news/your-army/2015/0...  <!DOCTYPE html>\n",
       " <html class=\"\"> <head> <style...  \n",
       "https://www.armytimes.com/news/your-army/2015/0...  <!DOCTYPE html>\n",
       " <html class=\"\"> <head> <style...  \n",
       "https://www.armytimes.com/news/your-army/2015/0...  <!DOCTYPE html>\n",
       " <html class=\"\"> <head> <style...  \n",
       "https://www.armytimes.com/news/your-army/2015/0...  <!DOCTYPE html>\n",
       " <html class=\"\"> <head> <style...  \n",
       "https://www.armytimes.com/news/your-army/2015/0...  <!DOCTYPE html>\n",
       " <html class=\"\"> <head> <style...  "
      ]
     },
     "execution_count": 451,
     "metadata": {},
     "output_type": "execute_result"
    }
   ],
   "source": [
    "url_content_df.head()"
   ]
  },
  {
   "cell_type": "markdown",
   "metadata": {},
   "source": [
    "## Other formats"
   ]
  },
  {
   "cell_type": "code",
   "execution_count": 458,
   "metadata": {},
   "outputs": [
    {
     "data": {
      "text/plain": [
       "element-paragraph         10\n",
       "li                         8\n",
       "element-paragraph-full     2\n",
       "br                         1\n",
       "element-paragraph-div      1\n",
       "Name: format, dtype: int64"
      ]
     },
     "execution_count": 458,
     "metadata": {},
     "output_type": "execute_result"
    }
   ],
   "source": [
    "url_content_df.format.value_counts()"
   ]
  },
  {
   "cell_type": "markdown",
   "metadata": {},
   "source": [
    "### Parse Element-Paragraph Full"
   ]
  },
  {
   "cell_type": "code",
   "execution_count": 457,
   "metadata": {},
   "outputs": [
    {
     "data": {
      "text/html": [
       "<div>\n",
       "<style scoped>\n",
       "    .dataframe tbody tr th:only-of-type {\n",
       "        vertical-align: middle;\n",
       "    }\n",
       "\n",
       "    .dataframe tbody tr th {\n",
       "        vertical-align: top;\n",
       "    }\n",
       "\n",
       "    .dataframe thead th {\n",
       "        text-align: right;\n",
       "    }\n",
       "</style>\n",
       "<table border=\"1\" class=\"dataframe\">\n",
       "  <thead>\n",
       "    <tr style=\"text-align: right;\">\n",
       "      <th></th>\n",
       "      <th>content</th>\n",
       "      <th>type</th>\n",
       "      <th>format</th>\n",
       "      <th>parsed_content</th>\n",
       "      <th>soup</th>\n",
       "    </tr>\n",
       "  </thead>\n",
       "  <tbody>\n",
       "    <tr>\n",
       "      <th>https://www.armytimes.com/news/your-army/2016/07/18/army-releases-results-of-june-courts-martial/</th>\n",
       "      <td>[&lt;p class=\"element element-paragraph\"&gt; &lt;em&gt;Edi...</td>\n",
       "      <td>html</td>\n",
       "      <td>element-paragraph-full</td>\n",
       "      <td>NaN</td>\n",
       "      <td>&lt;!DOCTYPE html&gt;\n",
       " &lt;html class=\"\"&gt; &lt;head&gt; &lt;style...</td>\n",
       "    </tr>\n",
       "    <tr>\n",
       "      <th>https://www.armytimes.com/news/your-army/2016/09/25/army-releases-results-of-august-courts-martial/</th>\n",
       "      <td>[&lt;p class=\"element element-paragraph\"&gt; The Arm...</td>\n",
       "      <td>html</td>\n",
       "      <td>element-paragraph-full</td>\n",
       "      <td>NaN</td>\n",
       "      <td>&lt;!DOCTYPE html&gt;\n",
       " &lt;html class=\"\"&gt; &lt;head&gt; &lt;style...</td>\n",
       "    </tr>\n",
       "  </tbody>\n",
       "</table>\n",
       "</div>"
      ],
      "text/plain": [
       "                                                                                              content  \\\n",
       "https://www.armytimes.com/news/your-army/2016/0...  [<p class=\"element element-paragraph\"> <em>Edi...   \n",
       "https://www.armytimes.com/news/your-army/2016/0...  [<p class=\"element element-paragraph\"> The Arm...   \n",
       "\n",
       "                                                    type  \\\n",
       "https://www.armytimes.com/news/your-army/2016/0...  html   \n",
       "https://www.armytimes.com/news/your-army/2016/0...  html   \n",
       "\n",
       "                                                                    format  \\\n",
       "https://www.armytimes.com/news/your-army/2016/0...  element-paragraph-full   \n",
       "https://www.armytimes.com/news/your-army/2016/0...  element-paragraph-full   \n",
       "\n",
       "                                                   parsed_content  \\\n",
       "https://www.armytimes.com/news/your-army/2016/0...            NaN   \n",
       "https://www.armytimes.com/news/your-army/2016/0...            NaN   \n",
       "\n",
       "                                                                                                 soup  \n",
       "https://www.armytimes.com/news/your-army/2016/0...  <!DOCTYPE html>\n",
       " <html class=\"\"> <head> <style...  \n",
       "https://www.armytimes.com/news/your-army/2016/0...  <!DOCTYPE html>\n",
       " <html class=\"\"> <head> <style...  "
      ]
     },
     "execution_count": 457,
     "metadata": {},
     "output_type": "execute_result"
    }
   ],
   "source": [
    "url_content_df[url_content_df.format == 'element-paragraph-full']"
   ]
  },
  {
   "cell_type": "markdown",
   "metadata": {},
   "source": [
    "### Parse Element-Paragraph-div"
   ]
  },
  {
   "cell_type": "code",
   "execution_count": 464,
   "metadata": {},
   "outputs": [],
   "source": [
    "remaining = list(url_content_df[\n",
    "    url_content_df.format.isin(\n",
    "        ['br', 'element-paragraph-div', 'element-paragraph-full']\n",
    "    )].index)"
   ]
  },
  {
   "cell_type": "code",
   "execution_count": 465,
   "metadata": {},
   "outputs": [
    {
     "data": {
      "text/plain": [
       "{'https://www.armytimes.com/news/your-army/2016/07/18/army-releases-results-of-june-courts-martial/',\n",
       " 'https://www.armytimes.com/news/your-army/2016/09/25/army-releases-results-of-august-courts-martial/'}"
      ]
     },
     "execution_count": 465,
     "metadata": {},
     "output_type": "execute_result"
    }
   ],
   "source": [
    "set(remaining) - set(predone)"
   ]
  },
  {
   "cell_type": "code",
   "execution_count": 460,
   "metadata": {},
   "outputs": [
    {
     "data": {
      "text/html": [
       "<div>\n",
       "<style scoped>\n",
       "    .dataframe tbody tr th:only-of-type {\n",
       "        vertical-align: middle;\n",
       "    }\n",
       "\n",
       "    .dataframe tbody tr th {\n",
       "        vertical-align: top;\n",
       "    }\n",
       "\n",
       "    .dataframe thead th {\n",
       "        text-align: right;\n",
       "    }\n",
       "</style>\n",
       "<table border=\"1\" class=\"dataframe\">\n",
       "  <thead>\n",
       "    <tr style=\"text-align: right;\">\n",
       "      <th></th>\n",
       "      <th>content</th>\n",
       "      <th>type</th>\n",
       "      <th>format</th>\n",
       "      <th>parsed_content</th>\n",
       "      <th>soup</th>\n",
       "    </tr>\n",
       "  </thead>\n",
       "  <tbody>\n",
       "    <tr>\n",
       "      <th>https://www.armytimes.com/pay-benefits/military-benefits/2016/08/30/army-releases-verdicts-from-july-courts-martial/</th>\n",
       "      <td>[&lt;p class=\"element element-paragraph\"&gt; The Arm...</td>\n",
       "      <td>html</td>\n",
       "      <td>element-paragraph-div</td>\n",
       "      <td>NaN</td>\n",
       "      <td>&lt;!DOCTYPE html&gt;\n",
       " &lt;html class=\"\"&gt; &lt;head&gt; &lt;style...</td>\n",
       "    </tr>\n",
       "  </tbody>\n",
       "</table>\n",
       "</div>"
      ],
      "text/plain": [
       "                                                                                              content  \\\n",
       "https://www.armytimes.com/pay-benefits/military...  [<p class=\"element element-paragraph\"> The Arm...   \n",
       "\n",
       "                                                    type  \\\n",
       "https://www.armytimes.com/pay-benefits/military...  html   \n",
       "\n",
       "                                                                   format  \\\n",
       "https://www.armytimes.com/pay-benefits/military...  element-paragraph-div   \n",
       "\n",
       "                                                   parsed_content  \\\n",
       "https://www.armytimes.com/pay-benefits/military...            NaN   \n",
       "\n",
       "                                                                                                 soup  \n",
       "https://www.armytimes.com/pay-benefits/military...  <!DOCTYPE html>\n",
       " <html class=\"\"> <head> <style...  "
      ]
     },
     "execution_count": 460,
     "metadata": {},
     "output_type": "execute_result"
    }
   ],
   "source": [
    "url_content_df[url_content_df.format == 'element-paragraph-div']"
   ]
  },
  {
   "cell_type": "markdown",
   "metadata": {},
   "source": [
    "### Parse br"
   ]
  },
  {
   "cell_type": "code",
   "execution_count": 459,
   "metadata": {},
   "outputs": [
    {
     "data": {
      "text/html": [
       "<div>\n",
       "<style scoped>\n",
       "    .dataframe tbody tr th:only-of-type {\n",
       "        vertical-align: middle;\n",
       "    }\n",
       "\n",
       "    .dataframe tbody tr th {\n",
       "        vertical-align: top;\n",
       "    }\n",
       "\n",
       "    .dataframe thead th {\n",
       "        text-align: right;\n",
       "    }\n",
       "</style>\n",
       "<table border=\"1\" class=\"dataframe\">\n",
       "  <thead>\n",
       "    <tr style=\"text-align: right;\">\n",
       "      <th></th>\n",
       "      <th>content</th>\n",
       "      <th>type</th>\n",
       "      <th>format</th>\n",
       "      <th>parsed_content</th>\n",
       "      <th>soup</th>\n",
       "    </tr>\n",
       "  </thead>\n",
       "  <tbody>\n",
       "    <tr>\n",
       "      <th>https://www.armytimes.com/news/your-army/2017/05/12/army-releases-verdicts-of-march-courts-martial/</th>\n",
       "      <td>[&lt;p class=\"element element-paragraph\"&gt; The Arm...</td>\n",
       "      <td>html</td>\n",
       "      <td>br</td>\n",
       "      <td>NaN</td>\n",
       "      <td>&lt;!DOCTYPE html&gt;\n",
       " &lt;html class=\"\"&gt; &lt;head&gt; &lt;style...</td>\n",
       "    </tr>\n",
       "  </tbody>\n",
       "</table>\n",
       "</div>"
      ],
      "text/plain": [
       "                                                                                              content  \\\n",
       "https://www.armytimes.com/news/your-army/2017/0...  [<p class=\"element element-paragraph\"> The Arm...   \n",
       "\n",
       "                                                    type format  \\\n",
       "https://www.armytimes.com/news/your-army/2017/0...  html     br   \n",
       "\n",
       "                                                   parsed_content  \\\n",
       "https://www.armytimes.com/news/your-army/2017/0...            NaN   \n",
       "\n",
       "                                                                                                 soup  \n",
       "https://www.armytimes.com/news/your-army/2017/0...  <!DOCTYPE html>\n",
       " <html class=\"\"> <head> <style...  "
      ]
     },
     "execution_count": 459,
     "metadata": {},
     "output_type": "execute_result"
    }
   ],
   "source": [
    "url_content_df[url_content_df.format == 'br']"
   ]
  },
  {
   "cell_type": "code",
   "execution_count": null,
   "metadata": {},
   "outputs": [],
   "source": []
  },
  {
   "cell_type": "code",
   "execution_count": null,
   "metadata": {},
   "outputs": [],
   "source": []
  },
  {
   "cell_type": "code",
   "execution_count": 240,
   "metadata": {
    "scrolled": true
   },
   "outputs": [
    {
     "data": {
      "text/html": [
       "<div>\n",
       "<style scoped>\n",
       "    .dataframe tbody tr th:only-of-type {\n",
       "        vertical-align: middle;\n",
       "    }\n",
       "\n",
       "    .dataframe tbody tr th {\n",
       "        vertical-align: top;\n",
       "    }\n",
       "\n",
       "    .dataframe thead th {\n",
       "        text-align: right;\n",
       "    }\n",
       "</style>\n",
       "<table border=\"1\" class=\"dataframe\">\n",
       "  <thead>\n",
       "    <tr style=\"text-align: right;\">\n",
       "      <th></th>\n",
       "      <th>Court</th>\n",
       "      <th>Document</th>\n",
       "      <th>City</th>\n",
       "      <th>State</th>\n",
       "      <th>Country</th>\n",
       "      <th>Rank</th>\n",
       "      <th>Name</th>\n",
       "      <th>Process</th>\n",
       "      <th>Offense</th>\n",
       "      <th>Date</th>\n",
       "      <th>Conclussion</th>\n",
       "      <th>Gender</th>\n",
       "      <th>Sentence</th>\n",
       "    </tr>\n",
       "  </thead>\n",
       "  <tbody>\n",
       "    <tr>\n",
       "      <th>0</th>\n",
       "      <td>General Court-Martial</td>\n",
       "      <td>Apr-16</td>\n",
       "      <td>Washington</td>\n",
       "      <td>D.C.</td>\n",
       "      <td>USA</td>\n",
       "      <td>IC2</td>\n",
       "      <td>Tyrone L. Matthews, Jr.</td>\n",
       "      <td>pretrail agreement</td>\n",
       "      <td>pursuant to a pretrial agreement to manufactu...</td>\n",
       "      <td>27-Apr-16</td>\n",
       "      <td>guilty</td>\n",
       "      <td>him</td>\n",
       "      <td>to a reprimand, reduction in rank to paygrade...</td>\n",
       "    </tr>\n",
       "    <tr>\n",
       "      <th>1</th>\n",
       "      <td>General Court-Martial</td>\n",
       "      <td>Apr-16</td>\n",
       "      <td>Norfolk</td>\n",
       "      <td>Virginia</td>\n",
       "      <td>USA</td>\n",
       "      <td>E-5 and E-4</td>\n",
       "      <td>NaN</td>\n",
       "      <td>trail</td>\n",
       "      <td>for sexual assault</td>\n",
       "      <td>14-Apr-16</td>\n",
       "      <td>not guilty</td>\n",
       "      <td>NaN</td>\n",
       "      <td>NaN</td>\n",
       "    </tr>\n",
       "    <tr>\n",
       "      <th>2</th>\n",
       "      <td>General Court-Martial</td>\n",
       "      <td>Apr-16</td>\n",
       "      <td>Norfolk</td>\n",
       "      <td>Virginia</td>\n",
       "      <td>USA</td>\n",
       "      <td>OS3</td>\n",
       "      <td>Sean L. Motsenbocker</td>\n",
       "      <td>trail</td>\n",
       "      <td>for abusive sexual contact and sexual assault</td>\n",
       "      <td>29-Apr-16</td>\n",
       "      <td>guilty</td>\n",
       "      <td>him</td>\n",
       "      <td>to be discharged with a Dishonorable Discharg...</td>\n",
       "    </tr>\n",
       "    <tr>\n",
       "      <th>3</th>\n",
       "      <td>Special Court-Martial</td>\n",
       "      <td>Apr-16</td>\n",
       "      <td>Norfolk</td>\n",
       "      <td>Virginia</td>\n",
       "      <td>USA</td>\n",
       "      <td>ABE3</td>\n",
       "      <td>Kyle A. Blackwell</td>\n",
       "      <td>pretrail agreement</td>\n",
       "      <td>pursuant to a pretrial agreement to absence w...</td>\n",
       "      <td>12-Apr-16</td>\n",
       "      <td>guilty</td>\n",
       "      <td>him</td>\n",
       "      <td>to reduction in rank to paygrade E-3 and conf...</td>\n",
       "    </tr>\n",
       "    <tr>\n",
       "      <th>4</th>\n",
       "      <td>Special Court-Martial</td>\n",
       "      <td>Apr-16</td>\n",
       "      <td>Great Lakes</td>\n",
       "      <td>Illinois</td>\n",
       "      <td>USA</td>\n",
       "      <td>FN</td>\n",
       "      <td>Ryan W. Gray</td>\n",
       "      <td>pretrail agreement</td>\n",
       "      <td>pursuant to a pretrial agreement to assault c...</td>\n",
       "      <td>15-Apr-16</td>\n",
       "      <td>guilty</td>\n",
       "      <td>him</td>\n",
       "      <td>to forfeit $1000 pay per month for 8 months, ...</td>\n",
       "    </tr>\n",
       "  </tbody>\n",
       "</table>\n",
       "</div>"
      ],
      "text/plain": [
       "                   Court Document         City      State Country  \\\n",
       "0  General Court-Martial   Apr-16   Washington       D.C.     USA   \n",
       "1  General Court-Martial   Apr-16      Norfolk   Virginia     USA   \n",
       "2  General Court-Martial   Apr-16      Norfolk   Virginia     USA   \n",
       "3  Special Court-Martial   Apr-16      Norfolk   Virginia     USA   \n",
       "4  Special Court-Martial   Apr-16  Great Lakes   Illinois     USA   \n",
       "\n",
       "           Rank                      Name             Process  \\\n",
       "0           IC2  Tyrone L. Matthews, Jr.   pretrail agreement   \n",
       "1  E-5 and E-4                        NaN               trail   \n",
       "2           OS3      Sean L. Motsenbocker               trail   \n",
       "3          ABE3        Kyle A. Blackwell   pretrail agreement   \n",
       "4            FN              Ryan W. Gray  pretrail agreement   \n",
       "\n",
       "                                             Offense       Date Conclussion  \\\n",
       "0   pursuant to a pretrial agreement to manufactu...  27-Apr-16      guilty   \n",
       "1                                 for sexual assault  14-Apr-16  not guilty   \n",
       "2      for abusive sexual contact and sexual assault  29-Apr-16      guilty   \n",
       "3   pursuant to a pretrial agreement to absence w...  12-Apr-16      guilty   \n",
       "4   pursuant to a pretrial agreement to assault c...  15-Apr-16      guilty   \n",
       "\n",
       "  Gender                                           Sentence  \n",
       "0    him   to a reprimand, reduction in rank to paygrade...  \n",
       "1    NaN                                                NaN  \n",
       "2    him   to be discharged with a Dishonorable Discharg...  \n",
       "3    him   to reduction in rank to paygrade E-3 and conf...  \n",
       "4    him   to forfeit $1000 pay per month for 8 months, ...  "
      ]
     },
     "execution_count": 240,
     "metadata": {},
     "output_type": "execute_result"
    }
   ],
   "source": [
    "pd.read_csv('../data/NAVY_court_martial_edited.csv').head()"
   ]
  },
  {
   "cell_type": "markdown",
   "metadata": {},
   "source": [
    "# Train Spacy"
   ]
  },
  {
   "cell_type": "code",
   "execution_count": 10,
   "metadata": {},
   "outputs": [],
   "source": [
    "import pandas as pd \n",
    "import textract\n",
    "import os"
   ]
  },
  {
   "cell_type": "markdown",
   "metadata": {},
   "source": [
    "#### build training set"
   ]
  },
  {
   "cell_type": "code",
   "execution_count": 11,
   "metadata": {},
   "outputs": [],
   "source": [
    "navy_encoding = pd.read_csv('../data/NAVY_court_martial_edited.csv')"
   ]
  },
  {
   "cell_type": "code",
   "execution_count": 12,
   "metadata": {
    "scrolled": true
   },
   "outputs": [],
   "source": [
    "# map fields in CSV to original sentences\n",
    "import re\n",
    "csv_doc_names = map(lambda x: (\n",
    "    re.search('[A-Za-z]{3}', x).group(),\n",
    "    re.search('[0-9]{2}', x).group(),\n",
    "    x\n",
    "), navy_encoding['Document'].unique()[:-1])\n",
    "\n",
    "files = os.listdir('../data/SentencesNAVY/')[1:]\n",
    "mapping = {}\n",
    "for month, year, name in csv_doc_names:\n",
    "    mapping[name] = filter(lambda x: (\n",
    "        month.lower() in x.lower() and \n",
    "        year.lower() in x.lower() and\n",
    "        '.pdf' in x.lower()\n",
    "    ), files)[0]"
   ]
  },
  {
   "cell_type": "code",
   "execution_count": 13,
   "metadata": {},
   "outputs": [
    {
     "data": {
      "text/html": [
       "<div>\n",
       "<style scoped>\n",
       "    .dataframe tbody tr th:only-of-type {\n",
       "        vertical-align: middle;\n",
       "    }\n",
       "\n",
       "    .dataframe tbody tr th {\n",
       "        vertical-align: top;\n",
       "    }\n",
       "\n",
       "    .dataframe thead th {\n",
       "        text-align: right;\n",
       "    }\n",
       "</style>\n",
       "<table border=\"1\" class=\"dataframe\">\n",
       "  <thead>\n",
       "    <tr style=\"text-align: right;\">\n",
       "      <th></th>\n",
       "      <th>Court</th>\n",
       "      <th>Document</th>\n",
       "      <th>City</th>\n",
       "      <th>State</th>\n",
       "      <th>Country</th>\n",
       "      <th>Rank</th>\n",
       "      <th>Name</th>\n",
       "      <th>Process</th>\n",
       "      <th>Offense</th>\n",
       "      <th>Date</th>\n",
       "      <th>Conclussion</th>\n",
       "      <th>Gender</th>\n",
       "      <th>Sentence</th>\n",
       "    </tr>\n",
       "  </thead>\n",
       "  <tbody>\n",
       "    <tr>\n",
       "      <th>0</th>\n",
       "      <td>General Court-Martial</td>\n",
       "      <td>Apr-16</td>\n",
       "      <td>Washington</td>\n",
       "      <td>D.C.</td>\n",
       "      <td>USA</td>\n",
       "      <td>IC2</td>\n",
       "      <td>Tyrone L. Matthews, Jr.</td>\n",
       "      <td>pretrail agreement</td>\n",
       "      <td>pursuant to a pretrial agreement to manufactu...</td>\n",
       "      <td>27-Apr-16</td>\n",
       "      <td>guilty</td>\n",
       "      <td>him</td>\n",
       "      <td>to a reprimand, reduction in rank to paygrade...</td>\n",
       "    </tr>\n",
       "    <tr>\n",
       "      <th>1</th>\n",
       "      <td>General Court-Martial</td>\n",
       "      <td>Apr-16</td>\n",
       "      <td>Norfolk</td>\n",
       "      <td>Virginia</td>\n",
       "      <td>USA</td>\n",
       "      <td>E-5 and E-4</td>\n",
       "      <td>NaN</td>\n",
       "      <td>trail</td>\n",
       "      <td>for sexual assault</td>\n",
       "      <td>14-Apr-16</td>\n",
       "      <td>not guilty</td>\n",
       "      <td>NaN</td>\n",
       "      <td>NaN</td>\n",
       "    </tr>\n",
       "    <tr>\n",
       "      <th>2</th>\n",
       "      <td>General Court-Martial</td>\n",
       "      <td>Apr-16</td>\n",
       "      <td>Norfolk</td>\n",
       "      <td>Virginia</td>\n",
       "      <td>USA</td>\n",
       "      <td>OS3</td>\n",
       "      <td>Sean L. Motsenbocker</td>\n",
       "      <td>trail</td>\n",
       "      <td>for abusive sexual contact and sexual assault</td>\n",
       "      <td>29-Apr-16</td>\n",
       "      <td>guilty</td>\n",
       "      <td>him</td>\n",
       "      <td>to be discharged with a Dishonorable Discharg...</td>\n",
       "    </tr>\n",
       "    <tr>\n",
       "      <th>3</th>\n",
       "      <td>Special Court-Martial</td>\n",
       "      <td>Apr-16</td>\n",
       "      <td>Norfolk</td>\n",
       "      <td>Virginia</td>\n",
       "      <td>USA</td>\n",
       "      <td>ABE3</td>\n",
       "      <td>Kyle A. Blackwell</td>\n",
       "      <td>pretrail agreement</td>\n",
       "      <td>pursuant to a pretrial agreement to absence w...</td>\n",
       "      <td>12-Apr-16</td>\n",
       "      <td>guilty</td>\n",
       "      <td>him</td>\n",
       "      <td>to reduction in rank to paygrade E-3 and conf...</td>\n",
       "    </tr>\n",
       "    <tr>\n",
       "      <th>4</th>\n",
       "      <td>Special Court-Martial</td>\n",
       "      <td>Apr-16</td>\n",
       "      <td>Great Lakes</td>\n",
       "      <td>Illinois</td>\n",
       "      <td>USA</td>\n",
       "      <td>FN</td>\n",
       "      <td>Ryan W. Gray</td>\n",
       "      <td>pretrail agreement</td>\n",
       "      <td>pursuant to a pretrial agreement to assault c...</td>\n",
       "      <td>15-Apr-16</td>\n",
       "      <td>guilty</td>\n",
       "      <td>him</td>\n",
       "      <td>to forfeit $1000 pay per month for 8 months, ...</td>\n",
       "    </tr>\n",
       "  </tbody>\n",
       "</table>\n",
       "</div>"
      ],
      "text/plain": [
       "                   Court Document         City      State Country  \\\n",
       "0  General Court-Martial   Apr-16   Washington       D.C.     USA   \n",
       "1  General Court-Martial   Apr-16      Norfolk   Virginia     USA   \n",
       "2  General Court-Martial   Apr-16      Norfolk   Virginia     USA   \n",
       "3  Special Court-Martial   Apr-16      Norfolk   Virginia     USA   \n",
       "4  Special Court-Martial   Apr-16  Great Lakes   Illinois     USA   \n",
       "\n",
       "           Rank                      Name             Process  \\\n",
       "0           IC2  Tyrone L. Matthews, Jr.   pretrail agreement   \n",
       "1  E-5 and E-4                        NaN               trail   \n",
       "2           OS3      Sean L. Motsenbocker               trail   \n",
       "3          ABE3        Kyle A. Blackwell   pretrail agreement   \n",
       "4            FN              Ryan W. Gray  pretrail agreement   \n",
       "\n",
       "                                             Offense       Date Conclussion  \\\n",
       "0   pursuant to a pretrial agreement to manufactu...  27-Apr-16      guilty   \n",
       "1                                 for sexual assault  14-Apr-16  not guilty   \n",
       "2      for abusive sexual contact and sexual assault  29-Apr-16      guilty   \n",
       "3   pursuant to a pretrial agreement to absence w...  12-Apr-16      guilty   \n",
       "4   pursuant to a pretrial agreement to assault c...  15-Apr-16      guilty   \n",
       "\n",
       "  Gender                                           Sentence  \n",
       "0    him   to a reprimand, reduction in rank to paygrade...  \n",
       "1    NaN                                                NaN  \n",
       "2    him   to be discharged with a Dishonorable Discharg...  \n",
       "3    him   to reduction in rank to paygrade E-3 and conf...  \n",
       "4    him   to forfeit $1000 pay per month for 8 months, ...  "
      ]
     },
     "execution_count": 13,
     "metadata": {},
     "output_type": "execute_result"
    }
   ],
   "source": [
    "navy_encoding.head()"
   ]
  },
  {
   "cell_type": "code",
   "execution_count": 14,
   "metadata": {},
   "outputs": [],
   "source": [
    "navy_encoding = navy_encoding.merge(pd.Series(mapping).to_frame('file'), left_on='Document', right_index=True)"
   ]
  },
  {
   "cell_type": "code",
   "execution_count": 15,
   "metadata": {},
   "outputs": [],
   "source": [
    "navy_encoding['datapoint'] = navy_encoding.reset_index().groupby('file')['index'].rank(method='min') - 1"
   ]
  },
  {
   "cell_type": "code",
   "execution_count": 16,
   "metadata": {},
   "outputs": [],
   "source": [
    "data_dir = '../data/SentencesNAVY/'\n",
    "navy_raw_data = []\n",
    "for fn in filter(lambda x: '.pdf' in x, os.listdir(data_dir)[1:]):\n",
    "    text = textract.process(os.path.join(data_dir, fn), method='pdfminer')\n",
    "    court_martials=unicode(text, encoding='utf-8').split('At a')[1:]\n",
    "    for idx, par in enumerate(court_martials):\n",
    "        navy_raw_data.append({\n",
    "            'file': fn,\n",
    "            'index': idx,\n",
    "            'text': par\n",
    "        })"
   ]
  },
  {
   "cell_type": "code",
   "execution_count": 17,
   "metadata": {},
   "outputs": [],
   "source": [
    "navy_encoding = navy_encoding.assign(tmp_idx=lambda x: x['file'] + ' ' + x['datapoint'].astype(int).astype(str)).merge(\n",
    "    pd.DataFrame(navy_raw_data).assign(tmp_idx2=lambda x: x['file'] + ' ' + x['index'].astype(str)),\n",
    "    left_on='tmp_idx',\n",
    "    right_on='tmp_idx2'\n",
    ").drop(['file_x', 'datapoint', 'tmp_idx', 'file_y', 'index', 'tmp_idx2'], axis=1)"
   ]
  },
  {
   "cell_type": "code",
   "execution_count": 18,
   "metadata": {},
   "outputs": [],
   "source": [
    "navy_encoding.text = navy_encoding.text.apply(lambda x: x.strip().replace('\\n', ''))"
   ]
  },
  {
   "cell_type": "code",
   "execution_count": 19,
   "metadata": {},
   "outputs": [],
   "source": [
    "labels = ['Court',\n",
    " 'City',\n",
    " 'State',\n",
    "#  'Country',\n",
    " 'Rank',\n",
    " 'Name',\n",
    " 'Process',\n",
    " 'Offense',\n",
    "#  'Date',\n",
    " 'Conclussion',\n",
    " 'Gender',\n",
    " 'Sentence'\n",
    "]"
   ]
  },
  {
   "cell_type": "code",
   "execution_count": 70,
   "metadata": {},
   "outputs": [],
   "source": [
    "TRAINING_DATA = []\n",
    "for idx in range(len(navy_encoding)):\n",
    "    X  = navy_encoding.text.iloc[0]\n",
    "    Y  = navy_encoding[labels].iloc[0]\n",
    "\n",
    "    entities = []\n",
    "    for label, val in Y.iteritems():\n",
    "        val = val.strip()\n",
    "        if val == 'pretrail agreement':\n",
    "            val = 'pretrial agreement'\n",
    "        word_start = X.index(val)\n",
    "        for word in val.split():\n",
    "            word_stop = word_start + len(word)\n",
    "            entities.append((word_start, word_stop, label.upper()))\n",
    "            word_start = word_stop\n",
    "\n",
    "    TRAINING_DATA.append((X, {'entities': entities}))\n",
    "    \n",
    "LABELS = map(lambda x: x[2], TRAINING_DATA[0][1]['entities'])"
   ]
  },
  {
   "cell_type": "code",
   "execution_count": 73,
   "metadata": {},
   "outputs": [],
   "source": [
    "# TRAINING_DATA[0][0][81:87]"
   ]
  },
  {
   "cell_type": "code",
   "execution_count": 74,
   "metadata": {},
   "outputs": [],
   "source": [
    "from spacy.util import minibatch, compounding\n",
    "#!/usr/bin/env python\n",
    "# coding: utf8\n",
    "from __future__ import unicode_literals, print_function\n",
    "\n",
    "import random\n",
    "import time\n",
    "from pathlib import Path\n",
    "import spacy\n",
    "\n",
    "def create_new_model(\n",
    "    new_model_name='court_martial_tagger',\n",
    "    output_dir='../models',\n",
    "    n_iter=20\n",
    "):\n",
    "    # setup: create blank Language class, get NER pipe and add labels\n",
    "    nlp = spacy.blank('en')  \n",
    "    ner = nlp.create_pipe('ner')\n",
    "    nlp.add_pipe(ner)\n",
    "    for LABEL in LABELS:\n",
    "        ner.add_label(LABEL)   \n",
    "\n",
    "    # begin training\n",
    "    optimizer = nlp.begin_training()\n",
    "    now = time.time()\n",
    "    for itn in range(n_iter):\n",
    "        random.shuffle(TRAINING_DATA)\n",
    "        losses = {}\n",
    "        batches = minibatch(TRAINING_DATA, size=compounding(500., 500., 1.))\n",
    "        for batch in batches:\n",
    "            texts, annotations = zip(*batch)\n",
    "            nlp.update(texts, annotations, sgd=optimizer, drop=0.2, losses=losses)\n",
    "        print(losses)\n",
    "        print('iteration %d in %f...' % (itn, time.time() - now))\n",
    "        now = time.time()\n",
    "\n",
    "    # save model to output directory\n",
    "    if output_dir is not None:\n",
    "        output_dir = Path(output_dir)\n",
    "        if not output_dir.exists():\n",
    "            output_dir.mkdir()\n",
    "        nlp.meta['name'] = new_model_name  # rename model\n",
    "        nlp.to_disk(output_dir)\n",
    "        print(\"Saved model to\", output_dir)\n",
    "        \n",
    "    return nlp "
   ]
  },
  {
   "cell_type": "code",
   "execution_count": 75,
   "metadata": {},
   "outputs": [
    {
     "name": "stdout",
     "output_type": "stream",
     "text": [
      "{u'ner': 0.2914788945095769}\n",
      "iteration 0 in 26.794851...\n",
      "{u'ner': 0.05863310007489865}\n",
      "iteration 1 in 28.634029...\n",
      "{u'ner': 0.0031381203930635625}\n",
      "iteration 2 in 26.236337...\n",
      "{u'ner': 0.0019366110708731205}\n",
      "iteration 3 in 26.833045...\n",
      "{u'ner': 5.782551365319484e-05}\n",
      "iteration 4 in 25.265103...\n",
      "Saved model to ../models\n"
     ]
    }
   ],
   "source": [
    "nlp = create_new_model(n_iter=5)"
   ]
  },
  {
   "cell_type": "code",
   "execution_count": null,
   "metadata": {},
   "outputs": [],
   "source": []
  },
  {
   "cell_type": "code",
   "execution_count": 179,
   "metadata": {},
   "outputs": [],
   "source": [
    "data_dir = '../data/raw-army-pdfs/'\n",
    "for document in os.listdir(data_dir): \n",
    "    # naming...\n",
    "    name = document.replace('.pdf','')\n",
    "    name = name.split(' - ')[0]\n",
    "    name = '_'.join(name.split(' '))\n",
    "    document= data_dir + document\n",
    "    text = textract.process(document)\n",
    "    break"
   ]
  },
  {
   "cell_type": "markdown",
   "metadata": {},
   "source": [
    "# Named Entity Tests"
   ]
  },
  {
   "cell_type": "code",
   "execution_count": 54,
   "metadata": {},
   "outputs": [],
   "source": [
    "from spacy import displacy\n",
    "%matplotlib inline\n",
    "nlp = spacy.load('en_core_web_sm')\n",
    "# doc = nlp(t5[3])\n",
    "# displacy.render(doc, style='ent', jupyter=True)"
   ]
  },
  {
   "cell_type": "code",
   "execution_count": 46,
   "metadata": {},
   "outputs": [
    {
     "data": {
      "text/html": [
       "<div class=\"entities\" style=\"line-height: 2.5\">\n",
       "<mark class=\"entity\" style=\"background: #bfe1d9; padding: 0.45em 0.6em; margin: 0 0.25em; line-height: 1; border-radius: 0.35em; box-decoration-break: clone; -webkit-box-decoration-break: clone\">\n",
       "    24 April 2015\n",
       "    <span style=\"font-size: 0.8em; font-weight: bold; line-height: 1; border-radius: 0.35em; text-transform: uppercase; vertical-align: middle; margin-left: 0.5rem\">DATE</span>\n",
       "</mark>\n",
       ", at a general court-martial convened at \n",
       "<mark class=\"entity\" style=\"background: #feca74; padding: 0.45em 0.6em; margin: 0 0.25em; line-height: 1; border-radius: 0.35em; box-decoration-break: clone; -webkit-box-decoration-break: clone\">\n",
       "    Fort Sam\n",
       "    <span style=\"font-size: 0.8em; font-weight: bold; line-height: 1; border-radius: 0.35em; text-transform: uppercase; vertical-align: middle; margin-left: 0.5rem\">GPE</span>\n",
       "</mark>\n",
       " \n",
       "<mark class=\"entity\" style=\"background: #feca74; padding: 0.45em 0.6em; margin: 0 0.25em; line-height: 1; border-radius: 0.35em; box-decoration-break: clone; -webkit-box-decoration-break: clone\">\n",
       "    Houston\n",
       "    <span style=\"font-size: 0.8em; font-weight: bold; line-height: 1; border-radius: 0.35em; text-transform: uppercase; vertical-align: middle; margin-left: 0.5rem\">GPE</span>\n",
       "</mark>\n",
       ", \n",
       "<mark class=\"entity\" style=\"background: #feca74; padding: 0.45em 0.6em; margin: 0 0.25em; line-height: 1; border-radius: 0.35em; box-decoration-break: clone; -webkit-box-decoration-break: clone\">\n",
       "    Texas\n",
       "    <span style=\"font-size: 0.8em; font-weight: bold; line-height: 1; border-radius: 0.35em; text-transform: uppercase; vertical-align: middle; margin-left: 0.5rem\">GPE</span>\n",
       "</mark>\n",
       ", \n",
       "<mark class=\"entity\" style=\"background: #aa9cfc; padding: 0.45em 0.6em; margin: 0 0.25em; line-height: 1; border-radius: 0.35em; box-decoration-break: clone; -webkit-box-decoration-break: clone\">\n",
       "    SSG David J. Singley\n",
       "    <span style=\"font-size: 0.8em; font-weight: bold; line-height: 1; border-radius: 0.35em; text-transform: uppercase; vertical-align: middle; margin-left: 0.5rem\">PERSON</span>\n",
       "</mark>\n",
       ", \n",
       "<mark class=\"entity\" style=\"background: #7aecec; padding: 0.45em 0.6em; margin: 0 0.25em; line-height: 1; border-radius: 0.35em; box-decoration-break: clone; -webkit-box-decoration-break: clone\">\n",
       "    United States Army\n",
       "    <span style=\"font-size: 0.8em; font-weight: bold; line-height: 1; border-radius: 0.35em; text-transform: uppercase; vertical-align: middle; margin-left: 0.5rem\">ORG</span>\n",
       "</mark>\n",
       ", was convicted by a military judge of \n",
       "<mark class=\"entity\" style=\"background: #e4e7d2; padding: 0.45em 0.6em; margin: 0 0.25em; line-height: 1; border-radius: 0.35em; box-decoration-break: clone; -webkit-box-decoration-break: clone\">\n",
       "    six\n",
       "    <span style=\"font-size: 0.8em; font-weight: bold; line-height: 1; border-radius: 0.35em; text-transform: uppercase; vertical-align: middle; margin-left: 0.5rem\">CARDINAL</span>\n",
       "</mark>\n",
       " specifications of false official statements and \n",
       "<mark class=\"entity\" style=\"background: #e4e7d2; padding: 0.45em 0.6em; margin: 0 0.25em; line-height: 1; border-radius: 0.35em; box-decoration-break: clone; -webkit-box-decoration-break: clone\">\n",
       "    eight\n",
       "    <span style=\"font-size: 0.8em; font-weight: bold; line-height: 1; border-radius: 0.35em; text-transform: uppercase; vertical-align: middle; margin-left: 0.5rem\">CARDINAL</span>\n",
       "</mark>\n",
       " specifications of wearing unauthorized insignia, decorations, badges, or ribbons in violation of \n",
       "<mark class=\"entity\" style=\"background: #ddd; padding: 0.45em 0.6em; margin: 0 0.25em; line-height: 1; border-radius: 0.35em; box-decoration-break: clone; -webkit-box-decoration-break: clone\">\n",
       "    Articles 107\n",
       "    <span style=\"font-size: 0.8em; font-weight: bold; line-height: 1; border-radius: 0.35em; text-transform: uppercase; vertical-align: middle; margin-left: 0.5rem\">FAC</span>\n",
       "</mark>\n",
       " and \n",
       "<mark class=\"entity\" style=\"background: #e4e7d2; padding: 0.45em 0.6em; margin: 0 0.25em; line-height: 1; border-radius: 0.35em; box-decoration-break: clone; -webkit-box-decoration-break: clone\">\n",
       "    134\n",
       "    <span style=\"font-size: 0.8em; font-weight: bold; line-height: 1; border-radius: 0.35em; text-transform: uppercase; vertical-align: middle; margin-left: 0.5rem\">CARDINAL</span>\n",
       "</mark>\n",
       ", \n",
       "<mark class=\"entity\" style=\"background: #7aecec; padding: 0.45em 0.6em; margin: 0 0.25em; line-height: 1; border-radius: 0.35em; box-decoration-break: clone; -webkit-box-decoration-break: clone\">\n",
       "    UCMJ\n",
       "    <span style=\"font-size: 0.8em; font-weight: bold; line-height: 1; border-radius: 0.35em; text-transform: uppercase; vertical-align: middle; margin-left: 0.5rem\">ORG</span>\n",
       "</mark>\n",
       ".  The military judge sentenced the accused to be reduced to the grade of E-1, to forfeit all pay and allowances, and to be discharged from the service with a dishonorable discharge.</div>"
      ],
      "text/plain": [
       "<IPython.core.display.HTML object>"
      ]
     },
     "metadata": {},
     "output_type": "display_data"
    }
   ],
   "source": [
    "doc = nlp(unicode(text.split('On')[1:][30].replace('\\n', '').strip()))\n",
    "displacy.render(doc, style='ent', jupyter=True)"
   ]
  },
  {
   "cell_type": "code",
   "execution_count": null,
   "metadata": {},
   "outputs": [],
   "source": [
    "labels = ['Court',\n",
    " 'City',\n",
    " 'State',\n",
    " 'Rank',\n",
    " 'Name',\n",
    " 'Process',\n",
    " 'Offense',\n",
    " 'Conclussion',\n",
    " 'Gender',\n",
    " 'Sentence'\n",
    "]"
   ]
  },
  {
   "cell_type": "code",
   "execution_count": 52,
   "metadata": {},
   "outputs": [
    {
     "data": {
      "text/html": [
       "<div class=\"entities\" style=\"line-height: 2.5\">16 April 2015, at a general court-martial convened at Fort Polk, \n",
       "<mark class=\"entity\" style=\"background: #ddd; padding: 0.45em 0.6em; margin: 0 0.25em; line-height: 1; border-radius: 0.35em; box-decoration-break: clone; -webkit-box-decoration-break: clone\">\n",
       "    Louisiana\n",
       "    <span style=\"font-size: 0.8em; font-weight: bold; line-height: 1; border-radius: 0.35em; text-transform: uppercase; vertical-align: middle; margin-left: 0.5rem\">STATE</span>\n",
       "</mark>\n",
       ", \n",
       "<mark class=\"entity\" style=\"background: #ddd; padding: 0.45em 0.6em; margin: 0 0.25em; line-height: 1; border-radius: 0.35em; box-decoration-break: clone; -webkit-box-decoration-break: clone\">\n",
       "    SPC\n",
       "    <span style=\"font-size: 0.8em; font-weight: bold; line-height: 1; border-radius: 0.35em; text-transform: uppercase; vertical-align: middle; margin-left: 0.5rem\">RANK</span>\n",
       "</mark>\n",
       " Taylor \n",
       "<mark class=\"entity\" style=\"background: #ddd; padding: 0.45em 0.6em; margin: 0 0.25em; line-height: 1; border-radius: 0.35em; box-decoration-break: clone; -webkit-box-decoration-break: clone\">\n",
       "    A.\n",
       "    <span style=\"font-size: 0.8em; font-weight: bold; line-height: 1; border-radius: 0.35em; text-transform: uppercase; vertical-align: middle; margin-left: 0.5rem\">RANK</span>\n",
       "</mark>\n",
       " \n",
       "<mark class=\"entity\" style=\"background: #ddd; padding: 0.45em 0.6em; margin: 0 0.25em; line-height: 1; border-radius: 0.35em; box-decoration-break: clone; -webkit-box-decoration-break: clone\">\n",
       "    Layton\n",
       "    <span style=\"font-size: 0.8em; font-weight: bold; line-height: 1; border-radius: 0.35em; text-transform: uppercase; vertical-align: middle; margin-left: 0.5rem\">CITY</span>\n",
       "</mark>\n",
       ", United States Army, was convicted by a military judge of one specification of disobeying a lawful general order, two specifications of possessing child pornography, and one specification of viewing child pornography in violation of Articles 92 and 134, UCMJ.  The military judge sentenced the accused to be reduced to the grade of E-1, to be confined for 36 months, and to be discharged from the service with a bad-conduct discharge.</div>"
      ],
      "text/plain": [
       "<IPython.core.display.HTML object>"
      ]
     },
     "metadata": {},
     "output_type": "display_data"
    }
   ],
   "source": [
    "doc = nlp(unicode(text.split('On')[1:][25].replace('\\n', '').strip()))\n",
    "displacy.render(doc, style='ent', jupyter=True)"
   ]
  },
  {
   "cell_type": "code",
   "execution_count": 77,
   "metadata": {},
   "outputs": [
    {
     "data": {
      "text/html": [
       "<div class=\"entities\" style=\"line-height: 2.5\">\n",
       "<mark class=\"entity\" style=\"background: #ddd; padding: 0.45em 0.6em; margin: 0 0.25em; line-height: 1; border-radius: 0.35em; box-decoration-break: clone; -webkit-box-decoration-break: clone\">\n",
       "    08\n",
       "    <span style=\"font-size: 0.8em; font-weight: bold; line-height: 1; border-radius: 0.35em; text-transform: uppercase; vertical-align: middle; margin-left: 0.5rem\">COURT</span>\n",
       "</mark>\n",
       " April 2015, at a \n",
       "<mark class=\"entity\" style=\"background: #ddd; padding: 0.45em 0.6em; margin: 0 0.25em; line-height: 1; border-radius: 0.35em; box-decoration-break: clone; -webkit-box-decoration-break: clone\">\n",
       "    general\n",
       "    <span style=\"font-size: 0.8em; font-weight: bold; line-height: 1; border-radius: 0.35em; text-transform: uppercase; vertical-align: middle; margin-left: 0.5rem\">PROCESS</span>\n",
       "</mark>\n",
       " court-martial convened at \n",
       "<mark class=\"entity\" style=\"background: #ddd; padding: 0.45em 0.6em; margin: 0 0.25em; line-height: 1; border-radius: 0.35em; box-decoration-break: clone; -webkit-box-decoration-break: clone\">\n",
       "    Fort\n",
       "    <span style=\"font-size: 0.8em; font-weight: bold; line-height: 1; border-radius: 0.35em; text-transform: uppercase; vertical-align: middle; margin-left: 0.5rem\">GENDER</span>\n",
       "</mark>\n",
       " Leavenworth, \n",
       "<mark class=\"entity\" style=\"background: #ddd; padding: 0.45em 0.6em; margin: 0 0.25em; line-height: 1; border-radius: 0.35em; box-decoration-break: clone; -webkit-box-decoration-break: clone\">\n",
       "    Kansas\n",
       "    <span style=\"font-size: 0.8em; font-weight: bold; line-height: 1; border-radius: 0.35em; text-transform: uppercase; vertical-align: middle; margin-left: 0.5rem\">STATE</span>\n",
       "</mark>\n",
       ", \n",
       "<mark class=\"entity\" style=\"background: #ddd; padding: 0.45em 0.6em; margin: 0 0.25em; line-height: 1; border-radius: 0.35em; box-decoration-break: clone; -webkit-box-decoration-break: clone\">\n",
       "    SGT\n",
       "    <span style=\"font-size: 0.8em; font-weight: bold; line-height: 1; border-radius: 0.35em; text-transform: uppercase; vertical-align: middle; margin-left: 0.5rem\">RANK</span>\n",
       "</mark>\n",
       " Andrew R. Buczkowski, United States Army, was convicted by a military judge of one specification of abusive sexual contact and one specification of assault 3 \f",
       "\n",
       "<mark class=\"entity\" style=\"background: #ddd; padding: 0.45em 0.6em; margin: 0 0.25em; line-height: 1; border-radius: 0.35em; box-decoration-break: clone; -webkit-box-decoration-break: clone\">\n",
       "    consummated\n",
       "    <span style=\"font-size: 0.8em; font-weight: bold; line-height: 1; border-radius: 0.35em; text-transform: uppercase; vertical-align: middle; margin-left: 0.5rem\">CONCLUSSION</span>\n",
       "</mark>\n",
       " \n",
       "<mark class=\"entity\" style=\"background: #ddd; padding: 0.45em 0.6em; margin: 0 0.25em; line-height: 1; border-radius: 0.35em; box-decoration-break: clone; -webkit-box-decoration-break: clone\">\n",
       "    by\n",
       "    <span style=\"font-size: 0.8em; font-weight: bold; line-height: 1; border-radius: 0.35em; text-transform: uppercase; vertical-align: middle; margin-left: 0.5rem\">SENTENCE</span>\n",
       "</mark>\n",
       " \n",
       "<mark class=\"entity\" style=\"background: #ddd; padding: 0.45em 0.6em; margin: 0 0.25em; line-height: 1; border-radius: 0.35em; box-decoration-break: clone; -webkit-box-decoration-break: clone\">\n",
       "    a\n",
       "    <span style=\"font-size: 0.8em; font-weight: bold; line-height: 1; border-radius: 0.35em; text-transform: uppercase; vertical-align: middle; margin-left: 0.5rem\">STATE</span>\n",
       "</mark>\n",
       " battery in violation of Articles 120 and 128, UCMJ.  The military judge sentenced the accused to be reduced to the grade of E-4, to be confined for 6 months, and to be reprimanded.</div>"
      ],
      "text/plain": [
       "<IPython.core.display.HTML object>"
      ]
     },
     "metadata": {},
     "output_type": "display_data"
    }
   ],
   "source": [
    "doc = nlp(unicode(text.split('On')[1:][20].replace('\\n', '').strip()))\n",
    "displacy.render(doc, style='ent', jupyter=True)"
   ]
  },
  {
   "cell_type": "markdown",
   "metadata": {},
   "source": [
    "# Treat this as a POS Tagging Problem"
   ]
  },
  {
   "cell_type": "code",
   "execution_count": 107,
   "metadata": {},
   "outputs": [],
   "source": [
    "TRAINING_DATA = []\n",
    "for idx in range(len(navy_encoding)):\n",
    "    X  = navy_encoding.text.iloc[0]\n",
    "    Y  = navy_encoding[labels].iloc[0]\n",
    "\n",
    "    tag_idxs = []\n",
    "    for label, val in Y.iteritems():\n",
    "        val = val.strip()\n",
    "        if val == 'pretrail agreement':\n",
    "            val = 'pretrial agreement'\n",
    "        start = X.index(val)\n",
    "        stop = start + len(val)\n",
    "        tag_idxs.append((start, stop, label.upper()))\n",
    "    \n",
    "# LABELS = map(lambda x: x[2], TRAINING_DATA[0][1]['entities'])\n",
    "\n",
    "    idx = 0\n",
    "    tag_list = []\n",
    "    for word in X.split():\n",
    "        found = False\n",
    "        for start, stop, val in tags:\n",
    "            if (idx >= start) and (idx < stop):\n",
    "                tag_list.append(val)\n",
    "                found = True\n",
    "                break\n",
    "        if not found:\n",
    "            tag_list.append('O')\n",
    "        idx += len(word)\n",
    "\n",
    "\n",
    "    vocab = Vocab(tag_map=TAG_MAP)\n",
    "    doc = Doc(vocab, words=X.split())\n",
    "    gold = GoldParse(doc, tags=tag_list)\n",
    "#     TRAINING_DATA.append((X, {'tags': tag_list}))\n",
    "    TRAINING_DATA.append((doc, gold))"
   ]
  },
  {
   "cell_type": "code",
   "execution_count": 96,
   "metadata": {},
   "outputs": [],
   "source": [
    "from spacy.vocab import Vocab\n",
    "from spacy.gold import Doc, GoldParse"
   ]
  },
  {
   "cell_type": "code",
   "execution_count": 87,
   "metadata": {
    "scrolled": true
   },
   "outputs": [
    {
     "data": {
      "text/plain": [
       "91"
      ]
     },
     "execution_count": 87,
     "metadata": {},
     "output_type": "execute_result"
    }
   ],
   "source": [
    "len(TRAINING_DATA[0][0].split())"
   ]
  },
  {
   "cell_type": "code",
   "execution_count": 89,
   "metadata": {},
   "outputs": [
    {
     "data": {
      "text/plain": [
       "91"
      ]
     },
     "execution_count": 89,
     "metadata": {},
     "output_type": "execute_result"
    }
   ],
   "source": [
    "len(TRAINING_DATA[0][1]['tags'])"
   ]
  },
  {
   "cell_type": "code",
   "execution_count": 114,
   "metadata": {},
   "outputs": [],
   "source": [
    "# TAG_MAP = {tag: {'pos': 'NOUN'} for tag in set(TRAINING_DATA[0][1]['tags'])}\n",
    "def main(lang='en', output_dir=None, n_iter=5):\n",
    "    nlp = spacy.blank(lang)\n",
    "    # add the tagger to the pipeline\n",
    "    # nlp.create_pipe works for built-ins that are registered with spaCy\n",
    "    tagger = nlp.create_pipe('tagger')\n",
    "    # Add the tags. This needs to be done before you start training.\n",
    "    for tag, values in TAG_MAP.items():\n",
    "        tagger.add_label(tag, values)\n",
    "    nlp.add_pipe(tagger)\n",
    "\n",
    "    optimizer = nlp.begin_training()\n",
    "    now = time.time()\n",
    "    for i in range(n_iter):\n",
    "        random.shuffle(TRAINING_DATA)\n",
    "        losses = {}\n",
    "        batches = minibatch(TRAINING_DATA, size=100)\n",
    "        for batch in batches:\n",
    "            texts, annotations = zip(*batch)\n",
    "            nlp.update(texts, annotations, sgd=optimizer, losses=losses, drop=.5)\n",
    "        print(losses)\n",
    "        print('iteration %d in %f...' % (i, time.time() - now))\n",
    "        now = time.time()\n",
    "\n",
    "    # save model to output directory\n",
    "    if output_dir is not None:\n",
    "        output_dir = Path(output_dir)\n",
    "        if not output_dir.exists():\n",
    "            output_dir.mkdir()\n",
    "        nlp.to_disk(output_dir)\n",
    "        print(\"Saved model to\", output_dir)\n",
    "    return nlp "
   ]
  },
  {
   "cell_type": "code",
   "execution_count": 115,
   "metadata": {},
   "outputs": [
    {
     "name": "stdout",
     "output_type": "stream",
     "text": [
      "{u'tagger': 0.001166748406831175}\n",
      "iteration 0 in 11.092616...\n",
      "{u'tagger': 0.0009570842012180947}\n",
      "iteration 1 in 9.872129...\n",
      "{u'tagger': 0.0009282545506721362}\n",
      "iteration 2 in 9.927467...\n",
      "{u'tagger': 0.0009251473820768297}\n",
      "iteration 3 in 10.638647...\n",
      "{u'tagger': 0.0009251262745237909}\n",
      "iteration 4 in 10.012360...\n"
     ]
    }
   ],
   "source": [
    "nlp = main()"
   ]
  },
  {
   "cell_type": "code",
   "execution_count": 116,
   "metadata": {},
   "outputs": [],
   "source": [
    "doc = nlp(unicode(text.split('On')[1:][20].replace('\\n', '').strip()))"
   ]
  },
  {
   "cell_type": "code",
   "execution_count": 117,
   "metadata": {},
   "outputs": [
    {
     "name": "stdout",
     "output_type": "stream",
     "text": [
      "Tags [(u'08', u'O', u'NOUN'), (u'April', u'O', u'NOUN'), (u'2015', u'WP', u'NOUN'), (u',', u'O', u'NOUN'), (u'at', u'O', u'NOUN'), (u'a', u'O', u'NOUN'), (u'general', u'O', u'NOUN'), (u'court', u'O', u'NOUN'), (u'-', u'O', u'NOUN'), (u'martial', u'O', u'NOUN'), (u'convened', u'O', u'NOUN'), (u'at', u'O', u'NOUN'), (u'Fort', u'O', u'NOUN'), (u'Leavenworth', u'O', u'NOUN'), (u',', u'O', u'NOUN'), (u'Kansas', u'O', u'NOUN'), (u',', u'O', u'NOUN'), (u'SGT', u'O', u'NOUN'), (u'Andrew', u'O', u'NOUN'), (u'R.', u'O', u'NOUN'), (u'Buczkowski', u'O', u'NOUN'), (u',', u'O', u'NOUN'), (u'United', u'O', u'NOUN'), (u'States', u'O', u'NOUN'), (u'Army', u'O', u'NOUN'), (u',', u'O', u'NOUN'), (u'was', u'O', u'NOUN'), (u'convicted', u'O', u'NOUN'), (u'by', u'O', u'NOUN'), (u'a', u'O', u'NOUN'), (u'military', u'O', u'NOUN'), (u'judge', u'O', u'NOUN'), (u'of', u'O', u'NOUN'), (u'one', u'O', u'NOUN'), (u'specification', u'O', u'NOUN'), (u'of', u'O', u'NOUN'), (u'abusive', u'O', u'NOUN'), (u'sexual', u'O', u'NOUN'), (u'contact', u'O', u'NOUN'), (u'and', u'O', u'NOUN'), (u'one', u'O', u'NOUN'), (u'specification', u'O', u'NOUN'), (u'of', u'O', u'NOUN'), (u'assault', u'O', u'NOUN'), (u'3', u'O', u'NOUN'), (u'\\x0c', u'_SP', u'SPACE'), (u'consummated', u'O', u'NOUN'), (u'by', u'O', u'NOUN'), (u'a', u'O', u'NOUN'), (u'battery', u'O', u'NOUN'), (u'in', u'O', u'NOUN'), (u'violation', u'O', u'NOUN'), (u'of', u'O', u'NOUN'), (u'Articles', u'O', u'NOUN'), (u'120', u'O', u'NOUN'), (u'and', u'\"\"', u'PUNCT'), (u'128', u'\"\"', u'PUNCT'), (u',', u'\"\"', u'PUNCT'), (u'UCMJ', u'O', u'NOUN'), (u'.', u'O', u'NOUN'), (u' ', u'', u'SPACE'), (u'The', u'O', u'NOUN'), (u'military', u'O', u'NOUN'), (u'judge', u'O', u'NOUN'), (u'sentenced', u'O', u'NOUN'), (u'the', u'O', u'NOUN'), (u'accused', u'O', u'NOUN'), (u'to', u'O', u'NOUN'), (u'be', u'O', u'NOUN'), (u'reduced', u'O', u'NOUN'), (u'to', u'O', u'NOUN'), (u'the', u'SENTENCE', u'NOUN'), (u'grade', u'O', u'NOUN'), (u'of', u'O', u'NOUN'), (u'E-4', u'O', u'NOUN'), (u',', u'O', u'NOUN'), (u'to', u'O', u'NOUN'), (u'be', u'O', u'NOUN'), (u'confined', u'O', u'NOUN'), (u'for', u'O', u'NOUN'), (u'6', u'O', u'NOUN'), (u'months', u'O', u'NOUN'), (u',', u'O', u'NOUN'), (u'and', u'O', u'NOUN'), (u'to', u'O', u'NOUN'), (u'be', u'O', u'NOUN'), (u'reprimanded', u'O', u'NOUN'), (u'.', u'O', u'NOUN')]\n"
     ]
    }
   ],
   "source": [
    "print('Tags', [(t.text, t.tag_, t.pos_) for t in doc])"
   ]
  },
  {
   "cell_type": "markdown",
   "metadata": {},
   "source": [
    "# Give up and Do rule-based targeting"
   ]
  },
  {
   "cell_type": "code",
   "execution_count": 226,
   "metadata": {},
   "outputs": [
    {
     "data": {
      "text/plain": [
       "u' 14 April 2015, at a general court-martial convened at Wheeler Army Airfield, Hawaii, \\nSPC David R. Sanders, United States Army, was convicted by a military judge of one \\nspecification of desertion, one specification of willfully disobeying a superior \\ncommissioned officer, two specifications of sexual assault, one specification of stalking, \\none specification of assault consummated by a battery, and one specification of \\nindecent language in violation of Articles 85, 90, 120, 120a, 128, and 134, UCMJ.  The \\nmilitary judge sentenced the accused to be reduced to the grade of E-1, to be confined \\nfor 5 years, and to be discharged from the service with a bad-conduct discharge. \\n \\n'"
      ]
     },
     "execution_count": 226,
     "metadata": {},
     "output_type": "execute_result"
    }
   ],
   "source": [
    "idx = 50\n",
    "doc = nlp(court_martial[idx])\n",
    "tags = [(t.text, t.tag_, t.pos_) for t in doc]\n",
    "court_martial[idx]"
   ]
  },
  {
   "cell_type": "code",
   "execution_count": 234,
   "metadata": {},
   "outputs": [
    {
     "data": {
      "text/plain": [
       "[(u'Hawaii', u'GPE'),\n",
       " (u'\\n', u'GPE'),\n",
       " (u'\\n', u'GPE'),\n",
       " (u'\\n', u'GPE'),\n",
       " (u'\\n', u'GPE'),\n",
       " (u'\\n', u'GPE'),\n",
       " (u'Articles', u'GPE'),\n",
       " (u'\\n', u'GPE'),\n",
       " (u'\\n', u'GPE')]"
      ]
     },
     "execution_count": 234,
     "metadata": {},
     "output_type": "execute_result"
    }
   ],
   "source": [
    "filter(lambda x: x[1] == 'GPE', [(t.text, t.ent_type_) for t in doc])"
   ]
  },
  {
   "cell_type": "code",
   "execution_count": 237,
   "metadata": {},
   "outputs": [
    {
     "data": {
      "text/plain": [
       "array([' D.C.', ' Virginia', ' Illinois', ' Florida', ' California', nan,\n",
       "       'Florida', 'Washington', 'California', 'Hawaii', 'D.C.',\n",
       "       'Virginia', 'Connecticut', 'Illinois', ' Washington', ' Hawaii',\n",
       "       ' Sicily', ' Connecticut', ' Bahrain', 'FLorida', 'california',\n",
       "       'CAlifornia', 'Texas', 'virginia', 'HAwaii', 'Mississippi',\n",
       "       ' South Carolina', ' Oklahoma'], dtype=object)"
      ]
     },
     "execution_count": 237,
     "metadata": {},
     "output_type": "execute_result"
    }
   ],
   "source": [
    "navy_encoding.State.unique()"
   ]
  },
  {
   "cell_type": "code",
   "execution_count": 151,
   "metadata": {},
   "outputs": [
    {
     "data": {
      "text/plain": [
       "Special Court-Martial                                                560\n",
       "General Court-Martial                                                439\n",
       "Special Court Martial                                                 84\n",
       "General Court Martial                                                 77\n",
       "General Court-Martial convened by Navy Region EURAFSWA, but tried      1\n",
       "Name: Court, dtype: int64"
      ]
     },
     "execution_count": 151,
     "metadata": {},
     "output_type": "execute_result"
    }
   ],
   "source": [
    "navy_encoding.Court.value_counts()"
   ]
  },
  {
   "cell_type": "code",
   "execution_count": 238,
   "metadata": {},
   "outputs": [],
   "source": [
    "states =['Alaska', 'Alabama', 'Arkansas', 'American Samoa', 'Arizona', 'California', 'Colorado', 'Connecticut',\n",
    "         'District of Columbia', 'Delaware', 'Florida', 'Georgia', 'Guam', 'Hawaii', 'Iowa', 'Idaho',\n",
    "        'Illinois', 'Indiana', 'Kansas', 'Kentucky', 'Louisiana', 'Massachusetts', 'Maryland', 'Maine',\n",
    "         'Michigan', 'Minnesota', 'Missouri', 'Northern Mariana Islands', 'Mississippi', 'Montana', 'National',\n",
    "         'North Carolina', 'North Dakota', 'Nebraska', 'New Hampshire', 'New Jersey', 'New Mexico', 'Nevada',\n",
    "         'New York', 'Ohio', 'Oklahoma', 'Oregon', 'Pennsylvania', 'Puerto Rico', 'Rhode Island', 'South Carolina',\n",
    "         'South Dakota', 'Tennessee', 'Texas', 'Utah', 'Virginia', 'Virgin Islands', 'Vermont', 'Washington',\n",
    "         'Wisconsin', 'West Virginia', 'Wyoming']"
   ]
  },
  {
   "cell_type": "code",
   "execution_count": 279,
   "metadata": {},
   "outputs": [],
   "source": [
    "import spacy\n",
    "from spacy.matcher import Matcher\n",
    "\n",
    "nlp = spacy.load('en_core_web_sm')\n",
    "matcher = Matcher(nlp.vocab)\n",
    "matcher.add('court-martial', None,\n",
    "            [{}, {'LOWER': 'court'}, {'IS_PUNCT': True}, {'LOWER': 'martial'}],\n",
    "            [{}, {'LOWER': 'court'}, {'LOWER': 'martial'}])\n",
    "\n",
    "matcher.add('state', None,\n",
    "            *[[{'LOWER': state.lower()}] for state in states])"
   ]
  },
  {
   "cell_type": "code",
   "execution_count": 280,
   "metadata": {},
   "outputs": [
    {
     "data": {
      "text/plain": [
       "True"
      ]
     },
     "execution_count": 280,
     "metadata": {},
     "output_type": "execute_result"
    }
   ],
   "source": [
    "matcher.has_key('state')"
   ]
  },
  {
   "cell_type": "code",
   "execution_count": 281,
   "metadata": {},
   "outputs": [],
   "source": [
    "court_martial=text.split('On')[1:]"
   ]
  },
  {
   "cell_type": "code",
   "execution_count": 282,
   "metadata": {},
   "outputs": [
    {
     "data": {
      "text/plain": [
       "u' 14 April 2015, at a general court-martial convened at Wheeler Army Airfield, Hawaii, \\nSPC David R. Sanders, United States Army, was convicted by a military judge of one \\nspecification of desertion, one specification of willfully disobeying a superior \\ncommissioned officer, two specifications of sexual assault, one specification of stalking, \\none specification of assault consummated by a battery, and one specification of \\nindecent language in violation of Articles 85, 90, 120, 120a, 128, and 134, UCMJ.  The \\nmilitary judge sentenced the accused to be reduced to the grade of E-1, to be confined \\nfor 5 years, and to be discharged from the service with a bad-conduct discharge. \\n \\n'"
      ]
     },
     "execution_count": 282,
     "metadata": {},
     "output_type": "execute_result"
    }
   ],
   "source": [
    "court_martial[50]"
   ]
  },
  {
   "cell_type": "code",
   "execution_count": 283,
   "metadata": {},
   "outputs": [],
   "source": [
    "doc = nlp(court_martial[50])\n",
    "matches = matcher(doc)"
   ]
  },
  {
   "cell_type": "code",
   "execution_count": 520,
   "metadata": {},
   "outputs": [],
   "source": [
    "rank_re = \"\\s[0-9]{0,1}[A-Z]{2,3}[0-9]{0,1}\\s|Private First Class|Staff Sergeant|Sergeant|Specialist|Captain|Private \\(E-1\\)|Chief Warrant Officer|Private|Major|Second Lieutenant|United States Military Academy Cadet|First Lieutenant|Lieutenant\"\n",
    "def clean_paragraph(paragraph):\n",
    "    return paragraph.replace('\\n','').replace('\\n','').replace('MDA','M.D.A.').replace('UMCJ', 'UCMJ').strip()\n",
    "\n",
    "def get_gender(paragraph, output):\n",
    "    # Get gender\n",
    "    if re.search('\\shis\\s|\\shim\\s|\\she\\s', paragraph.lower()) > 1:\n",
    "        output['Gender'] = 'male'\n",
    "    if re.search('\\shers\\s|\\sshe\\s|\\sher\\s', paragraph.lower()) > 1:\n",
    "        output['Gender'] = 'female'\n",
    "    return output\n",
    "\n",
    "def get_date_and_location(paragraph, output):\n",
    "    # Spacy processing...  \n",
    "    doc = nlp(paragraph)\n",
    "    #Get the court martial\n",
    "    matches = matcher(doc)\n",
    "    for match_id, start, stop in matches:\n",
    "        if matcher.vocab.strings[match_id] == 'court-martial':\n",
    "            output['Court'] = str(doc[start:stop])\n",
    "        if matcher.vocab.strings[match_id] == 'state':\n",
    "            output['State'] = str(doc[start:stop])\n",
    "            output['Country'] = 'USA'\n",
    "    # Get the date\n",
    "    dates = filter(lambda x: x[1] == 'DATE', [(t.text, t.ent_type_) for t in doc])\n",
    "    if len(dates) >= 3:\n",
    "        date = map(lambda x: x[0], dates)[:3]\n",
    "        output['Date'] = ' '.join(date)\n",
    "    return output\n",
    "\n",
    "def get_rank(paragraph, output, rank_re=rank_re):\n",
    "    # Get Rank\n",
    "    rank = re.search(rank_re, paragraph)\n",
    "    if not rank:\n",
    "        print ('no rank..')\n",
    "        print (paragraph)\n",
    "    else:\n",
    "        output['Rank'] = rank.group()\n",
    "    return output\n",
    "\n",
    "def get_location(paragraph, output, rank_re=rank_re):\n",
    "    chunks = re.split(rank_re, paragraph)\n",
    "    if len(chunks) < 2:\n",
    "        print ('no location...')\n",
    "        print (chunks)\n",
    "    else:\n",
    "        if chunks > 2:\n",
    "            chunks = chunks[:2]\n",
    "\n",
    "        name_state_city_chunk, rest = chunks\n",
    "        chunks = name_state_city_chunk.split(' at ')\n",
    "        if len(chunks) == 3:\n",
    "            name_state_city_chunk = chunks[2]\n",
    "            name_state_city_chunks  = name_state_city_chunk.split(',')\n",
    "            if len(name_state_city_chunks) >= 1:\n",
    "                output['City'] = name_state_city_chunks[0]\n",
    "                if len(name_state_city_chunks) >= 2:\n",
    "                    if 'State' not in output:\n",
    "                        output['State'] = name_state_city_chunks[1]\n",
    "                    if len(name_state_city_chunks) == 3:\n",
    "                        if 'Country' not in output:\n",
    "                            output['Country'] = \"\".join(name_state_city_chunks[1:])\n",
    "    return output\n",
    "\n",
    "def get_name(paragraph, output, rank_re=rank_re):    \n",
    "    ##### Get Person\n",
    "    chunks = paragraph.split(\", United States Army\")\n",
    "    if len(chunks) == 2:\n",
    "        chunks = re.split(rank_re, chunks[0])\n",
    "        if len(chunks) == 2:\n",
    "            output['Name'] = chunks[1]\n",
    "    else:\n",
    "        chunks = re.split(\"was convicted|was acquitted\", paragraph)\n",
    "        if len(chunks) == 2:\n",
    "            chunks = re.split(rank_re, chunks[0])\n",
    "            if len(chunks) == 2:\n",
    "                output['Name'] = chunks[1]\n",
    "        \n",
    "    if 'Name' not in output:\n",
    "        print('Name not found...')\n",
    "        print(paragraph)\n",
    "\n",
    "    return output\n",
    "\n",
    "def get_described_offense(paragraph, output):\n",
    "    chunks = re.split('convicted|acquitted', paragraph)\n",
    "    if len(chunks) >= 2:\n",
    "        chunks = chunks[1].split('violation')\n",
    "        if len(chunks) < 2:\n",
    "            chunks = chunks[0].split('.')\n",
    "        output['Offense Description'] = chunks[0]\n",
    "\n",
    "    if 'Offense Description' not in output:\n",
    "        print( 'no described offense')\n",
    "        print (paragraph)\n",
    "\n",
    "    return output\n",
    "\n",
    "def get_article_offense(paragraph, output):\n",
    "    ### Offense \n",
    "    offense = re.search('Article.* UCMJ', paragraph)\n",
    "    if offense:\n",
    "        output['Offense'] = offense.group()\n",
    "    elif 'article' in paragraph.lower():\n",
    "        chunk = paragraph.lower().split('article')[1]\n",
    "        if 'UCMJ' in chunk:\n",
    "            output['Offense'] = 'Article(s) %s UCMJ' % chunk.split('UCMJ')[0]\n",
    "        else:\n",
    "            output['Offense'] = 'Article(s) %s UCMJ' % chunk.split('.')[0]\n",
    "    \n",
    "    if 'Offense' not in output:\n",
    "        print('Article offense not found...')\n",
    "        print (paragraph)\n",
    "        \n",
    "    return output\n",
    "\n",
    "def get_conviction(paragraph, output):\n",
    "    ## conviction\n",
    "    if ('acquitted' in paragraph):\n",
    "        output['Conclusion'] = 'not guilty'\n",
    "        \n",
    "    elif ('pleaded guilty' in paragraph) or ('pled guilty' in paragraph):\n",
    "        output['Conclusion'] = 'guilty'\n",
    "\n",
    "    elif ('convicted' in paragraph):\n",
    "        output['Conclusion'] = 'guilty'\n",
    "    return output\n",
    "\n",
    "def get_sentence(paragraph, output):\n",
    "    if 'sentence' in paragraph:\n",
    "        chunks = re.split('sentenced|sentence', paragraph)\n",
    "        if len(chunks) >= 2:\n",
    "            output['Sentence'] = chunks[1].split('.')[0]\n",
    "    \n",
    "    if ('Sentence' not in output) and (output.get('Conclusion') == 'guilty'):\n",
    "        print('no sentence...')\n",
    "        print (paragraph)\n",
    "    return output\n",
    "\n",
    "def cleanup(paragraph, output):\n",
    "    for k, v in output.items():\n",
    "        output[k] = v.strip()\n",
    "\n",
    "    # clean up state/country\n",
    "    if output.get('Country') in states:\n",
    "        output['Country'] = 'USA'\n",
    "    \n",
    "    return output"
   ]
  },
  {
   "cell_type": "code",
   "execution_count": 526,
   "metadata": {
    "scrolled": true
   },
   "outputs": [
    {
     "name": "stdout",
     "output_type": "stream",
     "text": [
      "----------------------------------\n",
      "processing April 2015.pdf...\n",
      "----------------------------------\n",
      "no sentence...\n",
      "31 March 2015, at a general court-martial convened at Kaiserslautern, Germany, PFC Terrance L. Gaddy, United States Army, was convicted by a military judge of one specification of rape, seven specifications of sexual assault, and one specification of indecent exposure in violation of Articles 120 and 120c, UCMJ.\n",
      "no rank..\n",
      "01 April 2015, the military judge sentenced the accused to be confined for 14 years and to be discharged from the service with a dishonorable discharge.\n",
      "no location...\n",
      "[u'01 April 2015, the military judge sentenced the accused to be confined for 14 years and to be discharged from the service with a dishonorable discharge.']\n",
      "Name not found...\n",
      "01 April 2015, the military judge sentenced the accused to be confined for 14 years and to be discharged from the service with a dishonorable discharge.\n",
      "no described offense\n",
      "01 April 2015, the military judge sentenced the accused to be confined for 14 years and to be discharged from the service with a dishonorable discharge.\n",
      "Article offense not found...\n",
      "01 April 2015, the military judge sentenced the accused to be confined for 14 years and to be discharged from the service with a dishonorable discharge.\n",
      "\n",
      "\n",
      "----------------------------------\n",
      "processing April 2016.pdf...\n",
      "----------------------------------\n",
      "Name not found...\n",
      "13 April 2016, at a general court-martial convened at Stuttgart, Germany, SFC Jeffrey A. Sinclair, was convicted by a military judge, pursuant to his pleas, of one specification of wrongful use of an anabolic steroid and one specification of wrongful possession of an anabolic steroid in violation of Article 112a, UCMJ.  Contrary to his pleas, the accused was convicted of three specifications of assault consummated by battery in violation of Article 128, UCMJ.  The accused was acquitted of two specifications of child endangerment and one specification of obstruction of justice in violation of Article 134, UCMJ.  The military judge sentenced the accused to be confined for 8 months and to be discharged from the service with a bad-conduct discharge.\n",
      "\n",
      "\n",
      "----------------------------------\n",
      "processing April 2017.pdf...\n",
      "----------------------------------\n",
      "\n",
      "\n",
      "----------------------------------\n",
      "processing August 2015.pdf...\n",
      "----------------------------------\n",
      "\n",
      "\n",
      "----------------------------------\n",
      "processing August 2016 - Courts-Martial Results.pdf...\n",
      "----------------------------------\n",
      "Article offense not found...\n",
      "8 August 2016, at a general court-martial convened at Fort Hood, Texas, SPC Jacob E. Mauermann, United States Army, was convicted by a military judge, pursuant to his pleas, of one specification of sexual abuse of a child. The military judge sentenced the accused to be reduced to the grade of E-1, to forfeit all pay and allowances, to be confined for 9 months, and to be discharged from the service with a bad-conduct discharge. As part of an offer to plead guilty, a pretrial agreement limited confinement to 5 months.\n",
      "Article offense not found...\n",
      "31 August 2016, at a general court-martial convened at JBSA Fort Sam Houston, Texas, CPT Robert C. Brand, United States Army, was convicted by a military judge, contrary to his pleas, of two specifications of absence without leave, one specification of willfully disobeying the lawful order of a superior commissioned officer, one specification of disobeying the lawful order of a police officer, one specification of resisting apprehension, and one specification of wrongful use of methamphetamines.  The accused was acquitted of one specification of fleeing apprehension, one specification of wrongful use of methamphetamines, and one specification of assaulting a police officer.  The military judge sentenced the accused to be reprimanded and to be confined for 3 months.\n",
      "\n",
      "\n",
      "----------------------------------\n",
      "processing August 2017 - Courts-Martial Results.docx...\n",
      "----------------------------------\n",
      "\n",
      "\n",
      "----------------------------------\n",
      "processing December 2014.pdf...\n",
      "----------------------------------\n",
      "\n",
      "\n",
      "----------------------------------\n",
      "processing December 2015.pdf...\n",
      "----------------------------------\n",
      "\n",
      "\n",
      "----------------------------------\n",
      "processing December 2016.pdf...\n",
      "----------------------------------\n",
      "\n",
      "\n",
      "----------------------------------\n",
      "processing December 2017 - Court-Martial Results.pdf...\n",
      "----------------------------------\n",
      "\n",
      "\n",
      "----------------------------------\n",
      "processing February 2015.pdf...\n",
      "----------------------------------\n",
      "\n",
      "\n",
      "----------------------------------\n",
      "processing February 2016.pdf...\n",
      "----------------------------------\n",
      "Name not found...\n",
      "29 February 2016, at a special court-martial convened at Fort Sill, Oklahoma, SPC Khristopher M. Villar, Untied States Army, was convicted by a military judge, pursuant to his pleas, of three specifications of assault consummated by battery and two specifications of indecent language in violation of Articles 128 and 134, UCMJ.  The accused was acquitted of two specifications of abusive sexual contact in violation of Article 120, UCMJ.  The military judge sentenced the accused to be reduced to the grade of E-1 and to be discharged from the service with a bad-conduct discharge.  Fourth Judicial Circuit\n",
      "\n",
      "\n",
      "----------------------------------\n",
      "processing February 2017.pdf...\n",
      "----------------------------------\n",
      "Name not found...\n",
      "15 February 2017, at a general court-martial convened at Fort Knox, Kentucky, a Sergeant was acquitted by a military judge of one specification of communicating a threat in violation of Article 134, UCMJ.  The accused was acquitted by a military panel composed of officer and enlisted members of one specification of sexual abuse of a child and one specification of assault consummated by a battery in violation of Articles 120 and 128, UCMJ.\n",
      "\n",
      "\n",
      "----------------------------------\n",
      "processing January 2015.pdf...\n",
      "----------------------------------\n",
      "Article offense not found...\n",
      "22 January 2015, at a general court-martial convened at Fort Shafter, Hawaii, SPC Jesus M. Rodriguez, United States Army, was convicted by military judge of two specifications of sexual abuse of a child under the age of 16 years-old by making lewd statements towards the child.  The military judge sentenced the accused to be reduced 8       \f",
      "to the grade of E-1, to forfeit all pay and allowances, to be confined for 1 year, and to be discharged from the service with a bad-conduct discharge.\n",
      "\n",
      "\n",
      "----------------------------------\n",
      "processing January 2016.pdf...\n",
      "----------------------------------\n",
      "\n",
      "\n",
      "----------------------------------\n",
      "processing January 2017.pdf...\n",
      "----------------------------------\n",
      "\n",
      "\n",
      "----------------------------------\n",
      "processing July 2015.pdf...\n",
      "----------------------------------\n",
      "\n",
      "\n",
      "----------------------------------\n",
      "processing July 2016 - Courts-Martial Results.pdf...\n",
      "----------------------------------\n",
      "\n",
      "\n",
      "----------------------------------\n",
      "processing July 2017 - FINAL Courts-Martial Results.pdf...\n",
      "----------------------------------\n",
      "\n",
      "\n",
      "----------------------------------\n",
      "processing June 2015.pdf...\n",
      "----------------------------------\n",
      "Article offense not found...\n",
      "01 June 2015, at a general court-martial convened at Fort Bragg, North Carolina, SPC Jose L. Cuellar, United States Army, was convicted by a military judge of one specification of possession of child pornography.  The military judge sentenced the accused to be reduced to the grade of E-1, to be confined for 31 months, and to be discharged from the service with a dishonorable discharge.\n",
      "\n",
      "\n",
      "----------------------------------\n",
      "processing June 2016.pdf...\n",
      "----------------------------------\n",
      "Name not found...\n",
      "16 June 2016, at a general court-martial convened at Fort Knox, Kentucky, SFC Aaron D. Jesko was convicted by a military judge, pursuant to his pleas, of one specification of aggravated sexual assault and two specifications of assault consummated by a battery in violation of Articles 120 and 128, UCMJ.  Contrary to his pleas, the accused was convicted of two specifications of rape, one specification of aggravated sexual assault, and one specification of assault consummated by a battery in violation of Articles 120 and 128, UCMJ.  The accused was acquitted of one specification of rape, one specification of sexual assault, two specifications of aggravated assault, and three specifications of assault consummated by a battery in   1 \f",
      " Second Judicial Circuit violation of Articles 120 and 128, UCMJ.  The military judge sentenced the accused to be reduced to the grade of E-1, to forfeit all pay and allowances, to be confined for 18 years, and to be discharged from the service with a dishonorable discharge.  As part of an offer to plead guilty, a pretrial agreement limited confinement to 12 years.\n"
     ]
    },
    {
     "name": "stdout",
     "output_type": "stream",
     "text": [
      "Name not found...\n",
      "30 June 2016, at a special court-martial convened at Joint Base Lewis-McChord, Washington, SPC Maryanaliza R.\n",
      "no described offense\n",
      "30 June 2016, at a special court-martial convened at Joint Base Lewis-McChord, Washington, SPC Maryanaliza R.\n",
      "Article offense not found...\n",
      "30 June 2016, at a special court-martial convened at Joint Base Lewis-McChord, Washington, SPC Maryanaliza R.\n",
      "no rank..\n",
      "g-Lynch, United States Army, was convicted by a military judge, pursuant to her plea, of one specification of false official statement in violation of Article 107, UCMJ.  The accused was acquitted of one specification of dereliction of duty and one specification of violating a lawful general regulation in violation of Article 92, UCMJ.  The military judge sentenced the accused to be reduced to the grade of E-3.\n",
      "no location...\n",
      "[u'g-Lynch, United States Army, was convicted by a military judge, pursuant to her plea, of one specification of false official statement in violation of Article 107, UCMJ.  The accused was acquitted of one specification of dereliction of duty and one specification of violating a lawful general regulation in violation of Article 92, UCMJ.  The military judge sentenced the accused to be reduced to the grade of E-3.']\n",
      "Name not found...\n",
      "g-Lynch, United States Army, was convicted by a military judge, pursuant to her plea, of one specification of false official statement in violation of Article 107, UCMJ.  The accused was acquitted of one specification of dereliction of duty and one specification of violating a lawful general regulation in violation of Article 92, UCMJ.  The military judge sentenced the accused to be reduced to the grade of E-3.\n",
      "\n",
      "\n",
      "----------------------------------\n",
      "processing June 2017 - Courts-Martial Results FINAL.DOCX...\n",
      "----------------------------------\n",
      "no rank..\n",
      "16 June 2017, at a special court-martial convened at Ansbach, Germany SFC\n",
      "no location...\n",
      "[u'16 June 2017, at a special court-martial convened at Ansbach, Germany SFC']\n",
      "Name not found...\n",
      "16 June 2017, at a special court-martial convened at Ansbach, Germany SFC\n",
      "no described offense\n",
      "16 June 2017, at a special court-martial convened at Ansbach, Germany SFC\n",
      "Article offense not found...\n",
      "16 June 2017, at a special court-martial convened at Ansbach, Germany SFC\n",
      "no rank..\n",
      "tego D. Straight, United States Army, was convicted by a military panel composed of officers and enlisted members, contrary to his pleas, of one specification of attempted larceny, one specification of conspiracy to commit larceny, and one specification of false official statement in violation of Articles 80, 81, and 107, UCMJ.  The members sentenced the accused to be reduced to the grade of E-6.\n",
      "no location...\n",
      "[u'tego D. Straight, United States Army, was convicted by a military panel composed of officers and enlisted members, contrary to his pleas, of one specification of attempted larceny, one specification of conspiracy to commit larceny, and one specification of false official statement in violation of Articles 80, 81, and 107, UCMJ.  The members sentenced the accused to be reduced to the grade of E-6.']\n",
      "Name not found...\n",
      "tego D. Straight, United States Army, was convicted by a military panel composed of officers and enlisted members, contrary to his pleas, of one specification of attempted larceny, one specification of conspiracy to commit larceny, and one specification of false official statement in violation of Articles 80, 81, and 107, UCMJ.  The members sentenced the accused to be reduced to the grade of E-6.\n",
      "\n",
      "\n",
      "----------------------------------\n",
      "processing March 2015.pdf...\n",
      "----------------------------------\n",
      "\n",
      "\n",
      "----------------------------------\n",
      "processing March 2016.pdf...\n",
      "----------------------------------\n",
      "\n",
      "\n",
      "----------------------------------\n",
      "processing March 2017.pdf...\n",
      "----------------------------------\n",
      "Name not found...\n",
      "30 March 2017, at a general court-martial convened at Fort Wainwright, Alaska, a Master Sergeant was acquitted by a military judge of two specifications of sexual abuse of a child in violation of Article 120b, UCMJ.  The accused was acquitted by a military panel composed of officer and enlisted members of one specification of attempted sexual abuse of a child, three specifications of sexual abuse of a child, four specifications of abusive sexual contact upon a child, two specifications of indecent liberty with a child, and one specification of indecent act with a child in violation of Articles 80, 120b, and 134, UCMJ.\n",
      "\n",
      "\n",
      "----------------------------------\n",
      "processing May 2015.pdf...\n",
      "----------------------------------\n",
      "\n",
      "\n",
      "----------------------------------\n",
      "processing May 2016.pdf...\n",
      "----------------------------------\n",
      "Article offense not found...\n",
      "24 May 2016, at a special court-martial convened at Fort Hood, Texas, PV2 Jeremy A. Neeley, United States Army, was convicted by a military judge, pursuant to his plea, of one specification of desertion terminated by apprehension.  The military judge sentenced the accused to be discharged from the service with a bad-conduct discharge.\n",
      "\n",
      "\n",
      "----------------------------------\n",
      "processing May 2017.pdf...\n",
      "----------------------------------\n",
      "\n",
      "\n",
      "----------------------------------\n",
      "processing November 2014.pdf...\n",
      "----------------------------------\n",
      "Article offense not found...\n",
      "4 November 2014, at a General Court Martial convened at Camp Casey, Republic of Korea, SSG Christopher W. Vance, United Sates Army, was acquitted by a military panel consisting of officer and enlisted members of all charges and specifications.\n",
      "\n",
      "\n",
      "----------------------------------\n",
      "processing November 2015.pdf...\n",
      "----------------------------------\n",
      "\n",
      "\n",
      "----------------------------------\n",
      "processing November 2016.pdf...\n",
      "----------------------------------\n",
      "\n",
      "\n",
      "----------------------------------\n",
      "processing November 2017 - Court-Martial Results.pdf...\n",
      "----------------------------------\n",
      "Name not found...\n",
      "20 November 2017, at a special court-martial convened at Camp Casey, Korea, SFC Jaime Soto, was convicted by a military judge, contrary to his pleas, of one specification of disrespect toward a superior commissioned officer, one specification of assault of a superior commissioned officer, one specification of assault of a superior noncommissioned officer, two specifications of assault consummated by a battery, and one specification of drunk and disorderly conduct, in violation of Articles 89, 90, 91, 128, and 134, UCMJ. The accused was acquitted of one specification of abusive sexual 4 \f",
      "contact, in violation of Article 120, UCMJ. The military judge sentence the accused to be reprimanded and to be reduced to the grade of E-6.\n",
      "\n",
      "\n",
      "----------------------------------\n",
      "processing October 2014.pdf...\n",
      "----------------------------------\n",
      "Article offense not found...\n",
      "8 October 2014, at a General Court-Martial at Fort Bragg, North Carolina, SGT Bradley D. Allen, United States Army, was acquitted of three specifications of aggravated sexual contact of a child and one specification of failure to obey a superior officer's lawful order.\n",
      "Article offense not found...\n",
      "17 October 2014, at a General Court-Martial at Fort Bragg, North Carolina, SPC Tyler R. Barr, United States Army, was convicted by a Military Judge of one specification of conspiracy to sell military property of a value of more than $500.00; three specifications of selling military property of a value of more than $500.00; two specifications of selling military property of a value of $500.00 or less; one specification of larceny of military property of a value of more than $500.00; and two specifications of wrongful appropriation of a value of $500.00 or less.  The Military Judge sentenced the accused to be reduced to the grade of E-1, to be confined for 2 years, and to be discharged from the service with a bad-conduct discharge.\n",
      "Article offense not found...\n",
      "22 October 2014, at a General Court-Martial at Fort Bragg, North Carolina, PV2 Anthony T. Gardner, United States Army, was convicted by a Military Judge of one specification of aggravated sexual assault, one specification of abusive sexual contact, one specification of attempting to willfully disobey the lawful order of a superior commissioned officer, one specification of willfully disobeying the lawful order of a superior commissioned officer; and one specification of attempting to obstruct justice.  The Military Judge sentenced the accused to be reduced to the grade of E-1, to be confined for 12 months, and to be discharged from the service with a bad-conduct discharge.\n",
      "no described offense\n",
      "7 October 2014, at a General Court-Martial at Fort Hood, Texas, PFC James Merritt, United States Army, pled not guilty and was found guilty of one specification of wrongful use of a controlled substance, in violation of Article 112a, UCMJ.  The Accused also pled not guilty and was found not guilty of aggravated sexual contact with a child, abusive sexual contact with a child (2 specifications), indecent liberties with a child, attempted aggravated sexual abuse of a child, assault, and wrongfully providing a person under the age of 21 alcohol in order to facilitate the commission of wrongful sexual contact, in 4 \f",
      "violation of Articles 80, 120, and 134, UCMJ.  The Accused was sentenced to be reduced to E-2 and to 15 days of extra duty.\n"
     ]
    },
    {
     "name": "stdout",
     "output_type": "stream",
     "text": [
      "no described offense\n",
      "8 October 2014, at a General Court-Martial at Fort Hood, Texas, PV2 Kristian S. Lamb, United States Army, pled not guilty to and was found guilty by a Military Judge of attempted larceny, burning with an intent to defraud, and obstructing justice in violation of Articles 80 and 134, UCMJ.  The Accused was sentenced to be reduced to the grade of E-1, to be confined for 5 months, and to be discharged from the service with a bad-conduct discharge.\n",
      "no described offense\n",
      "17 October 2014, at a Special Court-Martial at Fort Leonard Wood, Missouri, SFC Richard M. Miller, United States Army, an AIT instructor, pled guilty before a Military Judge to two specifications of Article 92 - Failure to obey order or regulation (wrongfully engaging in conduct of a sexual nature with a trainee and wrongfully \"friending\" a trainee on Facebook).  The members of an enlisted panel sentenced him to be reduced to the grade of E-5, to perform hard labor without confinement for 90 days, and to be reprimanded.\n",
      "Article offense not found...\n",
      "2 October 2014, at a General Court-Martial at Joint Base Lewis-McChord, Washington, SPC Phillip A. James, United States Army, was convicted by a Military Judge of two specifications of Assault Consummated by Battery in violation of UCMJ Art. 128, and one specification of Adultery in violation of UCMJ Art. 134. The Military Judge sentenced the accused to be confined for 8 months and to be discharged from the service with a bad-conduct discharge.\n",
      "Article offense not found...\n",
      "14 October 2014, at a Special Court-Martial at Fort Bliss, Texas, PVT Evan M. Musgrove, United States Army, was convicted by a Military Judge of making a false official statement, wrongful solicitation of another to commit an offense, and wrongful concealment of stolen property.  The accused was sentenced to be confined for 90 days and to be discharged from the service with a bad-conduct discharge.\n",
      "Article offense not found...\n",
      "22 October 2014, at a General Court-Martial at Fort Bliss, Texas, SPC Justin P. Swift, United States Army, was convicted by a Military Judge of two specifications of indecent acts with a child.  The accused was sentenced to be reduced to the grade of E-1, to be confined for 11 years, and to be discharged from the service with a dishonorable discharge.\n",
      "Article offense not found...\n",
      "31 October 2014, at a Special Court-Martial at Fort Bliss, Texas, PFC Henry C. Hoeft, United States Army, was convicted by a Military Judge of larceny, false official statement, and wearing unauthorized insignia.  The Military Judge sentenced the accused to confinement for 5 months and a bad-conduct discharge.  Fifth Judicial Circuit\n",
      "\n",
      "\n",
      "----------------------------------\n",
      "processing October 2015.pdf...\n",
      "----------------------------------\n",
      "no sentence...\n",
      "30 September 2015, at a general court-martial convened at Fort Stewart, Georgia,  SSG Eric Bjorklund, United States Army, was convicted by a military panel composed of officer and enlisted members, contrary to his pleas, of one specification of assault consummated by battery upon a child and one specification of child endangerment in violation of Articles 128 and 134, UCMJ.\n",
      "no rank..\n",
      "01 October 2015, the members sentenced the accused to be reduced to the grade of E-4 and to be confined for 30 days.\n",
      "no location...\n",
      "[u'01 October 2015, the members sentenced the accused to be reduced to the grade of E-4 and to be confined for 30 days.']\n",
      "Name not found...\n",
      "01 October 2015, the members sentenced the accused to be reduced to the grade of E-4 and to be confined for 30 days.\n",
      "no described offense\n",
      "01 October 2015, the members sentenced the accused to be reduced to the grade of E-4 and to be confined for 30 days.\n",
      "Article offense not found...\n",
      "01 October 2015, the members sentenced the accused to be reduced to the grade of E-4 and to be confined for 30 days.\n",
      "\n",
      "\n",
      "----------------------------------\n",
      "processing October 2016.pdf...\n",
      "----------------------------------\n",
      "\n",
      "\n",
      "----------------------------------\n",
      "processing October 2017 - Court-Martial Results.pdf...\n",
      "----------------------------------\n",
      "no rank..\n",
      "13 October 2017, at a special court-martial convened at Fort Leavenworth, Kansas, Inmate John Yang, was convicted by a military judge, contrary to his plea, of one specification of assault consummated by a battery, in violation of Article 128, UCMJ. The military judge sentenced the accused to be confined for 45 days.\n",
      "no location...\n",
      "[u'13 October 2017, at a special court-martial convened at Fort Leavenworth, Kansas, Inmate John Yang, was convicted by a military judge, contrary to his plea, of one specification of assault consummated by a battery, in violation of Article 128, UCMJ. The military judge sentenced the accused to be confined for 45 days.']\n",
      "Name not found...\n",
      "13 October 2017, at a special court-martial convened at Fort Leavenworth, Kansas, Inmate John Yang, was convicted by a military judge, contrary to his plea, of one specification of assault consummated by a battery, in violation of Article 128, UCMJ. The military judge sentenced the accused to be confined for 45 days.\n",
      "\n",
      "\n",
      "----------------------------------\n",
      "processing September 2015.pdf...\n",
      "----------------------------------\n",
      "\n",
      "\n",
      "----------------------------------\n",
      "processing September 2016 - Courts-Martial Results.pdf...\n",
      "----------------------------------\n",
      "\n",
      "\n",
      "----------------------------------\n",
      "processing September 2017 - Court-Martial Results.docx...\n",
      "----------------------------------\n",
      "\n",
      "\n"
     ]
    }
   ],
   "source": [
    "data_dir = '../data/raw-army-pdfs/'\n",
    "df_list = []\n",
    "for document in os.listdir(data_dir):\n",
    "\n",
    "    # naming...\n",
    "    print('----------------------------------')\n",
    "    print('processing %s...' % document)\n",
    "    print('----------------------------------')\n",
    "    fp= data_dir + document\n",
    "    text = textract.process(fp)\n",
    "    court_martial=unicode(text, encoding='utf-8').split('On')[1:]\n",
    "    for idx, paragraph in enumerate(court_martial):\n",
    "        output = {}\n",
    "        output['Document'] = document\n",
    "        output['paragraph'] = paragraph\n",
    "        paragraph= clean_paragraph(paragraph)\n",
    "        output = get_date_and_location(paragraph, output)    \n",
    "        output = get_gender(paragraph, output)\n",
    "        output = get_rank(paragraph, output)\n",
    "        output = get_location(paragraph, output)\n",
    "        output = get_name(paragraph, output)\n",
    "        output = get_described_offense(paragraph, output)\n",
    "        output = get_article_offense(paragraph, output)\n",
    "        output = get_conviction(paragraph, output)\n",
    "        output = get_sentence(paragraph, output)\n",
    "        output = cleanup(paragraph, output)\n",
    "        df_list.append(output)\n",
    "\n",
    "    print()\n",
    "    print()"
   ]
  },
  {
   "cell_type": "code",
   "execution_count": 522,
   "metadata": {},
   "outputs": [],
   "source": [
    "t_df = pd.DataFrame(df_list)"
   ]
  },
  {
   "cell_type": "code",
   "execution_count": null,
   "metadata": {},
   "outputs": [],
   "source": [
    "t_df.to_csv('../data/ARMY_court_martial_edited.csv', encoding='utf-8')"
   ]
  },
  {
   "cell_type": "code",
   "execution_count": null,
   "metadata": {},
   "outputs": [],
   "source": []
  },
  {
   "cell_type": "code",
   "execution_count": null,
   "metadata": {},
   "outputs": [],
   "source": []
  },
  {
   "cell_type": "code",
   "execution_count": null,
   "metadata": {},
   "outputs": [],
   "source": []
  },
  {
   "cell_type": "code",
   "execution_count": null,
   "metadata": {},
   "outputs": [],
   "source": []
  },
  {
   "cell_type": "code",
   "execution_count": null,
   "metadata": {},
   "outputs": [],
   "source": []
  },
  {
   "cell_type": "code",
   "execution_count": null,
   "metadata": {},
   "outputs": [],
   "source": []
  },
  {
   "cell_type": "code",
   "execution_count": null,
   "metadata": {},
   "outputs": [],
   "source": []
  },
  {
   "cell_type": "code",
   "execution_count": null,
   "metadata": {},
   "outputs": [],
   "source": []
  },
  {
   "cell_type": "code",
   "execution_count": null,
   "metadata": {},
   "outputs": [],
   "source": []
  },
  {
   "cell_type": "code",
   "execution_count": null,
   "metadata": {},
   "outputs": [],
   "source": []
  },
  {
   "cell_type": "code",
   "execution_count": null,
   "metadata": {},
   "outputs": [],
   "source": []
  },
  {
   "cell_type": "code",
   "execution_count": null,
   "metadata": {},
   "outputs": [],
   "source": []
  },
  {
   "cell_type": "code",
   "execution_count": null,
   "metadata": {},
   "outputs": [],
   "source": []
  },
  {
   "cell_type": "code",
   "execution_count": null,
   "metadata": {},
   "outputs": [],
   "source": []
  },
  {
   "cell_type": "code",
   "execution_count": null,
   "metadata": {},
   "outputs": [],
   "source": []
  },
  {
   "cell_type": "code",
   "execution_count": null,
   "metadata": {},
   "outputs": [],
   "source": []
  },
  {
   "cell_type": "code",
   "execution_count": null,
   "metadata": {},
   "outputs": [],
   "source": []
  },
  {
   "cell_type": "code",
   "execution_count": null,
   "metadata": {},
   "outputs": [],
   "source": []
  }
 ],
 "metadata": {
  "anaconda-cloud": {},
  "hide_code_all_hidden": false,
  "kernelspec": {
   "display_name": "Python 2",
   "language": "python",
   "name": "python2"
  },
  "language_info": {
   "codemirror_mode": {
    "name": "ipython",
    "version": 2
   },
   "file_extension": ".py",
   "mimetype": "text/x-python",
   "name": "python",
   "nbconvert_exporter": "python",
   "pygments_lexer": "ipython2",
   "version": "2.7.13"
  }
 },
 "nbformat": 4,
 "nbformat_minor": 1
}
