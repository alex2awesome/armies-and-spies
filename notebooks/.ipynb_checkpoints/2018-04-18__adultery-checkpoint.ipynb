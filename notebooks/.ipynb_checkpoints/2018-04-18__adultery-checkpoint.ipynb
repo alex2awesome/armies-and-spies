{
 "cells": [
  {
   "cell_type": "code",
   "execution_count": 1,
   "metadata": {},
   "outputs": [],
   "source": [
    "import pandas as pd "
   ]
  },
  {
   "cell_type": "code",
   "execution_count": 4,
   "metadata": {},
   "outputs": [],
   "source": [
    "summary = pd.read_csv('summary_full.csv', index_col=0)"
   ]
  },
  {
   "cell_type": "code",
   "execution_count": 12,
   "metadata": {},
   "outputs": [
    {
     "data": {
      "text/plain": [
       "False    5091\n",
       "True      215\n",
       "Name: Paragraph, dtype: int64"
      ]
     },
     "execution_count": 12,
     "metadata": {},
     "output_type": "execute_result"
    }
   ],
   "source": [
    "summary['Paragraph'].fillna('').apply(lambda x: x.lower()).apply(lambda x: 'adultery' in x).value_counts()"
   ]
  },
  {
   "cell_type": "code",
   "execution_count": 13,
   "metadata": {},
   "outputs": [
    {
     "data": {
      "text/plain": [
       "33        at jb san antonio-lackland,  tx,  technical ...\n",
       "169       at charleston afb,  sc,  staff sergeant jose...\n",
       "248       at sheppard afb,  tx,  staff sergeant micah ...\n",
       "777     02 april 2015, at a general court-martial conv...\n",
       "786     17 april 2015, at a general court-martial conv...\n",
       "793     24 april 2015, at a general court-martial conv...\n",
       "799     29 april 2015, at a general court-martial conv...\n",
       "807     13 april 2016, at a general court-martial conv...\n",
       "868     23 april 2016, at a general court-martial conv...\n",
       "872     28 april 2016, at a general court-martial conv...\n",
       "909     21 april 2017, at a general court-martial conv...\n",
       "919     12 april 2017, at a general court-martial conv...\n",
       "926     18 april 2017, at a special court-martial conv...\n",
       "938     04 august 2015, at a general court-martial con...\n",
       "940     06 august 2015, at a general court-martial con...\n",
       "965     20 august 2015, at a general court-martial con...\n",
       "1026    01 august 2017, at a special court-martial con...\n",
       "1055    04 december 2014, at a general court-martial c...\n",
       "1127    02 december 2015, at a special court-martial c...\n",
       "1137    21 december 2015, at a general court-martial c...\n",
       "1153    09 december 2016, at a general court-martial c...\n",
       "1155    14 december 2016, at a general court-martial c...\n",
       "1184    14 december 2017, at a general court-martial c...\n",
       "1219    19 february 2015, at a special court-martial c...\n",
       "1259    26 february 2015, at a general court-martial c...\n",
       "1262    28 february 2015, at a general court-martial c...\n",
       "1293    12 february 2016, at a special court-martial c...\n",
       "1305    17 february 2016, at a special court-martial c...\n",
       "1307    23 february 2016, at a general court-martial c...\n",
       "1344    22 february 2017, at a general court-martial c...\n",
       "                              ...                        \n",
       "4003    at a special court-martial at camp pendleton, ...\n",
       "4024     general court-martial in san diego, californi...\n",
       "4027     special court-martial in san diego, californi...\n",
       "4107     general court-martial in pearl harbor, hawaii...\n",
       "4110     special court-martial onboard naval base guam...\n",
       "4153     special court-martial in pensacola, florida, ...\n",
       "4205     special court-martial in naples, italy, abhc ...\n",
       "4226     general court-martial in naples, italy, an e-...\n",
       "4279     general court-martial in bremerton, washingto...\n",
       "4295     special court-martial in bremerton, washingto...\n",
       "4365     special court-martial in washington, d.c., hm...\n",
       "4428     special court-martial in jacksonville, florid...\n",
       "4507     general court-martial in pearl harbor, hawaii...\n",
       "4604     general court-martial in san diego, californi...\n",
       "4605     general court-martial in san diego, californi...\n",
       "4611     general court-martial in yokosuka, japan, hmc...\n",
       "4614     general court-martial in washington, d.c., cs...\n",
       "4637     general court-martial in san diego, californi...\n",
       "4677     special court-martial in norfolk, virginia, m...\n",
       "4749     general court-martial in pearl harbor, hawaii...\n",
       "4795     special court-martial in groton, connecticut,...\n",
       "4809     special court-martial in sigonella, italy, cm...\n",
       "5036     special court-martial in norfolk, virginia, a...\n",
       "5056     general court-martial in jacksonville, florid...\n",
       "5079     general court-martial in great lakes, illinoi...\n",
       "5097     general court-martial in bremerton, washingto...\n",
       "5186     general court-martial in yokosuka, japan, sa ...\n",
       "5192     general court-martial in washington, d.c., os...\n",
       "5265     general court-martial in norfolk, virginia, c...\n",
       "5296     general court-martial in lemoore, california,...\n",
       "Name: Paragraph, Length: 215, dtype: object"
      ]
     },
     "execution_count": 13,
     "metadata": {},
     "output_type": "execute_result"
    }
   ],
   "source": [
    "summary['Paragraph'].fillna('').apply(lambda x: x.lower()).pipe(lambda df: df[df.apply(lambda x: 'adultery' in x)])"
   ]
  },
  {
   "cell_type": "code",
   "execution_count": null,
   "metadata": {},
   "outputs": [],
   "source": []
  }
 ],
 "metadata": {
  "anaconda-cloud": {},
  "kernelspec": {
   "display_name": "Python 2",
   "language": "python",
   "name": "python2"
  },
  "language_info": {
   "codemirror_mode": {
    "name": "ipython",
    "version": 2
   },
   "file_extension": ".py",
   "mimetype": "text/x-python",
   "name": "python",
   "nbconvert_exporter": "python",
   "pygments_lexer": "ipython2",
   "version": "2.7.13"
  }
 },
 "nbformat": 4,
 "nbformat_minor": 1
}
