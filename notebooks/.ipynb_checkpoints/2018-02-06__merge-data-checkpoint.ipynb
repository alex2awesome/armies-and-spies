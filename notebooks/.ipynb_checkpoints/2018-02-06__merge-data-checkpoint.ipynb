{
 "cells": [
  {
   "cell_type": "code",
   "execution_count": 1,
   "metadata": {},
   "outputs": [],
   "source": [
    "import pandas as pd"
   ]
  },
  {
   "cell_type": "code",
   "execution_count": 3,
   "metadata": {},
   "outputs": [
    {
     "name": "stdout",
     "output_type": "stream",
     "text": [
      "SAPRO_13_all.xlsx  SAPRO_16_all.xlsx  \u001b[34mSAPRO_2015\u001b[m\u001b[m/        \u001b[34mmisc\u001b[m\u001b[m/\r\n",
      "SAPRO_14_all.xlsx  \u001b[34mSAPRO_2013\u001b[m\u001b[m/        \u001b[34mSAPRO_2016\u001b[m\u001b[m/\r\n",
      "SAPRO_15_all.xlsx  \u001b[34mSAPRO_2014\u001b[m\u001b[m/        SAPRO_all.xlsx\r\n"
     ]
    }
   ],
   "source": [
    "ls ../data/sapro/SAPRO\\ Annual\\ Reports"
   ]
  },
  {
   "cell_type": "code",
   "execution_count": 8,
   "metadata": {},
   "outputs": [],
   "source": [
    "! open ../data/sapro/SAPRO\\ Annual\\ Reports/SAPRO_2013/SAPRO_charts_airforce_13.pdf"
   ]
  },
  {
   "cell_type": "code",
   "execution_count": null,
   "metadata": {},
   "outputs": [],
   "source": []
  }
 ],
 "metadata": {
  "anaconda-cloud": {},
  "kernelspec": {
   "display_name": "Python 2",
   "language": "python",
   "name": "python2"
  },
  "language_info": {
   "codemirror_mode": {
    "name": "ipython",
    "version": 2
   },
   "file_extension": ".py",
   "mimetype": "text/x-python",
   "name": "python",
   "nbconvert_exporter": "python",
   "pygments_lexer": "ipython2",
   "version": "2.7.13"
  }
 },
 "nbformat": 4,
 "nbformat_minor": 1
}
