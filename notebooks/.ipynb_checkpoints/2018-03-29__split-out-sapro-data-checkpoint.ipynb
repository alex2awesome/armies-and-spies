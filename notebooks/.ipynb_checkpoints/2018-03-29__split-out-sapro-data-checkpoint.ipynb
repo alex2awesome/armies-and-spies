{
 "cells": [
  {
   "cell_type": "code",
   "execution_count": 104,
   "metadata": {},
   "outputs": [],
   "source": [
    "import pandas as pd \n",
    "import re\n",
    "from glob import glob\n",
    "import random\n",
    "import numpy as np\n",
    "import copy"
   ]
  },
  {
   "cell_type": "code",
   "execution_count": 103,
   "metadata": {},
   "outputs": [],
   "source": [
    "sapro_full = pd.read_excel('sapro_full.xlsx')"
   ]
  },
  {
   "cell_type": "code",
   "execution_count": 105,
   "metadata": {},
   "outputs": [],
   "source": [
    "index_c = copy.copy(list(sapro_full.index))\n",
    "np.random.shuffle(index_c)"
   ]
  },
  {
   "cell_type": "code",
   "execution_count": 106,
   "metadata": {},
   "outputs": [],
   "source": [
    "sapro_shuffelled = sapro_full.loc[index_c].reset_index(drop=True).copy()"
   ]
  },
  {
   "cell_type": "code",
   "execution_count": 107,
   "metadata": {},
   "outputs": [],
   "source": [
    "chunk_size = len(sapro_shuffelled) / 20"
   ]
  },
  {
   "cell_type": "code",
   "execution_count": 108,
   "metadata": {},
   "outputs": [],
   "source": [
    "chunks = range(0, len(sapro_shuffelled), chunk_size)[:-1] + [8365]\n",
    "chunks = zip(chunks[:-1], chunks[1:])"
   ]
  },
  {
   "cell_type": "code",
   "execution_count": 176,
   "metadata": {},
   "outputs": [],
   "source": [
    "class_data = []\n",
    "for start, stop in chunks:\n",
    "    class_data.append(sapro_shuffelled.iloc[start:stop])"
   ]
  },
  {
   "cell_type": "code",
   "execution_count": 171,
   "metadata": {},
   "outputs": [],
   "source": [
    "rank_mapping = {\n",
    "    \"C-1\":\"O-1\",\n",
    "    \"C-2\":\"O-2\",\n",
    "    \"C-3\":\"O-3\",\n",
    "    \"C-4\":\"O-4\",\n",
    "    \"M-1\":\"W-1\",\n",
    "    \"M-2\":\"W-2\",\n",
    "    \"M-3\":\"W-3\"\n",
    "}"
   ]
  },
  {
   "cell_type": "code",
   "execution_count": 172,
   "metadata": {},
   "outputs": [],
   "source": [
    "sapro_shuffelled['Subject Pay Grade'] = sapro_shuffelled['Subject Pay Grade'].apply(lambda x: rank_mapping[x] if x in rank_mapping else x)"
   ]
  },
  {
   "cell_type": "code",
   "execution_count": 173,
   "metadata": {},
   "outputs": [],
   "source": [
    "ordering = [\"Cadet\", \"E-1\", \"E-2\", \"E-3\", \"E-4\", \"E-5\", \"E-6\", \n",
    " \"E-7\", \"E-8\", \"E-9\", \"W-1\", \"W-2\", \"W-3\", \"W-4\", \"W-5\", \n",
    " \"O-1\", \"O-2\", \"O-3\", \"O-4\", \"O-5\", \"O-6\", \"O-7\", \"O-8\",\n",
    " \"O-9\", \"O-10\",]\n",
    "# ordering ={k:i for i,k in enumerate( )}"
   ]
  },
  {
   "cell_type": "code",
   "execution_count": 174,
   "metadata": {},
   "outputs": [],
   "source": [
    "sapro_shuffelled['Subject Pay Grade'] = (\n",
    "    pd.Categorical(\n",
    "        sapro_shuffelled['Subject Pay Grade'],\n",
    "        ordering\n",
    "    )\n",
    ")"
   ]
  },
  {
   "cell_type": "code",
   "execution_count": 175,
   "metadata": {},
   "outputs": [],
   "source": [
    "sapro_shuffelled['Outcome'] = pd.Categorical(sapro_shuffelled['Outcome'], ['no court-martial', 'not guilty', 'guilty'])"
   ]
  },
  {
   "cell_type": "code",
   "execution_count": null,
   "metadata": {},
   "outputs": [],
   "source": []
  },
  {
   "cell_type": "code",
   "execution_count": null,
   "metadata": {},
   "outputs": [],
   "source": []
  },
  {
   "cell_type": "code",
   "execution_count": null,
   "metadata": {},
   "outputs": [],
   "source": []
  },
  {
   "cell_type": "code",
   "execution_count": null,
   "metadata": {},
   "outputs": [],
   "source": []
  },
  {
   "cell_type": "code",
   "execution_count": 179,
   "metadata": {},
   "outputs": [],
   "source": [
    "# Order by Acquittal (so people see \"Acquittals\" first)\n",
    "# Order by Rank (so people read the convictions of higher-ranks first)\n",
    "# Order by word count (so the lengthier cases are first ... those are more likely to be meaty)\n",
    "\n",
    "def sort_df(df):\n",
    "    df = df.iloc[(df['Case Synopsis Note']\n",
    "          .fillna('')\n",
    "          .apply(len)\n",
    "          .pipe(lambda df: (-df).argsort())\n",
    "         )].copy()\n",
    "    df = df.sort_values('Subject Pay Grade', ascending=False).copy()\n",
    "    df = df.sort_values('Outcome', ascending=True).copy()\n",
    "    return df\n"
   ]
  },
  {
   "cell_type": "code",
   "execution_count": 189,
   "metadata": {},
   "outputs": [
    {
     "data": {
      "text/plain": [
       "(418, 42)"
      ]
     },
     "execution_count": 189,
     "metadata": {},
     "output_type": "execute_result"
    }
   ],
   "source": [
    "class_data[0].shape"
   ]
  },
  {
   "cell_type": "code",
   "execution_count": null,
   "metadata": {},
   "outputs": [],
   "source": []
  },
  {
   "cell_type": "code",
   "execution_count": 184,
   "metadata": {},
   "outputs": [],
   "source": [
    "! mkdir class_data"
   ]
  },
  {
   "cell_type": "code",
   "execution_count": 187,
   "metadata": {},
   "outputs": [],
   "source": [
    "for i, df in enumerate(class_data):\n",
    "    df = sort_df(df).copy()\n",
    "    df.to_excel('class_data/sapro_data_set_%s.xlsx' % str(i) )"
   ]
  },
  {
   "cell_type": "code",
   "execution_count": null,
   "metadata": {},
   "outputs": [],
   "source": []
  }
 ],
 "metadata": {
  "anaconda-cloud": {},
  "kernelspec": {
   "display_name": "Python 2",
   "language": "python",
   "name": "python2"
  },
  "language_info": {
   "codemirror_mode": {
    "name": "ipython",
    "version": 2
   },
   "file_extension": ".py",
   "mimetype": "text/x-python",
   "name": "python",
   "nbconvert_exporter": "python",
   "pygments_lexer": "ipython2",
   "version": "2.7.13"
  }
 },
 "nbformat": 4,
 "nbformat_minor": 1
}
