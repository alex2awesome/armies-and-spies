{
 "cells": [
  {
   "cell_type": "code",
   "execution_count": 2,
   "metadata": {},
   "outputs": [],
   "source": [
    "import pandas as pd \n",
    "from glob import glob"
   ]
  },
  {
   "cell_type": "code",
   "execution_count": 5,
   "metadata": {},
   "outputs": [],
   "source": [
    "sapro = pd.concat([pd.read_excel(f) for f in glob('../data/final_usm_data/sapro/*')])"
   ]
  },
  {
   "cell_type": "code",
   "execution_count": 9,
   "metadata": {},
   "outputs": [
    {
     "data": {
      "text/plain": [
       "Index([u'Administra-\\rtive\\rDischarge\\rType',\n",
       "       u'Administrative\\rDischarge\\rType', u'Administrative\\rDischarge Type',\n",
       "       u'Adverse\\rAdministrative\\rAction\\rType', u'Alcohol\\rUse',\n",
       "       u'Alcohol Use', u'Case\\rDisposition', u'Case Disposition',\n",
       "       u'Case Synopsis Note', u'Confinemen\\rt\\r(Court Only)',\n",
       "       u'Correctional\\rCustody\\r(NJP Only)',\n",
       "       u'Court\\rCase or\\rArticle 15\\rOutcome',\n",
       "       u'Court\\rCase or Article 15\\rOutcome',\n",
       "       u'Court Case or\\rArticle 15 Outcome', u'Court-\\rMartial\\rDischarge',\n",
       "       u'Extra Duty', u'Fines and\\rForfeiture\\rs', u'Hard\\rLabor',\n",
       "       u'Incident\\rLocation', u'Location',\n",
       "       u'Most\\rSerious\\rOffense\\rConvicted',\n",
       "       u'Most\\rSerious\\rOther\\rOffense\\rCharged',\n",
       "       u'Most\\rSerious\\rSexual\\rAssault\\rOffense\\rCharged',\n",
       "       u'Most Serious\\rOffense Charged', u'Most Serious\\rOffense Convicted',\n",
       "       u'Most Serious\\rSexual Assault\\rAllegation\\rSubject is\\rInvestigated\\rFor',\n",
       "       u'Most Serious\\rSexual Assault\\rOffense Charged',\n",
       "       u'Most Serious Other\\rOffense Charged',\n",
       "       u'Most Serious Sexual\\rAssault Allegation\\rSubject is Investigated\\rFor',\n",
       "       u'Must\\rRegister\\ras Sex\\rOffender',\n",
       "       u'Must\\rRegister as\\rSex\\rOffender', u'Must Register as\\rSex Offender',\n",
       "       u'Narrative of the Crime', u'No.', u'Offense\\rAlleged/\\rInvestigated',\n",
       "       u'Quarter\\rDispositio\\rn\\rComplete\\rd',\n",
       "       u'Quarter\\rDisposition\\rCompleted',\n",
       "       u'Reason\\rCharges\\rDismissed\\rat Art 32\\rHearing, if\\rapplicable',\n",
       "       u'Reason Charges\\rDismissed at Art 32\\rHearing, if\\rapplicable',\n",
       "       u'Reason Charges\\rDismissed at Art 32\\rHearing, if\\rapplicable.',\n",
       "       u'Reduction\\rin Rank', u'Restrictio\\rn', u'Subject\\rAffiliation',\n",
       "       u'Subject\\rGender', u'Subject\\rGrade', u'Subject\\rPay\\rGrade',\n",
       "       u'Subject\\rReferral\\rType', u'Subject\\rReferral Type',\n",
       "       u'Subject\\rService', u'Subject Pay\\rGrade',\n",
       "       u'Subject:\\rMoral\\rWaiver\\rAccession?',\n",
       "       u'Subject:\\rMoral\\rWaiver\\rAcession\\r?',\n",
       "       u'Subject:\\rPrior\\rInvesti-\\rgation\\rfor Sex\\rAssault?',\n",
       "       u'Subject:\\rPrior\\rInvestigation\\rfor Sex\\rAssault?',\n",
       "       u'Subject: Moral\\rWaiver\\rAccession?',\n",
       "       u'Subject: Prior\\rInvestigation\\rfor Sex\\rAssault?',\n",
       "       u'Victim\\rAffiliation', u'Victim\\rGender', u'Victim\\rGrade',\n",
       "       u'Victim\\rPay\\rGrade', u'Victim\\rService', u'Victim Gender',\n",
       "       u'Victim Pay\\rGrade', u'Year'],\n",
       "      dtype='object')"
      ]
     },
     "execution_count": 9,
     "metadata": {},
     "output_type": "execute_result"
    }
   ],
   "source": [
    "sapro.columns"
   ]
  },
  {
   "cell_type": "code",
   "execution_count": null,
   "metadata": {},
   "outputs": [],
   "source": []
  }
 ],
 "metadata": {
  "anaconda-cloud": {},
  "kernelspec": {
   "display_name": "Python 2",
   "language": "python",
   "name": "python2"
  },
  "language_info": {
   "codemirror_mode": {
    "name": "ipython",
    "version": 2
   },
   "file_extension": ".py",
   "mimetype": "text/x-python",
   "name": "python",
   "nbconvert_exporter": "python",
   "pygments_lexer": "ipython2",
   "version": "2.7.13"
  }
 },
 "nbformat": 4,
 "nbformat_minor": 1
}
