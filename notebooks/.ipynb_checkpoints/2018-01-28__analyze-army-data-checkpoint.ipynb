{
 "cells": [
  {
   "cell_type": "code",
   "execution_count": 1,
   "metadata": {
    "hideCode": false,
    "hidePrompt": false
   },
   "outputs": [],
   "source": [
    "import pandas as pd \n",
    "from StringIO import StringIO\n",
    "import matplotlib.pyplot as plt\n",
    "import numpy as np \n",
    "import textract\n",
    "from collections import Counter\n",
    "%matplotlib inline"
   ]
  },
  {
   "cell_type": "code",
   "execution_count": 4,
   "metadata": {
    "hideCode": false,
    "hidePrompt": false
   },
   "outputs": [],
   "source": [
    "army_df = pd.read_csv('../data/ARMY_court_martial_edited.csv', encoding='utf-8', index_col=0)"
   ]
  },
  {
   "cell_type": "markdown",
   "metadata": {
    "hideCode": false,
    "hidePrompt": false
   },
   "source": [
    "# Court-martials by rank"
   ]
  },
  {
   "cell_type": "code",
   "execution_count": 14,
   "metadata": {
    "hideCode": false,
    "hidePrompt": false
   },
   "outputs": [],
   "source": [
    "# https://www.statista.com/statistics/239383/total-military-personnel-of-the-us-army-by-grade/\n",
    "t = \"\"\"2016\t2017*\t2018*\n",
    "General (O10)\t12\t11\t11\n",
    "Lieutenant General (O9)\t47\t45\t45\n",
    "Major General (O8)\t139\t135\t124\n",
    "Brigadier General (O7)\t149\t141\t129\n",
    "Colonel (O6)\t4,386\t4,202\t4,152\n",
    "Lieutenant Colonel (O5)\t9,904\t9,032\t8,913\n",
    "Major (O4)\t16,835\t15,354\t14,902\n",
    "Captain (O3)\t30,679\t28,992\t28,870\n",
    "1st Lieutenant (O2)\t13,387\t11,754\t12,587\n",
    "2nd Lieutenant (O1)\t7,212\t6,988\t7,301\n",
    "Warrant Officer (W5)\t651\t591\t592\n",
    "Warrant Officer (W4)\t2,160\t199\t1,991\n",
    "Warrant Officer (W3)\t4,394\t4,225\t4,105\n",
    "Warrant Officer (W2)\t6,506\t5,136\t5,720\n",
    "Warrant Officer (W1)\t1,907\t2,403\t1,967\n",
    "Sergeant Major (E9)\t3,580\t3,324\t3,330\n",
    "1st Sergeant/Master Sergeant (E8)\t11,736\t10,768\t10,830\n",
    "Platoon Sergeant (E7)\t37,505\t35,103\t35,465\n",
    "Staff Sergeant (E6)\t58,500\t53,924\t56,648\n",
    "Sergeant (E5)\t71,140\t66,465\t70,335\n",
    "Corporal/Specialist (E4)\t122,980\t111,891\t100,707\n",
    "Private 1st Class (E3)\t46,305\t47,462\t50,386\n",
    "Private-E2 (E2)\t27,266\t28,112\t29,883\n",
    "Private-E1 (E1)\t18,630\t19,500\t50,578\n",
    "Total Officer Personnel\t98,368\t91,008\t91,409\n",
    "Total Enlisted\t397,642\t376,549\t378,162\n",
    "Cadets\t4,346\t4,386\t4,395\n",
    "Total End Strength\t500,356\t471,943\t473,966\"\"\"\n",
    "rank_df = pd.read_csv(StringIO(t), sep='\\t')"
   ]
  },
  {
   "cell_type": "code",
   "execution_count": 269,
   "metadata": {
    "hideCode": false,
    "hidePrompt": false
   },
   "outputs": [],
   "source": [
    "overall_counts_df = rank_df['2016'].apply(lambda x: x.replace(',','')).astype(float)"
   ]
  },
  {
   "cell_type": "code",
   "execution_count": 95,
   "metadata": {
    "hideCode": false,
    "hidePrompt": false
   },
   "outputs": [],
   "source": [
    "abbrev_mapping = pd.read_csv('../data/Ranks_Army.csv')"
   ]
  },
  {
   "cell_type": "code",
   "execution_count": 158,
   "metadata": {
    "hideCode": false,
    "hidePrompt": false
   },
   "outputs": [],
   "source": [
    "# get rough mapping, to be refined by hand\n",
    "counts = army_df.Rank.value_counts().to_frame('count').reset_index()\n",
    "counts['possible-names'] = np.nan\n",
    "name_mapping = {}\n",
    "for idx in range(len(counts)):\n",
    "    name = counts.iloc[idx]['index']\n",
    "    t = abbrev_mapping[abbrev_mapping['abbrev'].apply(lambda x: name in x)]['title'].values.tolist()\n",
    "    name_mapping[name] = t if len(t) > 0 else name"
   ]
  },
  {
   "cell_type": "code",
   "execution_count": 124,
   "metadata": {
    "hideCode": false,
    "hidePrompt": false
   },
   "outputs": [],
   "source": [
    "master_mapping = {'1LT': '1st Lieutenant (O2)',\n",
    " u'1SG': '1st Sergeant/Master Sergeant (E8)',\n",
    " u'2LT': '2nd Lieutenant (O1)',\n",
    " u'CDT': 'Cadets',\n",
    " u'COL': 'Colonel (O6)',\n",
    " u'CPL': 'Corporal/Specialist (E4)',\n",
    " u'CPT': 'Captain (O3)',\n",
    " u'CSM': 'Sergeant Major (E9)',\n",
    " u'CW2': 'Warrant Officer (W2)',\n",
    " u'CW3': 'Warrant Officer (W3)',\n",
    " u'CW4': 'Warrant Officer (W4)',\n",
    " u'Captain': u'Captain (O3)',\n",
    " u'Chief Warrant Officer': 'Warrant Officer (W5)',\n",
    " u'First Lieutenant': '1st Lieutenant (O2)',\n",
    " u'LTC': 'Lieutenant Colonel (O5)',\n",
    " u'MAJ': 'Major (O4)',\n",
    " u'MSG': '1st Sergeant/Master Sergeant (E8)',\n",
    " u'Major': 'Major (O4)',\n",
    " u'PFC': 'Private 1st Class (E3)',\n",
    " u'PV1': 'Private-E1 (E1)',\n",
    " u'PV2': 'Private-E2 (E2)',\n",
    " u'PVT': 'Private-E1 (E1)',\n",
    " u'Private': 'Private-E1 (E1)',\n",
    " u'Private (E-1)': u'Private-E1 (E1)',\n",
    " u'Private First Class': 'Private 1st Class (E3)',\n",
    " u'SFC': '1st Sergeant/Master Sergeant (E8)',\n",
    " u'SGM': 'Sergeant Major (E9)',\n",
    " u'SGT': 'Sergeant (E5)',\n",
    " u'SPC': 'Corporal/Specialist (E4)',\n",
    " u'SSG': 'Staff Sergeant (E6)',\n",
    " u'Second Lieutenant': '2nd Lieutenant (O1)',\n",
    " u'Sergeant': 'Sergeant (E5)',\n",
    " u'Specialist': 'Corporal/Specialist (E4)',\n",
    " u'Staff Sergeant': 'Staff Sergeant (E6)',\n",
    " u'United States Military Academy Cadet': 'Cadets',\n",
    " u'WO1': 'Warrant Officer (W1)'}"
   ]
  },
  {
   "cell_type": "code",
   "execution_count": 162,
   "metadata": {
    "hideCode": false,
    "hidePrompt": false
   },
   "outputs": [],
   "source": [
    "master_mapping_df = pd.Series(master_mapping).to_frame('mapping_name')"
   ]
  },
  {
   "cell_type": "code",
   "execution_count": 239,
   "metadata": {
    "hideCode": false,
    "hidePrompt": false
   },
   "outputs": [
    {
     "data": {
      "image/png": "[encoded data removed]",
      "text/plain": [
       "<matplotlib.figure.Figure at 0x113cd1210>"
      ]
     },
     "metadata": {},
     "output_type": "display_data"
    }
   ],
   "source": [
    "counts_df = counts[['index', 'count']].merge(master_mapping_df, how='left', left_on='index', right_index=True).groupby('mapping_name')['count'].sum()\n",
    "(counts_df\n",
    " .sort_values(ascending=False)\n",
    " .to_frame('Trial_counts')\n",
    " .plot(kind='bar', figsize=(8,5))\n",
    ")\n",
    "plt.title('Trial counts by Rank')\n",
    "plt.ylabel('Total Counts (2013-2017)')\n",
    "plt.xlabel('');"
   ]
  },
  {
   "cell_type": "code",
   "execution_count": 270,
   "metadata": {
    "hideCode": false,
    "hidePrompt": false
   },
   "outputs": [],
   "source": [
    "overall_counts_df = overall_counts_df*4"
   ]
  },
  {
   "cell_type": "code",
   "execution_count": 288,
   "metadata": {
    "hideCode": false,
    "hidePrompt": false
   },
   "outputs": [
    {
     "data": {
      "text/plain": [
       "<matplotlib.text.Text at 0x115413450>"
      ]
     },
     "execution_count": 288,
     "metadata": {},
     "output_type": "execute_result"
    },
    {
     "data": {
      "image/png": "[encoded data removed]",
      "text/plain": [
       "<matplotlib.figure.Figure at 0x11524a250>"
      ]
     },
     "metadata": {},
     "output_type": "display_data"
    }
   ],
   "source": [
    "t = (counts_df\n",
    " .to_frame('counts')\n",
    " .merge(overall_counts_df.to_frame('overall_counts'), how='right', right_index=True, left_index=True)\n",
    " .pipe(lambda df: df['counts'] / df['overall_counts']) \n",
    " * 100\n",
    ").fillna(0).sort_values().drop(['Total Enlisted', 'Total Officer Personnel', 'Total End Strength'])\n",
    "t.plot(kind='bar', color='lightblue', figsize=(10,6))\n",
    "plt.ylabel('Fraction of a Percent')\n",
    "plt.title('Likelihood of Going to Trial By Rank (%)')"
   ]
  },
  {
   "cell_type": "code",
   "execution_count": 232,
   "metadata": {
    "hideCode": false,
    "hidePrompt": false
   },
   "outputs": [],
   "source": [
    "by_conviction_counts = army_df.groupby('Rank')['Conclusion'].value_counts().to_frame('rank').reset_index()\n",
    "by_conviction_counts_df = by_conviction_counts.merge(\n",
    "    master_mapping_df,\n",
    "    how='left',\n",
    "    left_on='Rank',\n",
    "    right_index=True\n",
    ").groupby(['mapping_name', 'Conclusion']).sum()"
   ]
  },
  {
   "cell_type": "code",
   "execution_count": 233,
   "metadata": {
    "hideCode": false,
    "hidePrompt": false
   },
   "outputs": [
    {
     "data": {
      "text/plain": [
       "<matplotlib.text.Text at 0x113885350>"
      ]
     },
     "execution_count": 233,
     "metadata": {},
     "output_type": "execute_result"
    },
    {
     "data": {
      "image/png": "[encoded data removed]",
      "text/plain": [
       "<matplotlib.figure.Figure at 0x1136b4610>"
      ]
     },
     "metadata": {},
     "output_type": "display_data"
    }
   ],
   "source": [
    "(by_conviction_counts_df\n",
    " .groupby(['mapping_name', 'Conclusion'])\n",
    " .sum().unstack()\n",
    " .fillna(0)\n",
    " .sort_values(('rank','not guilty'))\n",
    " .plot(kind='bar', figsize=(10,6))\n",
    ")\n",
    "plt.ylabel('Counts of Trials ending in Verdict')\n",
    "plt.title('Counts of Aquitted, by Rank')"
   ]
  },
  {
   "cell_type": "code",
   "execution_count": 234,
   "metadata": {
    "hideCode": false,
    "hidePrompt": false
   },
   "outputs": [
    {
     "data": {
      "text/plain": [
       "<matplotlib.text.Text at 0x113a5f710>"
      ]
     },
     "execution_count": 234,
     "metadata": {},
     "output_type": "execute_result"
    },
    {
     "data": {
      "image/png": "[encoded data removed]",
      "text/plain": [
       "<matplotlib.figure.Figure at 0x11399e410>"
      ]
     },
     "metadata": {},
     "output_type": "display_data"
    }
   ],
   "source": [
    "((by_conviction_counts_df / by_conviction_counts_df.reset_index().groupby('mapping_name').sum())\n",
    " .unstack()\n",
    " .sort_values(('rank','guilty'), ascending=False)\n",
    " .plot(kind='bar', figsize=(10,6))\n",
    ")\n",
    "plt.ylabel('As a percentage of total trials')\n",
    "plt.title('Likelihood of Getting Aquitted, by Rank')"
   ]
  },
  {
   "cell_type": "markdown",
   "metadata": {
    "hideCode": false,
    "hidePrompt": false
   },
   "source": [
    "# Get set of Articles Invoked"
   ]
  },
  {
   "cell_type": "code",
   "execution_count": 306,
   "metadata": {
    "hideCode": false,
    "hidePrompt": false
   },
   "outputs": [],
   "source": [
    "import re\n",
    "army_df['itemized-article-invokations'] = (army_df['Offense']\n",
    "                                           .dropna()\n",
    "                                           .apply(lambda x: re.findall('\\d{2,3}[a-z]{0,1}', x)))"
   ]
  },
  {
   "cell_type": "code",
   "execution_count": 337,
   "metadata": {
    "hideCode": false,
    "hidePrompt": false
   },
   "outputs": [],
   "source": [
    "army_df['Year'] = army_df['Document'].apply(lambda x: int(re.search('\\d\\d\\d\\d', x).group()) if pd.notnull(x) else np.nan)"
   ]
  },
  {
   "cell_type": "code",
   "execution_count": 356,
   "metadata": {
    "hideCode": false,
    "hidePrompt": false
   },
   "outputs": [],
   "source": [
    "t = (army_df\n",
    " .set_index('Year')['itemized-article-invokations']\n",
    " .apply(pd.Series)\n",
    " .stack()\n",
    " .reset_index(level=-1, drop=True)\n",
    " .reset_index()\n",
    " .rename(columns={0:'Article'})\n",
    ")"
   ]
  },
  {
   "cell_type": "code",
   "execution_count": 364,
   "metadata": {
    "hideCode": false,
    "hidePrompt": false
   },
   "outputs": [],
   "source": [
    "t.assign(c=1).groupby(['Year','Article']).count().sort_index().to_csv('temp2.csv')"
   ]
  },
  {
   "cell_type": "code",
   "execution_count": 318,
   "metadata": {
    "hideCode": false,
    "hidePrompt": false
   },
   "outputs": [
    {
     "data": {
      "image/png": "[encoded data removed]",
      "text/plain": [
       "<matplotlib.figure.Figure at 0x115c5fb10>"
      ]
     },
     "metadata": {},
     "output_type": "display_data"
    }
   ],
   "source": [
    "article_list = reduce(lambda x,y:\n",
    "                      x+y, \n",
    "                      army_df['itemized-article-invokations'].dropna().values,\n",
    "                      [])\n",
    "pd.Series(article_list).value_counts()[:20].plot(kind='bar', color='lightblue')\n",
    "plt.ylabel('Count of times invoked')\n",
    "plt.ylabel('Article')\n",
    "plt.title('Number of Times Each Article was invoked, 2014-2017');"
   ]
  },
  {
   "cell_type": "code",
   "execution_count": 324,
   "metadata": {
    "hideCode": false,
    "hidePrompt": false
   },
   "outputs": [],
   "source": [
    "pd.Series(sorted(list(set(article_list)))).to_csv('temp.csv', index=False)"
   ]
  },
  {
   "cell_type": "code",
   "execution_count": 330,
   "metadata": {
    "hideCode": false,
    "hidePrompt": false
   },
   "outputs": [],
   "source": [
    "pd.Series(article_list).value_counts().sort_index().to_csv('temp.csv')"
   ]
  },
  {
   "cell_type": "markdown",
   "metadata": {
    "hideCode": false,
    "hidePrompt": false
   },
   "source": [
    "## Get Punishments"
   ]
  },
  {
   "cell_type": "code",
   "execution_count": 1216,
   "metadata": {
    "hideCode": false,
    "hidePrompt": false
   },
   "outputs": [],
   "source": [
    "split_punishments_list = (army_df['Sentence']\n",
    " .fillna('')\n",
    " .apply(lambda x: x.replace('the accused', '').strip())\n",
    " .apply(lambda x: map(lambda x: (' '.join(x.replace('be','')\n",
    "                                 .replace(',','')\n",
    "                                 .replace('to','')\n",
    "                                 .strip().split())),\n",
    "                      re.split('\\,\\sto|and\\sto', x))\n",
    "       )\n",
    ")"
   ]
  },
  {
   "cell_type": "code",
   "execution_count": 577,
   "metadata": {
    "hideCode": false,
    "hidePrompt": false
   },
   "outputs": [],
   "source": [
    "punishments_count = pd.Series(reduce(lambda x,y: x + y, split_punishments_list.values, [])).value_counts()"
   ]
  },
  {
   "cell_type": "code",
   "execution_count": 426,
   "metadata": {
    "hideCode": false,
    "hidePrompt": false
   },
   "outputs": [],
   "source": [
    "punishments_count.to_csv('data/punishments.csv', encoding='utf-8')"
   ]
  },
  {
   "cell_type": "code",
   "execution_count": 428,
   "metadata": {
    "hideCode": false,
    "hidePrompt": false,
    "scrolled": false
   },
   "outputs": [],
   "source": [
    "punishments_scraped_count = (pd.Series(reduce(lambda x,y: x + y, t.values, []))\n",
    " .apply(lambda x: re.sub('E\\-[0-9]|\\d+','', x))\n",
    " .apply(lambda x: x.replace('years', '').replace('months','').replace('year','').replace('month',''))\n",
    " .apply(lambda x: ' '.join(x.split()))\n",
    ").value_counts()\n",
    "t3.to_csv('data/punishments_scraped.csv',encoding='utf-8')"
   ]
  },
  {
   "cell_type": "code",
   "execution_count": 578,
   "metadata": {
    "hideCode": false,
    "hidePrompt": false
   },
   "outputs": [],
   "source": [
    "pay_terms = ['$', ' fined ','forfeit','pay']\n",
    "punishments_count = (punishments_count\n",
    "                     .reset_index()\n",
    "                     .rename(columns={'index':'punishment',0:'count'})\n",
    "                    )"
   ]
  },
  {
   "cell_type": "code",
   "execution_count": 1222,
   "metadata": {
    "hideCode": false,
    "hidePrompt": false
   },
   "outputs": [],
   "source": [
    "cash_punishment_list = split_punishments_list.apply(lambda x: map(lambda y: parse_number(y, default=20000), x))"
   ]
  },
  {
   "cell_type": "code",
   "execution_count": 450,
   "metadata": {
    "hideCode": false,
    "hidePrompt": false
   },
   "outputs": [],
   "source": [
    "from word2number import w2n"
   ]
  },
  {
   "cell_type": "code",
   "execution_count": 580,
   "metadata": {
    "hideCode": false,
    "hidePrompt": false
   },
   "outputs": [],
   "source": [
    "fined_punishments = punishments_count[\n",
    "    punishments_count['punishment'].apply(\n",
    "        lambda x: any([term in x for term in pay_terms])\n",
    "    )]"
   ]
  },
  {
   "cell_type": "code",
   "execution_count": 1220,
   "metadata": {
    "hideCode": false,
    "hidePrompt": false
   },
   "outputs": [],
   "source": [
    "def parse_number(row, default=None):\n",
    "    if 'all' in row:\n",
    "        if default:\n",
    "            return default\n",
    "        return 'all'\n",
    "    money = re.search('\\$\\d+', row)\n",
    "    if money:\n",
    "        money = int(money.group().replace('$',''))\n",
    "        row = row.replace('$','').replace(str(money), '')\n",
    "    time = re.search('\\d+', row)\n",
    "    if time:\n",
    "        time = int(time.group())\n",
    "    if not time:\n",
    "        try:\n",
    "            time = w2n.word_to_num()\n",
    "        except:\n",
    "            pass\n",
    "    if time and money:\n",
    "        money = money * time\n",
    "    elif time:\n",
    "        if default:\n",
    "            return default\n",
    "        return 'dock'\n",
    "    return money"
   ]
  },
  {
   "cell_type": "code",
   "execution_count": 582,
   "metadata": {
    "hideCode": false,
    "hidePrompt": false
   },
   "outputs": [],
   "source": [
    "fined_punishments= fined_punishments.copy()\n",
    "fined_punishments['dollars'] = fined_punishments.punishment.apply(parse_number)"
   ]
  },
  {
   "cell_type": "code",
   "execution_count": null,
   "metadata": {
    "hideCode": false,
    "hidePrompt": false
   },
   "outputs": [],
   "source": []
  },
  {
   "cell_type": "code",
   "execution_count": null,
   "metadata": {
    "hideCode": false,
    "hidePrompt": false
   },
   "outputs": [],
   "source": []
  },
  {
   "cell_type": "code",
   "execution_count": 583,
   "metadata": {
    "hideCode": false,
    "hidePrompt": false
   },
   "outputs": [],
   "source": [
    "subbed_fined_punishments = (fined_punishments\n",
    "      .replace(to_replace='all',value=20000)\n",
    "      .replace(to_replace='dock',value=20000)[['count','dollars']]\n",
    "      .copy()\n",
    "     )"
   ]
  },
  {
   "cell_type": "code",
   "execution_count": 614,
   "metadata": {
    "hideCode": false,
    "hidePrompt": false
   },
   "outputs": [
    {
     "data": {
      "text/plain": [
       "<matplotlib.text.Text at 0x118bc6490>"
      ]
     },
     "execution_count": 614,
     "metadata": {},
     "output_type": "execute_result"
    },
    {
     "data": {
      "image/png": "[encoded data removed]",
      "text/plain": [
       "<matplotlib.figure.Figure at 0x118bebed0>"
      ]
     },
     "metadata": {},
     "output_type": "display_data"
    }
   ],
   "source": [
    "list_of_all_payments = (pd.Series(reduce(\n",
    "    lambda x, y: x+y,\n",
    "    subbed_fined_punishments.apply(lambda x: [x['dollars']] * x['count'], axis=1),\n",
    "    []))\n",
    " .dropna()\n",
    " .astype(int)\n",
    ")\n",
    "list_of_all_payments.hist(bins=100, figsize=(8, 5))\n",
    "plt.grid()\n",
    "plt.title('Distribution over Pay Fines')\n",
    "plt.ylabel('Count of Fines')\n",
    "plt.xlabel('Amount of Fine')\n",
    "plt.text(20015,200, '\\'all pay\\'')"
   ]
  },
  {
   "cell_type": "code",
   "execution_count": null,
   "metadata": {
    "hideCode": false,
    "hidePrompt": false
   },
   "outputs": [],
   "source": []
  },
  {
   "cell_type": "code",
   "execution_count": 621,
   "metadata": {
    "hideCode": false,
    "hidePrompt": false
   },
   "outputs": [],
   "source": [
    "concrete_fined_punishments = (fined_punishments\n",
    "      .replace(to_replace='all',value=0)\n",
    "      .replace(to_replace='dock',value=0)[['count','dollars']]\n",
    "      .copy()\n",
    "     )"
   ]
  },
  {
   "cell_type": "code",
   "execution_count": 623,
   "metadata": {
    "hideCode": false,
    "hidePrompt": false
   },
   "outputs": [
    {
     "data": {
      "text/plain": [
       "<matplotlib.text.Text at 0x11e5bd190>"
      ]
     },
     "execution_count": 623,
     "metadata": {},
     "output_type": "execute_result"
    },
    {
     "data": {
      "image/png": "[encoded data removed]",
      "text/plain": [
       "<matplotlib.figure.Figure at 0x11ae44990>"
      ]
     },
     "metadata": {},
     "output_type": "display_data"
    }
   ],
   "source": [
    "list_concrete_fined_punishments = (pd.Series(reduce(\n",
    "    lambda x, y: x+y,\n",
    "    concrete_fined_punishments.apply(lambda x: [x['dollars']] * x['count'], axis=1),\n",
    "    []))\n",
    " .dropna()\n",
    " .astype(int))\n",
    "\n",
    "list_concrete_fined_punishments.hist(bins=100, figsize=(8, 5))\n",
    "plt.grid()\n",
    "plt.title('Distribution over Pay Fines (Without \\'All Pay Docked\\')')\n",
    "plt.ylabel('Count of Fines')\n",
    "plt.xlabel('Amount of Fine')"
   ]
  },
  {
   "cell_type": "code",
   "execution_count": 624,
   "metadata": {
    "hideCode": false,
    "hidePrompt": false
   },
   "outputs": [
    {
     "data": {
      "text/plain": [
       "562375"
      ]
     },
     "execution_count": 624,
     "metadata": {},
     "output_type": "execute_result"
    }
   ],
   "source": [
    "list_concrete_fined_punishments.sum()"
   ]
  },
  {
   "cell_type": "markdown",
   "metadata": {
    "hideCode": false,
    "hidePrompt": false
   },
   "source": [
    "# How many pay punishments were given by rank?"
   ]
  },
  {
   "cell_type": "code",
   "execution_count": 547,
   "metadata": {
    "hideCode": false,
    "hidePrompt": false
   },
   "outputs": [],
   "source": [
    "guilty_counts = by_conviction_counts_df.reset_index().pipe(lambda df: df[df['Conclusion'] =='guilty'][['mapping_name','rank']])"
   ]
  },
  {
   "cell_type": "code",
   "execution_count": 548,
   "metadata": {
    "hideCode": false,
    "hidePrompt": false
   },
   "outputs": [],
   "source": [
    "fine_counts = ((army_df[army_df['Sentence']\n",
    "         .fillna('')\n",
    "         .pipe(lambda s: s.apply(lambda x: any([term in x for term in pay_terms])))]).Rank.value_counts().to_frame('count')\n",
    ".merge(\n",
    "    master_mapping_df,\n",
    "    how='left',\n",
    "    left_index=True, right_index=True\n",
    ").groupby('mapping_name')['count'].sum())"
   ]
  },
  {
   "cell_type": "code",
   "execution_count": 564,
   "metadata": {
    "hideCode": false,
    "hidePrompt": false
   },
   "outputs": [
    {
     "data": {
      "image/png": "[encoded data removed]",
      "text/plain": [
       "<matplotlib.figure.Figure at 0x119fed150>"
      ]
     },
     "metadata": {},
     "output_type": "display_data"
    }
   ],
   "source": [
    "guilty_and_fine_counts = (guilty_counts\n",
    " .rename(columns={'rank':'overall conviction count'})\n",
    " .merge(fine_counts.to_frame('fine count'), how='left', right_index=True, left_on='mapping_name')\n",
    " .set_index('mapping_name')\n",
    " .fillna(0)\n",
    " .sort_values('overall conviction count', ascending=False)\n",
    " .astype(int)\n",
    ")\n",
    "guilty_and_fine_counts.plot(kind='bar', figsize=(8, 5))\n",
    "plt.title('Guilty Counts and Fine Counts by Rank')\n",
    "plt.ylabel('Count')\n",
    "plt.xlabel('');"
   ]
  },
  {
   "cell_type": "code",
   "execution_count": 574,
   "metadata": {
    "hideCode": false,
    "hidePrompt": false
   },
   "outputs": [
    {
     "data": {
      "text/plain": [
       "''"
      ]
     },
     "execution_count": 574,
     "metadata": {},
     "output_type": "execute_result"
    },
    {
     "data": {
      "image/png": "[encoded data removed]",
      "text/plain": [
       "<matplotlib.figure.Figure at 0x11ab69110>"
      ]
     },
     "metadata": {},
     "output_type": "display_data"
    }
   ],
   "source": [
    "((guilty_and_fine_counts.iloc[:,1] / guilty_and_fine_counts.iloc[:, 0])\n",
    " .sort_values(ascending=False)\n",
    " .plot(kind='bar', color='lightblue', figsize=(8, 5))\n",
    ")\n",
    "plt.title('Likelihood of Getting Fined, by Rank')\n",
    "plt.ylabel('Likelihood (%)')\n",
    "plt.xlabel('')\n",
    ";"
   ]
  },
  {
   "cell_type": "markdown",
   "metadata": {
    "hideCode": false,
    "hidePrompt": false
   },
   "source": [
    "# What were the most common punishments by rank?"
   ]
  },
  {
   "cell_type": "code",
   "execution_count": 640,
   "metadata": {
    "hideCode": false,
    "hidePrompt": false
   },
   "outputs": [],
   "source": [
    "import spacy\n",
    "nlp = spacy.load('en_core_web_sm')"
   ]
  },
  {
   "cell_type": "code",
   "execution_count": 650,
   "metadata": {
    "hideCode": false,
    "hidePrompt": false
   },
   "outputs": [],
   "source": [
    "def spacy_parse(row):\n",
    "    '''Tags each row with named-entity and POS.'''\n",
    "    doc = nlp(row)\n",
    "    return [(item, item.ent_id_, item.pos_) for item in doc]\n",
    "spacy_tagged_sentences = army_df['Sentence'].fillna('').astype(unicode).apply(spacy_parse)"
   ]
  },
  {
   "cell_type": "code",
   "execution_count": 697,
   "metadata": {
    "hideCode": false,
    "hidePrompt": false
   },
   "outputs": [],
   "source": [
    "def filter_spacy_sentence(row):\n",
    "    '''Takes spacy-parsed object, returns string with proper nouns and numbers filtered out.'''\n",
    "    \n",
    "    filtered_row = filter(lambda x: x[2] not in ['PROPN', 'NUM'], row)\n",
    "    text = map(lambda x: str(x[0]), filtered_row)\n",
    "    return ' '.join(text)"
   ]
  },
  {
   "cell_type": "code",
   "execution_count": 698,
   "metadata": {
    "hideCode": false,
    "hidePrompt": false,
    "scrolled": true
   },
   "outputs": [],
   "source": [
    "spacy_filtered_sentences = spacy_tagged_sentences.apply(filter_spacy_sentence)"
   ]
  },
  {
   "cell_type": "code",
   "execution_count": 854,
   "metadata": {
    "hideCode": false,
    "hidePrompt": false
   },
   "outputs": [],
   "source": [
    "split_punishments_list = (\n",
    "    spacy_filtered_sentences\n",
    "     .apply(lambda x: x.replace('the accused', '').strip())\n",
    "     .apply(lambda x: re.split('\\s\\,\\sto|and\\sto', x))\n",
    ")\n",
    "\n",
    "def scrape_out_numbers_and_clean(item):\n",
    "    item = (item\n",
    "            .replace('be','')\n",
    "            .replace(',','')\n",
    "            .replace('to',''))\n",
    "    item = re.sub('E\\-[0-9]|\\d+','', item)\n",
    "    item = (item\n",
    "            .replace('years', '')\n",
    "            .replace('months','')\n",
    "            .replace('days', '')\n",
    "            .replace('year','')\n",
    "            .replace('month','')\n",
    "            .replace('day', '')\n",
    "           )\n",
    "    item = (item\n",
    "            # stopwords\n",
    "            .replace('for ','')\n",
    "            .replace('the ', '')\n",
    "            .replace('and ', '')\n",
    "            .replace('of', '')\n",
    "            # more grouping\n",
    "            .replace('confinement','confined')\n",
    "            .replace('life', '')\n",
    "            .replace('E', '')\n",
    "            .replace('separated', 'discharged')\n",
    "            .replace('-', '')\n",
    "            # pay grouping\n",
    "            .replace('all pay allowances', '')\n",
    "            .replace('$', '')\n",
    "            .replace('pay per', '')\n",
    "            .replace('pay a fine', 'forfeit')\n",
    "            # more grouping\n",
    "            .replace('dismissed', 'discharged')\n",
    "            .replace('from service', '')\n",
    "            .replace('limits', '')\n",
    "            .replace('with a dishonorable discharge', '')\n",
    "           )\n",
    "    item = ' '.join(item.strip().split()).replace('with a bad conduct discharge', '')\n",
    "    item = ' '.join(item.strip().split())\n",
    "    return item"
   ]
  },
  {
   "cell_type": "code",
   "execution_count": 855,
   "metadata": {
    "hideCode": false,
    "hidePrompt": false
   },
   "outputs": [],
   "source": [
    "sentence_parsed = split_punishments_list.apply(lambda x: map(scrape_out_numbers_and_clean, x)).copy()\n",
    "rank_and_sentence_parsed = pd.concat([\n",
    "    army_df['Rank'],\n",
    "    sentence_parsed\n",
    "], axis=1)"
   ]
  },
  {
   "cell_type": "code",
   "execution_count": 856,
   "metadata": {
    "hideCode": false,
    "hidePrompt": false
   },
   "outputs": [],
   "source": [
    "unstacked_rank_and_sentence = (rank_and_sentence_parsed\n",
    " .set_index('Rank')['Sentence']\n",
    " .apply(pd.Series)\n",
    " .stack()\n",
    " .reset_index(level=-1, drop=True)\n",
    " .reset_index()\n",
    " .rename(columns={0:'punishment'})\n",
    ")"
   ]
  },
  {
   "cell_type": "code",
   "execution_count": 857,
   "metadata": {
    "hideCode": false,
    "hidePrompt": false
   },
   "outputs": [
    {
     "data": {
      "text/html": [
       "<div>\n",
       "<style scoped>\n",
       "    .dataframe tbody tr th:only-of-type {\n",
       "        vertical-align: middle;\n",
       "    }\n",
       "\n",
       "    .dataframe tbody tr th {\n",
       "        vertical-align: top;\n",
       "    }\n",
       "\n",
       "    .dataframe thead th {\n",
       "        text-align: right;\n",
       "    }\n",
       "</style>\n",
       "<table border=\"1\" class=\"dataframe\">\n",
       "  <thead>\n",
       "    <tr style=\"text-align: right;\">\n",
       "      <th></th>\n",
       "      <th>mapping_name</th>\n",
       "    </tr>\n",
       "  </thead>\n",
       "  <tbody>\n",
       "    <tr>\n",
       "      <th>1LT</th>\n",
       "      <td>1st Lieutenant (O2)</td>\n",
       "    </tr>\n",
       "    <tr>\n",
       "      <th>1SG</th>\n",
       "      <td>1st Sergeant/Master Sergeant (E8)</td>\n",
       "    </tr>\n",
       "    <tr>\n",
       "      <th>2LT</th>\n",
       "      <td>2nd Lieutenant (O1)</td>\n",
       "    </tr>\n",
       "    <tr>\n",
       "      <th>CDT</th>\n",
       "      <td>Cadets</td>\n",
       "    </tr>\n",
       "    <tr>\n",
       "      <th>COL</th>\n",
       "      <td>Colonel (O6)</td>\n",
       "    </tr>\n",
       "  </tbody>\n",
       "</table>\n",
       "</div>"
      ],
      "text/plain": [
       "                          mapping_name\n",
       "1LT                1st Lieutenant (O2)\n",
       "1SG  1st Sergeant/Master Sergeant (E8)\n",
       "2LT                2nd Lieutenant (O1)\n",
       "CDT                             Cadets\n",
       "COL                       Colonel (O6)"
      ]
     },
     "execution_count": 857,
     "metadata": {},
     "output_type": "execute_result"
    }
   ],
   "source": [
    "master_mapping_df.head()"
   ]
  },
  {
   "cell_type": "code",
   "execution_count": 858,
   "metadata": {
    "hideCode": false,
    "hidePrompt": false
   },
   "outputs": [],
   "source": [
    "unstacked_rank_and_sentence = (unstacked_rank_and_sentence\n",
    "                               .merge(master_mapping_df, how='left',right_index=True, left_on='Rank')\n",
    "                               [['punishment','mapping_name']]\n",
    "                               .rename(columns={'mapping_name':'Rank'})\n",
    "                              )"
   ]
  },
  {
   "cell_type": "code",
   "execution_count": 859,
   "metadata": {
    "hideCode": false,
    "hidePrompt": false
   },
   "outputs": [],
   "source": [
    "sentence_by_rank = (unstacked_rank_and_sentence\n",
    " .assign(c=1)\n",
    " .pivot_table(\n",
    "     values='c',\n",
    "     columns='Rank',\n",
    "     index='punishment',\n",
    "     aggfunc='count'\n",
    " ).fillna(0))"
   ]
  },
  {
   "cell_type": "code",
   "execution_count": 860,
   "metadata": {
    "hideCode": false,
    "hidePrompt": false
   },
   "outputs": [
    {
     "data": {
      "text/html": [
       "<div>\n",
       "<style scoped>\n",
       "    .dataframe tbody tr th:only-of-type {\n",
       "        vertical-align: middle;\n",
       "    }\n",
       "\n",
       "    .dataframe tbody tr th {\n",
       "        vertical-align: top;\n",
       "    }\n",
       "\n",
       "    .dataframe thead th {\n",
       "        text-align: right;\n",
       "    }\n",
       "</style>\n",
       "<table border=\"1\" class=\"dataframe\">\n",
       "  <thead>\n",
       "    <tr style=\"text-align: right;\">\n",
       "      <th></th>\n",
       "      <th>Most Likely Punishmnet</th>\n",
       "    </tr>\n",
       "    <tr>\n",
       "      <th>Rank</th>\n",
       "      <th></th>\n",
       "    </tr>\n",
       "  </thead>\n",
       "  <tbody>\n",
       "    <tr>\n",
       "      <th>1st Lieutenant (O2)</th>\n",
       "      <td>discharged</td>\n",
       "    </tr>\n",
       "    <tr>\n",
       "      <th>1st Sergeant/Master Sergeant (E8)</th>\n",
       "      <td>reduced grade</td>\n",
       "    </tr>\n",
       "    <tr>\n",
       "      <th>2nd Lieutenant (O1)</th>\n",
       "      <td>discharged</td>\n",
       "    </tr>\n",
       "    <tr>\n",
       "      <th>Cadets</th>\n",
       "      <td>confined</td>\n",
       "    </tr>\n",
       "    <tr>\n",
       "      <th>Captain (O3)</th>\n",
       "      <td>discharged</td>\n",
       "    </tr>\n",
       "    <tr>\n",
       "      <th>Colonel (O6)</th>\n",
       "      <td>confined</td>\n",
       "    </tr>\n",
       "    <tr>\n",
       "      <th>Corporal/Specialist (E4)</th>\n",
       "      <td>confined</td>\n",
       "    </tr>\n",
       "    <tr>\n",
       "      <th>Lieutenant Colonel (O5)</th>\n",
       "      <td>confined</td>\n",
       "    </tr>\n",
       "    <tr>\n",
       "      <th>Major (O4)</th>\n",
       "      <td>confined</td>\n",
       "    </tr>\n",
       "    <tr>\n",
       "      <th>Private 1st Class (E3)</th>\n",
       "      <td>confined</td>\n",
       "    </tr>\n",
       "    <tr>\n",
       "      <th>Private-E1 (E1)</th>\n",
       "      <td>confined</td>\n",
       "    </tr>\n",
       "    <tr>\n",
       "      <th>Private-E2 (E2)</th>\n",
       "      <td>confined</td>\n",
       "    </tr>\n",
       "    <tr>\n",
       "      <th>Sergeant (E5)</th>\n",
       "      <td>reduced grade</td>\n",
       "    </tr>\n",
       "    <tr>\n",
       "      <th>Sergeant Major (E9)</th>\n",
       "      <td>reduced grade</td>\n",
       "    </tr>\n",
       "    <tr>\n",
       "      <th>Staff Sergeant (E6)</th>\n",
       "      <td>reduced grade</td>\n",
       "    </tr>\n",
       "    <tr>\n",
       "      <th>Warrant Officer (W1)</th>\n",
       "      <td>confined</td>\n",
       "    </tr>\n",
       "    <tr>\n",
       "      <th>Warrant Officer (W2)</th>\n",
       "      <td>confined</td>\n",
       "    </tr>\n",
       "    <tr>\n",
       "      <th>Warrant Officer (W3)</th>\n",
       "      <td>discharged</td>\n",
       "    </tr>\n",
       "    <tr>\n",
       "      <th>Warrant Officer (W4)</th>\n",
       "      <td>confined</td>\n",
       "    </tr>\n",
       "    <tr>\n",
       "      <th>Warrant Officer (W5)</th>\n",
       "      <td></td>\n",
       "    </tr>\n",
       "  </tbody>\n",
       "</table>\n",
       "</div>"
      ],
      "text/plain": [
       "                                  Most Likely Punishmnet\n",
       "Rank                                                    \n",
       "1st Lieutenant (O2)                           discharged\n",
       "1st Sergeant/Master Sergeant (E8)          reduced grade\n",
       "2nd Lieutenant (O1)                           discharged\n",
       "Cadets                                          confined\n",
       "Captain (O3)                                  discharged\n",
       "Colonel (O6)                                    confined\n",
       "Corporal/Specialist (E4)                        confined\n",
       "Lieutenant Colonel (O5)                         confined\n",
       "Major (O4)                                      confined\n",
       "Private 1st Class (E3)                          confined\n",
       "Private-E1 (E1)                                 confined\n",
       "Private-E2 (E2)                                 confined\n",
       "Sergeant (E5)                              reduced grade\n",
       "Sergeant Major (E9)                        reduced grade\n",
       "Staff Sergeant (E6)                        reduced grade\n",
       "Warrant Officer (W1)                            confined\n",
       "Warrant Officer (W2)                            confined\n",
       "Warrant Officer (W3)                          discharged\n",
       "Warrant Officer (W4)                            confined\n",
       "Warrant Officer (W5)                                    "
      ]
     },
     "execution_count": 860,
     "metadata": {},
     "output_type": "execute_result"
    }
   ],
   "source": [
    "sentence_by_rank.idxmax().to_frame('Most Likely Punishmnet')"
   ]
  },
  {
   "cell_type": "markdown",
   "metadata": {
    "hideCode": false,
    "hidePrompt": false
   },
   "source": [
    "# Which offenses are likely to get which punishments?"
   ]
  },
  {
   "cell_type": "markdown",
   "metadata": {
    "hideCode": false,
    "hidePrompt": false
   },
   "source": [
    "### X "
   ]
  },
  {
   "cell_type": "code",
   "execution_count": 1167,
   "metadata": {
    "hideCode": false,
    "hidePrompt": false
   },
   "outputs": [],
   "source": [
    "X = (army_df['itemized-article-invokations'].fillna('')\n",
    " .apply(lambda row: map(lambda item: re.sub('[a-z]', '', item), row) if isinstance(row, list) else []))\n",
    "X = (X.apply(lambda x: pd.Series(Counter(x)))\n",
    "     .fillna(0)\n",
    "    )"
   ]
  },
  {
   "cell_type": "code",
   "execution_count": 993,
   "metadata": {
    "hideCode": false,
    "hidePrompt": false
   },
   "outputs": [
    {
     "data": {
      "image/png": "[encoded data removed]",
      "text/plain": [
       "<matplotlib.figure.Figure at 0x13ae29510>"
      ]
     },
     "metadata": {},
     "output_type": "display_data"
    }
   ],
   "source": [
    "X.sum().sort_values().plot(kind='bar', color='lightblue')\n",
    "plt.title('Counts of Articles Invoked');"
   ]
  },
  {
   "cell_type": "code",
   "execution_count": 1168,
   "metadata": {
    "hideCode": false,
    "hidePrompt": false
   },
   "outputs": [],
   "source": [
    "canonical_accusations = X.sum().pipe(lambda s: s[s> 50])"
   ]
  },
  {
   "cell_type": "code",
   "execution_count": 1169,
   "metadata": {
    "hideCode": false,
    "hidePrompt": false
   },
   "outputs": [],
   "source": [
    "X = X[canonical_accusations.index].copy()"
   ]
  },
  {
   "cell_type": "code",
   "execution_count": 1170,
   "metadata": {
    "hideCode": false,
    "hidePrompt": false
   },
   "outputs": [
    {
     "data": {
      "image/png": "[encoded data removed]",
      "text/plain": [
       "<matplotlib.figure.Figure at 0x1371a4210>"
      ]
     },
     "metadata": {},
     "output_type": "display_data"
    }
   ],
   "source": [
    "x_corr = X.corr()\n",
    "for i in range(len(x_corr)):\n",
    "    x_corr.iloc[i, i] = 0\n",
    "import seaborn.apionly as sns\n",
    "g = sns.clustermap(x_corr, figsize=(13,13))\n",
    "plt.setp(g.ax_heatmap.get_yticklabels(), rotation=0);"
   ]
  },
  {
   "cell_type": "markdown",
   "metadata": {
    "hideCode": false,
    "hidePrompt": false
   },
   "source": [
    "### Y "
   ]
  },
  {
   "cell_type": "code",
   "execution_count": 870,
   "metadata": {
    "hideCode": false,
    "hidePrompt": false
   },
   "outputs": [],
   "source": [
    "all_punishments = (pd\n",
    "                   .Series(reduce(lambda x,y : x+y, sentence_parsed.values, []))\n",
    "                   .value_counts()\n",
    ")\n",
    "\n",
    "canonical_punishments = all_punishments[all_punishments > 50]"
   ]
  },
  {
   "cell_type": "code",
   "execution_count": 955,
   "metadata": {
    "hideCode": false,
    "hidePrompt": false
   },
   "outputs": [
    {
     "data": {
      "text/plain": [
       "<matplotlib.text.Text at 0x139d6d2d0>"
      ]
     },
     "execution_count": 955,
     "metadata": {},
     "output_type": "execute_result"
    },
    {
     "data": {
      "image/png": "[encoded data removed]",
      "text/plain": [
       "<matplotlib.figure.Figure at 0x130ea8d50>"
      ]
     },
     "metadata": {},
     "output_type": "display_data"
    }
   ],
   "source": [
    "Y.sum().plot(kind='bar', color='lightblue', figsize=(5,3))\n",
    "plt.title('Most Common Punishments')"
   ]
  },
  {
   "cell_type": "code",
   "execution_count": 953,
   "metadata": {
    "hideCode": false,
    "hidePrompt": false
   },
   "outputs": [],
   "source": [
    "Y = (sentence_parsed\n",
    "     .apply(lambda x: pd.Series(Counter(x)))\n",
    "     [canonical_punishments.index]\n",
    "     .fillna(0)\n",
    "    )"
   ]
  },
  {
   "cell_type": "code",
   "execution_count": 954,
   "metadata": {
    "hideCode": false,
    "hidePrompt": false
   },
   "outputs": [
    {
     "data": {
      "image/png": "[encoded data removed]",
      "text/plain": [
       "<matplotlib.figure.Figure at 0x130ea89d0>"
      ]
     },
     "metadata": {},
     "output_type": "display_data"
    }
   ],
   "source": [
    "y_corr = Y.corr()\n",
    "for i in range(len(y_corr)):\n",
    "    y_corr.iloc[i, i] = 0\n",
    "g = sns.clustermap(y_corr, figsize=(5,5))\n",
    "plt.setp(g.ax_heatmap.get_yticklabels(), rotation=0);"
   ]
  },
  {
   "cell_type": "markdown",
   "metadata": {
    "hideCode": false,
    "hidePrompt": false
   },
   "source": [
    "#### perform regression"
   ]
  },
  {
   "cell_type": "code",
   "execution_count": 1005,
   "metadata": {
    "hideCode": false,
    "hidePrompt": false
   },
   "outputs": [],
   "source": [
    "import sklearn\n",
    "from sklearn.model_selection import train_test_split\n",
    "from sklearn.linear_model import LogisticRegressionCV\n",
    "from sklearn.multiclass import OneVsRestClassifier\n",
    "from sklearn.metrics import roc_auc_score"
   ]
  },
  {
   "cell_type": "code",
   "execution_count": 1171,
   "metadata": {
    "hideCode": false,
    "hidePrompt": false
   },
   "outputs": [
    {
     "data": {
      "text/html": [
       "<div>\n",
       "<style scoped>\n",
       "    .dataframe tbody tr th:only-of-type {\n",
       "        vertical-align: middle;\n",
       "    }\n",
       "\n",
       "    .dataframe tbody tr th {\n",
       "        vertical-align: top;\n",
       "    }\n",
       "\n",
       "    .dataframe thead th {\n",
       "        text-align: right;\n",
       "    }\n",
       "</style>\n",
       "<table border=\"1\" class=\"dataframe\">\n",
       "  <thead>\n",
       "    <tr style=\"text-align: right;\">\n",
       "      <th></th>\n",
       "      <th>model</th>\n",
       "    </tr>\n",
       "  </thead>\n",
       "  <tbody>\n",
       "    <tr>\n",
       "      <th></th>\n",
       "      <td>0.789586</td>\n",
       "    </tr>\n",
       "    <tr>\n",
       "      <th>confined</th>\n",
       "      <td>0.628249</td>\n",
       "    </tr>\n",
       "    <tr>\n",
       "      <th>discharged</th>\n",
       "      <td>0.616748</td>\n",
       "    </tr>\n",
       "    <tr>\n",
       "      <th>forfeit</th>\n",
       "      <td>0.525303</td>\n",
       "    </tr>\n",
       "    <tr>\n",
       "      <th>reduced grade</th>\n",
       "      <td>0.640680</td>\n",
       "    </tr>\n",
       "    <tr>\n",
       "      <th>reprimanded</th>\n",
       "      <td>0.552885</td>\n",
       "    </tr>\n",
       "  </tbody>\n",
       "</table>\n",
       "</div>"
      ],
      "text/plain": [
       "                  model\n",
       "               0.789586\n",
       "confined       0.628249\n",
       "discharged     0.616748\n",
       "forfeit        0.525303\n",
       "reduced grade  0.640680\n",
       "reprimanded    0.552885"
      ]
     },
     "execution_count": 1171,
     "metadata": {},
     "output_type": "execute_result"
    }
   ],
   "source": [
    "X_train, X_test, Y_train, Y_test = train_test_split(X, Y, test_size=.1)\n",
    "clf = OneVsRestClassifier(LogisticRegressionCV())\n",
    "clf.fit(X_train, Y_train)\n",
    "Y_pred = clf.predict_proba(X_test)\n",
    "\n",
    "def get_multilabel_auc(Y_test_df, Y_pred, label=\"model\"):\n",
    "    auc_output = {}\n",
    "    for idx, col in enumerate(Y_test_df.columns):\n",
    "        auc_output[col] = roc_auc_score( Y_test_df[col], Y_pred[:, idx])\n",
    "    return pd.Series(auc_output).to_frame(label)\n",
    "\n",
    "get_multilabel_auc(Y_test, Y_pred)"
   ]
  },
  {
   "cell_type": "code",
   "execution_count": 1173,
   "metadata": {
    "hideCode": false,
    "hidePrompt": false
   },
   "outputs": [
    {
     "data": {
      "text/html": [
       "<div>\n",
       "<style scoped>\n",
       "    .dataframe tbody tr th:only-of-type {\n",
       "        vertical-align: middle;\n",
       "    }\n",
       "\n",
       "    .dataframe tbody tr th {\n",
       "        vertical-align: top;\n",
       "    }\n",
       "\n",
       "    .dataframe thead th {\n",
       "        text-align: right;\n",
       "    }\n",
       "</style>\n",
       "<table border=\"1\" class=\"dataframe\">\n",
       "  <thead>\n",
       "    <tr style=\"text-align: right;\">\n",
       "      <th></th>\n",
       "      <th>confined</th>\n",
       "      <th>discharged</th>\n",
       "      <th>reduced grade</th>\n",
       "      <th>forfeit</th>\n",
       "      <th></th>\n",
       "      <th>reprimanded</th>\n",
       "    </tr>\n",
       "  </thead>\n",
       "  <tbody>\n",
       "    <tr>\n",
       "      <th>Article 107</th>\n",
       "      <td>-0.155845</td>\n",
       "      <td>-0.085948</td>\n",
       "      <td>0.001397</td>\n",
       "      <td>0.099948</td>\n",
       "      <td>-0.001626</td>\n",
       "      <td>0.001347</td>\n",
       "    </tr>\n",
       "    <tr>\n",
       "      <th>Article 108</th>\n",
       "      <td>0.148896</td>\n",
       "      <td>0.327587</td>\n",
       "      <td>0.000213</td>\n",
       "      <td>0.133065</td>\n",
       "      <td>-0.000423</td>\n",
       "      <td>0.000235</td>\n",
       "    </tr>\n",
       "    <tr>\n",
       "      <th>Article 112</th>\n",
       "      <td>0.728210</td>\n",
       "      <td>0.663726</td>\n",
       "      <td>-0.000549</td>\n",
       "      <td>-0.088073</td>\n",
       "      <td>-0.001552</td>\n",
       "      <td>-0.000824</td>\n",
       "    </tr>\n",
       "    <tr>\n",
       "      <th>Article 120</th>\n",
       "      <td>0.264282</td>\n",
       "      <td>0.473397</td>\n",
       "      <td>-0.001891</td>\n",
       "      <td>0.141676</td>\n",
       "      <td>0.005518</td>\n",
       "      <td>-0.001187</td>\n",
       "    </tr>\n",
       "    <tr>\n",
       "      <th>Article 121</th>\n",
       "      <td>0.108463</td>\n",
       "      <td>-0.256989</td>\n",
       "      <td>0.001274</td>\n",
       "      <td>0.519569</td>\n",
       "      <td>-0.001857</td>\n",
       "      <td>0.000645</td>\n",
       "    </tr>\n",
       "    <tr>\n",
       "      <th>Article 125</th>\n",
       "      <td>-0.281388</td>\n",
       "      <td>0.004582</td>\n",
       "      <td>-0.000357</td>\n",
       "      <td>0.099397</td>\n",
       "      <td>0.000764</td>\n",
       "      <td>-0.000309</td>\n",
       "    </tr>\n",
       "    <tr>\n",
       "      <th>Article 128</th>\n",
       "      <td>0.318095</td>\n",
       "      <td>-0.170663</td>\n",
       "      <td>0.002489</td>\n",
       "      <td>0.118892</td>\n",
       "      <td>-0.001988</td>\n",
       "      <td>0.000143</td>\n",
       "    </tr>\n",
       "    <tr>\n",
       "      <th>Article 134</th>\n",
       "      <td>0.660343</td>\n",
       "      <td>0.514257</td>\n",
       "      <td>0.003749</td>\n",
       "      <td>0.026690</td>\n",
       "      <td>-0.003650</td>\n",
       "      <td>-0.000367</td>\n",
       "    </tr>\n",
       "    <tr>\n",
       "      <th>Article 80</th>\n",
       "      <td>0.282221</td>\n",
       "      <td>0.423390</td>\n",
       "      <td>0.000655</td>\n",
       "      <td>-0.201633</td>\n",
       "      <td>-0.000383</td>\n",
       "      <td>-0.000453</td>\n",
       "    </tr>\n",
       "    <tr>\n",
       "      <th>Article 81</th>\n",
       "      <td>0.141128</td>\n",
       "      <td>0.519119</td>\n",
       "      <td>0.000648</td>\n",
       "      <td>0.348747</td>\n",
       "      <td>-0.000290</td>\n",
       "      <td>0.000054</td>\n",
       "    </tr>\n",
       "    <tr>\n",
       "      <th>Article 85</th>\n",
       "      <td>1.368055</td>\n",
       "      <td>1.361919</td>\n",
       "      <td>0.000371</td>\n",
       "      <td>-0.027936</td>\n",
       "      <td>-0.001262</td>\n",
       "      <td>-0.000434</td>\n",
       "    </tr>\n",
       "    <tr>\n",
       "      <th>Article 86</th>\n",
       "      <td>0.912480</td>\n",
       "      <td>0.805623</td>\n",
       "      <td>-0.000975</td>\n",
       "      <td>-0.439704</td>\n",
       "      <td>-0.002736</td>\n",
       "      <td>-0.000603</td>\n",
       "    </tr>\n",
       "    <tr>\n",
       "      <th>Article 90</th>\n",
       "      <td>0.526205</td>\n",
       "      <td>0.410320</td>\n",
       "      <td>0.000035</td>\n",
       "      <td>0.123005</td>\n",
       "      <td>-0.001145</td>\n",
       "      <td>0.000187</td>\n",
       "    </tr>\n",
       "    <tr>\n",
       "      <th>Article 91</th>\n",
       "      <td>-0.548274</td>\n",
       "      <td>-0.178639</td>\n",
       "      <td>-0.000614</td>\n",
       "      <td>0.130083</td>\n",
       "      <td>-0.000508</td>\n",
       "      <td>0.000357</td>\n",
       "    </tr>\n",
       "    <tr>\n",
       "      <th>Article 92</th>\n",
       "      <td>-0.374150</td>\n",
       "      <td>-0.247328</td>\n",
       "      <td>0.000875</td>\n",
       "      <td>0.385298</td>\n",
       "      <td>-0.001779</td>\n",
       "      <td>0.001041</td>\n",
       "    </tr>\n",
       "    <tr>\n",
       "      <th>Article 93</th>\n",
       "      <td>-0.740866</td>\n",
       "      <td>-0.676224</td>\n",
       "      <td>0.000442</td>\n",
       "      <td>-0.297775</td>\n",
       "      <td>0.000739</td>\n",
       "      <td>0.000611</td>\n",
       "    </tr>\n",
       "  </tbody>\n",
       "</table>\n",
       "</div>"
      ],
      "text/plain": [
       "             confined  discharged  reduced grade   forfeit            \\\n",
       "Article 107 -0.155845   -0.085948       0.001397  0.099948 -0.001626   \n",
       "Article 108  0.148896    0.327587       0.000213  0.133065 -0.000423   \n",
       "Article 112  0.728210    0.663726      -0.000549 -0.088073 -0.001552   \n",
       "Article 120  0.264282    0.473397      -0.001891  0.141676  0.005518   \n",
       "Article 121  0.108463   -0.256989       0.001274  0.519569 -0.001857   \n",
       "Article 125 -0.281388    0.004582      -0.000357  0.099397  0.000764   \n",
       "Article 128  0.318095   -0.170663       0.002489  0.118892 -0.001988   \n",
       "Article 134  0.660343    0.514257       0.003749  0.026690 -0.003650   \n",
       "Article 80   0.282221    0.423390       0.000655 -0.201633 -0.000383   \n",
       "Article 81   0.141128    0.519119       0.000648  0.348747 -0.000290   \n",
       "Article 85   1.368055    1.361919       0.000371 -0.027936 -0.001262   \n",
       "Article 86   0.912480    0.805623      -0.000975 -0.439704 -0.002736   \n",
       "Article 90   0.526205    0.410320       0.000035  0.123005 -0.001145   \n",
       "Article 91  -0.548274   -0.178639      -0.000614  0.130083 -0.000508   \n",
       "Article 92  -0.374150   -0.247328       0.000875  0.385298 -0.001779   \n",
       "Article 93  -0.740866   -0.676224       0.000442 -0.297775  0.000739   \n",
       "\n",
       "             reprimanded  \n",
       "Article 107     0.001347  \n",
       "Article 108     0.000235  \n",
       "Article 112    -0.000824  \n",
       "Article 120    -0.001187  \n",
       "Article 121     0.000645  \n",
       "Article 125    -0.000309  \n",
       "Article 128     0.000143  \n",
       "Article 134    -0.000367  \n",
       "Article 80     -0.000453  \n",
       "Article 81      0.000054  \n",
       "Article 85     -0.000434  \n",
       "Article 86     -0.000603  \n",
       "Article 90      0.000187  \n",
       "Article 91      0.000357  \n",
       "Article 92      0.001041  \n",
       "Article 93      0.000611  "
      ]
     },
     "execution_count": 1173,
     "metadata": {},
     "output_type": "execute_result"
    }
   ],
   "source": [
    "pd.DataFrame(clf.coef_, index=Y_test.columns, columns=['Article %s' % c for c in X_test.columns]).T"
   ]
  },
  {
   "cell_type": "code",
   "execution_count": null,
   "metadata": {
    "hideCode": false,
    "hidePrompt": false
   },
   "outputs": [],
   "source": []
  },
  {
   "cell_type": "code",
   "execution_count": null,
   "metadata": {
    "hideCode": false,
    "hidePrompt": false
   },
   "outputs": [],
   "source": []
  },
  {
   "cell_type": "markdown",
   "metadata": {
    "hideCode": false,
    "hidePrompt": false
   },
   "source": [
    "# Sexual Assaul-related or not"
   ]
  },
  {
   "cell_type": "code",
   "execution_count": 1096,
   "metadata": {
    "hideCode": false,
    "hidePrompt": false
   },
   "outputs": [],
   "source": [
    "article_mapping = pd.read_csv('../data/army/Army Law - Sheet1.csv')"
   ]
  },
  {
   "cell_type": "code",
   "execution_count": 1097,
   "metadata": {
    "hideCode": false,
    "hidePrompt": false
   },
   "outputs": [],
   "source": [
    "article_mapping['Sexual-assult \\nrelated\\n(Y/N)'] = (article_mapping['Sexual-assult \\nrelated\\n(Y/N)']\n",
    " .fillna('')\n",
    " .apply(lambda x: x.lower())\n",
    " .replace({\n",
    "     'y':'yes', \n",
    "     'n':'no',\n",
    "     '' :'maybe'\n",
    " })\n",
    ")"
   ]
  },
  {
   "cell_type": "code",
   "execution_count": 1098,
   "metadata": {
    "hideCode": false,
    "hidePrompt": false
   },
   "outputs": [],
   "source": [
    "article_mapping = article_mapping.set_index('Article')['Sexual-assult \\nrelated\\n(Y/N)']"
   ]
  },
  {
   "cell_type": "code",
   "execution_count": 1099,
   "metadata": {
    "hideCode": false,
    "hidePrompt": false
   },
   "outputs": [],
   "source": [
    "X = (army_df['itemized-article-invokations'].fillna('')\n",
    " .apply(lambda row: map(lambda item: article_mapping[item], row) if isinstance(row, list) else []))\n",
    "X = (X.apply(lambda x: pd.Series(Counter(x)))\n",
    "     .fillna(0)\n",
    "    )"
   ]
  },
  {
   "cell_type": "code",
   "execution_count": 1113,
   "metadata": {
    "hideCode": false,
    "hidePrompt": false
   },
   "outputs": [],
   "source": [
    "X = pd.concat([(X['yes'] + X['maybe']).to_frame('yes/maybe'), X['no']], axis=1)"
   ]
  },
  {
   "cell_type": "code",
   "execution_count": 1114,
   "metadata": {
    "hideCode": false,
    "hidePrompt": false
   },
   "outputs": [
    {
     "data": {
      "text/html": [
       "<div>\n",
       "<style scoped>\n",
       "    .dataframe tbody tr th:only-of-type {\n",
       "        vertical-align: middle;\n",
       "    }\n",
       "\n",
       "    .dataframe tbody tr th {\n",
       "        vertical-align: top;\n",
       "    }\n",
       "\n",
       "    .dataframe thead th {\n",
       "        text-align: right;\n",
       "    }\n",
       "</style>\n",
       "<table border=\"1\" class=\"dataframe\">\n",
       "  <thead>\n",
       "    <tr style=\"text-align: right;\">\n",
       "      <th></th>\n",
       "      <th>model auc</th>\n",
       "    </tr>\n",
       "  </thead>\n",
       "  <tbody>\n",
       "    <tr>\n",
       "      <th></th>\n",
       "      <td>0.606605</td>\n",
       "    </tr>\n",
       "    <tr>\n",
       "      <th>confined</th>\n",
       "      <td>0.486309</td>\n",
       "    </tr>\n",
       "    <tr>\n",
       "      <th>discharged</th>\n",
       "      <td>0.558118</td>\n",
       "    </tr>\n",
       "    <tr>\n",
       "      <th>forfeit</th>\n",
       "      <td>0.495616</td>\n",
       "    </tr>\n",
       "    <tr>\n",
       "      <th>reduced grade</th>\n",
       "      <td>0.509691</td>\n",
       "    </tr>\n",
       "    <tr>\n",
       "      <th>reprimanded</th>\n",
       "      <td>0.483871</td>\n",
       "    </tr>\n",
       "  </tbody>\n",
       "</table>\n",
       "</div>"
      ],
      "text/plain": [
       "               model auc\n",
       "                0.606605\n",
       "confined        0.486309\n",
       "discharged      0.558118\n",
       "forfeit         0.495616\n",
       "reduced grade   0.509691\n",
       "reprimanded     0.483871"
      ]
     },
     "execution_count": 1114,
     "metadata": {},
     "output_type": "execute_result"
    }
   ],
   "source": [
    "X_train, X_test, Y_train, Y_test = train_test_split(X, Y, test_size=.1)\n",
    "clf = OneVsRestClassifier(LogisticRegressionCV())\n",
    "clf.fit(X_train, Y_train)\n",
    "Y_pred = clf.predict_proba(X_test)\n",
    "get_multilabel_auc(Y_test, Y_pred, label='model auc')"
   ]
  },
  {
   "cell_type": "code",
   "execution_count": 1191,
   "metadata": {
    "hideCode": false,
    "hidePrompt": false
   },
   "outputs": [],
   "source": [
    "sexual_assault_articles = ['120a','120b','120c','120', '125']"
   ]
  },
  {
   "cell_type": "code",
   "execution_count": 1194,
   "metadata": {
    "hideCode": false,
    "hidePrompt": false
   },
   "outputs": [],
   "source": [
    "X = (army_df\n",
    "     ['itemized-article-invokations']\n",
    "     .fillna('')\n",
    "     .apply(lambda row: \n",
    "            map(lambda item: item in sexual_assault_articles, row)\n",
    "            if isinstance(row, list) \n",
    "            else []\n",
    "           )\n",
    "    )\n",
    "X = (X.apply(lambda x: pd.Series(Counter(x)))\n",
    "     .fillna(0)\n",
    "    )"
   ]
  },
  {
   "cell_type": "code",
   "execution_count": 1197,
   "metadata": {
    "hideCode": false,
    "hidePrompt": false
   },
   "outputs": [],
   "source": [
    "X = X.rename(columns={False: 'Not-Sexual Assault Related', True: 'Sexual Assault Related'})"
   ]
  },
  {
   "cell_type": "code",
   "execution_count": 1198,
   "metadata": {
    "hideCode": false,
    "hidePrompt": false
   },
   "outputs": [
    {
     "data": {
      "text/html": [
       "<div>\n",
       "<style scoped>\n",
       "    .dataframe tbody tr th:only-of-type {\n",
       "        vertical-align: middle;\n",
       "    }\n",
       "\n",
       "    .dataframe tbody tr th {\n",
       "        vertical-align: top;\n",
       "    }\n",
       "\n",
       "    .dataframe thead th {\n",
       "        text-align: right;\n",
       "    }\n",
       "</style>\n",
       "<table border=\"1\" class=\"dataframe\">\n",
       "  <thead>\n",
       "    <tr style=\"text-align: right;\">\n",
       "      <th></th>\n",
       "      <th>model auc</th>\n",
       "    </tr>\n",
       "  </thead>\n",
       "  <tbody>\n",
       "    <tr>\n",
       "      <th></th>\n",
       "      <td>0.765686</td>\n",
       "    </tr>\n",
       "    <tr>\n",
       "      <th>confined</th>\n",
       "      <td>0.557434</td>\n",
       "    </tr>\n",
       "    <tr>\n",
       "      <th>discharged</th>\n",
       "      <td>0.503871</td>\n",
       "    </tr>\n",
       "    <tr>\n",
       "      <th>forfeit</th>\n",
       "      <td>0.626614</td>\n",
       "    </tr>\n",
       "    <tr>\n",
       "      <th>reduced grade</th>\n",
       "      <td>0.524709</td>\n",
       "    </tr>\n",
       "    <tr>\n",
       "      <th>reprimanded</th>\n",
       "      <td>0.656085</td>\n",
       "    </tr>\n",
       "  </tbody>\n",
       "</table>\n",
       "</div>"
      ],
      "text/plain": [
       "               model auc\n",
       "                0.765686\n",
       "confined        0.557434\n",
       "discharged      0.503871\n",
       "forfeit         0.626614\n",
       "reduced grade   0.524709\n",
       "reprimanded     0.656085"
      ]
     },
     "execution_count": 1198,
     "metadata": {},
     "output_type": "execute_result"
    }
   ],
   "source": [
    "X_train, X_test, Y_train, Y_test = train_test_split(X, Y, test_size=.1)\n",
    "clf = OneVsRestClassifier(LogisticRegressionCV())\n",
    "clf.fit(X_train, Y_train)\n",
    "Y_pred = clf.predict_proba(X_test)\n",
    "get_multilabel_auc(Y_test, Y_pred, label='model auc')"
   ]
  },
  {
   "cell_type": "code",
   "execution_count": 1199,
   "metadata": {
    "hideCode": false,
    "hidePrompt": false
   },
   "outputs": [
    {
     "data": {
      "text/html": [
       "<div>\n",
       "<style scoped>\n",
       "    .dataframe tbody tr th:only-of-type {\n",
       "        vertical-align: middle;\n",
       "    }\n",
       "\n",
       "    .dataframe tbody tr th {\n",
       "        vertical-align: top;\n",
       "    }\n",
       "\n",
       "    .dataframe thead th {\n",
       "        text-align: right;\n",
       "    }\n",
       "</style>\n",
       "<table border=\"1\" class=\"dataframe\">\n",
       "  <thead>\n",
       "    <tr style=\"text-align: right;\">\n",
       "      <th></th>\n",
       "      <th>confined</th>\n",
       "      <th>discharged</th>\n",
       "      <th>reduced grade</th>\n",
       "      <th>forfeit</th>\n",
       "      <th>reprimanded</th>\n",
       "    </tr>\n",
       "  </thead>\n",
       "  <tbody>\n",
       "    <tr>\n",
       "      <th>Not-Sexual Assault Related</th>\n",
       "      <td>0.009874</td>\n",
       "      <td>0.005449</td>\n",
       "      <td>0.009936</td>\n",
       "      <td>0.005007</td>\n",
       "      <td>0.002903</td>\n",
       "    </tr>\n",
       "    <tr>\n",
       "      <th>Sexual Assault Related</th>\n",
       "      <td>0.000248</td>\n",
       "      <td>0.005087</td>\n",
       "      <td>-0.003302</td>\n",
       "      <td>0.002143</td>\n",
       "      <td>-0.001782</td>\n",
       "    </tr>\n",
       "  </tbody>\n",
       "</table>\n",
       "</div>"
      ],
      "text/plain": [
       "                            confined  discharged  reduced grade   forfeit  \\\n",
       "Not-Sexual Assault Related  0.009874    0.005449       0.009936  0.005007   \n",
       "Sexual Assault Related      0.000248    0.005087      -0.003302  0.002143   \n",
       "\n",
       "                            reprimanded  \n",
       "Not-Sexual Assault Related     0.002903  \n",
       "Sexual Assault Related        -0.001782  "
      ]
     },
     "execution_count": 1199,
     "metadata": {},
     "output_type": "execute_result"
    }
   ],
   "source": [
    "pd.DataFrame(clf.coef_, index=Y_test.columns, columns=X_test.columns).T.drop('', axis=1)"
   ]
  },
  {
   "cell_type": "code",
   "execution_count": 1249,
   "metadata": {
    "hideCode": false,
    "hidePrompt": false
   },
   "outputs": [
    {
     "data": {
      "text/plain": [
       "<matplotlib.text.Text at 0x13017fbd0>"
      ]
     },
     "execution_count": 1249,
     "metadata": {},
     "output_type": "execute_result"
    },
    {
     "data": {
      "image/png": "[encoded data removed]",
      "text/plain": [
       "<matplotlib.figure.Figure at 0x13b199990>"
      ]
     },
     "metadata": {},
     "output_type": "display_data"
    }
   ],
   "source": [
    "pd.DataFrame(clf.coef_, index=Y_test.columns, columns=X_test.columns).T.drop('', axis=1).T.plot(kind='bar')\n",
    "plt.title('Likelihood of Getting a Punishment Given an Assault')"
   ]
  },
  {
   "cell_type": "markdown",
   "metadata": {
    "hideCode": false,
    "hidePrompt": false
   },
   "source": [
    "# Accusation word analysis"
   ]
  },
  {
   "cell_type": "code",
   "execution_count": null,
   "metadata": {
    "hideCode": false,
    "hidePrompt": false
   },
   "outputs": [],
   "source": []
  },
  {
   "cell_type": "code",
   "execution_count": 1206,
   "metadata": {
    "hideCode": false,
    "hidePrompt": false
   },
   "outputs": [],
   "source": [
    "X = (army_df['Offense Description']\n",
    "     .fillna('')\n",
    "     .apply(lambda x: any([item in x.lower() for item in ['rape', 'sex'] ])))"
   ]
  },
  {
   "cell_type": "code",
   "execution_count": 1176,
   "metadata": {
    "hideCode": false,
    "hidePrompt": false
   },
   "outputs": [],
   "source": [
    "X = X.apply(lambda x: pd.Series({'Sex-related':int(x), 'Not-sex-related':int(not x)}) )"
   ]
  },
  {
   "cell_type": "code",
   "execution_count": 1177,
   "metadata": {
    "hideCode": false,
    "hidePrompt": false
   },
   "outputs": [
    {
     "data": {
      "text/html": [
       "<div>\n",
       "<style scoped>\n",
       "    .dataframe tbody tr th:only-of-type {\n",
       "        vertical-align: middle;\n",
       "    }\n",
       "\n",
       "    .dataframe tbody tr th {\n",
       "        vertical-align: top;\n",
       "    }\n",
       "\n",
       "    .dataframe thead th {\n",
       "        text-align: right;\n",
       "    }\n",
       "</style>\n",
       "<table border=\"1\" class=\"dataframe\">\n",
       "  <thead>\n",
       "    <tr style=\"text-align: right;\">\n",
       "      <th></th>\n",
       "      <th>model auc</th>\n",
       "    </tr>\n",
       "  </thead>\n",
       "  <tbody>\n",
       "    <tr>\n",
       "      <th></th>\n",
       "      <td>0.706863</td>\n",
       "    </tr>\n",
       "    <tr>\n",
       "      <th>confined</th>\n",
       "      <td>0.516734</td>\n",
       "    </tr>\n",
       "    <tr>\n",
       "      <th>discharged</th>\n",
       "      <td>0.538288</td>\n",
       "    </tr>\n",
       "    <tr>\n",
       "      <th>forfeit</th>\n",
       "      <td>0.571011</td>\n",
       "    </tr>\n",
       "    <tr>\n",
       "      <th>reduced grade</th>\n",
       "      <td>0.543443</td>\n",
       "    </tr>\n",
       "    <tr>\n",
       "      <th>reprimanded</th>\n",
       "      <td>0.664804</td>\n",
       "    </tr>\n",
       "  </tbody>\n",
       "</table>\n",
       "</div>"
      ],
      "text/plain": [
       "               model auc\n",
       "                0.706863\n",
       "confined        0.516734\n",
       "discharged      0.538288\n",
       "forfeit         0.571011\n",
       "reduced grade   0.543443\n",
       "reprimanded     0.664804"
      ]
     },
     "execution_count": 1177,
     "metadata": {},
     "output_type": "execute_result"
    }
   ],
   "source": [
    "X_train, X_test, Y_train, Y_test = train_test_split(X, Y, test_size=.1)\n",
    "clf = OneVsRestClassifier(LogisticRegressionCV())\n",
    "clf.fit(X_train, Y_train)\n",
    "Y_pred = clf.predict_proba(X_test)\n",
    "get_multilabel_auc(Y_test, Y_pred, label='model auc')"
   ]
  },
  {
   "cell_type": "code",
   "execution_count": 1183,
   "metadata": {
    "hideCode": false,
    "hidePrompt": false
   },
   "outputs": [
    {
     "data": {
      "text/html": [
       "<div>\n",
       "<style scoped>\n",
       "    .dataframe tbody tr th:only-of-type {\n",
       "        vertical-align: middle;\n",
       "    }\n",
       "\n",
       "    .dataframe tbody tr th {\n",
       "        vertical-align: top;\n",
       "    }\n",
       "\n",
       "    .dataframe thead th {\n",
       "        text-align: right;\n",
       "    }\n",
       "</style>\n",
       "<table border=\"1\" class=\"dataframe\">\n",
       "  <thead>\n",
       "    <tr style=\"text-align: right;\">\n",
       "      <th></th>\n",
       "      <th>confined</th>\n",
       "      <th>discharged</th>\n",
       "      <th>reduced grade</th>\n",
       "      <th>forfeit</th>\n",
       "      <th>reprimanded</th>\n",
       "    </tr>\n",
       "  </thead>\n",
       "  <tbody>\n",
       "    <tr>\n",
       "      <th>Not-sex-related</th>\n",
       "      <td>0.001844</td>\n",
       "      <td>-0.001696</td>\n",
       "      <td>0.004529</td>\n",
       "      <td>0.000493</td>\n",
       "      <td>0.001923</td>\n",
       "    </tr>\n",
       "    <tr>\n",
       "      <th>Sex-related</th>\n",
       "      <td>-0.001851</td>\n",
       "      <td>0.001704</td>\n",
       "      <td>-0.004530</td>\n",
       "      <td>-0.000494</td>\n",
       "      <td>-0.001925</td>\n",
       "    </tr>\n",
       "  </tbody>\n",
       "</table>\n",
       "</div>"
      ],
      "text/plain": [
       "                 confined  discharged  reduced grade   forfeit  reprimanded\n",
       "Not-sex-related  0.001844   -0.001696       0.004529  0.000493     0.001923\n",
       "Sex-related     -0.001851    0.001704      -0.004530 -0.000494    -0.001925"
      ]
     },
     "execution_count": 1183,
     "metadata": {},
     "output_type": "execute_result"
    }
   ],
   "source": [
    "pd.DataFrame(clf.coef_, index=Y_test.columns, columns=X_test.columns).T.drop('', axis=1)"
   ]
  },
  {
   "cell_type": "code",
   "execution_count": 1187,
   "metadata": {
    "hideCode": false,
    "hidePrompt": false
   },
   "outputs": [
    {
     "data": {
      "text/html": [
       "<div>\n",
       "<style scoped>\n",
       "    .dataframe tbody tr th:only-of-type {\n",
       "        vertical-align: middle;\n",
       "    }\n",
       "\n",
       "    .dataframe tbody tr th {\n",
       "        vertical-align: top;\n",
       "    }\n",
       "\n",
       "    .dataframe thead th {\n",
       "        text-align: right;\n",
       "    }\n",
       "</style>\n",
       "<table border=\"1\" class=\"dataframe\">\n",
       "  <thead>\n",
       "    <tr style=\"text-align: right;\">\n",
       "      <th></th>\n",
       "      <th>confined</th>\n",
       "      <th>discharged</th>\n",
       "      <th>reduced grade</th>\n",
       "      <th>forfeit</th>\n",
       "      <th></th>\n",
       "      <th>reprimanded</th>\n",
       "    </tr>\n",
       "  </thead>\n",
       "  <tbody>\n",
       "    <tr>\n",
       "      <th>Not-sex-related</th>\n",
       "      <td>0.001844</td>\n",
       "      <td>-0.001696</td>\n",
       "      <td>0.004529</td>\n",
       "      <td>0.000493</td>\n",
       "      <td>-0.008991</td>\n",
       "      <td>0.001923</td>\n",
       "    </tr>\n",
       "    <tr>\n",
       "      <th>Sex-related</th>\n",
       "      <td>-0.001851</td>\n",
       "      <td>0.001704</td>\n",
       "      <td>-0.004530</td>\n",
       "      <td>-0.000494</td>\n",
       "      <td>0.008991</td>\n",
       "      <td>-0.001925</td>\n",
       "    </tr>\n",
       "    <tr>\n",
       "      <th>Article 120</th>\n",
       "      <td>0.264282</td>\n",
       "      <td>0.473397</td>\n",
       "      <td>-0.001891</td>\n",
       "      <td>0.141676</td>\n",
       "      <td>0.005518</td>\n",
       "      <td>-0.001187</td>\n",
       "    </tr>\n",
       "  </tbody>\n",
       "</table>\n",
       "</div>"
      ],
      "text/plain": [
       "                 confined  discharged  reduced grade   forfeit            \\\n",
       "Not-sex-related  0.001844   -0.001696       0.004529  0.000493 -0.008991   \n",
       "Sex-related     -0.001851    0.001704      -0.004530 -0.000494  0.008991   \n",
       "Article 120      0.264282    0.473397      -0.001891  0.141676  0.005518   \n",
       "\n",
       "                 reprimanded  \n",
       "Not-sex-related     0.001923  \n",
       "Sex-related        -0.001925  \n",
       "Article 120        -0.001187  "
      ]
     },
     "execution_count": 1187,
     "metadata": {},
     "output_type": "execute_result"
    }
   ],
   "source": [
    "pd.concat([\n",
    "    pd.DataFrame(clf.coef_, index=Y_test.columns, columns=X_test.columns).T,\n",
    "    pd.DataFrame([0.264282, 0.473397, -0.001891, 0.141676, 0.005518, -0.001187], columns=['Article 120'], index=Y_test.columns).T\n",
    "])"
   ]
  },
  {
   "cell_type": "code",
   "execution_count": null,
   "metadata": {
    "hideCode": false,
    "hidePrompt": false
   },
   "outputs": [],
   "source": []
  },
  {
   "cell_type": "code",
   "execution_count": 1236,
   "metadata": {
    "hideCode": false,
    "hidePrompt": false
   },
   "outputs": [],
   "source": [
    "cash = cash_punishment_list.apply(lambda x: filter(lambda x: x, list(set(x)))).apply(lambda x: x[-1] if len(x) >= 1 else None)"
   ]
  },
  {
   "cell_type": "code",
   "execution_count": 1238,
   "metadata": {
    "hideCode": false,
    "hidePrompt": false
   },
   "outputs": [],
   "source": [
    "t = pd.concat([X, cash], axis=1)"
   ]
  },
  {
   "cell_type": "code",
   "execution_count": 1245,
   "metadata": {
    "hideCode": false,
    "hidePrompt": false
   },
   "outputs": [
    {
     "data": {
      "image/png": "[encoded data removed]",
      "text/plain": [
       "<matplotlib.figure.Figure at 0x131ea4150>"
      ]
     },
     "metadata": {},
     "output_type": "display_data"
    }
   ],
   "source": [
    "ax = t[t['Offense Description'] == True]['Sentence'].hist(alpha=.1, label='Sexual Assult', bins=50, range=(0,3000))\n",
    "t[t['Offense Description'] == True]['Sentence'].hist( ax=ax, alpha=.1, label='Not', bins=50, range=(0,3000))\n",
    "plt.legend()\n",
    "plt.grid()"
   ]
  },
  {
   "cell_type": "code",
   "execution_count": null,
   "metadata": {},
   "outputs": [],
   "source": []
  },
  {
   "cell_type": "code",
   "execution_count": null,
   "metadata": {},
   "outputs": [],
   "source": []
  },
  {
   "cell_type": "code",
   "execution_count": null,
   "metadata": {},
   "outputs": [],
   "source": []
  },
  {
   "cell_type": "code",
   "execution_count": null,
   "metadata": {},
   "outputs": [],
   "source": []
  }
 ],
 "metadata": {
  "anaconda-cloud": {},
  "hide_code_all_hidden": false,
  "kernelspec": {
   "display_name": "Python 2",
   "language": "python",
   "name": "python2"
  },
  "language_info": {
   "codemirror_mode": {
    "name": "ipython",
    "version": 2
   },
   "file_extension": ".py",
   "mimetype": "text/x-python",
   "name": "python",
   "nbconvert_exporter": "python",
   "pygments_lexer": "ipython2",
   "version": "2.7.13"
  }
 },
 "nbformat": 4,
 "nbformat_minor": 1
}
