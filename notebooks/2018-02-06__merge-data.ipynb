{
 "cells": [
  {
   "cell_type": "code",
   "execution_count": 1,
   "metadata": {},
   "outputs": [],
   "source": [
    "import pandas as pd"
   ]
  },
  {
   "cell_type": "code",
   "execution_count": 3,
   "metadata": {},
   "outputs": [
    {
     "name": "stdout",
     "output_type": "stream",
     "text": [
      "SAPRO_13_all.xlsx  SAPRO_16_all.xlsx  \u001b[34mSAPRO_2015\u001b[m\u001b[m/        \u001b[34mmisc\u001b[m\u001b[m/\r\n",
      "SAPRO_14_all.xlsx  \u001b[34mSAPRO_2013\u001b[m\u001b[m/        \u001b[34mSAPRO_2016\u001b[m\u001b[m/\r\n",
      "SAPRO_15_all.xlsx  \u001b[34mSAPRO_2014\u001b[m\u001b[m/        SAPRO_all.xlsx\r\n"
     ]
    }
   ],
   "source": [
    "ls ../data/sapro/SAPRO\\ Annual\\ Reports"
   ]
  },
  {
   "cell_type": "code",
   "execution_count": 9,
   "metadata": {},
   "outputs": [
    {
     "name": "stdout",
     "output_type": "stream",
     "text": [
      "FY13_DoD_SAPRO_Annual_Report_on_Sexual_Assault.pdf\r\n",
      "\u001b[34mOLD\u001b[m\u001b[m/\r\n",
      "SAPRO_charts_airforce_13.pdf\r\n",
      "SAPRO_charts_army_13.pdf\r\n",
      "SAPRO_charts_marinecoprs_13.pdf\r\n",
      "SAPRO_charts_navy_13.pdf\r\n",
      "SAPRO_usmcworkplaceinspection_13.pdf\r\n",
      "\u001b[34mworkbooks\u001b[m\u001b[m/\r\n"
     ]
    }
   ],
   "source": [
    "ls ../data/sapro/SAPRO\\ Annual\\ Reports/SAPRO_2013/"
   ]
  },
  {
   "cell_type": "code",
   "execution_count": 236,
   "metadata": {},
   "outputs": [],
   "source": [
    "gold_standard = pd.read_excel('../data/sapro/SAPRO Annual Reports/SAPRO_13_all.xlsx', index_col=0)"
   ]
  },
  {
   "cell_type": "code",
   "execution_count": 242,
   "metadata": {},
   "outputs": [
    {
     "data": {
      "text/plain": [
       "No.\n",
       "1       NO\n",
       "2       NO\n",
       "3       NO\n",
       "4       NO\n",
       "5       NO\n",
       "6      YES\n",
       "7       NO\n",
       "8      YES\n",
       "9       NO\n",
       "10      NO\n",
       "11      NO\n",
       "12      NO\n",
       "13      NO\n",
       "14      NO\n",
       "15      NO\n",
       "16      NO\n",
       "17      NO\n",
       "18      NO\n",
       "19      NO\n",
       "20      NO\n",
       "21      NO\n",
       "22      NO\n",
       "23      NO\n",
       "24      NO\n",
       "26      NO\n",
       "27     YES\n",
       "28      NO\n",
       "29      NO\n",
       "30      NO\n",
       "31      NO\n",
       "      ... \n",
       "260     NO\n",
       "261     NO\n",
       "262     NO\n",
       "263     NO\n",
       "264     NO\n",
       "265     NO\n",
       "266     NO\n",
       "267     NO\n",
       "268     NO\n",
       "269     NO\n",
       "270     NO\n",
       "271     NO\n",
       "272     NO\n",
       "273     NO\n",
       "274     NO\n",
       "275     NO\n",
       "276     NO\n",
       "277     NO\n",
       "278     NO\n",
       "280     NO\n",
       "281     NO\n",
       "282     NO\n",
       "283     NO\n",
       "284     NO\n",
       "285     NO\n",
       "286     NO\n",
       "287     NO\n",
       "288     NO\n",
       "289     NO\n",
       "290     NO\n",
       "Name: Subject:\\rPrior\\rInvesti-\\rgation\\rfor Sex\\rAssault?, Length: 2041, dtype: object"
      ]
     },
     "execution_count": 242,
     "metadata": {},
     "output_type": "execute_result"
    }
   ],
   "source": [
    "gold_standard['Subject:\\rPrior\\rInvesti-\\rgation\\rfor Sex\\rAssault?'].fillna('NO')"
   ]
  },
  {
   "cell_type": "code",
   "execution_count": null,
   "metadata": {},
   "outputs": [],
   "source": []
  },
  {
   "cell_type": "code",
   "execution_count": null,
   "metadata": {},
   "outputs": [],
   "source": []
  },
  {
   "cell_type": "code",
   "execution_count": null,
   "metadata": {},
   "outputs": [],
   "source": []
  },
  {
   "cell_type": "code",
   "execution_count": 18,
   "metadata": {},
   "outputs": [],
   "source": [
    "t = pd.read_csv('/Users/206309/Downloads/tabula-SAPRO_charts_army_14 (1).csv')"
   ]
  },
  {
   "cell_type": "code",
   "execution_count": 40,
   "metadata": {},
   "outputs": [],
   "source": [
    "t = t.drop((t\n",
    " .isnull()\n",
    " .apply(lambda x: x.value_counts()).T\n",
    " .pipe(lambda df: df[df.apply(lambda x: pd.isnull(x[False]), axis=1)])).index, axis=1)"
   ]
  },
  {
   "cell_type": "code",
   "execution_count": 45,
   "metadata": {},
   "outputs": [],
   "source": [
    "t2 = t.apply(lambda x: x.value_counts())"
   ]
  },
  {
   "cell_type": "code",
   "execution_count": 247,
   "metadata": {},
   "outputs": [],
   "source": [
    "def consolidate_col(value_set, cn_list=None,  default_val='First'):\n",
    "    if cn_list == None:\n",
    "        cn_list = list(t2.loc[value_set].fillna(0).sum().pipe(lambda s: s[s!=0]).index)\n",
    "    \n",
    "    value_set = map(lambda x: x.lower(), value_set)\n",
    "    output_col = pd.Series(index=t.index)\n",
    "    for idx, row in t[cn_list].iterrows():\n",
    "        for col in row:\n",
    "            if pd.notnull(col):\n",
    "                if col.lower() in value_set:\n",
    "                    if default_val=='First':\n",
    "                        if pd.isnull(output_col[idx]):\n",
    "                            output_col[idx] = col\n",
    "                    else:\n",
    "                        output_col[idx] = col\n",
    "                    # what if there are two col that are each in the value_set? \n",
    "                    # last is the one used, I guess\n",
    "                    \n",
    "    return output_col"
   ]
  },
  {
   "cell_type": "code",
   "execution_count": 394,
   "metadata": {},
   "outputs": [],
   "source": [
    "all_output_cols = []"
   ]
  },
  {
   "cell_type": "markdown",
   "metadata": {},
   "source": [
    "# index"
   ]
  },
  {
   "cell_type": "code",
   "execution_count": 395,
   "metadata": {},
   "outputs": [],
   "source": [
    "numbers = t2.iloc[:998, :].index"
   ]
  },
  {
   "cell_type": "code",
   "execution_count": 396,
   "metadata": {},
   "outputs": [],
   "source": [
    "numbers = consolidate_col(numbers).to_frame('No.')\n",
    "all_output_cols.append(numbers)"
   ]
  },
  {
   "cell_type": "markdown",
   "metadata": {},
   "source": [
    "# Allegation"
   ]
  },
  {
   "cell_type": "code",
   "execution_count": 397,
   "metadata": {},
   "outputs": [
    {
     "data": {
      "text/plain": [
       "['Abusive Sexual\\rContact (Art.\\r120)',\n",
       " 'Sexual Assault\\r(Art. 120)',\n",
       " 'Rape (Art. 120)',\n",
       " 'Aggravated\\rSexual Contact\\r(Art. 120)',\n",
       " 'Aggravated\\rSexual Assault\\r(Art. 120)',\n",
       " 'Wrongful Sexual\\rContact (Art.\\r120)',\n",
       " 'Non-Consensual\\rSodomy (Art.\\r125)']"
      ]
     },
     "execution_count": 397,
     "metadata": {},
     "output_type": "execute_result"
    }
   ],
   "source": [
    "list(t['Unnamed: 1'].value_counts()[:7].index)"
   ]
  },
  {
   "cell_type": "code",
   "execution_count": 398,
   "metadata": {},
   "outputs": [],
   "source": [
    "a_list = list(t['Unnamed: 1'].value_counts()[:7].index)+[\n",
    "     'Abusive Sexual\\rContact (Art.\\r120)',\n",
    "     'Sexual Assault\\r(Art. 120)',\n",
    "     'Rape (Art. 120)',\n",
    "     'Aggravated\\rSexual Contact\\r(Art. 120)',\n",
    "     'Aggravated\\rSexual Assault\\r(Art. 120)',\n",
    "     'Wrongful Sexual\\rContact (Art.\\r120)',\n",
    "     'Non-Consensual\\rSodomy (Art.\\r125)',\n",
    "     'Indecent Assault\\r(Art. 134)',\n",
    "     'Attempts to\\rCommit\\rOffenses (Art.\\r80)'\n",
    "]"
   ]
  },
  {
   "cell_type": "code",
   "execution_count": 399,
   "metadata": {},
   "outputs": [
    {
     "data": {
      "text/plain": [
       "['Abusive Sexual\\rContact (Art.\\r120)',\n",
       " 'Sexual Assault\\r(Art. 120)',\n",
       " 'Rape (Art. 120)',\n",
       " 'Aggravated\\rSexual Contact\\r(Art. 120)',\n",
       " 'Aggravated\\rSexual Assault\\r(Art. 120)',\n",
       " 'Wrongful Sexual\\rContact (Art.\\r120)',\n",
       " 'Non-Consensual\\rSodomy (Art.\\r125)',\n",
       " 'Abusive Sexual\\rContact (Art.\\r120)',\n",
       " 'Sexual Assault\\r(Art. 120)',\n",
       " 'Rape (Art. 120)',\n",
       " 'Aggravated\\rSexual Contact\\r(Art. 120)',\n",
       " 'Aggravated\\rSexual Assault\\r(Art. 120)',\n",
       " 'Wrongful Sexual\\rContact (Art.\\r120)',\n",
       " 'Non-Consensual\\rSodomy (Art.\\r125)',\n",
       " 'Indecent Assault\\r(Art. 134)',\n",
       " 'Attempts to\\rCommit\\rOffenses (Art.\\r80)']"
      ]
     },
     "execution_count": 399,
     "metadata": {},
     "output_type": "execute_result"
    }
   ],
   "source": [
    "a_list"
   ]
  },
  {
   "cell_type": "code",
   "execution_count": 400,
   "metadata": {},
   "outputs": [],
   "source": [
    "allegation = consolidate_col(a_list).to_frame('Most Serious Sexual Assault Allegation Subject is Investigated For')\n",
    "all_output_cols.append(allegation)"
   ]
  },
  {
   "cell_type": "markdown",
   "metadata": {},
   "source": [
    "# Location"
   ]
  },
  {
   "cell_type": "code",
   "execution_count": 401,
   "metadata": {},
   "outputs": [],
   "source": [
    "location_list = t['Unnamed: 2'].value_counts().index"
   ]
  },
  {
   "cell_type": "code",
   "execution_count": 402,
   "metadata": {},
   "outputs": [],
   "source": [
    "location = consolidate_col(location_list).to_frame('Incident Location')\n",
    "all_output_cols.append(location)"
   ]
  },
  {
   "cell_type": "markdown",
   "metadata": {},
   "source": [
    "# Victim affiliation"
   ]
  },
  {
   "cell_type": "code",
   "execution_count": 403,
   "metadata": {},
   "outputs": [],
   "source": [
    "affil_list = ['Army',\n",
    " 'Unknown',\n",
    " 'Air Force',\n",
    " 'Navy',\n",
    " 'DoD']"
   ]
  },
  {
   "cell_type": "code",
   "execution_count": 404,
   "metadata": {},
   "outputs": [],
   "source": [
    "cols = list(t2.loc[affil_list].fillna(0).sum().pipe(lambda s: s[s!=0]).index)"
   ]
  },
  {
   "cell_type": "code",
   "execution_count": 406,
   "metadata": {},
   "outputs": [],
   "source": [
    "affil = consolidate_col(affil_list).to_frame('Victim Affiliation')\n",
    "all_output_cols.append(affil)"
   ]
  },
  {
   "cell_type": "markdown",
   "metadata": {},
   "source": [
    "# Victim Pay Grade"
   ]
  },
  {
   "cell_type": "code",
   "execution_count": 407,
   "metadata": {},
   "outputs": [],
   "source": [
    "list(t['Unnamed: 4'].value_counts().index)\n",
    "pay_grade_list = ['E-4',\n",
    " 'E-3',\n",
    " 'US Civilian',\n",
    " 'E-2',\n",
    " 'E-1',\n",
    " 'Unknown',\n",
    " 'E-5',\n",
    " 'E-6',\n",
    " 'O-1',\n",
    " 'E-7',\n",
    " 'O-2',\n",
    " 'Foreign\\rNational',\n",
    " 'O-4',\n",
    " 'O-3',\n",
    " 'Prep School\\rStudent',\n",
    " 'C-1',\n",
    " 'O-5']"
   ]
  },
  {
   "cell_type": "code",
   "execution_count": 408,
   "metadata": {},
   "outputs": [],
   "source": [
    "cols = list(t2.loc[pay_grade_list].fillna(0).sum().pipe(lambda s: s[s!=0]).index)"
   ]
  },
  {
   "cell_type": "code",
   "execution_count": 410,
   "metadata": {},
   "outputs": [],
   "source": [
    "vict = consolidate_col(pay_grade_list)\n",
    "all_output_cols.append(vict.to_frame('Victim Pay Grade'))"
   ]
  },
  {
   "cell_type": "markdown",
   "metadata": {},
   "source": [
    "# Victim Gender"
   ]
  },
  {
   "cell_type": "code",
   "execution_count": 411,
   "metadata": {},
   "outputs": [],
   "source": [
    "vals = ['Male','Female','Unknown']"
   ]
  },
  {
   "cell_type": "code",
   "execution_count": 412,
   "metadata": {},
   "outputs": [],
   "source": [
    "all_output_cols.append(consolidate_col(vals).to_frame('Victim Gender'))"
   ]
  },
  {
   "cell_type": "markdown",
   "metadata": {},
   "source": [
    "# Subject Affiliation"
   ]
  },
  {
   "cell_type": "code",
   "execution_count": 413,
   "metadata": {},
   "outputs": [
    {
     "data": {
      "text/plain": [
       "['Army', 'Unknown', 'Air Force', 'Navy', 'DoD']"
      ]
     },
     "execution_count": 413,
     "metadata": {},
     "output_type": "execute_result"
    }
   ],
   "source": [
    "affil_list"
   ]
  },
  {
   "cell_type": "code",
   "execution_count": 414,
   "metadata": {},
   "outputs": [],
   "source": [
    "c = consolidate_col(affil_list, default_val='Last').to_frame('Subject Affiliation')\n",
    "all_output_cols.append(c)"
   ]
  },
  {
   "cell_type": "markdown",
   "metadata": {},
   "source": [
    "# Subject Pay Grade"
   ]
  },
  {
   "cell_type": "code",
   "execution_count": 415,
   "metadata": {},
   "outputs": [],
   "source": [
    "c = consolidate_col(pay_grade_list, default_val='Last').to_frame('Subject Pay Grade')"
   ]
  },
  {
   "cell_type": "code",
   "execution_count": 416,
   "metadata": {},
   "outputs": [],
   "source": [
    "all_output_cols.append(c)"
   ]
  },
  {
   "cell_type": "markdown",
   "metadata": {},
   "source": [
    "# Subject Gender"
   ]
  },
  {
   "cell_type": "code",
   "execution_count": 417,
   "metadata": {},
   "outputs": [],
   "source": [
    "c = consolidate_col(vals, default_val='Last').to_frame('Subject Gender')"
   ]
  },
  {
   "cell_type": "code",
   "execution_count": 418,
   "metadata": {},
   "outputs": [],
   "source": [
    "all_output_cols.append(c)"
   ]
  },
  {
   "cell_type": "markdown",
   "metadata": {},
   "source": [
    "# Subject: Prior Investigation for Sex Assault?"
   ]
  },
  {
   "cell_type": "code",
   "execution_count": 419,
   "metadata": {},
   "outputs": [],
   "source": [
    "colname ='Subject: Prior Investigation for Sex Assault?'"
   ]
  },
  {
   "cell_type": "code",
   "execution_count": 420,
   "metadata": {},
   "outputs": [],
   "source": [
    "prior_inv_vals = ['Yes','No']\n",
    "c = consolidate_col(prior_inv_vals, default_val='First').to_frame(colname)\n",
    "all_output_cols.append(c)"
   ]
  },
  {
   "cell_type": "markdown",
   "metadata": {},
   "source": [
    "# Subject: Moral Waiver Accession"
   ]
  },
  {
   "cell_type": "code",
   "execution_count": 421,
   "metadata": {},
   "outputs": [],
   "source": [
    "colname = 'Subject: Moral Waiver Accession'"
   ]
  },
  {
   "cell_type": "code",
   "execution_count": 422,
   "metadata": {},
   "outputs": [],
   "source": [
    "c = consolidate_col(prior_inv_vals, default_val='Last').to_frame(colname)\n",
    "all_output_cols.append(c)"
   ]
  },
  {
   "cell_type": "markdown",
   "metadata": {},
   "source": [
    "# Subject Referral Type"
   ]
  },
  {
   "cell_type": "code",
   "execution_count": 423,
   "metadata": {},
   "outputs": [],
   "source": [
    "colname= 'Subject Referral Type'\n",
    "ref_val = ['Other']\n",
    "c = consolidate_col(prior_inv_vals, default_val='Last').to_frame(colname)\n",
    "all_output_cols.append(c)"
   ]
  },
  {
   "cell_type": "markdown",
   "metadata": {},
   "source": [
    "# Quarter Disposition Completed"
   ]
  },
  {
   "cell_type": "code",
   "execution_count": 424,
   "metadata": {},
   "outputs": [],
   "source": [
    "quarter= ['Q1 (October-\\rDecember)',\n",
    " 'Q2 (January-\\rMarch)',\n",
    " 'Q3 (April-\\rJune)',\n",
    " 'Q4 (July-\\rSeptember)']\n",
    "colname = \"Quarter Disposition Completed\"\n",
    "c = consolidate_col(quarter, default_val='First').to_frame(colname)\n",
    "all_output_cols.append(c)"
   ]
  },
  {
   "cell_type": "markdown",
   "metadata": {},
   "source": [
    "# Case Disposition"
   ]
  },
  {
   "cell_type": "code",
   "execution_count": 425,
   "metadata": {},
   "outputs": [],
   "source": [
    "list(t['Unnamed: 13'].value_counts().index)\n",
    "case_dis = [\n",
    "    'Courts-Martial\\rCharge\\rPreferred',\n",
    "    'Non-Judicial\\rPunishment',\n",
    "    'Non-judicial\\rpunishment for\\rnon-sexual\\rassault offense',\n",
    "    'Offender is\\rUnknown',\n",
    "    'Other Adverse\\rAdministrative\\rAction',\n",
    "    'Administrative\\rDischarge',\n",
    "    'Subject is a\\rCivilian or\\rForeign\\rNational',\n",
    "    'A\\rCivilian/Foreign\\rauthority is\\rProsecuting\\rService Member',\n",
    "    'Administrative\\rdischarge for\\rnon-sexual\\rassault offense',\n",
    "    'Other adverse\\radministrative\\ractions for non-\\rsexual assault\\roffense',\n",
    "    'Courts-Martial\\rcharge\\rpreferred for\\rnon-sexual\\rassault offense',\n",
    "]"
   ]
  },
  {
   "cell_type": "code",
   "execution_count": 426,
   "metadata": {},
   "outputs": [],
   "source": [
    "colname = \"Case Disposition\"\n",
    "c = consolidate_col(case_dis, default_val='First').to_frame(colname)\n",
    "all_output_cols.append(c)"
   ]
  },
  {
   "cell_type": "markdown",
   "metadata": {},
   "source": [
    "# Most Serious Sexual Assault Offense Charged"
   ]
  },
  {
   "cell_type": "code",
   "execution_count": 427,
   "metadata": {},
   "outputs": [],
   "source": [
    "colname = 'Most Serious Sexual Assault Offense Charged'"
   ]
  },
  {
   "cell_type": "code",
   "execution_count": 428,
   "metadata": {},
   "outputs": [],
   "source": [
    "c = consolidate_col(a_list, default_val='Last').to_frame(colname)\n",
    "all_output_cols.append(c)"
   ]
  },
  {
   "cell_type": "markdown",
   "metadata": {},
   "source": [
    "# Court Case or Article 15 Outcome"
   ]
  },
  {
   "cell_type": "code",
   "execution_count": 429,
   "metadata": {},
   "outputs": [],
   "source": [
    "colname = 'Court Case or Article 15 Outcome'\n",
    "outcome_list = t['Unnamed: 33'].value_counts().index\n",
    "outcome_list_2 = list(t['Unnamed: 16'].value_counts().index)\n",
    "outcome_list = list(set(list(outcome_list) + outcome_list_2))"
   ]
  },
  {
   "cell_type": "code",
   "execution_count": 430,
   "metadata": {},
   "outputs": [],
   "source": [
    "c = consolidate_col(outcome_list, default_val='Last').to_frame(colname)\n",
    "all_output_cols.append(c)"
   ]
  },
  {
   "cell_type": "markdown",
   "metadata": {},
   "source": [
    "# Reason Charges Dismissed"
   ]
  },
  {
   "cell_type": "code",
   "execution_count": 431,
   "metadata": {},
   "outputs": [],
   "source": [
    "dis_vals= [t['Unnamed: 35'].value_counts().index[0]]"
   ]
  },
  {
   "cell_type": "code",
   "execution_count": 432,
   "metadata": {},
   "outputs": [],
   "source": [
    "c = consolidate_col(dis_vals, default_val='Last').to_frame('Reason Charges Dismissed at Art 32 Hearing, if Applicable')\n",
    "all_output_cols.append(c)"
   ]
  },
  {
   "cell_type": "markdown",
   "metadata": {},
   "source": [
    "# Administrative Actions"
   ]
  },
  {
   "cell_type": "code",
   "execution_count": 433,
   "metadata": {},
   "outputs": [],
   "source": [
    "admin_actions = list(t['Unnamed: 39'].value_counts().index)\n",
    "c = consolidate_col(admin_actions, default_val='Last').to_frame('Administrative Discharge Type')"
   ]
  },
  {
   "cell_type": "code",
   "execution_count": 434,
   "metadata": {},
   "outputs": [],
   "source": [
    "all_output_cols.append(c)"
   ]
  },
  {
   "cell_type": "markdown",
   "metadata": {},
   "source": [
    "# Must Register as a Sex Offender"
   ]
  },
  {
   "cell_type": "code",
   "execution_count": 435,
   "metadata": {},
   "outputs": [],
   "source": [
    "all_output_cols.append(t['Unnamed: 41'].to_frame('Must Register as Sex Offender'))"
   ]
  },
  {
   "cell_type": "markdown",
   "metadata": {},
   "source": [
    "# Alcohol Use"
   ]
  },
  {
   "cell_type": "code",
   "execution_count": 436,
   "metadata": {},
   "outputs": [],
   "source": [
    "alc_list = list(t['Unnamed: 43'].value_counts().index)"
   ]
  },
  {
   "cell_type": "code",
   "execution_count": 437,
   "metadata": {},
   "outputs": [],
   "source": [
    "c = consolidate_col(alc_list, default_val='Last').to_frame('Alcohol Use')"
   ]
  },
  {
   "cell_type": "code",
   "execution_count": 438,
   "metadata": {},
   "outputs": [],
   "source": [
    "all_output_cols.append(c)"
   ]
  },
  {
   "cell_type": "markdown",
   "metadata": {},
   "source": [
    "# Case Synopsis"
   ]
  },
  {
   "cell_type": "code",
   "execution_count": 439,
   "metadata": {},
   "outputs": [],
   "source": [
    "c = consolidate_col(list(t['Unnamed: 45'].value_counts().index), default_val='Last').to_frame('Case Synopsis')"
   ]
  },
  {
   "cell_type": "code",
   "execution_count": 440,
   "metadata": {},
   "outputs": [],
   "source": [
    "all_output_cols.append(c)"
   ]
  },
  {
   "cell_type": "code",
   "execution_count": 444,
   "metadata": {},
   "outputs": [],
   "source": [
    "pd.concat(all_output_cols, axis=1).to_csv('SAPRO_charts_army_14.csv')"
   ]
  },
  {
   "cell_type": "code",
   "execution_count": 443,
   "metadata": {},
   "outputs": [
    {
     "name": "stdout",
     "output_type": "stream",
     "text": [
      "DoD_FY14_Annual_Report_on_Sexual_Assault_in_the_Military.pdf\r\n",
      "SAPRO_2014_allcharts.pdf\r\n",
      "SAPRO_charts_airforce_14.pdf\r\n",
      "SAPRO_charts_army_14.pdf\r\n",
      "SAPRO_charts_army_14_ocr.pdf\r\n",
      "SAPRO_charts_marinecorp_14.pdf\r\n",
      "SAPRO_charts_navy_14.pdf\r\n",
      "\u001b[34mworkbooks\u001b[m\u001b[m/\r\n"
     ]
    }
   ],
   "source": [
    "ls ../data/sapro/SAPRO\\ Annual\\ Reports/SAPRO_2014"
   ]
  },
  {
   "cell_type": "code",
   "execution_count": null,
   "metadata": {},
   "outputs": [],
   "source": []
  }
 ],
 "metadata": {
  "anaconda-cloud": {},
  "kernelspec": {
   "display_name": "Python 2",
   "language": "python",
   "name": "python2"
  },
  "language_info": {
   "codemirror_mode": {
    "name": "ipython",
    "version": 2
   },
   "file_extension": ".py",
   "mimetype": "text/x-python",
   "name": "python",
   "nbconvert_exporter": "python",
   "pygments_lexer": "ipython2",
   "version": "2.7.13"
  }
 },
 "nbformat": 4,
 "nbformat_minor": 1
}
