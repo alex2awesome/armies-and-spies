{
 "cells": [
  {
   "cell_type": "code",
   "execution_count": 1,
   "metadata": {},
   "outputs": [],
   "source": [
    "import pandas as pd "
   ]
  },
  {
   "cell_type": "code",
   "execution_count": 4,
   "metadata": {},
   "outputs": [],
   "source": [
    "summary = pd.read_csv('summary_full.csv', index_col=0)"
   ]
  },
  {
   "cell_type": "code",
   "execution_count": 12,
   "metadata": {},
   "outputs": [
    {
     "data": {
      "text/plain": [
       "False    5091\n",
       "True      215\n",
       "Name: Paragraph, dtype: int64"
      ]
     },
     "execution_count": 12,
     "metadata": {},
     "output_type": "execute_result"
    }
   ],
   "source": [
    "summary['Paragraph'].fillna('').apply(lambda x: x.lower()).apply(lambda x: 'adultery' in x).value_counts()"
   ]
  },
  {
   "cell_type": "code",
   "execution_count": 34,
   "metadata": {},
   "outputs": [],
   "source": [
    "summary[summary['Paragraph'].fillna('').apply(lambda x: x.lower()).apply(lambda x: 'adultery' in x)]['Paragraph'].to_csv('adultery_court_martials.csv')"
   ]
  },
  {
   "cell_type": "code",
   "execution_count": 16,
   "metadata": {},
   "outputs": [
    {
     "data": {
      "text/plain": [
       "male      84\n",
       "female     3\n",
       "Name: Gender, dtype: int64"
      ]
     },
     "execution_count": 16,
     "metadata": {},
     "output_type": "execute_result"
    }
   ],
   "source": [
    "summary[summary['Paragraph'].fillna('').apply(lambda x: x.lower()).apply(lambda x: 'adultery' in x)]['Gender'].value_counts()"
   ]
  },
  {
   "cell_type": "code",
   "execution_count": null,
   "metadata": {},
   "outputs": [],
   "source": [
    "summary"
   ]
  },
  {
   "cell_type": "code",
   "execution_count": null,
   "metadata": {},
   "outputs": [],
   "source": [
    "# male "
   ]
  },
  {
   "cell_type": "markdown",
   "metadata": {},
   "source": [
    "# SAPRO"
   ]
  },
  {
   "cell_type": "code",
   "execution_count": 17,
   "metadata": {},
   "outputs": [],
   "source": [
    "sapro = pd.read_excel('sapro_full.xlsx', index_col=0)"
   ]
  },
  {
   "cell_type": "code",
   "execution_count": 21,
   "metadata": {},
   "outputs": [
    {
     "data": {
      "text/plain": [
       "False    8208\n",
       "True      155\n",
       "Name: Case Synopsis Note, dtype: int64"
      ]
     },
     "execution_count": 21,
     "metadata": {},
     "output_type": "execute_result"
    }
   ],
   "source": [
    "sapro['Case Synopsis Note'].fillna('').apply(lambda x: x.lower()).apply(lambda x: 'adultery' in x ).value_counts()"
   ]
  },
  {
   "cell_type": "code",
   "execution_count": 30,
   "metadata": {},
   "outputs": [
    {
     "data": {
      "text/plain": [
       "male      0.993548\n",
       "female    0.006452\n",
       "Name: Subject Gender, dtype: float64"
      ]
     },
     "execution_count": 30,
     "metadata": {},
     "output_type": "execute_result"
    }
   ],
   "source": [
    "sapro[sapro['Case Synopsis Note'].fillna('').apply(lambda x: x.lower()).apply(lambda x: 'adultery' in x )]['Subject Gender'].value_counts().pipe(lambda s: s/s.sum())"
   ]
  },
  {
   "cell_type": "code",
   "execution_count": 29,
   "metadata": {},
   "outputs": [
    {
     "data": {
      "text/plain": [
       "male                         0.878260\n",
       "unknown                      0.075067\n",
       "female                       0.033878\n",
       "unknow                       0.012430\n",
       "multiple victims - male      0.000122\n",
       "subject gender               0.000122\n",
       "multiple victims - female    0.000122\n",
       "Name: Subject Gender, dtype: float64"
      ]
     },
     "execution_count": 29,
     "metadata": {},
     "output_type": "execute_result"
    }
   ],
   "source": [
    "sapro['Subject Gender'].value_counts().pipe(lambda s: s/s.sum())"
   ]
  },
  {
   "cell_type": "code",
   "execution_count": 31,
   "metadata": {},
   "outputs": [
    {
     "data": {
      "text/plain": [
       "Female                                      0.783754\n",
       "Male                                        0.137324\n",
       "Multiple Victims - Female                   0.029505\n",
       "Unknown                                     0.013720\n",
       "Multiple Victims Female                     0.012992\n",
       "Multiple Victims - Male                     0.009956\n",
       "Multiple Victims Male                       0.003157\n",
       "Multiple Victims - Male & Female            0.003157\n",
       "Multiple Victims Male & Female              0.002064\n",
       "Multiple Victims -                          0.000971\n",
       "Multiple Victims Unknown & Female           0.000850\n",
       "Multiple Victims - Unknown & Female         0.000607\n",
       "Multiple Victims Unknown & Male             0.000364\n",
       "Female, Female, Female                      0.000243\n",
       "Multiple Victims - Male &                   0.000243\n",
       "Female, Female                              0.000243\n",
       "Multiple Victims Unknown & Female & Male    0.000121\n",
       "Female,                                     0.000121\n",
       "Victim Gender                               0.000121\n",
       "Q1                                          0.000121\n",
       "Male, Male                                  0.000121\n",
       "Multiple Victims - Unknown & Male           0.000121\n",
       "Multiple                                    0.000121\n",
       "Name: Victim Gender, dtype: float64"
      ]
     },
     "execution_count": 31,
     "metadata": {},
     "output_type": "execute_result"
    }
   ],
   "source": [
    "`sapro['Victim Gender'].value_counts().pipe(lambda s: s/s.sum())"
   ]
  },
  {
   "cell_type": "code",
   "execution_count": null,
   "metadata": {},
   "outputs": [],
   "source": []
  }
 ],
 "metadata": {
  "anaconda-cloud": {},
  "kernelspec": {
   "display_name": "Python 2",
   "language": "python",
   "name": "python2"
  },
  "language_info": {
   "codemirror_mode": {
    "name": "ipython",
    "version": 2
   },
   "file_extension": ".py",
   "mimetype": "text/x-python",
   "name": "python",
   "nbconvert_exporter": "python",
   "pygments_lexer": "ipython2",
   "version": "2.7.13"
  }
 },
 "nbformat": 4,
 "nbformat_minor": 1
}
