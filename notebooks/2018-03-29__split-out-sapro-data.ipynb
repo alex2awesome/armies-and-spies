{
 "cells": [
  {
   "cell_type": "code",
   "execution_count": 23,
   "metadata": {},
   "outputs": [],
   "source": [
    "import pandas as pd \n",
    "import re\n",
    "from glob import glob"
   ]
  },
  {
   "cell_type": "code",
   "execution_count": 24,
   "metadata": {},
   "outputs": [
    {
     "data": {
      "text/plain": [
       "8363"
      ]
     },
     "execution_count": 24,
     "metadata": {},
     "output_type": "execute_result"
    }
   ],
   "source": [
    "2254 + 2080 + 2041 + 1988"
   ]
  },
  {
   "cell_type": "code",
   "execution_count": 26,
   "metadata": {},
   "outputs": [],
   "source": [
    "sapro_tables = [(pd.read_excel(path)\n",
    "         .assign(Year='20' + re.search('\\d\\d', path).group())\n",
    ") for path in glob('../data/intermediate_usm_data/sapro/SAPRO Annual Reports/SAPRO_*_all.xlsx')\n",
    "                + ['../data/intermediate_usm_data/sapro/SAPRO Annual Reports/SAPRO_charts_army_14.xlsx']\n",
    "]\n",
    "\n",
    "def clean_colname(col):\n",
    "    return (col.replace('\\r', ' ')\n",
    "                  .replace('Administra- tive Discharge Type', 'Administrative Discharge Type')\n",
    "                  .replace('Confinemen t', 'Confinement')\n",
    "                  .replace('Incident Location', 'Location')\n",
    "                  .replace('Quarter Dispositio n Complete d', 'Quarter Disposition Completed')\n",
    "                  .replace('applicable.', 'applicable')\n",
    "                  .replace('Acession ?', 'Acession?')\n",
    "                  .replace('Restrictio n', 'Restriction')\n",
    "                  .replace('Investi- gation', 'Investigation')\n",
    "                  .replace('Victim Grade', 'Victim Pay Grade')\n",
    "                  .replace('Subject Grade', 'Subject Pay Grade')\n",
    "                  .replace('Subject Affiliation', 'Subject Service')\n",
    "                  )\n",
    "\n",
    "cleaned_tables = [table.rename(\n",
    "    columns={col:clean_colname(col) for col in table.columns}\n",
    ") for table in sapro_tables]\n",
    "\n",
    "sapro_full = pd.concat(cleaned_tables).reset_index(drop=True)\n",
    "sapro_full = sapro_full.applymap(lambda x: x.replace('\\r', ' ') if isinstance(x, basestring) else x)"
   ]
  },
  {
   "cell_type": "code",
   "execution_count": 31,
   "metadata": {},
   "outputs": [],
   "source": [
    "def sapro_get_court_martial_outcome(row):\n",
    "    if pd.notnull(row):\n",
    "        row = row.lower()\n",
    "        if row !='null':\n",
    "            if ('dismissed' in row) or ('acquit' in row):\n",
    "                if ('subsequent' in row) or ('prior' in row):\n",
    "                    outcome = 'no court-martial'\n",
    "                else:\n",
    "                    outcome = 'not guilty'\n",
    "            elif ('in lieu' in row) or ('article 15' in row) or ('art 15' in row):\n",
    "                outcome = 'no court-martial'\n",
    "            else:\n",
    "                outcome = 'guilty'\n",
    "            return outcome\n",
    "    return 'no court-martial'\n",
    "\n",
    "sapro_full['Outcome'] = sapro_full['Court Case or Article 15 Outcome'].apply(\n",
    "    sapro_get_court_martial_outcome\n",
    ")"
   ]
  },
  {
   "cell_type": "code",
   "execution_count": null,
   "metadata": {},
   "outputs": [],
   "source": []
  },
  {
   "cell_type": "code",
   "execution_count": 36,
   "metadata": {},
   "outputs": [],
   "source": [
    "import random\n",
    "import numpy as np\n",
    "import copy"
   ]
  },
  {
   "cell_type": "code",
   "execution_count": null,
   "metadata": {},
   "outputs": [],
   "source": []
  },
  {
   "cell_type": "code",
   "execution_count": 41,
   "metadata": {},
   "outputs": [],
   "source": [
    "index_c = copy.copy(list(sapro_full.index))\n",
    "np.random.shuffle(index_c)"
   ]
  },
  {
   "cell_type": "code",
   "execution_count": 45,
   "metadata": {},
   "outputs": [],
   "source": [
    "sapro_shuffelled = sapro_full.loc[index_c].reset_index(drop=True).copy()"
   ]
  },
  {
   "cell_type": "code",
   "execution_count": 80,
   "metadata": {},
   "outputs": [],
   "source": [
    "chunk_size = len(sapro_shuffelled) / 20"
   ]
  },
  {
   "cell_type": "code",
   "execution_count": 82,
   "metadata": {},
   "outputs": [],
   "source": [
    "chunks = range(0, len(sapro_shuffelled), chunk_size)[:-1] + [8365]\n",
    "chunks = zip(chunks[:-1], chunks[1:])"
   ]
  },
  {
   "cell_type": "code",
   "execution_count": 87,
   "metadata": {},
   "outputs": [],
   "source": [
    "class_data = []\n",
    "for start, stop in chunks:\n",
    "    class_data.append(sapro_shuffelled.iloc[start:stop])"
   ]
  },
  {
   "cell_type": "code",
   "execution_count": null,
   "metadata": {},
   "outputs": [],
   "source": [
    "sapro_shuffelled['Sub']"
   ]
  },
  {
   "cell_type": "code",
   "execution_count": 99,
   "metadata": {},
   "outputs": [
    {
     "data": {
      "text/plain": [
       "0        0\n",
       "1        0\n",
       "2        0\n",
       "3        0\n",
       "4        0\n",
       "5        0\n",
       "6      508\n",
       "7        0\n",
       "8        0\n",
       "9        0\n",
       "10       0\n",
       "11       0\n",
       "12       0\n",
       "13       0\n",
       "14       0\n",
       "15       0\n",
       "16       0\n",
       "17       0\n",
       "18       0\n",
       "19       0\n",
       "20       0\n",
       "21       0\n",
       "22       0\n",
       "23       0\n",
       "24       0\n",
       "25       0\n",
       "26       0\n",
       "27       0\n",
       "28       0\n",
       "29       0\n",
       "      ... \n",
       "388      0\n",
       "389      0\n",
       "390      0\n",
       "391      0\n",
       "392      0\n",
       "393      0\n",
       "394      0\n",
       "395      0\n",
       "396      0\n",
       "397      0\n",
       "398      0\n",
       "399      0\n",
       "400      0\n",
       "401     56\n",
       "402      0\n",
       "403      0\n",
       "404      0\n",
       "405      0\n",
       "406    172\n",
       "407      0\n",
       "408      0\n",
       "409      0\n",
       "410      0\n",
       "411    765\n",
       "412      0\n",
       "413      0\n",
       "414      0\n",
       "415      0\n",
       "416      0\n",
       "417      0\n",
       "Name: Case Synopsis, Length: 418, dtype: int64"
      ]
     },
     "execution_count": 99,
     "metadata": {},
     "output_type": "execute_result"
    }
   ],
   "source": [
    "# Order by Acquittal (so people see \"Acquittals\" first)\n",
    "# Order by Rank (so people read the convictions of higher-ranks first)\n",
    "# Order by word count (so the lengthier cases are first ... those are more likely to be meaty)\n",
    "\n",
    "class_data[0]['Case Synopsis'].fillna('').apply(lambda x: len(x))"
   ]
  },
  {
   "cell_type": "code",
   "execution_count": null,
   "metadata": {},
   "outputs": [],
   "source": []
  },
  {
   "cell_type": "code",
   "execution_count": null,
   "metadata": {},
   "outputs": [],
   "source": []
  }
 ],
 "metadata": {
  "anaconda-cloud": {},
  "kernelspec": {
   "display_name": "Python 2",
   "language": "python",
   "name": "python2"
  },
  "language_info": {
   "codemirror_mode": {
    "name": "ipython",
    "version": 2
   },
   "file_extension": ".py",
   "mimetype": "text/x-python",
   "name": "python",
   "nbconvert_exporter": "python",
   "pygments_lexer": "ipython2",
   "version": "2.7.13"
  }
 },
 "nbformat": 4,
 "nbformat_minor": 1
}
