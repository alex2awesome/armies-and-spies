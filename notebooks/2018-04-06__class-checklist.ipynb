{
 "cells": [
  {
   "cell_type": "code",
   "execution_count": 1,
   "metadata": {},
   "outputs": [],
   "source": [
    "import pandas as pd"
   ]
  },
  {
   "cell_type": "code",
   "execution_count": 2,
   "metadata": {},
   "outputs": [],
   "source": [
    "sapro = pd.read_excel('sapro_full.xlsx')"
   ]
  },
  {
   "cell_type": "code",
   "execution_count": 7,
   "metadata": {},
   "outputs": [
    {
     "data": {
      "text/html": [
       "<div>\n",
       "<style scoped>\n",
       "    .dataframe tbody tr th:only-of-type {\n",
       "        vertical-align: middle;\n",
       "    }\n",
       "\n",
       "    .dataframe tbody tr th {\n",
       "        vertical-align: top;\n",
       "    }\n",
       "\n",
       "    .dataframe thead th {\n",
       "        text-align: right;\n",
       "    }\n",
       "</style>\n",
       "<table border=\"1\" class=\"dataframe\">\n",
       "  <thead>\n",
       "    <tr style=\"text-align: right;\">\n",
       "      <th></th>\n",
       "      <th>Administrative Discharge Type</th>\n",
       "      <th>Adverse Administrative Action Type</th>\n",
       "      <th>Alcohol Use</th>\n",
       "      <th>Case Disposition</th>\n",
       "      <th>Case Synopsis</th>\n",
       "      <th>Case Synopsis Note</th>\n",
       "      <th>Confinement (Court Only)</th>\n",
       "      <th>Correctional Custody (NJP Only)</th>\n",
       "      <th>Court Case or Article 15 Outcome</th>\n",
       "      <th>Court- Martial Discharge</th>\n",
       "      <th>...</th>\n",
       "      <th>Subject: Moral Waiver Accession</th>\n",
       "      <th>Subject: Moral Waiver Accession?</th>\n",
       "      <th>Subject: Moral Waiver Acession?</th>\n",
       "      <th>Subject: Prior Investigation for Sex Assault?</th>\n",
       "      <th>Victim Affiliation</th>\n",
       "      <th>Victim Gender</th>\n",
       "      <th>Victim Pay Grade</th>\n",
       "      <th>Victim Service</th>\n",
       "      <th>Year</th>\n",
       "      <th>Outcome</th>\n",
       "    </tr>\n",
       "  </thead>\n",
       "  <tbody>\n",
       "    <tr>\n",
       "      <th>0</th>\n",
       "      <td>General</td>\n",
       "      <td>NaN</td>\n",
       "      <td>NaN</td>\n",
       "      <td>Sexual Assault Offense: Administrative Discharge</td>\n",
       "      <td>NaN</td>\n",
       "      <td>NaN</td>\n",
       "      <td>NaN</td>\n",
       "      <td>NaN</td>\n",
       "      <td>Art 15 Punishment Imposed</td>\n",
       "      <td>NaN</td>\n",
       "      <td>...</td>\n",
       "      <td>NaN</td>\n",
       "      <td>NaN</td>\n",
       "      <td>NaN</td>\n",
       "      <td>NaN</td>\n",
       "      <td>NaN</td>\n",
       "      <td>Multiple Victims - Male &amp; Female</td>\n",
       "      <td>Multiple Victims</td>\n",
       "      <td>NaN</td>\n",
       "      <td>2013</td>\n",
       "      <td>no court-martial</td>\n",
       "    </tr>\n",
       "    <tr>\n",
       "      <th>1</th>\n",
       "      <td>General</td>\n",
       "      <td>NaN</td>\n",
       "      <td>NaN</td>\n",
       "      <td>Sexual Assault Offense: Administrative Discharge</td>\n",
       "      <td>NaN</td>\n",
       "      <td>NaN</td>\n",
       "      <td>NaN</td>\n",
       "      <td>NaN</td>\n",
       "      <td>NaN</td>\n",
       "      <td>NaN</td>\n",
       "      <td>...</td>\n",
       "      <td>NaN</td>\n",
       "      <td>NaN</td>\n",
       "      <td>NaN</td>\n",
       "      <td>NaN</td>\n",
       "      <td>NaN</td>\n",
       "      <td>Male</td>\n",
       "      <td>E-3</td>\n",
       "      <td>Army</td>\n",
       "      <td>2013</td>\n",
       "      <td>no court-martial</td>\n",
       "    </tr>\n",
       "    <tr>\n",
       "      <th>2</th>\n",
       "      <td>General</td>\n",
       "      <td>NaN</td>\n",
       "      <td>Involved but not specified.</td>\n",
       "      <td>Sexual Assault Offense: Administrative Discharge</td>\n",
       "      <td>NaN</td>\n",
       "      <td>NaN</td>\n",
       "      <td>NaN</td>\n",
       "      <td>NaN</td>\n",
       "      <td>NaN</td>\n",
       "      <td>NaN</td>\n",
       "      <td>...</td>\n",
       "      <td>NaN</td>\n",
       "      <td>NaN</td>\n",
       "      <td>NaN</td>\n",
       "      <td>NaN</td>\n",
       "      <td>NaN</td>\n",
       "      <td>Female</td>\n",
       "      <td>US Civilian</td>\n",
       "      <td>NaN</td>\n",
       "      <td>2013</td>\n",
       "      <td>no court-martial</td>\n",
       "    </tr>\n",
       "    <tr>\n",
       "      <th>3</th>\n",
       "      <td>Pending</td>\n",
       "      <td>NaN</td>\n",
       "      <td>NaN</td>\n",
       "      <td>Sexual Assault Offense: Administrative Discharge</td>\n",
       "      <td>NaN</td>\n",
       "      <td>NaN</td>\n",
       "      <td>NaN</td>\n",
       "      <td>NaN</td>\n",
       "      <td>NaN</td>\n",
       "      <td>NaN</td>\n",
       "      <td>...</td>\n",
       "      <td>NaN</td>\n",
       "      <td>NaN</td>\n",
       "      <td>NaN</td>\n",
       "      <td>NaN</td>\n",
       "      <td>NaN</td>\n",
       "      <td>Female</td>\n",
       "      <td>E-4</td>\n",
       "      <td>Army</td>\n",
       "      <td>2013</td>\n",
       "      <td>no court-martial</td>\n",
       "    </tr>\n",
       "    <tr>\n",
       "      <th>4</th>\n",
       "      <td>Uncharacterized</td>\n",
       "      <td>NaN</td>\n",
       "      <td>NaN</td>\n",
       "      <td>Non-Sexual Assault Offense: Administrative Dis...</td>\n",
       "      <td>NaN</td>\n",
       "      <td>NaN</td>\n",
       "      <td>NaN</td>\n",
       "      <td>NaN</td>\n",
       "      <td>NaN</td>\n",
       "      <td>NaN</td>\n",
       "      <td>...</td>\n",
       "      <td>NaN</td>\n",
       "      <td>NaN</td>\n",
       "      <td>NaN</td>\n",
       "      <td>NaN</td>\n",
       "      <td>NaN</td>\n",
       "      <td>Male</td>\n",
       "      <td>E-2</td>\n",
       "      <td>Army</td>\n",
       "      <td>2013</td>\n",
       "      <td>no court-martial</td>\n",
       "    </tr>\n",
       "  </tbody>\n",
       "</table>\n",
       "<p>5 rows × 42 columns</p>\n",
       "</div>"
      ],
      "text/plain": [
       "  Administrative Discharge Type Adverse Administrative Action Type  \\\n",
       "0                       General                                NaN   \n",
       "1                       General                                NaN   \n",
       "2                       General                                NaN   \n",
       "3                       Pending                                NaN   \n",
       "4               Uncharacterized                                NaN   \n",
       "\n",
       "                   Alcohol Use  \\\n",
       "0                          NaN   \n",
       "1                          NaN   \n",
       "2  Involved but not specified.   \n",
       "3                          NaN   \n",
       "4                          NaN   \n",
       "\n",
       "                                    Case Disposition Case Synopsis  \\\n",
       "0   Sexual Assault Offense: Administrative Discharge           NaN   \n",
       "1   Sexual Assault Offense: Administrative Discharge           NaN   \n",
       "2   Sexual Assault Offense: Administrative Discharge           NaN   \n",
       "3   Sexual Assault Offense: Administrative Discharge           NaN   \n",
       "4  Non-Sexual Assault Offense: Administrative Dis...           NaN   \n",
       "\n",
       "  Case Synopsis Note Confinement (Court Only) Correctional Custody (NJP Only)  \\\n",
       "0                NaN                      NaN                             NaN   \n",
       "1                NaN                      NaN                             NaN   \n",
       "2                NaN                      NaN                             NaN   \n",
       "3                NaN                      NaN                             NaN   \n",
       "4                NaN                      NaN                             NaN   \n",
       "\n",
       "  Court Case or Article 15 Outcome Court- Martial Discharge        ...         \\\n",
       "0        Art 15 Punishment Imposed                      NaN        ...          \n",
       "1                              NaN                      NaN        ...          \n",
       "2                              NaN                      NaN        ...          \n",
       "3                              NaN                      NaN        ...          \n",
       "4                              NaN                      NaN        ...          \n",
       "\n",
       "  Subject: Moral Waiver Accession Subject: Moral Waiver Accession?  \\\n",
       "0                             NaN                              NaN   \n",
       "1                             NaN                              NaN   \n",
       "2                             NaN                              NaN   \n",
       "3                             NaN                              NaN   \n",
       "4                             NaN                              NaN   \n",
       "\n",
       "  Subject: Moral Waiver Acession?  \\\n",
       "0                             NaN   \n",
       "1                             NaN   \n",
       "2                             NaN   \n",
       "3                             NaN   \n",
       "4                             NaN   \n",
       "\n",
       "  Subject: Prior Investigation for Sex Assault? Victim Affiliation  \\\n",
       "0                                           NaN                NaN   \n",
       "1                                           NaN                NaN   \n",
       "2                                           NaN                NaN   \n",
       "3                                           NaN                NaN   \n",
       "4                                           NaN                NaN   \n",
       "\n",
       "                      Victim Gender  Victim Pay Grade Victim Service  Year  \\\n",
       "0  Multiple Victims - Male & Female  Multiple Victims            NaN  2013   \n",
       "1                              Male               E-3           Army  2013   \n",
       "2                            Female       US Civilian            NaN  2013   \n",
       "3                            Female               E-4           Army  2013   \n",
       "4                              Male               E-2           Army  2013   \n",
       "\n",
       "            Outcome  \n",
       "0  no court-martial  \n",
       "1  no court-martial  \n",
       "2  no court-martial  \n",
       "3  no court-martial  \n",
       "4  no court-martial  \n",
       "\n",
       "[5 rows x 42 columns]"
      ]
     },
     "execution_count": 7,
     "metadata": {},
     "output_type": "execute_result"
    }
   ],
   "source": [
    "sapro.head()"
   ]
  },
  {
   "cell_type": "code",
   "execution_count": 6,
   "metadata": {},
   "outputs": [],
   "source": [
    "summaries = pd.read_csv('summary_full.csv', index_col=0)"
   ]
  },
  {
   "cell_type": "code",
   "execution_count": 5,
   "metadata": {},
   "outputs": [
    {
     "data": {
      "text/plain": [
       "(5306, 23)"
      ]
     },
     "execution_count": 5,
     "metadata": {},
     "output_type": "execute_result"
    }
   ],
   "source": [
    "summaries.shape"
   ]
  },
  {
   "cell_type": "code",
   "execution_count": null,
   "metadata": {},
   "outputs": [],
   "source": []
  },
  {
   "cell_type": "markdown",
   "metadata": {},
   "source": [
    "# Summaries: Do drug-related court martials face higher penalities than sexual assault?"
   ]
  },
  {
   "cell_type": "code",
   "execution_count": 915,
   "metadata": {},
   "outputs": [
    {
     "data": {
      "image/png": "[encoded data removed]",
      "text/plain": [
       "<Figure size 432x288 with 1 Axes>"
      ]
     },
     "metadata": {},
     "output_type": "display_data"
    }
   ],
   "source": [
    "pd.concat([\n",
    "    summaries[summaries['Offense'].fillna('').apply(lambda x: 'drug' in x.lower())]['Conclusion'].value_counts().to_frame('Drug Related'),\n",
    "    summaries[summaries['Offense'].fillna('').apply(lambda x: 'sex' in x.lower())]['Conclusion'].value_counts().to_frame('Sexual-Assault Related')\n",
    "], axis=1).pipe(lambda df: df / df.sum()).T.plot.bar()\n",
    "plt.title('Court-Martial Outcomes for Drug vs. Sexual Assault Crimes')\n",
    "plt.ylabel('Likelihood of Getting Convicted');"
   ]
  },
  {
   "cell_type": "code",
   "execution_count": 29,
   "metadata": {
    "scrolled": true
   },
   "outputs": [
    {
     "data": {
      "text/plain": [
       "array([' by officer members to hard labor without confinement for  two months,  reduction to Airman First Class (E-3),  and forfeiture of $500 pay per month for  four months',\n",
       "       ' to a reprimand,  reduction to Senior Airman (E-4),  and  confinement for 45 days',\n",
       "       ' to a bad conduct discharge,  confinement for 3 months,  and  reduction to Airman Basic (E-1)',\n",
       "       ' to reduction to Airman Basic  (E-1),  confinement for 12 months,  and forfeiture of $996 pay per month for 12 months',\n",
       "       ' to reduction to Airman Basic  (E-1),  a reprimand,  confinement for six months,  and total forfeitures'],\n",
       "      dtype=object)"
      ]
     },
     "execution_count": 29,
     "metadata": {},
     "output_type": "execute_result"
    }
   ],
   "source": [
    "summaries[summaries['Offense'].fillna('').apply(lambda x: 'drug' in x.lower())]['Sentence'].head().values"
   ]
  },
  {
   "cell_type": "code",
   "execution_count": 967,
   "metadata": {},
   "outputs": [],
   "source": [
    "summaries['split-punishment'] = (summaries['Sentence']\n",
    " .fillna('')\n",
    " .apply(lambda x: x.replace('the accused', '').strip())\n",
    " .apply(lambda x: map(lambda x: (' '.join(x.replace('be','')\n",
    "                                 .replace(',','')\n",
    "                                 .replace('to','')\n",
    "                                 .strip().split())),\n",
    "                      re.split('\\,\\sto|\\sand\\s|\\s\\,', x))\n",
    "       )\n",
    ")"
   ]
  },
  {
   "cell_type": "code",
   "execution_count": 968,
   "metadata": {},
   "outputs": [
    {
     "data": {
      "text/plain": [
       "(47, 23)"
      ]
     },
     "execution_count": 968,
     "metadata": {},
     "output_type": "execute_result"
    }
   ],
   "source": [
    "summaries[summaries['Offense'].fillna('').apply(lambda x: 'drug' in x.lower())].shape"
   ]
  },
  {
   "cell_type": "code",
   "execution_count": 969,
   "metadata": {},
   "outputs": [
    {
     "data": {
      "text/plain": [
       "(47,)"
      ]
     },
     "execution_count": 969,
     "metadata": {},
     "output_type": "execute_result"
    }
   ],
   "source": [
    "drug_punishments.shape"
   ]
  },
  {
   "cell_type": "code",
   "execution_count": null,
   "metadata": {},
   "outputs": [],
   "source": []
  },
  {
   "cell_type": "code",
   "execution_count": 1007,
   "metadata": {},
   "outputs": [],
   "source": [
    "drug_punishments = summaries[\n",
    "    summaries['Offense'].fillna('').apply(lambda x: 'drug' in x.lower())\n",
    "    & (summaries['Conclusion'] == 'guilty')\n",
    "]['split-punishment']\n",
    "sexassault_punishments = summaries[\n",
    "    summaries['Offense'].fillna('').apply(lambda x: 'sex' in x.lower())\n",
    "    & (summaries['Conclusion'] == 'guilty')\n",
    "]['split-punishment']"
   ]
  },
  {
   "cell_type": "code",
   "execution_count": 995,
   "metadata": {},
   "outputs": [],
   "source": [
    "punishment_mapping = {\n",
    "    'discharged':'discharged',\n",
    "    'forfeitures': 'fine',\n",
    "    'forfeit': 'fine',\n",
    "    'fined': 'fine',\n",
    "    '$': 'fine',\n",
    "    'allowances': 'fine',\n",
    "    'reprimand':'reprimand',\n",
    "    'confinement': 'confinement',\n",
    "    'reduction': 'rank-reduction'\n",
    "}"
   ]
  },
  {
   "cell_type": "code",
   "execution_count": 996,
   "metadata": {},
   "outputs": [],
   "source": [
    "def get_punishments(sentence):\n",
    "    output = []\n",
    "    for k, o in punishment_mapping.items():\n",
    "        if k in sentence.lower():\n",
    "            output.append(o)\n",
    "    return output"
   ]
  },
  {
   "cell_type": "code",
   "execution_count": 980,
   "metadata": {},
   "outputs": [],
   "source": [
    "summaries['split-punishment'] = (summaries['Sentence']\n",
    " .fillna('')\n",
    " .apply(get_punishments)\n",
    ")"
   ]
  },
  {
   "cell_type": "code",
   "execution_count": 1016,
   "metadata": {},
   "outputs": [
    {
     "data": {
      "image/png": "[encoded data removed]",
      "text/plain": [
       "<Figure size 864x360 with 2 Axes>"
      ]
     },
     "metadata": {},
     "output_type": "display_data"
    }
   ],
   "source": [
    "f, axarr = plt.subplots(1, 2, figsize=(12,5))\n",
    "\n",
    "(pd.Series(reduce(lambda x,y : x+y, drug_punishments.values, [])).value_counts()\n",
    " .pipe(lambda df: (df/df.sum()).plot(\n",
    "     kind='bar',\n",
    "     title='Punishments for Guilty Drug Cases',\n",
    "     color='lightblue',\n",
    "     ax=axarr[0]\n",
    " )))\n",
    " \n",
    "(pd.Series(reduce(lambda x,y : x+y, sexassault_punishments.values, []))\n",
    " .value_counts()\n",
    " .pipe(lambda df: (df/df.sum()).plot(\n",
    "     kind='bar',\n",
    "     title='Punishments for Guilty Sexual Assault Cases',\n",
    "     color='lightblue',\n",
    "     ax = axarr[1]\n",
    " )));"
   ]
  },
  {
   "cell_type": "code",
   "execution_count": null,
   "metadata": {},
   "outputs": [],
   "source": []
  },
  {
   "cell_type": "code",
   "execution_count": null,
   "metadata": {},
   "outputs": [],
   "source": []
  },
  {
   "cell_type": "code",
   "execution_count": 963,
   "metadata": {},
   "outputs": [],
   "source": [
    "pay_terms = ['$', ' fined ','forfeit','pay']\n",
    "fined_punishments = punishments_count[\n",
    "    punishments_count.apply(\n",
    "        lambda x: any([term in x for term in pay_terms])\n",
    ")]"
   ]
  },
  {
   "cell_type": "code",
   "execution_count": null,
   "metadata": {},
   "outputs": [],
   "source": []
  },
  {
   "cell_type": "code",
   "execution_count": null,
   "metadata": {},
   "outputs": [],
   "source": []
  },
  {
   "cell_type": "code",
   "execution_count": null,
   "metadata": {},
   "outputs": [],
   "source": []
  },
  {
   "cell_type": "markdown",
   "metadata": {},
   "source": [
    "# SAPRO: Similar language, different outcome"
   ]
  },
  {
   "cell_type": "code",
   "execution_count": 746,
   "metadata": {},
   "outputs": [],
   "source": [
    "from sklearn.feature_extraction.text import TfidfVectorizer\n",
    "import numpy as np\n",
    "import re\n",
    "%matplotlib inline\n",
    "import matplotlib.pyplot as plt\n",
    "\n",
    "tfidf = TfidfVectorizer(min_df=.01, max_df=.9)\n",
    "\n",
    "rank_idx_mapping = {v:k+1 for k,v in enumerate([\n",
    "    u'E-1',u'E-2', u'E-3', u'E-4', u'E-5', u'E-6', u'E-7', u'E-8', u'E-9',\n",
    "    'W-1', u'W-2', u'W-3', u'W-4', u'W-5',\n",
    "    u'O-1', u'O-2', u'O-3', u'O-4', u'O-5', u'O-6', u'O-8',\n",
    "])}\n",
    "\n",
    "outcome_mapping = {v:k for k,v in enumerate(['no court-martial',  u'not guilty', u'guilty'])}"
   ]
  },
  {
   "cell_type": "code",
   "execution_count": 157,
   "metadata": {},
   "outputs": [
    {
     "data": {
      "text/plain": [
       "Text(0.5,0,'Similarity')"
      ]
     },
     "execution_count": 157,
     "metadata": {},
     "output_type": "execute_result"
    },
    {
     "data": {
      "image/png": "[encoded data removed]",
      "text/plain": [
       "<Figure size 432x288 with 1 Axes>"
      ]
     },
     "metadata": {},
     "output_type": "display_data"
    }
   ],
   "source": [
    "(pd.Series(np.array(mat.dot(mat.T).todense().flatten())[0])\n",
    " .pipe(lambda s: s[~np.isclose(s, 1)])\n",
    " .hist(bins=50)\n",
    ")\n",
    "\n",
    "plt.title('Histogram of TF-IDF Similarities')\n",
    "plt.xlabel('Similarity')"
   ]
  },
  {
   "cell_type": "code",
   "execution_count": 1017,
   "metadata": {},
   "outputs": [],
   "source": [
    "recent_army = sapro[(sapro['Subject Service'] == 'ARMY') & (sapro['Year'] == 2016)]\n",
    "recent_synposis = recent_army['Case Synopsis Note']\n",
    "case_notes = recent_synposis.apply(lambda x: x.split('Notes:')[1].split('.')[0]).copy()\n",
    "mat = tfidf.fit_transform(case_notes)\n",
    "\n",
    "# generate similarities\n",
    "cutoff=.8\n",
    "pairs = (pd.DataFrame(np.triu((mat.dot(mat.T) > cutoff).todense(), 1))\n",
    " .unstack()\n",
    " .pipe(lambda s: s[s])\n",
    " .reset_index()[['level_0', 'level_1']]\n",
    ")"
   ]
  },
  {
   "cell_type": "code",
   "execution_count": 1018,
   "metadata": {},
   "outputs": [
    {
     "data": {
      "text/plain": [
       "(1296, 2)"
      ]
     },
     "execution_count": 1018,
     "metadata": {},
     "output_type": "execute_result"
    }
   ],
   "source": [
    "pairs.shape"
   ]
  },
  {
   "cell_type": "code",
   "execution_count": 161,
   "metadata": {},
   "outputs": [
    {
     "name": "stdout",
     "output_type": "stream",
     "text": [
      "[u' Victim alleged subject touched her belly and made inappropriate comments about her being pregnant'\n",
      " u' Victim alleged Subject made inappropriate sexual comments and slapped her on the buttocks']\n",
      "\n",
      "[u' Victim alleged subject engaged in sexually harassing and degrading behaviors towards victim'\n",
      " u' Victim alleged that Subject wrongfully engaged in sexually explicit conversations']\n",
      "\n",
      "[u' Victim alleged Subject touched her without her consent'\n",
      " u' Victim alleged subject touched her and kissed her without her consent']\n",
      "\n",
      "[u' Victim alleged abusive sexual contact'\n",
      " u' Victim alleged Abusive Sexual Contact']\n",
      "\n",
      "[u' Victim alleged that Subject raped her'\n",
      " u' Victim alleged that Subject raped her and physically assaulted her']\n",
      "\n",
      "[u' Victim alleged a Sexual Assault' u' Victim alleged sexual assault']\n",
      "\n",
      "[u' Victim alleged Subject sexually assaulted her'\n",
      " u' Victim alleged Subject sexually assaulted her']\n",
      "\n",
      "[u' Victim originally alleged abusive sexual contact'\n",
      " u' Victim alleged Abusive Sexual Contact']\n",
      "\n",
      "[u' Victim originally alleged abusive sexual contact'\n",
      " u' Victim alleged abusive sexual contact']\n",
      "\n",
      "[u' Victim alleged Subject raped her and sexually assaulted her'\n",
      " u' Victim alleged that Subject raped her and physically assaulted her']\n",
      "\n"
     ]
    }
   ],
   "source": [
    "for idx in range(10): # pairs.shape[0]):\n",
    "    print case_notes.iloc[pairs.iloc[idx]].values\n",
    "    print"
   ]
  },
  {
   "cell_type": "code",
   "execution_count": 1019,
   "metadata": {},
   "outputs": [],
   "source": [
    "# get record pairs with outcome difference\n",
    "pair_records = {}\n",
    "for idx in range(pairs.shape[0]):\n",
    "    pair_records[idx] = recent_army.iloc[pairs.iloc[idx]]\n",
    "pair_records = pd.Series(pair_records)\n",
    "pairs_with_outcome_differences = pair_records[\n",
    "    pair_records.apply(lambda s1: s1['Outcome'].pipe(lambda s: s.iloc[0] != s.iloc[1]))\n",
    "]"
   ]
  },
  {
   "cell_type": "code",
   "execution_count": 1020,
   "metadata": {},
   "outputs": [
    {
     "data": {
      "text/plain": [
       "(1296,)"
      ]
     },
     "execution_count": 1020,
     "metadata": {},
     "output_type": "execute_result"
    }
   ],
   "source": [
    "pair_records.shape"
   ]
  },
  {
   "cell_type": "code",
   "execution_count": 1021,
   "metadata": {},
   "outputs": [
    {
     "data": {
      "text/plain": [
       "(454,)"
      ]
     },
     "execution_count": 1021,
     "metadata": {},
     "output_type": "execute_result"
    }
   ],
   "source": [
    "pairs_with_outcome_differences.shape"
   ]
  },
  {
   "cell_type": "code",
   "execution_count": 1022,
   "metadata": {},
   "outputs": [
    {
     "data": {
      "text/plain": [
       "0.35030864197530864"
      ]
     },
     "execution_count": 1022,
     "metadata": {},
     "output_type": "execute_result"
    }
   ],
   "source": [
    "454./1296"
   ]
  },
  {
   "cell_type": "code",
   "execution_count": null,
   "metadata": {},
   "outputs": [],
   "source": []
  },
  {
   "cell_type": "code",
   "execution_count": 341,
   "metadata": {},
   "outputs": [
    {
     "name": "stdout",
     "output_type": "stream",
     "text": [
      "case description:\n",
      "[u' Victim alleged Subject had sexual intercourse with her when she was too intoxicated to consent'\n",
      " u' Victim alleged that Subject had sexual intercourse with her when she was too intoxicated to consent']\n"
     ]
    },
    {
     "data": {
      "text/html": [
       "<div>\n",
       "<style scoped>\n",
       "    .dataframe tbody tr th:only-of-type {\n",
       "        vertical-align: middle;\n",
       "    }\n",
       "\n",
       "    .dataframe tbody tr th {\n",
       "        vertical-align: top;\n",
       "    }\n",
       "\n",
       "    .dataframe thead th {\n",
       "        text-align: right;\n",
       "    }\n",
       "</style>\n",
       "<table border=\"1\" class=\"dataframe\">\n",
       "  <thead>\n",
       "    <tr style=\"text-align: right;\">\n",
       "      <th></th>\n",
       "      <th>case_description</th>\n",
       "      <th>Outcome</th>\n",
       "      <th>Subject Pay Grade</th>\n",
       "    </tr>\n",
       "  </thead>\n",
       "  <tbody>\n",
       "    <tr>\n",
       "      <th>5830</th>\n",
       "      <td>Victim alleged Subject had sexual intercourse...</td>\n",
       "      <td>no court-martial</td>\n",
       "      <td>W-1</td>\n",
       "    </tr>\n",
       "    <tr>\n",
       "      <th>5784</th>\n",
       "      <td>Victim alleged that Subject had sexual interc...</td>\n",
       "      <td>guilty</td>\n",
       "      <td>E-2</td>\n",
       "    </tr>\n",
       "  </tbody>\n",
       "</table>\n",
       "</div>"
      ],
      "text/plain": [
       "                                       case_description           Outcome  \\\n",
       "5830   Victim alleged Subject had sexual intercourse...  no court-martial   \n",
       "5784   Victim alleged that Subject had sexual interc...            guilty   \n",
       "\n",
       "     Subject Pay Grade  \n",
       "5830               W-1  \n",
       "5784               E-2  "
      ]
     },
     "execution_count": 341,
     "metadata": {},
     "output_type": "execute_result"
    }
   ],
   "source": [
    "t = (pairs_with_outcome_differences.iloc[215]\n",
    " .assign(outcome_mapping=lambda df: df['Outcome'].apply(lambda x: outcome_mapping[x]))\n",
    " .assign(pay_grade_mapping=lambda df: df['Subject Pay Grade'].apply(lambda x: rank_idx_mapping[x]))\n",
    " .assign(case_description=lambda df: df['Case Synopsis Note'].apply(lambda x: x.split('Notes:')[1].split('.')[0]))\n",
    " .sort_values('outcome_mapping')\n",
    " [['case_description','Outcome', 'Subject Pay Grade']]\n",
    ")\n",
    "print 'case description:'\n",
    "print t.case_description.values\n",
    "t"
   ]
  },
  {
   "cell_type": "code",
   "execution_count": 338,
   "metadata": {},
   "outputs": [
    {
     "name": "stdout",
     "output_type": "stream",
     "text": [
      "case description:\n",
      "[u' Victim alleged that Subject sexually assaulted her'\n",
      " u' Victim alleged Subject sexually and physically assaulted her']\n"
     ]
    },
    {
     "data": {
      "text/html": [
       "<div>\n",
       "<style scoped>\n",
       "    .dataframe tbody tr th:only-of-type {\n",
       "        vertical-align: middle;\n",
       "    }\n",
       "\n",
       "    .dataframe tbody tr th {\n",
       "        vertical-align: top;\n",
       "    }\n",
       "\n",
       "    .dataframe thead th {\n",
       "        text-align: right;\n",
       "    }\n",
       "</style>\n",
       "<table border=\"1\" class=\"dataframe\">\n",
       "  <thead>\n",
       "    <tr style=\"text-align: right;\">\n",
       "      <th></th>\n",
       "      <th>case_description</th>\n",
       "      <th>Outcome</th>\n",
       "      <th>Subject Pay Grade</th>\n",
       "    </tr>\n",
       "  </thead>\n",
       "  <tbody>\n",
       "    <tr>\n",
       "      <th>5588</th>\n",
       "      <td>Victim alleged that Subject sexually assaulte...</td>\n",
       "      <td>no court-martial</td>\n",
       "      <td>E-7</td>\n",
       "    </tr>\n",
       "    <tr>\n",
       "      <th>5465</th>\n",
       "      <td>Victim alleged Subject sexually and physicall...</td>\n",
       "      <td>guilty</td>\n",
       "      <td>E-3</td>\n",
       "    </tr>\n",
       "  </tbody>\n",
       "</table>\n",
       "</div>"
      ],
      "text/plain": [
       "                                       case_description           Outcome  \\\n",
       "5588   Victim alleged that Subject sexually assaulte...  no court-martial   \n",
       "5465   Victim alleged Subject sexually and physicall...            guilty   \n",
       "\n",
       "     Subject Pay Grade  \n",
       "5588               E-7  \n",
       "5465               E-3  "
      ]
     },
     "execution_count": 338,
     "metadata": {},
     "output_type": "execute_result"
    }
   ],
   "source": [
    "t = (pairs_with_outcome_differences.iloc[70]\n",
    " .assign(outcome_mapping=lambda df: df['Outcome'].apply(lambda x: outcome_mapping[x]))\n",
    " .assign(pay_grade_mapping=lambda df: df['Subject Pay Grade'].apply(lambda x: rank_idx_mapping[x]))\n",
    " .assign(case_description=lambda df: df['Case Synopsis Note'].apply(lambda x: x.split('Notes:')[1].split('.')[0]))\n",
    " .sort_values('outcome_mapping')\n",
    " [['case_description','Outcome', 'Subject Pay Grade']]\n",
    ")\n",
    "print 'case description:'\n",
    "print t.case_description.values\n",
    "t"
   ]
  },
  {
   "cell_type": "code",
   "execution_count": 330,
   "metadata": {},
   "outputs": [
    {
     "name": "stdout",
     "output_type": "stream",
     "text": [
      "case description:\n",
      "[u' Victim alleged the Subject had sexual intercourse with her when she was too intoxicated to consent'\n",
      " u' Victim alleged that Subject had sexual intercourse with her when she was too intoxicated to consent']\n"
     ]
    },
    {
     "data": {
      "text/html": [
       "<div>\n",
       "<style scoped>\n",
       "    .dataframe tbody tr th:only-of-type {\n",
       "        vertical-align: middle;\n",
       "    }\n",
       "\n",
       "    .dataframe tbody tr th {\n",
       "        vertical-align: top;\n",
       "    }\n",
       "\n",
       "    .dataframe thead th {\n",
       "        text-align: right;\n",
       "    }\n",
       "</style>\n",
       "<table border=\"1\" class=\"dataframe\">\n",
       "  <thead>\n",
       "    <tr style=\"text-align: right;\">\n",
       "      <th></th>\n",
       "      <th>case_description</th>\n",
       "      <th>Outcome</th>\n",
       "      <th>Subject Pay Grade</th>\n",
       "    </tr>\n",
       "  </thead>\n",
       "  <tbody>\n",
       "    <tr>\n",
       "      <th>5771</th>\n",
       "      <td>Victim alleged the Subject had sexual interco...</td>\n",
       "      <td>no court-martial</td>\n",
       "      <td>E-4</td>\n",
       "    </tr>\n",
       "    <tr>\n",
       "      <th>5784</th>\n",
       "      <td>Victim alleged that Subject had sexual interc...</td>\n",
       "      <td>guilty</td>\n",
       "      <td>E-2</td>\n",
       "    </tr>\n",
       "  </tbody>\n",
       "</table>\n",
       "</div>"
      ],
      "text/plain": [
       "                                       case_description           Outcome  \\\n",
       "5771   Victim alleged the Subject had sexual interco...  no court-martial   \n",
       "5784   Victim alleged that Subject had sexual interc...            guilty   \n",
       "\n",
       "     Subject Pay Grade  \n",
       "5771               E-4  \n",
       "5784               E-2  "
      ]
     },
     "execution_count": 330,
     "metadata": {},
     "output_type": "execute_result"
    }
   ],
   "source": [
    "t = (pairs_with_outcome_differences.iloc[170]\n",
    " .assign(outcome_mapping=lambda df: df['Outcome'].apply(lambda x: outcome_mapping[x]))\n",
    " .assign(pay_grade_mapping=lambda df: df['Subject Pay Grade'].apply(lambda x: rank_idx_mapping[x]))\n",
    " .assign(case_description=lambda df: df['Case Synopsis Note'].apply(lambda x: x.split('Notes:')[1].split('.')[0]))\n",
    " .sort_values('outcome_mapping')\n",
    " [['case_description','Outcome', 'Subject Pay Grade']]\n",
    ")\n",
    "print 'case description:'\n",
    "print t.case_description.values\n",
    "t"
   ]
  },
  {
   "cell_type": "code",
   "execution_count": null,
   "metadata": {},
   "outputs": [],
   "source": []
  },
  {
   "cell_type": "code",
   "execution_count": 393,
   "metadata": {},
   "outputs": [],
   "source": [
    "def get_rank_difference(row):\n",
    "    temp = (row[['Outcome', 'Subject Pay Grade']]\n",
    "            .assign(outcome_mapping=lambda df: df['Outcome'].apply(lambda x: outcome_mapping.get(x, np.nan)))\n",
    "            .assign(pay_grade_mapping=lambda df: df['Subject Pay Grade'].apply(lambda x: rank_idx_mapping.get(x, np.nan)))\n",
    "            .sort_values('outcome_mapping')\n",
    "            )\n",
    "    return temp.pay_grade_mapping.pipe(lambda s: s.iloc[0] - s.iloc[1])\n",
    "\n",
    "def get_hierarchy_diff(row):\n",
    "    hierarchy = {'E': 0, 'W':2, 'O': 1}\n",
    "    temp = (row[['Outcome', 'Subject Pay Grade']]\n",
    "            .assign(outcome_mapping=lambda df: df['Outcome'].apply(lambda x: outcome_mapping.get(x, np.nan)))\n",
    "            .assign(pay_grade_mapping=lambda df: \n",
    "                    df['Subject Pay Grade'].apply(lambda x: hierarchy.get(re.search('\\w', x).group(), np.nan))\n",
    "                   )\n",
    "            .sort_values('outcome_mapping')\n",
    "           )\n",
    "    return temp.pay_grade_mapping.pipe(lambda s: s.iloc[0] - s.iloc[1])\n",
    "\n",
    "def is_higher_rank(row):\n",
    "    temp = (row[['Outcome', 'Subject Pay Grade']]\n",
    "            .assign(outcome_mapping=lambda df: df['Outcome'].apply(lambda x: outcome_mapping.get(x, np.nan)))\n",
    "            .assign(pay_grade_mapping=lambda df: df['Subject Pay Grade'].apply(lambda x: rank_idx_mapping.get(x, np.nan)))\n",
    "            .sort_values('outcome_mapping')\n",
    "            )\n",
    "    return pd.Series({\n",
    "        'higher-rank': temp.pay_grade_mapping.pipe(lambda s: s.iloc[0] > s.iloc[1]),\n",
    "        'same-rank': temp.pay_grade_mapping.pipe(lambda s: s.iloc[0] == s.iloc[1]),\n",
    "        'lower-rank': temp.pay_grade_mapping.pipe(lambda s: s.iloc[0] < s.iloc[1])\n",
    "    })"
   ]
  },
  {
   "cell_type": "code",
   "execution_count": 353,
   "metadata": {},
   "outputs": [
    {
     "data": {
      "image/png": "[encoded data removed]",
      "text/plain": [
       "<Figure size 432x288 with 1 Axes>"
      ]
     },
     "metadata": {},
     "output_type": "display_data"
    }
   ],
   "source": [
    "rank_diff = differences.apply( get_rank_difference )\n",
    "\n",
    "rank_diff.hist(bins=int(rank_diff.max() - rank_diff.min()))\n",
    "plt.title('\"Difference in Rank\" Distribution for Case-Pairs with Similar Language but Differing Outcome')\n",
    "plt.ylabel('Count')\n",
    "plt.xlabel('Ordinal Difference in Rank')\n",
    "ylim = plt.ylim()\n",
    "plt.vlines(rank_diff.mean(), *ylim, linestyles='dashed')\n",
    "plt.ylim(ylim)\n",
    "plt.grid()\n",
    "plt.text(-10, 66, 'Mean difference in rank');"
   ]
  },
  {
   "cell_type": "code",
   "execution_count": 394,
   "metadata": {},
   "outputs": [],
   "source": [
    "avg_diff = pairs_with_outcome_differences.apply( is_higher_rank)"
   ]
  },
  {
   "cell_type": "code",
   "execution_count": 397,
   "metadata": {},
   "outputs": [
    {
     "data": {
      "text/plain": [
       "higher-rank    0.444934\n",
       "same-rank      0.138767\n",
       "lower-rank     0.407489\n",
       "dtype: float64"
      ]
     },
     "execution_count": 397,
     "metadata": {},
     "output_type": "execute_result"
    }
   ],
   "source": [
    "avg_diff.mean()[['higher-rank','same-rank', 'lower-rank', ]]"
   ]
  },
  {
   "cell_type": "code",
   "execution_count": 404,
   "metadata": {},
   "outputs": [
    {
     "data": {
      "text/html": [
       "<div>\n",
       "<style scoped>\n",
       "    .dataframe tbody tr th:only-of-type {\n",
       "        vertical-align: middle;\n",
       "    }\n",
       "\n",
       "    .dataframe tbody tr th {\n",
       "        vertical-align: top;\n",
       "    }\n",
       "\n",
       "    .dataframe thead th {\n",
       "        text-align: right;\n",
       "    }\n",
       "</style>\n",
       "<table border=\"1\" class=\"dataframe\">\n",
       "  <thead>\n",
       "    <tr style=\"text-align: right;\">\n",
       "      <th></th>\n",
       "      <th></th>\n",
       "      <th>higher-rank</th>\n",
       "      <th>lower-rank</th>\n",
       "      <th>same-rank</th>\n",
       "    </tr>\n",
       "    <tr>\n",
       "      <th>division</th>\n",
       "      <th>year</th>\n",
       "      <th></th>\n",
       "      <th></th>\n",
       "      <th></th>\n",
       "    </tr>\n",
       "  </thead>\n",
       "  <tbody>\n",
       "    <tr>\n",
       "      <th>army</th>\n",
       "      <th>2016</th>\n",
       "      <td>0.444934</td>\n",
       "      <td>0.407489</td>\n",
       "      <td>0.138767</td>\n",
       "    </tr>\n",
       "  </tbody>\n",
       "</table>\n",
       "</div>"
      ],
      "text/plain": [
       "               higher-rank  lower-rank  same-rank\n",
       "division year                                    \n",
       "army     2016     0.444934    0.407489   0.138767"
      ]
     },
     "execution_count": 404,
     "metadata": {},
     "output_type": "execute_result"
    }
   ],
   "source": [
    "avg_diff.assign(division='army', year=2016).groupby(['division', 'year']).mean()"
   ]
  },
  {
   "cell_type": "code",
   "execution_count": null,
   "metadata": {},
   "outputs": [],
   "source": []
  },
  {
   "cell_type": "code",
   "execution_count": 412,
   "metadata": {},
   "outputs": [
    {
     "data": {
      "text/plain": [
       "2013"
      ]
     },
     "execution_count": 412,
     "metadata": {},
     "output_type": "execute_result"
    }
   ],
   "source": [
    "year"
   ]
  },
  {
   "cell_type": "code",
   "execution_count": 417,
   "metadata": {},
   "outputs": [
    {
     "data": {
      "text/plain": [
       "895"
      ]
     },
     "execution_count": 417,
     "metadata": {},
     "output_type": "execute_result"
    }
   ],
   "source": [
    "recent_synposis.isnull().sum()"
   ]
  },
  {
   "cell_type": "code",
   "execution_count": 652,
   "metadata": {},
   "outputs": [],
   "source": [
    "def parse_notes(x):\n",
    "    if 'Notes:' in x:\n",
    "        return x.split('Notes:')[1].split('.')[0]\n",
    "    if '.' in x:\n",
    "        return x.split('.')[0]\n",
    "    else:\n",
    "        return x"
   ]
  },
  {
   "cell_type": "code",
   "execution_count": 485,
   "metadata": {},
   "outputs": [],
   "source": [
    "import itertools"
   ]
  },
  {
   "cell_type": "code",
   "execution_count": 740,
   "metadata": {},
   "outputs": [
    {
     "name": "stdout",
     "output_type": "stream",
     "text": [
      "('ARMY', 2013)\n",
      "('ARMY', 2014)\n",
      "('ARMY', 2015)\n",
      "('ARMY', 2016)\n",
      "(u'MARINES', 2013)\n",
      "(u'MARINES', 2014)\n",
      "(u'MARINES', 2015)\n",
      "(u'MARINES', 2016)\n",
      "(u'AIRFORCE', 2013)\n",
      "(u'AIRFORCE', 2014)\n",
      "(u'AIRFORCE', 2015)\n",
      "(u'AIRFORCE', 2016)\n",
      "(u'NAVY', 2013)\n",
      "(u'NAVY', 2014)\n",
      "(u'NAVY', 2015)\n",
      "(u'NAVY', 2016)\n"
     ]
    }
   ],
   "source": [
    "avg_diff_full = pd.DataFrame()\n",
    "rank_diff_full = pd.DataFrame()\n",
    "\n",
    "for service, year in itertools.product(\n",
    "    ['ARMY', u'MARINES', u'AIRFORCE', u'NAVY'],\n",
    "    [2013, 2014, 2015, 2016]\n",
    "):\n",
    "    print (service, year)\n",
    "    recent_army = sapro[(sapro['Subject Service'] == service) & (sapro['Year'] == year)]\n",
    "    recent_synposis = recent_army['Case Synopsis Note'].fillna('') + ' ' + recent_army['Narrative of the Crime'].fillna('')\n",
    "    if (recent_synposis == ' ').sum() != recent_synposis.shape[0]:\n",
    "        case_notes = recent_synposis.fillna('').apply(parse_notes).copy()\n",
    "        mat = tfidf.fit_transform(case_notes)\n",
    "\n",
    "        # generate similarities\n",
    "        cutoff=.85\n",
    "        pairs = (pd.DataFrame(np.triu((mat.dot(mat.T) > cutoff).todense(), 1))\n",
    "         .unstack()\n",
    "         .pipe(lambda s: s[s])\n",
    "         .reset_index()[['level_0', 'level_1']]\n",
    "        )\n",
    "\n",
    "        # get record pairs with outcome difference\n",
    "        pair_records = {}\n",
    "        for idx in range(pairs.shape[0]):\n",
    "            pair_records[idx] = recent_army.iloc[pairs.iloc[idx]]\n",
    "        pair_records = pd.Series(pair_records)\n",
    "        pairs_with_outcome_differences = pair_records[\n",
    "            pair_records.apply(lambda s1: s1['Outcome'].pipe(lambda s: s.iloc[0] != s.iloc[1]))\n",
    "        ]\n",
    "\n",
    "        avg_diff_full = pd.concat([\n",
    "            avg_diff_full,\n",
    "            (pairs_with_outcome_differences\n",
    "                      .apply( is_higher_rank )\n",
    "                      .assign(service=service)\n",
    "                      .assign(year=year)\n",
    "                     )\n",
    "        ])\n",
    "\n",
    "        rank_diff_full = pd.concat([\n",
    "            rank_diff_full,\n",
    "            (pairs_with_outcome_differences\n",
    "                       .apply( get_rank_difference )\n",
    "                       .to_frame('rank differences')\n",
    "                       .assign( service=service)\n",
    "                       .assign(year=year)\n",
    "                      )\n",
    "        ])"
   ]
  },
  {
   "cell_type": "code",
   "execution_count": 741,
   "metadata": {},
   "outputs": [
    {
     "data": {
      "text/html": [
       "<div>\n",
       "<style scoped>\n",
       "    .dataframe tbody tr th:only-of-type {\n",
       "        vertical-align: middle;\n",
       "    }\n",
       "\n",
       "    .dataframe tbody tr th {\n",
       "        vertical-align: top;\n",
       "    }\n",
       "\n",
       "    .dataframe thead th {\n",
       "        text-align: right;\n",
       "    }\n",
       "</style>\n",
       "<table border=\"1\" class=\"dataframe\">\n",
       "  <thead>\n",
       "    <tr style=\"text-align: right;\">\n",
       "      <th>year</th>\n",
       "      <th>2013</th>\n",
       "      <th>2014</th>\n",
       "      <th>2015</th>\n",
       "      <th>2016</th>\n",
       "    </tr>\n",
       "    <tr>\n",
       "      <th>service</th>\n",
       "      <th></th>\n",
       "      <th></th>\n",
       "      <th></th>\n",
       "      <th></th>\n",
       "    </tr>\n",
       "  </thead>\n",
       "  <tbody>\n",
       "    <tr>\n",
       "      <th>AIRFORCE</th>\n",
       "      <td>NaN</td>\n",
       "      <td>-1.5</td>\n",
       "      <td>-1.000000</td>\n",
       "      <td>-0.545455</td>\n",
       "    </tr>\n",
       "    <tr>\n",
       "      <th>ARMY</th>\n",
       "      <td>0.093960</td>\n",
       "      <td>NaN</td>\n",
       "      <td>-0.247253</td>\n",
       "      <td>0.648734</td>\n",
       "    </tr>\n",
       "    <tr>\n",
       "      <th>MARINES</th>\n",
       "      <td>0.333333</td>\n",
       "      <td>-0.7</td>\n",
       "      <td>0.500000</td>\n",
       "      <td>0.440000</td>\n",
       "    </tr>\n",
       "    <tr>\n",
       "      <th>NAVY</th>\n",
       "      <td>0.500277</td>\n",
       "      <td>-0.5</td>\n",
       "      <td>-0.545455</td>\n",
       "      <td>-2.000000</td>\n",
       "    </tr>\n",
       "  </tbody>\n",
       "</table>\n",
       "</div>"
      ],
      "text/plain": [
       "year          2013  2014      2015      2016\n",
       "service                                     \n",
       "AIRFORCE       NaN  -1.5 -1.000000 -0.545455\n",
       "ARMY      0.093960   NaN -0.247253  0.648734\n",
       "MARINES   0.333333  -0.7  0.500000  0.440000\n",
       "NAVY      0.500277  -0.5 -0.545455 -2.000000"
      ]
     },
     "execution_count": 741,
     "metadata": {},
     "output_type": "execute_result"
    }
   ],
   "source": [
    "rank_diff_full.groupby(['service', 'year']).mean().reset_index().pivot(index='service', columns='year', values='rank differences')"
   ]
  },
  {
   "cell_type": "code",
   "execution_count": 742,
   "metadata": {},
   "outputs": [
    {
     "data": {
      "text/plain": [
       "0.4083333333333333"
      ]
     },
     "execution_count": 742,
     "metadata": {},
     "output_type": "execute_result"
    }
   ],
   "source": [
    "rank_diff_full['rank differences'].mean()"
   ]
  },
  {
   "cell_type": "code",
   "execution_count": 526,
   "metadata": {},
   "outputs": [],
   "source": [
    "import numpy as np "
   ]
  },
  {
   "cell_type": "code",
   "execution_count": 743,
   "metadata": {},
   "outputs": [
    {
     "data": {
      "text/html": [
       "<div>\n",
       "<style scoped>\n",
       "    .dataframe tbody tr th:only-of-type {\n",
       "        vertical-align: middle;\n",
       "    }\n",
       "\n",
       "    .dataframe tbody tr th {\n",
       "        vertical-align: top;\n",
       "    }\n",
       "\n",
       "    .dataframe thead tr th {\n",
       "        text-align: left;\n",
       "    }\n",
       "\n",
       "    .dataframe thead tr:last-of-type th {\n",
       "        text-align: right;\n",
       "    }\n",
       "</style>\n",
       "<table border=\"1\" class=\"dataframe\">\n",
       "  <thead>\n",
       "    <tr>\n",
       "      <th></th>\n",
       "      <th></th>\n",
       "      <th colspan=\"2\" halign=\"left\">higher-rank</th>\n",
       "      <th colspan=\"2\" halign=\"left\">same-rank</th>\n",
       "      <th colspan=\"2\" halign=\"left\">lower-rank</th>\n",
       "    </tr>\n",
       "    <tr>\n",
       "      <th></th>\n",
       "      <th></th>\n",
       "      <th>mean</th>\n",
       "      <th>count</th>\n",
       "      <th>mean</th>\n",
       "      <th>count</th>\n",
       "      <th>mean</th>\n",
       "      <th>count</th>\n",
       "    </tr>\n",
       "    <tr>\n",
       "      <th>service</th>\n",
       "      <th>year</th>\n",
       "      <th></th>\n",
       "      <th></th>\n",
       "      <th></th>\n",
       "      <th></th>\n",
       "      <th></th>\n",
       "      <th></th>\n",
       "    </tr>\n",
       "  </thead>\n",
       "  <tbody>\n",
       "    <tr>\n",
       "      <th rowspan=\"4\" valign=\"top\">AIRFORCE</th>\n",
       "      <th>2013</th>\n",
       "      <td>0.000000</td>\n",
       "      <td>2</td>\n",
       "      <td>0.000000</td>\n",
       "      <td>2</td>\n",
       "      <td>0.000000</td>\n",
       "      <td>2</td>\n",
       "    </tr>\n",
       "    <tr>\n",
       "      <th>2014</th>\n",
       "      <td>0.500000</td>\n",
       "      <td>8</td>\n",
       "      <td>0.000000</td>\n",
       "      <td>8</td>\n",
       "      <td>0.500000</td>\n",
       "      <td>8</td>\n",
       "    </tr>\n",
       "    <tr>\n",
       "      <th>2015</th>\n",
       "      <td>0.388889</td>\n",
       "      <td>18</td>\n",
       "      <td>0.277778</td>\n",
       "      <td>18</td>\n",
       "      <td>0.333333</td>\n",
       "      <td>18</td>\n",
       "    </tr>\n",
       "    <tr>\n",
       "      <th>2016</th>\n",
       "      <td>0.272727</td>\n",
       "      <td>11</td>\n",
       "      <td>0.000000</td>\n",
       "      <td>11</td>\n",
       "      <td>0.727273</td>\n",
       "      <td>11</td>\n",
       "    </tr>\n",
       "    <tr>\n",
       "      <th rowspan=\"3\" valign=\"top\">ARMY</th>\n",
       "      <th>2013</th>\n",
       "      <td>0.345455</td>\n",
       "      <td>165</td>\n",
       "      <td>0.242424</td>\n",
       "      <td>165</td>\n",
       "      <td>0.315152</td>\n",
       "      <td>165</td>\n",
       "    </tr>\n",
       "    <tr>\n",
       "      <th>2015</th>\n",
       "      <td>0.434066</td>\n",
       "      <td>182</td>\n",
       "      <td>0.126374</td>\n",
       "      <td>182</td>\n",
       "      <td>0.439560</td>\n",
       "      <td>182</td>\n",
       "    </tr>\n",
       "    <tr>\n",
       "      <th>2016</th>\n",
       "      <td>0.458861</td>\n",
       "      <td>316</td>\n",
       "      <td>0.129747</td>\n",
       "      <td>316</td>\n",
       "      <td>0.411392</td>\n",
       "      <td>316</td>\n",
       "    </tr>\n",
       "    <tr>\n",
       "      <th rowspan=\"4\" valign=\"top\">MARINES</th>\n",
       "      <th>2013</th>\n",
       "      <td>0.333333</td>\n",
       "      <td>12</td>\n",
       "      <td>0.666667</td>\n",
       "      <td>12</td>\n",
       "      <td>0.000000</td>\n",
       "      <td>12</td>\n",
       "    </tr>\n",
       "    <tr>\n",
       "      <th>2014</th>\n",
       "      <td>0.200000</td>\n",
       "      <td>10</td>\n",
       "      <td>0.300000</td>\n",
       "      <td>10</td>\n",
       "      <td>0.500000</td>\n",
       "      <td>10</td>\n",
       "    </tr>\n",
       "    <tr>\n",
       "      <th>2015</th>\n",
       "      <td>0.333333</td>\n",
       "      <td>12</td>\n",
       "      <td>0.333333</td>\n",
       "      <td>12</td>\n",
       "      <td>0.333333</td>\n",
       "      <td>12</td>\n",
       "    </tr>\n",
       "    <tr>\n",
       "      <th>2016</th>\n",
       "      <td>0.430000</td>\n",
       "      <td>100</td>\n",
       "      <td>0.230000</td>\n",
       "      <td>100</td>\n",
       "      <td>0.340000</td>\n",
       "      <td>100</td>\n",
       "    </tr>\n",
       "    <tr>\n",
       "      <th rowspan=\"4\" valign=\"top\">NAVY</th>\n",
       "      <th>2013</th>\n",
       "      <td>0.432172</td>\n",
       "      <td>1865</td>\n",
       "      <td>0.160322</td>\n",
       "      <td>1865</td>\n",
       "      <td>0.376408</td>\n",
       "      <td>1865</td>\n",
       "    </tr>\n",
       "    <tr>\n",
       "      <th>2014</th>\n",
       "      <td>0.000000</td>\n",
       "      <td>3</td>\n",
       "      <td>0.333333</td>\n",
       "      <td>3</td>\n",
       "      <td>0.333333</td>\n",
       "      <td>3</td>\n",
       "    </tr>\n",
       "    <tr>\n",
       "      <th>2015</th>\n",
       "      <td>0.272727</td>\n",
       "      <td>11</td>\n",
       "      <td>0.181818</td>\n",
       "      <td>11</td>\n",
       "      <td>0.545455</td>\n",
       "      <td>11</td>\n",
       "    </tr>\n",
       "    <tr>\n",
       "      <th>2016</th>\n",
       "      <td>0.500000</td>\n",
       "      <td>2</td>\n",
       "      <td>0.000000</td>\n",
       "      <td>2</td>\n",
       "      <td>0.500000</td>\n",
       "      <td>2</td>\n",
       "    </tr>\n",
       "  </tbody>\n",
       "</table>\n",
       "</div>"
      ],
      "text/plain": [
       "              higher-rank       same-rank       lower-rank      \n",
       "                     mean count      mean count       mean count\n",
       "service  year                                                   \n",
       "AIRFORCE 2013    0.000000     2  0.000000     2   0.000000     2\n",
       "         2014    0.500000     8  0.000000     8   0.500000     8\n",
       "         2015    0.388889    18  0.277778    18   0.333333    18\n",
       "         2016    0.272727    11  0.000000    11   0.727273    11\n",
       "ARMY     2013    0.345455   165  0.242424   165   0.315152   165\n",
       "         2015    0.434066   182  0.126374   182   0.439560   182\n",
       "         2016    0.458861   316  0.129747   316   0.411392   316\n",
       "MARINES  2013    0.333333    12  0.666667    12   0.000000    12\n",
       "         2014    0.200000    10  0.300000    10   0.500000    10\n",
       "         2015    0.333333    12  0.333333    12   0.333333    12\n",
       "         2016    0.430000   100  0.230000   100   0.340000   100\n",
       "NAVY     2013    0.432172  1865  0.160322  1865   0.376408  1865\n",
       "         2014    0.000000     3  0.333333     3   0.333333     3\n",
       "         2015    0.272727    11  0.181818    11   0.545455    11\n",
       "         2016    0.500000     2  0.000000     2   0.500000     2"
      ]
     },
     "execution_count": 743,
     "metadata": {},
     "output_type": "execute_result"
    }
   ],
   "source": [
    "avg_diff_full.groupby(['service','year']).aggregate(['mean', 'count'])[['higher-rank', 'same-rank', 'lower-rank', ]]"
   ]
  },
  {
   "cell_type": "code",
   "execution_count": 744,
   "metadata": {},
   "outputs": [
    {
     "data": {
      "text/plain": [
       "higher-rank       0.426205\n",
       "lower-rank        0.380199\n",
       "same-rank         0.165256\n",
       "year           2013.645565\n",
       "dtype: float64"
      ]
     },
     "execution_count": 744,
     "metadata": {},
     "output_type": "execute_result"
    }
   ],
   "source": [
    "avg_diff_full.mean()"
   ]
  },
  {
   "cell_type": "markdown",
   "metadata": {},
   "source": [
    "# How many cases involve drinking? "
   ]
  },
  {
   "cell_type": "code",
   "execution_count": 564,
   "metadata": {},
   "outputs": [],
   "source": [
    "sapro['alcohol_involved'] = (sapro['Alcohol Use']\n",
    " .fillna('')\n",
    " .apply(lambda x: x.lower())\n",
    " .apply(lambda x: 'involved' in x or 'victim' in x or 'subject' in x))"
   ]
  },
  {
   "cell_type": "code",
   "execution_count": 566,
   "metadata": {},
   "outputs": [
    {
     "data": {
      "text/plain": [
       "False    4611\n",
       "True     3752\n",
       "Name: alcohol_involved, dtype: int64"
      ]
     },
     "execution_count": 566,
     "metadata": {},
     "output_type": "execute_result"
    }
   ],
   "source": [
    "sapro['alcohol_involved'].value_counts()"
   ]
  },
  {
   "cell_type": "code",
   "execution_count": 1029,
   "metadata": {},
   "outputs": [
    {
     "data": {
      "text/html": [
       "<div>\n",
       "<style scoped>\n",
       "    .dataframe tbody tr th:only-of-type {\n",
       "        vertical-align: middle;\n",
       "    }\n",
       "\n",
       "    .dataframe tbody tr th {\n",
       "        vertical-align: top;\n",
       "    }\n",
       "\n",
       "    .dataframe thead th {\n",
       "        text-align: right;\n",
       "    }\n",
       "</style>\n",
       "<table border=\"1\" class=\"dataframe\">\n",
       "  <thead>\n",
       "    <tr style=\"text-align: right;\">\n",
       "      <th>alcohol_involved</th>\n",
       "      <th>False</th>\n",
       "      <th>True</th>\n",
       "    </tr>\n",
       "    <tr>\n",
       "      <th>outcome</th>\n",
       "      <th></th>\n",
       "      <th></th>\n",
       "    </tr>\n",
       "  </thead>\n",
       "  <tbody>\n",
       "    <tr>\n",
       "      <th>no court-martial</th>\n",
       "      <td>0.791152</td>\n",
       "      <td>0.638060</td>\n",
       "    </tr>\n",
       "    <tr>\n",
       "      <th>court-martial, not guilty</th>\n",
       "      <td>0.066797</td>\n",
       "      <td>0.127132</td>\n",
       "    </tr>\n",
       "    <tr>\n",
       "      <th>guilty</th>\n",
       "      <td>0.142052</td>\n",
       "      <td>0.234808</td>\n",
       "    </tr>\n",
       "  </tbody>\n",
       "</table>\n",
       "</div>"
      ],
      "text/plain": [
       "alcohol_involved              False     True \n",
       "outcome                                      \n",
       "no court-martial           0.791152  0.638060\n",
       "court-martial, not guilty  0.066797  0.127132\n",
       "guilty                     0.142052  0.234808"
      ]
     },
     "execution_count": 1029,
     "metadata": {},
     "output_type": "execute_result"
    }
   ],
   "source": [
    "(sapro\n",
    " .groupby('alcohol_involved')['Outcome']\n",
    " .apply(lambda x: x.value_counts())\n",
    " .to_frame('counts')\n",
    " .reset_index()\n",
    " .rename(columns={'level_1': 'outcome'})\n",
    " .pivot(index='outcome', columns='alcohol_involved', values='counts')\n",
    " .loc[['no court-martial', 'not guilty', 'guilty']]\n",
    " .pipe(lambda df: df/ df.sum())\n",
    " .rename(index={'not guilty': 'court-martial, not guilty'})\n",
    ")"
   ]
  },
  {
   "cell_type": "code",
   "execution_count": 1031,
   "metadata": {},
   "outputs": [
    {
     "data": {
      "text/plain": [
       "Text(0.5,0,'')"
      ]
     },
     "execution_count": 1031,
     "metadata": {},
     "output_type": "execute_result"
    },
    {
     "data": {
      "image/png": "[encoded data removed]",
      "text/plain": [
       "<Figure size 720x288 with 2 Axes>"
      ]
     },
     "metadata": {},
     "output_type": "display_data"
    }
   ],
   "source": [
    "f, axarr = plt.subplots(1, 2, figsize=(10,4))\n",
    "\n",
    "(sapro\n",
    " .groupby('alcohol_involved')['Outcome']\n",
    " .apply(lambda x: x.value_counts())\n",
    " .to_frame('counts')\n",
    " .reset_index()\n",
    " .rename(columns={'level_1': 'outcome'})\n",
    " .pivot(index='outcome', columns='alcohol_involved', values='counts')\n",
    " .loc[['no court-martial', 'not guilty', 'guilty']]\n",
    " .pipe(lambda df: df/ df.sum())\n",
    " .rename(index={'not guilty': 'court-martial, not guilty'})\n",
    " .plot(kind='bar', ax=axarr[0], title='Alcohol Involved by Either Subjects or Victims')\n",
    ")\n",
    "axarr[0].set_ylabel('Proportion of Cases')\n",
    "axarr[0].set_xlabel('')\n",
    "\n",
    "(sapro.assign(victim_alcohol=lambda df: df['Alcohol Use'].fillna('').apply(lambda x: 'victim' in x.lower()))\n",
    " .groupby('victim_alcohol')['Outcome']\n",
    " .apply(lambda x: x.value_counts())\n",
    " .to_frame('counts')\n",
    " .reset_index()\n",
    " .rename(columns={'level_1': 'outcome'})\n",
    " .pivot(index='outcome', columns='victim_alcohol', values='counts')\n",
    " .loc[['no court-martial', 'not guilty', 'guilty']]\n",
    " .pipe(lambda df: df / df.sum())\n",
    " .rename(index={'not guilty': 'court-martial, not guilty'})\n",
    " .plot(kind='bar', title='Alcohol Involved by Victims', ax=axarr[1])\n",
    ")\n",
    "axarr[1].set_ylabel('Ratio of Cases');\n",
    "axarr[1].set_xlabel('')"
   ]
  },
  {
   "cell_type": "markdown",
   "metadata": {},
   "source": [
    "# How many male-on-male vs. male-on-female: higher conviction rates, significant differences on the convictions rates and the outcomes?"
   ]
  },
  {
   "cell_type": "code",
   "execution_count": 686,
   "metadata": {},
   "outputs": [
    {
     "data": {
      "text/html": [
       "<div>\n",
       "<style scoped>\n",
       "    .dataframe tbody tr th:only-of-type {\n",
       "        vertical-align: middle;\n",
       "    }\n",
       "\n",
       "    .dataframe tbody tr th {\n",
       "        vertical-align: top;\n",
       "    }\n",
       "\n",
       "    .dataframe thead th {\n",
       "        text-align: right;\n",
       "    }\n",
       "</style>\n",
       "<table border=\"1\" class=\"dataframe\">\n",
       "  <thead>\n",
       "    <tr style=\"text-align: right;\">\n",
       "      <th>victim_gender_parsed</th>\n",
       "      <th>female</th>\n",
       "      <th>male</th>\n",
       "    </tr>\n",
       "    <tr>\n",
       "      <th>subject_gender_parsed</th>\n",
       "      <th></th>\n",
       "      <th></th>\n",
       "    </tr>\n",
       "  </thead>\n",
       "  <tbody>\n",
       "    <tr>\n",
       "      <th>female</th>\n",
       "      <td>177</td>\n",
       "      <td>102</td>\n",
       "    </tr>\n",
       "    <tr>\n",
       "      <th>male</th>\n",
       "      <td>6689</td>\n",
       "      <td>1395</td>\n",
       "    </tr>\n",
       "  </tbody>\n",
       "</table>\n",
       "</div>"
      ],
      "text/plain": [
       "victim_gender_parsed   female  male\n",
       "subject_gender_parsed              \n",
       "female                    177   102\n",
       "male                     6689  1395"
      ]
     },
     "execution_count": 686,
     "metadata": {},
     "output_type": "execute_result"
    }
   ],
   "source": [
    "(sapro\n",
    " .assign(victim_gender_parsed=lambda df: df['Victim Gender'].fillna('').apply(lambda x: ['male', 'female']['female' in x.lower()]))\n",
    " .assign(subject_gender_parsed=lambda df: df['Subject Gender'].fillna('').apply(lambda x: ['male', 'female']['female' in x.lower()]))\n",
    " [['victim_gender_parsed', 'subject_gender_parsed']]\n",
    " .assign(c=1)\n",
    " .pivot_table(values='c', index='subject_gender_parsed', columns='victim_gender_parsed', aggfunc='sum')\n",
    ")"
   ]
  },
  {
   "cell_type": "code",
   "execution_count": 728,
   "metadata": {},
   "outputs": [
    {
     "data": {
      "text/plain": [
       "Text(0,0.5,'Count of Punishment Type')"
      ]
     },
     "execution_count": 728,
     "metadata": {},
     "output_type": "execute_result"
    },
    {
     "data": {
      "image/png": "[encoded data removed]",
      "text/plain": [
       "<Figure size 432x288 with 1 Axes>"
      ]
     },
     "metadata": {},
     "output_type": "display_data"
    }
   ],
   "source": [
    "(sapro\n",
    " .assign(victim_gender_parsed=lambda df: df['Victim Gender'].fillna('').apply(lambda x: ['male', 'female']['female' in x.lower()]))\n",
    " .assign(subject_gender_parsed=lambda df: df['Subject Gender'].fillna('').apply(lambda x: ['male', 'female']['female' in x.lower()]))\n",
    " .pipe(lambda df: df[df['subject_gender_parsed'] == 'male'])\n",
    " .groupby('victim_gender_parsed')['Outcome'].value_counts()\n",
    " .to_frame('count')\n",
    " .reset_index()\n",
    " .pivot(columns='Outcome', values='count', index='victim_gender_parsed')\n",
    " [['no court-martial','not guilty', 'guilty']]\n",
    " .plot(kind='bar')\n",
    ")\n",
    "plt.title('Count of Punishment types, Male-on-X')\n",
    "plt.ylabel('Count of Punishment Type')"
   ]
  },
  {
   "cell_type": "code",
   "execution_count": 727,
   "metadata": {},
   "outputs": [
    {
     "data": {
      "text/plain": [
       "Text(0,0.5,'Likelihood of Punishment Type')"
      ]
     },
     "execution_count": 727,
     "metadata": {},
     "output_type": "execute_result"
    },
    {
     "data": {
      "image/png": "[encoded data removed]",
      "text/plain": [
       "<Figure size 432x288 with 1 Axes>"
      ]
     },
     "metadata": {},
     "output_type": "display_data"
    }
   ],
   "source": [
    "(sapro\n",
    " .assign(victim_gender_parsed=lambda df: df['Victim Gender'].fillna('').apply(lambda x: ['male', 'female']['female' in x.lower()]))\n",
    " .assign(subject_gender_parsed=lambda df: df['Subject Gender'].fillna('').apply(lambda x: ['male', 'female']['female' in x.lower()]))\n",
    " .pipe(lambda df: df[df['subject_gender_parsed'] == 'male'])\n",
    " .groupby('victim_gender_parsed')['Outcome'].value_counts()\n",
    " .to_frame('count')\n",
    " .reset_index()\n",
    " .pivot(columns='Outcome', values='count', index='victim_gender_parsed')\n",
    " [['no court-martial','not guilty', 'guilty']]\n",
    " .pipe(lambda df: df.divide(df.sum(axis=1), axis=0))\n",
    " .plot(kind='bar')\n",
    ")\n",
    "plt.legend(loc=(.8, .75))\n",
    "plt.title('Ratio of Punishment types, Male-on-X')\n",
    "plt.ylabel('Likelihood of Punishment Type')"
   ]
  },
  {
   "cell_type": "markdown",
   "metadata": {},
   "source": [
    "# Rank Effect Patterns between Victim and Subject"
   ]
  },
  {
   "cell_type": "code",
   "execution_count": 786,
   "metadata": {},
   "outputs": [],
   "source": [
    "rank_idx_mapping = {v:k+1 for k,v in enumerate([\n",
    "    u'E-1',u'E-2', u'E-3', u'E-4', u'E-5', u'E-6', u'E-7', u'E-8', u'E-9',\n",
    "    u'O-1', u'O-2', u'O-3', u'O-4', u'O-5', u'O-6', u'O-8',\n",
    "     'W-1', u'W-2', u'W-3', u'W-4', u'W-5',\n",
    "])}"
   ]
  },
  {
   "cell_type": "code",
   "execution_count": 788,
   "metadata": {},
   "outputs": [],
   "source": [
    "sapro_rank_differences = (sapro\n",
    " .assign(victim_pay_ord=lambda df: df['Victim Pay Grade'].apply(lambda x: rank_idx_mapping.get(x, 0)))\n",
    " .assign(subject_pay_ord=lambda df: df['Subject Pay Grade'].apply(lambda x: rank_idx_mapping.get(x, 0)))\n",
    " .assign(rank_difference=lambda df: df['subject_pay_ord'] - df['victim_pay_ord'] )\n",
    ")"
   ]
  },
  {
   "cell_type": "code",
   "execution_count": 789,
   "metadata": {},
   "outputs": [
    {
     "data": {
      "text/plain": [
       "Text(4,1750,'0.972139')"
      ]
     },
     "execution_count": 789,
     "metadata": {},
     "output_type": "execute_result"
    },
    {
     "data": {
      "image/png": "[encoded data removed]",
      "text/plain": [
       "<Figure size 432x288 with 1 Axes>"
      ]
     },
     "metadata": {},
     "output_type": "display_data"
    }
   ],
   "source": [
    "sapro_rank_differences['rank_difference'].hist(bins=20)\n",
    "plt.grid()\n",
    "plt.title('Differences in Rank Between Subject and Victim')\n",
    "ylim = plt.ylim()\n",
    "plt.vlines(sapro_rank_differences['rank_difference'].mean(), *ylim, linestyles='dashed')\n",
    "plt.ylim(ylim)\n",
    "plt.xlabel('Subject Rank - Victim Rank')\n",
    "plt.text(4, 2000, 'Mean Rank Difference')\n",
    "plt.text(4, 1875, 'between Subject and Victim:')\n",
    "plt.text(4, 1750, '%f' % sapro_rank_differences['rank_difference'].mean())"
   ]
  },
  {
   "cell_type": "code",
   "execution_count": 790,
   "metadata": {},
   "outputs": [
    {
     "data": {
      "text/plain": [
       "<matplotlib.collections.PathCollection at 0x11d6abc90>"
      ]
     },
     "execution_count": 790,
     "metadata": {},
     "output_type": "execute_result"
    },
    {
     "data": {
      "image/png": "[encoded data removed]",
      "text/plain": [
       "<Figure size 432x288 with 1 Axes>"
      ]
     },
     "metadata": {},
     "output_type": "display_data"
    }
   ],
   "source": [
    "(sapro_rank_differences\n",
    " .assign(outcome_mapping=lambda df: df['Outcome'].apply(lambda x: outcome_mapping[x]))\n",
    " [['rank_difference','outcome_mapping']]\n",
    ").pipe(lambda df: plt.scatter(df['rank_difference'], df['outcome_mapping']))"
   ]
  },
  {
   "cell_type": "code",
   "execution_count": 794,
   "metadata": {},
   "outputs": [
    {
     "data": {
      "text/html": [
       "<div>\n",
       "<style scoped>\n",
       "    .dataframe tbody tr th:only-of-type {\n",
       "        vertical-align: middle;\n",
       "    }\n",
       "\n",
       "    .dataframe tbody tr th {\n",
       "        vertical-align: top;\n",
       "    }\n",
       "\n",
       "    .dataframe thead th {\n",
       "        text-align: right;\n",
       "    }\n",
       "</style>\n",
       "<table border=\"1\" class=\"dataframe\">\n",
       "  <thead>\n",
       "    <tr style=\"text-align: right;\">\n",
       "      <th></th>\n",
       "      <th>rank_difference</th>\n",
       "      <th>outcome_mapping</th>\n",
       "    </tr>\n",
       "  </thead>\n",
       "  <tbody>\n",
       "    <tr>\n",
       "      <th>rank_difference</th>\n",
       "      <td>1.000000</td>\n",
       "      <td>0.159482</td>\n",
       "    </tr>\n",
       "    <tr>\n",
       "      <th>outcome_mapping</th>\n",
       "      <td>0.159482</td>\n",
       "      <td>1.000000</td>\n",
       "    </tr>\n",
       "  </tbody>\n",
       "</table>\n",
       "</div>"
      ],
      "text/plain": [
       "                 rank_difference  outcome_mapping\n",
       "rank_difference         1.000000         0.159482\n",
       "outcome_mapping         0.159482         1.000000"
      ]
     },
     "execution_count": 794,
     "metadata": {},
     "output_type": "execute_result"
    }
   ],
   "source": [
    "(sapro_rank_differences\n",
    " .assign(outcome_mapping=lambda df: df['Outcome'].apply(lambda x: outcome_mapping[x]))\n",
    " [['rank_difference', 'outcome_mapping']]\n",
    ").corr()"
   ]
  },
  {
   "cell_type": "code",
   "execution_count": 795,
   "metadata": {},
   "outputs": [
    {
     "data": {
      "text/plain": [
       "<matplotlib.axes._subplots.AxesSubplot at 0x1198aa4d0>"
      ]
     },
     "execution_count": 795,
     "metadata": {},
     "output_type": "execute_result"
    },
    {
     "data": {
      "image/png": "[encoded data removed]",
      "text/plain": [
       "<Figure size 432x288 with 1 Axes>"
      ]
     },
     "metadata": {},
     "output_type": "display_data"
    }
   ],
   "source": [
    "(sapro_rank_differences\n",
    " .assign(outcome_mapping=lambda df: df['Outcome'].apply(lambda x: outcome_mapping[x]))\n",
    " [['rank_difference','outcome_mapping']]\n",
    ").groupby('rank_difference').mean().plot()"
   ]
  },
  {
   "cell_type": "code",
   "execution_count": null,
   "metadata": {},
   "outputs": [],
   "source": []
  },
  {
   "cell_type": "code",
   "execution_count": 808,
   "metadata": {},
   "outputs": [
    {
     "data": {
      "text/html": [
       "<div>\n",
       "<style scoped>\n",
       "    .dataframe tbody tr th:only-of-type {\n",
       "        vertical-align: middle;\n",
       "    }\n",
       "\n",
       "    .dataframe tbody tr th {\n",
       "        vertical-align: top;\n",
       "    }\n",
       "\n",
       "    .dataframe thead th {\n",
       "        text-align: right;\n",
       "    }\n",
       "</style>\n",
       "<table border=\"1\" class=\"dataframe\">\n",
       "  <thead>\n",
       "    <tr style=\"text-align: right;\">\n",
       "      <th>victim_pay_grade_mapping</th>\n",
       "      <th>E</th>\n",
       "      <th>W</th>\n",
       "      <th>O</th>\n",
       "    </tr>\n",
       "    <tr>\n",
       "      <th>subject_pay_grade_mapping</th>\n",
       "      <th></th>\n",
       "      <th></th>\n",
       "      <th></th>\n",
       "    </tr>\n",
       "  </thead>\n",
       "  <tbody>\n",
       "    <tr>\n",
       "      <th>E</th>\n",
       "      <td>4310.0</td>\n",
       "      <td>0.0</td>\n",
       "      <td>38.0</td>\n",
       "    </tr>\n",
       "    <tr>\n",
       "      <th>W</th>\n",
       "      <td>24.0</td>\n",
       "      <td>0.0</td>\n",
       "      <td>6.0</td>\n",
       "    </tr>\n",
       "    <tr>\n",
       "      <th>O</th>\n",
       "      <td>130.0</td>\n",
       "      <td>1.0</td>\n",
       "      <td>128.0</td>\n",
       "    </tr>\n",
       "  </tbody>\n",
       "</table>\n",
       "</div>"
      ],
      "text/plain": [
       "victim_pay_grade_mapping        E    W      O\n",
       "subject_pay_grade_mapping                    \n",
       "E                          4310.0  0.0   38.0\n",
       "W                            24.0  0.0    6.0\n",
       "O                           130.0  1.0  128.0"
      ]
     },
     "execution_count": 808,
     "metadata": {},
     "output_type": "execute_result"
    }
   ],
   "source": [
    "hierarchy = {'E': 0, 'W':1, 'O': 2}\n",
    "\n",
    "(sapro\n",
    " .assign(subject_pay_grade_mapping=lambda df: \n",
    "    df['Subject Pay Grade'].fillna('Z').apply(lambda x: hierarchy.get(re.search('\\w', x).group(), np.nan))\n",
    "   )\n",
    "  .assign(victim_pay_grade_mapping=lambda df: \n",
    "    df['Victim Pay Grade'].fillna('Z').apply(lambda x: hierarchy.get(re.search('\\w', x).group(), np.nan))\n",
    "   )\n",
    "[['subject_pay_grade_mapping', 'victim_pay_grade_mapping']]\n",
    " .assign(c=1)\n",
    " .pivot_table(columns='victim_pay_grade_mapping', index='subject_pay_grade_mapping', values='c', aggfunc='sum')\n",
    " .rename(columns={0:'E', 1:'W', 2:'O'})\n",
    " .rename(index={0:'E', 1:'W', 2:'O'})\n",
    " .fillna(0)\n",
    ")"
   ]
  },
  {
   "cell_type": "code",
   "execution_count": null,
   "metadata": {},
   "outputs": [],
   "source": [
    "sapro.reset_index()"
   ]
  },
  {
   "cell_type": "code",
   "execution_count": 884,
   "metadata": {},
   "outputs": [],
   "source": [
    "t = (sapro\n",
    " .assign(subject_pay_grade_mapping=lambda df: \n",
    "    df['Subject Pay Grade'].fillna('Z').apply(lambda x: hierarchy.get(re.search('\\w', x).group(), np.nan))\n",
    "   )\n",
    "  .assign(victim_pay_grade_mapping=lambda df: \n",
    "    df['Victim Pay Grade'].fillna('Z').apply(lambda x: hierarchy.get(re.search('\\w', x).group(), np.nan))\n",
    "   )\n",
    " .assign(c=1)\n",
    " .groupby(['subject_pay_grade_mapping','victim_pay_grade_mapping', 'Outcome'])['c']\n",
    " .sum()\n",
    " .to_frame('count')\n",
    " .reset_index(2)\n",
    "#  .pivot(columns='Outcome', values='count')\n",
    ")"
   ]
  },
  {
   "cell_type": "code",
   "execution_count": 885,
   "metadata": {},
   "outputs": [],
   "source": [
    "t2 = (t.reset_index()\n",
    "      .assign(index=lambda df: df.apply(lambda x: (\n",
    "          ('Subject Grade', {0:'E', 1:'W', 2:'O'}[x['subject_pay_grade_mapping']]), \n",
    "          ('Victim Grade', {0:'E', 1:'W', 2:'O'}[x['victim_pay_grade_mapping']])\n",
    "      ), axis=1))\n",
    "      .pivot_table(index='index', columns='Outcome',values='count').fillna(0)\n",
    "     )"
   ]
  },
  {
   "cell_type": "code",
   "execution_count": 903,
   "metadata": {},
   "outputs": [
    {
     "data": {
      "text/plain": [
       "Text(0,0.5,'Counts')"
      ]
     },
     "execution_count": 903,
     "metadata": {},
     "output_type": "execute_result"
    },
    {
     "data": {
      "image/png": "[encoded data removed]",
      "text/plain": [
       "<Figure size 432x288 with 1 Axes>"
      ]
     },
     "metadata": {},
     "output_type": "display_data"
    }
   ],
   "source": [
    "t2[['no court-martial', 'not guilty', 'guilty']].plot.bar()\n",
    "plt.title('Counts of Outcome-Type Across Victim/Subject Pay Grade')\n",
    "plt.ylabel('Counts')"
   ]
  },
  {
   "cell_type": "code",
   "execution_count": 902,
   "metadata": {},
   "outputs": [
    {
     "data": {
      "text/plain": [
       "Text(0,0.5,'Ratio')"
      ]
     },
     "execution_count": 902,
     "metadata": {},
     "output_type": "execute_result"
    },
    {
     "data": {
      "image/png": "[encoded data removed]",
      "text/plain": [
       "<Figure size 432x288 with 1 Axes>"
      ]
     },
     "metadata": {},
     "output_type": "display_data"
    }
   ],
   "source": [
    "((t2.divide(t2.sum(axis=1), axis=0))\n",
    " [['no court-martial', 'not guilty', 'guilty']]\n",
    " .plot.bar()\n",
    ")\n",
    "plt.legend(loc=(1.01,.77))\n",
    "plt.title('Likelihood of Outcome-Type Across Victim/Subject Pay Grade')\n",
    "plt.ylabel('Ratio')"
   ]
  },
  {
   "cell_type": "code",
   "execution_count": null,
   "metadata": {},
   "outputs": [],
   "source": []
  }
 ],
 "metadata": {
  "anaconda-cloud": {},
  "kernelspec": {
   "display_name": "Python 2",
   "language": "python",
   "name": "python2"
  },
  "language_info": {
   "codemirror_mode": {
    "name": "ipython",
    "version": 2
   },
   "file_extension": ".py",
   "mimetype": "text/x-python",
   "name": "python",
   "nbconvert_exporter": "python",
   "pygments_lexer": "ipython2",
   "version": "2.7.13"
  }
 },
 "nbformat": 4,
 "nbformat_minor": 1
}
