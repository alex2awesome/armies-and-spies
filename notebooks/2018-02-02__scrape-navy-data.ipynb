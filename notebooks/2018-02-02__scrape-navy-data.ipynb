{
 "cells": [
  {
   "cell_type": "code",
   "execution_count": 1,
   "metadata": {},
   "outputs": [
    {
     "name": "stdout",
     "output_type": "stream",
     "text": [
      "APR2014.csv      Dec2013.pdf      Jan2014.pdf      NOV2015.pdf\r\n",
      "APR2015.pdf      FEB16.pdf        July2014.pdf     NOV2016.pdf\r\n",
      "APR2016.pdf      FEB2015.pdf      July2015.pdf     NOV2017.pdf\r\n",
      "APR2017.pdf      FEB2017.pdf      Jun2015.pdf      Nov2013.pdf\r\n",
      "AUG2014.pdf      Feb2014.pdf      June2014.pdf     OCT2015.pdf\r\n",
      "AUG2015.pdf      JAN2013.pdf      MAR2015.pdf      OCT2016.pdf\r\n",
      "AUG2016.pdf      JAN2015.pdf      MAR2016.pdf      OCT2017.pdf\r\n",
      "AUG2017.pdf      JAN2016.pdf      MAR2017.pdf      Oct2013.pdf\r\n",
      "Apr2014.pdf      JAN2017.pdf      MAY2016.pdf      October2014.pdf\r\n",
      "Apr2015.csv      JUL2016.pdf      MAY2017.pdf      SEPT2014.pdf\r\n",
      "Aug2013.pdf      JUL2017.pdf      Mar2014.pdf      SEPT2015.pdf\r\n",
      "DEC14.pdf        JULY2013.pdf     May2014.pdf      SEPT2016.pdf\r\n",
      "DEC2016.pdf      JUN2016.pdf      May2015.pdf      SEPT2017.pdf\r\n",
      "Dec15.pdf        JUN2017.pdf      NOV14.pdf        Sept2013.pdf\r\n"
     ]
    }
   ],
   "source": [
    "ls ../data/navy/SentencesNAVY/"
   ]
  },
  {
   "cell_type": "code",
   "execution_count": 2,
   "metadata": {},
   "outputs": [],
   "source": [
    "import textract\n",
    "import sys\n",
    "sys.path.append('utils/')\n",
    "import navy_python_scraper\n",
    "import glob\n",
    "import random\n",
    "import re\n",
    "import pandas as pd"
   ]
  },
  {
   "cell_type": "code",
   "execution_count": 4,
   "metadata": {},
   "outputs": [
    {
     "data": {
      "text/plain": [
       "<module 'navy_python_scraper' from 'utils/navy_python_scraper.py'>"
      ]
     },
     "execution_count": 4,
     "metadata": {},
     "output_type": "execute_result"
    }
   ],
   "source": [
    "reload(navy_python_scraper)"
   ]
  },
  {
   "cell_type": "code",
   "execution_count": 5,
   "metadata": {},
   "outputs": [
    {
     "name": "stdout",
     "output_type": "stream",
     "text": [
      " General Court-Martial in Norfolk, Virginia, an E-5 and an E-4 were tried, jointly, for sexual assault.  On 14 April 2016, the panel of members returned a verdict of not guilty for both Sailors.        \n",
      " re-sentencing hearing for a previously held General Court-Martial in San Diego, CA, CTT1 Durville Christopher, USN was sentenced for indecent acts with a child and assault consummated by a battery on a child under the age of 16 years old.  On 25 March 2016, the panel of members sentenced him to be discharged with a Dishonorable Discharge, reduction in rank to paygrade E-1, and confinement for 2 years.                Special Court-Martial    None.   Navy Region Mid-Atlantic            General Court-Martial     \n",
      " re-sentencing hearing for a previously held General Court-Martial in Mayport, Florida, ABE2 Alonzo Bass, III, USN was sentenced for violations of a general order and wrongful sexual contact.  On 28 March 2016, the military judge sentenced him to be discharged with a Bad Conduct Discharge, reduction in rank to paygrade E-1 and confinement for 2 years.  Pursuant to a post-trial agreement, confinement greater than confinement previously served (679 days) will be suspended and remitted.  The suspended confinement may be served if the Service Member violates the terms of the post-trial agreement.    \n",
      " General Court-Martial in Norfolk, Virginia, an E-4 USN was tried of attempted murder by reason of lack of mental responsibility.  On 31 May 2016, the military judge ruled that continued confinement in a treatment facility may be appropriate.  The accused was remanded into the Attorney General’s custody for treatment.  Special Court-Martial    \n",
      " General Court-Martial in Mayport, Florida, HN Kevin Corcoran, USN was tried for sexual assault.  On 23 October 2013, the military judge returned a verdict of guilty and 1   \f",
      "  \n",
      " Special Court-Martial in Naples, Italy, CE2 Joel Stein, USN pleaded guilty to assault consummated by a battery.  On 21 October 2013, the military judge awarded no punishment.    3 \f",
      "\n"
     ]
    }
   ],
   "source": [
    "data_dir = '../data/navy/SentencesNAVY/'\n",
    "df_list = []\n",
    "court_martial_list = []\n",
    "for document in glob.glob('../data/navy/SentencesNAVY/*.pdf'):\n",
    "\n",
    "    # naming...\n",
    "#     print('----------------------------------')\n",
    "#     print('processing %s...' % document)\n",
    "#     print('----------------------------------')\n",
    "    fp = document\n",
    "    text = textract.process(fp)\n",
    "    court_martial=unicode(text, encoding='utf-8').split('At a')[1:]\n",
    "    court_martial_list += court_martial\n",
    "\n",
    "    for idx, paragraph in enumerate(court_martial):\n",
    "        if 'sentencing rehearing' not in paragraph:\n",
    "            output = {}\n",
    "            output['Document'] = document\n",
    "            output['paragraph'] = paragraph\n",
    "            paragraph= navy_python_scraper.clean_paragraph(paragraph)\n",
    "            output = navy_python_scraper.get_date(paragraph, output)    \n",
    "            \n",
    "            output = navy_python_scraper.get_gender(paragraph, output)\n",
    "            output = navy_python_scraper.get_rank(paragraph, output)\n",
    "            output = navy_python_scraper.get_location(paragraph, output)\n",
    "            output = navy_python_scraper.get_name(paragraph, output)\n",
    "            output = navy_python_scraper.get_described_offense(paragraph, output)\n",
    "            output = navy_python_scraper.get_conviction(paragraph, output)\n",
    "            output = navy_python_scraper.get_sentence(paragraph, output)\n",
    "            output = navy_python_scraper.cleanup(paragraph, output)\n",
    "            df_list.append(output)\n",
    "\n",
    "#     print\n",
    "#     print"
   ]
  },
  {
   "cell_type": "code",
   "execution_count": 7,
   "metadata": {},
   "outputs": [],
   "source": [
    "df = pd.DataFrame(df_list)"
   ]
  },
  {
   "cell_type": "code",
   "execution_count": 9,
   "metadata": {},
   "outputs": [],
   "source": [
    "df.to_csv('../data/navy/navy-processed-alex.csv', encoding='utf8')"
   ]
  },
  {
   "cell_type": "code",
   "execution_count": null,
   "metadata": {},
   "outputs": [],
   "source": []
  },
  {
   "cell_type": "code",
   "execution_count": null,
   "metadata": {},
   "outputs": [],
   "source": []
  },
  {
   "cell_type": "code",
   "execution_count": null,
   "metadata": {},
   "outputs": [],
   "source": []
  },
  {
   "cell_type": "markdown",
   "metadata": {},
   "source": [
    "# Marines"
   ]
  },
  {
   "cell_type": "code",
   "execution_count": 1,
   "metadata": {},
   "outputs": [],
   "source": [
    "fn = '../data/marines/Marine Corps General and Special Court-Martial Dispositions.pdf'"
   ]
  },
  {
   "cell_type": "code",
   "execution_count": 8,
   "metadata": {},
   "outputs": [],
   "source": [
    "import textract\n",
    "import pandas as pd \n",
    "t = textract.process(fn, process='pdfminer')"
   ]
  },
  {
   "cell_type": "code",
   "execution_count": 9,
   "metadata": {},
   "outputs": [],
   "source": [
    "t = t.replace('\\nAt a','\\n\\nAt a')"
   ]
  },
  {
   "cell_type": "code",
   "execution_count": 10,
   "metadata": {},
   "outputs": [],
   "source": [
    "t2 = t.split('\\n\\n')"
   ]
  },
  {
   "cell_type": "code",
   "execution_count": 11,
   "metadata": {},
   "outputs": [
    {
     "data": {
      "text/plain": [
       "<matplotlib.axes._subplots.AxesSubplot at 0x1089f3690>"
      ]
     },
     "execution_count": 11,
     "metadata": {},
     "output_type": "execute_result"
    },
    {
     "data": {
      "image/png": "[encoded data removed]",
      "text/plain": [
       "<matplotlib.figure.Figure at 0x1089cbe10>"
      ]
     },
     "metadata": {},
     "output_type": "display_data"
    }
   ],
   "source": [
    "%matplotlib inline\n",
    "t3 = pd.Series(t2)\n",
    "t3.apply(lambda x: len(x)).hist(bins=50)"
   ]
  },
  {
   "cell_type": "code",
   "execution_count": 12,
   "metadata": {},
   "outputs": [
    {
     "data": {
      "text/plain": [
       "Description               139\n",
       "Unit                       25\n",
       "HqSvcBn, MCB\\nQuantico     13\n",
       "CLB-3, CLR-3,\\n3d MLG      10\n",
       "2dBn, 2dMar,\\n2dMarDiv      8\n",
       "dtype: int64"
      ]
     },
     "execution_count": 12,
     "metadata": {},
     "output_type": "execute_result"
    }
   ],
   "source": [
    "t3[t3.apply(len) < 100].value_counts().head()"
   ]
  },
  {
   "cell_type": "code",
   "execution_count": 14,
   "metadata": {},
   "outputs": [],
   "source": [
    "import re\n",
    "date = None\n",
    "output_lines = []\n",
    "for line in t2:\n",
    "    if len(line) > 100:\n",
    "        # statement\n",
    "        output_lines.append({\n",
    "            \"date\": date,\n",
    "            \"case\": line\n",
    "        })\n",
    "    else:\n",
    "        date_match = re.match('\\d{1,2}/\\d{1,2}/\\d\\d\\d\\d', line)\n",
    "        if date_match:\n",
    "            # date\n",
    "            date = date_match.group()\n",
    "        else:\n",
    "            # other\n",
    "            continue"
   ]
  },
  {
   "cell_type": "code",
   "execution_count": 15,
   "metadata": {},
   "outputs": [],
   "source": [
    "parsed_result_df = pd.DataFrame(output_lines)"
   ]
  },
  {
   "cell_type": "code",
   "execution_count": 443,
   "metadata": {},
   "outputs": [],
   "source": [
    "parsed_result_df.to_csv('../data/marines/pre_parsed_result_df.csv')"
   ]
  },
  {
   "cell_type": "markdown",
   "metadata": {},
   "source": [
    "# Parse Fields"
   ]
  },
  {
   "cell_type": "code",
   "execution_count": 18,
   "metadata": {},
   "outputs": [],
   "source": [
    "import sys\n",
    "sys.path.append('utils/')\n",
    "import marines_python_scraper"
   ]
  },
  {
   "cell_type": "code",
   "execution_count": 19,
   "metadata": {
    "scrolled": true
   },
   "outputs": [
    {
     "name": "stdout",
     "output_type": "stream",
     "text": [
      "At a General Court-Martial Camp Lejeune,  North Carolina,  a sergeant was acquitted by officer and enlisted members of rape of a child,  aggravated sexual contact with a child,  indecent liberty with a child,  and sodomy with a child.\n",
      "At a Special Court-Martial at Camp Lejeune,  North Carolina,  Lance Corporal S. M. Roach was convicted by a military judge alone of aggravated assault,  assault consummated by battery,  and adultery. The military judge sentence the accused to 194 days confinement,  reduction to E-1,  and a bad-conduct discharge.\n",
      "no rank..\n",
      "Court-Martial at Iwakuni,  Japan,  a acquitted by officer and enlisted members of a lawful general order,  abusive sexual assault consummated by a battery.\n",
      "Court-Martial at Iwakuni,  Japan,  a acquitted by officer and enlisted members of a lawful general order,  abusive sexual assault consummated by a battery.\n",
      "At a General Court-Martial at Twentynine Palms,  California,  Lance Corporal D. L. Hock was convicted by officer and enlisted members of violation of a lawful general order and rape by unlawful force. The panel sentence the accused to 35 years confinement,  reduction to E-1,  forfeiture of all pay and allowances,  and a dishonorable discharge.\n",
      "At a General Court-Martial at Miramar,  California,  Sergeant M. A. Langford was convicted by officer and MAG-11,    enlisted members of adultery. The panel awarded no punishment.\n",
      "At a Special Court-Martial,  California,  Private First Class D. R. Rivera was HqSptBn,  convicted by a military judge alone of absence without Camp Pendleton, leave. The military judge sentenced the accused to 75 days confinement,  reduction to E-1,  and a bad-conduct discharge.\n",
      "At a Special Court-Martial,  California,  Lance Corporal N. Tienter was convicted by a military judge alone of assault. The military judge sentenced the accused to 6 months confinement,  reduction to E-1,  and a bad-conduct discharge.\n",
      "At a General Court-Martial,  California,  Sergeant J. R. Rodriguez Jr. was convicted SOI-W,  TRNGCMD by a military judge alone of larceny. The military judge sentenced him to 15 months confinement,  reduction to E-1,  and a bad-conduct discharge. 1/27/2015\n",
      "At a Special Court-Martial,  California,  Sergeant R. L. Williams Jr. was convicted by officer and enlisted members of conspiracy,  dereliction of duty,  false official statements,  and larceny. The panel sentenced the accused to 30 days confinement,  and reduction to E-1.\n",
      "At a General Court-Martial,  California,  a lance corporal was acquitted by officer and enlisted members of sexual assault.\n",
      "At a General Court-Martial,  California,  Private First Class J. M. Pavlov was convicted by a military judge alone of attempt to possess and distribute a controlled substance,  violation of a lawful general order,  and possession,  use,  and distribution of a controlled substance. The military judge sentenced the accused to 36 months confinement,  a fine of $5, 000,  reduction to E-1,  and a dishonorable discharge.\n",
      "At a Special Court-Martial at Miramar,  California,  MACS-1,  MACG- Sergeant S. M. Woodruff was convicted by officer and 38,  3D  enlisted members of violation of a general order and falsifying a record.\n",
      "At a General Court-Martial at Camp Pendleton,  California,  Sergeant T. V. Nauta was convicted by a military judge alone of conspiracy,  sale of military SupBn,  property,  larceny,  knowingly receiving stolen property,  CLR-15,   and obstructing justice. The military judge setenced the accused to 1 year confinement,  a $21, 000 fine,  reduction to E-1,  and a bad-conduct discharge. 3/11/2015\n",
      "At a Special Court-Martial at Camp Pendleton,  California,  Corporal D. M. Gutierrez was convicted by a HqSptBn,  MCB military judge alone of unauthorized absence. The Camp Pendleton, military judge setenced the accused to 270 days confinement and reduction to E-1. 4/2/2015\n",
      "At a General Court-Martial,  at Kaneohe Bay,  Hawaii,  a military judge convicted Lance Corporal W. S. Green,  USMC,  of failure to obey lawful orders,  sexual assault,  and aggravated assault. The military judge sentenced the accused to 7 years confinement,  reduction to E-1,  forfeitures of all pay and allowances,  and a Dishonorable Discharge. Pursuant to the pre-trial agreement,  all confinement in excess of 29 months will be disapproved.\n"
     ]
    }
   ],
   "source": [
    "document = \"Marine Corps General and Special Court-Martial Dispositions.pdf\"\n",
    "df_list = []\n",
    "for date, paragraph in zip(parsed_result_df.date, parsed_result_df.case):\n",
    "    if 'sentencing rehearing' not in paragraph:\n",
    "        output = {}\n",
    "        output['date'] = date\n",
    "        output['Document'] = document\n",
    "        output['orig-par'] = paragraph\n",
    "        paragraph= marines_python_scraper.clean_paragraph(paragraph)\n",
    "        output['paragraph'] = paragraph\n",
    "        \n",
    "        output = marines_python_scraper.get_rank(paragraph, output)\n",
    "        output = marines_python_scraper.get_location(paragraph, output)\n",
    "        output = marines_python_scraper.get_name(paragraph, output)\n",
    "        output = marines_python_scraper.get_described_offense(paragraph, output)\n",
    "        output = marines_python_scraper.get_conviction(paragraph, output)\n",
    "        output = marines_python_scraper.get_sentence(paragraph, output)\n",
    "        output = marines_python_scraper.cleanup(paragraph, output)\n",
    "        \n",
    "        if pd.notnull(output):\n",
    "            df_list.append(output)\n"
   ]
  },
  {
   "cell_type": "code",
   "execution_count": 20,
   "metadata": {},
   "outputs": [],
   "source": [
    "pd.DataFrame(df_list).to_csv('../data/marines/marines_parsed.csv', encoding='utf-8')"
   ]
  },
  {
   "cell_type": "code",
   "execution_count": 435,
   "metadata": {},
   "outputs": [
    {
     "data": {
      "text/plain": [
       "array([u'At a Special Court-Martial at Quantico,  Virginia,  Lance MCBQ Corporal J. J. Healy was convicted by a military judge alone of wrongful use and possession of a controlled substance. The military judge sentenced the accused to 70 days confinement,  forfeiture of $1, 000 per month for a period of four months,  reduction to E-1,  and a bad-conduct discharge. The pre-trial agreement had no effect on the sentence.'],\n",
       "      dtype=object)"
      ]
     },
     "execution_count": 435,
     "metadata": {},
     "output_type": "execute_result"
    }
   ],
   "source": [
    "(pd.DataFrame(df_list)\n",
    " .pipe(\n",
    "     lambda df: df[df['paragraph']\n",
    "     .apply(lambda x: 'accused to 70 days confinement,  forfeiture of $1, 000' in x)]))['paragraph'].values"
   ]
  },
  {
   "cell_type": "code",
   "execution_count": null,
   "metadata": {},
   "outputs": [],
   "source": []
  },
  {
   "cell_type": "code",
   "execution_count": null,
   "metadata": {},
   "outputs": [],
   "source": []
  },
  {
   "cell_type": "markdown",
   "metadata": {},
   "source": [
    "# Air Force"
   ]
  },
  {
   "cell_type": "code",
   "execution_count": null,
   "metadata": {},
   "outputs": [],
   "source": []
  },
  {
   "cell_type": "code",
   "execution_count": 513,
   "metadata": {},
   "outputs": [],
   "source": [
    "t = textract.process(\n",
    "    '../data/airforce/SentencesAIRFORCE/airforce2010-2015.pdf', \n",
    "    method='pdfminer'\n",
    ")"
   ]
  },
  {
   "cell_type": "code",
   "execution_count": 500,
   "metadata": {},
   "outputs": [],
   "source": [
    "df_list = []\n",
    "for case in re.split('United States v.|U.S. v.', t)[1:]:\n",
    "    output = {}\n",
    "    chunks = re.split('Base:|Synopsis:|Trial Results:|Adjudged\\s+Sentence:|Sentence:', case.replace('\\n', ''))\n",
    "    if len(chunks) == 4:\n",
    "        (output['Name'],\n",
    "         output['City'],\n",
    "         output['Offense'],\n",
    "         output['Result']\n",
    "        ) = chunks\n",
    "    elif len(chunks) == 5:\n",
    "        (output['Name'],\n",
    "         output['City'],\n",
    "         output['Offense'],\n",
    "         output['Result'],\n",
    "         output['Sentence']\n",
    "        ) = chunks\n",
    "    else:\n",
    "        print case.replace('\\n', '')\n",
    "    \n",
    "    df_list.append(output)"
   ]
  },
  {
   "cell_type": "code",
   "execution_count": 519,
   "metadata": {},
   "outputs": [],
   "source": [
    "summary_df = pd.DataFrame(df_list)"
   ]
  },
  {
   "cell_type": "code",
   "execution_count": 508,
   "metadata": {},
   "outputs": [
    {
     "name": "stdout",
     "output_type": "stream",
     "text": [
      "airforce_python_scraper.py   marines_python_scraper.pyc\r\n",
      "airforce_python_scraper.pyc  navy_python_scraper.py\r\n",
      "marines_python_scraper.py    navy_python_scraper.pyc\r\n"
     ]
    }
   ],
   "source": [
    "ls utils/"
   ]
  },
  {
   "cell_type": "code",
   "execution_count": 509,
   "metadata": {},
   "outputs": [],
   "source": [
    "import airforce_python_scraper"
   ]
  },
  {
   "cell_type": "code",
   "execution_count": 553,
   "metadata": {},
   "outputs": [],
   "source": [
    "month_re = (\n",
    "    'Jan|'\n",
    "    'Feb|'\n",
    "    'Mar|'\n",
    "    'Apr|'\n",
    "    'May|'\n",
    "    'Jun|'\n",
    "    'Jul|'\n",
    "    'Aug|'\n",
    "    'Sep|'\n",
    "    'Oct|'\n",
    "    'Nov|'\n",
    "    'Dec'\n",
    ")\n",
    "\n",
    "df_list = []\n",
    "for document in glob.glob('../data/airforce/SentencesAIRFORCE/*')[1:]:\n",
    "    t = textract.process(document, method='pdfminer')\n",
    "    for case in re.split('\\n\\d{1,2}\\.', t)[1:]:\n",
    "        output = {}\n",
    "        output['Paragraph'] = case\n",
    "        output['Document'] = document\n",
    "        fn = document.replace('Court-Martial_Summaries', '')\n",
    "        month = re.search(month_re, fn).group()\n",
    "        year = re.search('\\d{2,4}', fn).group()[-2:]\n",
    "        output['Date'] = month + '-' + year\n",
    "        df_list.append(output)"
   ]
  },
  {
   "cell_type": "code",
   "execution_count": 554,
   "metadata": {},
   "outputs": [
    {
     "data": {
      "text/plain": [
       "['../data/airforce/SentencesAIRFORCE/April_16.pdf',\n",
       " '../data/airforce/SentencesAIRFORCE/CM_Summ_Aug_16.pdf',\n",
       " '../data/airforce/SentencesAIRFORCE/CM_Summaries_Feb_17.pdf',\n",
       " '../data/airforce/SentencesAIRFORCE/Court-Martial_Summaries_(Apr_17).pdf',\n",
       " '../data/airforce/SentencesAIRFORCE/Court-Martial_Summaries_(Dec_16).pdf',\n",
       " '../data/airforce/SentencesAIRFORCE/Court-Martial_Summaries_(Jan_17).pdf',\n",
       " '../data/airforce/SentencesAIRFORCE/Court-Martial_Summaries_(Jul_17).pdf',\n",
       " '../data/airforce/SentencesAIRFORCE/Court-Martial_Summaries_(Jun_17).pdf',\n",
       " '../data/airforce/SentencesAIRFORCE/Court-Martial_Summaries_(Mar_17).pdf',\n",
       " '../data/airforce/SentencesAIRFORCE/Court-Martial_Summaries_(May_17).pdf',\n",
       " '../data/airforce/SentencesAIRFORCE/Court-Martial_Summaries_(Nov_16).pdf',\n",
       " '../data/airforce/SentencesAIRFORCE/Court-Martial_Summaries_(Oct_16).pdf',\n",
       " '../data/airforce/SentencesAIRFORCE/Court-Martial_Summaries_(Sep16).pdf',\n",
       " '../data/airforce/SentencesAIRFORCE/Feb_16.pdf',\n",
       " '../data/airforce/SentencesAIRFORCE/January_2016.pdf',\n",
       " '../data/airforce/SentencesAIRFORCE/Jul16_Summaries.pdf',\n",
       " '../data/airforce/SentencesAIRFORCE/Jun16_Results.pdf',\n",
       " '../data/airforce/SentencesAIRFORCE/June_16.pdf',\n",
       " '../data/airforce/SentencesAIRFORCE/March_16.pdf',\n",
       " '../data/airforce/SentencesAIRFORCE/March_2015.pdf',\n",
       " '../data/airforce/SentencesAIRFORCE/March_2016.pdf',\n",
       " '../data/airforce/SentencesAIRFORCE/May_16.pdf']"
      ]
     },
     "execution_count": 554,
     "metadata": {},
     "output_type": "execute_result"
    }
   ],
   "source": [
    "glob.glob('../data/airforce/SentencesAIRFORCE/*')[1:]"
   ]
  },
  {
   "cell_type": "code",
   "execution_count": 556,
   "metadata": {},
   "outputs": [],
   "source": [
    "df = pd.DataFrame(df_list)"
   ]
  },
  {
   "cell_type": "code",
   "execution_count": null,
   "metadata": {
    "scrolled": true
   },
   "outputs": [],
   "source": []
  },
  {
   "cell_type": "code",
   "execution_count": 759,
   "metadata": {},
   "outputs": [
    {
     "name": "stdout",
     "output_type": "stream",
     "text": [
      "  At McConnell AFB,  KS,  an enlisted Airman was tried by officer and enlisted  members of sexual assault of a child and sexual abuse of a child.   Special Court-Martial Convictions  \n"
     ]
    }
   ],
   "source": [
    "df_list = []\n",
    "for date, doc, paragraph in zip(df.Date, df.Document, df.Paragraph):\n",
    "    output = {}\n",
    "    output['Document'] = doc\n",
    "    output['Date'] = date\n",
    "    output['orig-par'] = paragraph\n",
    "    paragraph= marines_python_scraper.clean_paragraph(paragraph)\n",
    "    output['paragraph'] = paragraph\n",
    "\n",
    "    output = airforce_python_scraper.get_rank(paragraph, output)\n",
    "    output = airforce_python_scraper.get_location(paragraph, output)\n",
    "    output = airforce_python_scraper.get_name(paragraph, output)\n",
    "    output = airforce_python_scraper.get_described_offense(paragraph, output)\n",
    "    output = airforce_python_scraper.get_conviction(paragraph, output)\n",
    "    output = airforce_python_scraper.get_sentence(paragraph, output)\n",
    "    output = airforce_python_scraper.cleanup(paragraph, output)\n",
    "\n",
    "    if pd.notnull(output):\n",
    "        df_list.append(output)"
   ]
  },
  {
   "cell_type": "code",
   "execution_count": null,
   "metadata": {},
   "outputs": [],
   "source": []
  },
  {
   "cell_type": "code",
   "execution_count": 760,
   "metadata": {},
   "outputs": [
    {
     "data": {
      "text/plain": [
       "<module 'airforce_python_scraper' from 'utils/airforce_python_scraper.pyc'>"
      ]
     },
     "execution_count": 760,
     "metadata": {},
     "output_type": "execute_result"
    }
   ],
   "source": [
    "reload(airforce_python_scraper)"
   ]
  },
  {
   "cell_type": "code",
   "execution_count": 761,
   "metadata": {},
   "outputs": [],
   "source": [
    "for City, Name, Offense, Result, Sentence in zip(summary_df.City, summary_df.Name, summary_df.Offense, summary_df.Result, summary_df.Sentence):\n",
    "    output = {}\n",
    "    output['Document'] = 'summary2010-2015.pdf'\n",
    "    output = airforce_python_scraper.get_date(Result, output)\n",
    "    output['Rank'] = Name.split()[0]\n",
    "    output['Name'] = ' '.join(Name.split()[1:])\n",
    "    \n",
    "    # get city\n",
    "    chunks = City.split(',')\n",
    "    if len(chunks) >= 1:\n",
    "        output['city'] = chunks[0]\n",
    "        if len(chunks) >= 2:\n",
    "            if chunks[1].strip() in airforce_python_scraper.states:\n",
    "                output['state'] = chunks[1].strip()\n",
    "                output['country'] = 'U.S.A.'\n",
    "            else:\n",
    "                output['country'] = chunks[1].strip()\n",
    "            if len(chunks) >= 3:\n",
    "                output['country'] = chunks[2]\n",
    "    \n",
    "    output['Allegation'] = Offense\n",
    "    output['Offense'] = Result\n",
    "    output = airforce_python_scraper.get_conviction(Result, output)\n",
    "    if pd.notnull(Sentence):\n",
    "        output['Sentence'] = Sentence.split('.')[0]\n",
    "    else:\n",
    "        output['Sentence'] = Result\n",
    "    output = airforce_python_scraper.cleanup(paragraph, output)\n",
    "\n",
    "    if pd.notnull(output):\n",
    "        df_list.append(output)"
   ]
  },
  {
   "cell_type": "code",
   "execution_count": 763,
   "metadata": {},
   "outputs": [],
   "source": [
    "pd.DataFrame(df_list).to_csv('../data/airforce/parsed-airforce.csv', encoding='utf-8')"
   ]
  },
  {
   "cell_type": "code",
   "execution_count": null,
   "metadata": {},
   "outputs": [],
   "source": []
  },
  {
   "cell_type": "code",
   "execution_count": null,
   "metadata": {},
   "outputs": [],
   "source": []
  },
  {
   "cell_type": "code",
   "execution_count": 611,
   "metadata": {},
   "outputs": [
    {
     "data": {
      "text/plain": [
       "True"
      ]
     },
     "execution_count": 611,
     "metadata": {},
     "output_type": "execute_result"
    }
   ],
   "source": [
    "'OH' in airforce_python_scraper.states"
   ]
  },
  {
   "cell_type": "code",
   "execution_count": null,
   "metadata": {},
   "outputs": [],
   "source": []
  },
  {
   "cell_type": "code",
   "execution_count": null,
   "metadata": {},
   "outputs": [],
   "source": []
  }
 ],
 "metadata": {
  "anaconda-cloud": {},
  "kernelspec": {
   "display_name": "Python 2",
   "language": "python",
   "name": "python2"
  },
  "language_info": {
   "codemirror_mode": {
    "name": "ipython",
    "version": 2
   },
   "file_extension": ".py",
   "mimetype": "text/x-python",
   "name": "python",
   "nbconvert_exporter": "python",
   "pygments_lexer": "ipython2",
   "version": "2.7.13"
  }
 },
 "nbformat": 4,
 "nbformat_minor": 1
}
