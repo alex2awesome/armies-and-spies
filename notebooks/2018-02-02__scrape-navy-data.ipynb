{
 "cells": [
  {
   "cell_type": "code",
   "execution_count": 1,
   "metadata": {},
   "outputs": [
    {
     "name": "stdout",
     "output_type": "stream",
     "text": [
      "APR2014.csv      Dec2013.pdf      Jan2014.pdf      NOV2015.pdf\r\n",
      "APR2015.pdf      FEB16.pdf        July2014.pdf     NOV2016.pdf\r\n",
      "APR2016.pdf      FEB2015.pdf      July2015.pdf     NOV2017.pdf\r\n",
      "APR2017.pdf      FEB2017.pdf      Jun2015.pdf      Nov2013.pdf\r\n",
      "AUG2014.pdf      Feb2014.pdf      June2014.pdf     OCT2015.pdf\r\n",
      "AUG2015.pdf      JAN2013.pdf      MAR2015.pdf      OCT2016.pdf\r\n",
      "AUG2016.pdf      JAN2015.pdf      MAR2016.pdf      OCT2017.pdf\r\n",
      "AUG2017.pdf      JAN2016.pdf      MAR2017.pdf      Oct2013.pdf\r\n",
      "Apr2014.pdf      JAN2017.pdf      MAY2016.pdf      October2014.pdf\r\n",
      "Apr2015.csv      JUL2016.pdf      MAY2017.pdf      SEPT2014.pdf\r\n",
      "Aug2013.pdf      JUL2017.pdf      Mar2014.pdf      SEPT2015.pdf\r\n",
      "DEC14.pdf        JULY2013.pdf     May2014.pdf      SEPT2016.pdf\r\n",
      "DEC2016.pdf      JUN2016.pdf      May2015.pdf      SEPT2017.pdf\r\n",
      "Dec15.pdf        JUN2017.pdf      NOV14.pdf        Sept2013.pdf\r\n"
     ]
    }
   ],
   "source": [
    "ls ../data/navy/SentencesNAVY/"
   ]
  },
  {
   "cell_type": "code",
   "execution_count": 2,
   "metadata": {},
   "outputs": [],
   "source": [
    "import textract\n",
    "import sys\n",
    "sys.path.append('utils/')\n",
    "import navy_python_scraper\n",
    "import glob\n",
    "import random\n",
    "import re\n",
    "import pandas as pd"
   ]
  },
  {
   "cell_type": "code",
   "execution_count": 4,
   "metadata": {},
   "outputs": [
    {
     "data": {
      "text/plain": [
       "<module 'navy_python_scraper' from 'utils/navy_python_scraper.py'>"
      ]
     },
     "execution_count": 4,
     "metadata": {},
     "output_type": "execute_result"
    }
   ],
   "source": [
    "reload(navy_python_scraper)"
   ]
  },
  {
   "cell_type": "code",
   "execution_count": 5,
   "metadata": {},
   "outputs": [
    {
     "name": "stdout",
     "output_type": "stream",
     "text": [
      " General Court-Martial in Norfolk, Virginia, an E-5 and an E-4 were tried, jointly, for sexual assault.  On 14 April 2016, the panel of members returned a verdict of not guilty for both Sailors.        \n",
      " re-sentencing hearing for a previously held General Court-Martial in San Diego, CA, CTT1 Durville Christopher, USN was sentenced for indecent acts with a child and assault consummated by a battery on a child under the age of 16 years old.  On 25 March 2016, the panel of members sentenced him to be discharged with a Dishonorable Discharge, reduction in rank to paygrade E-1, and confinement for 2 years.                Special Court-Martial    None.   Navy Region Mid-Atlantic            General Court-Martial     \n",
      " re-sentencing hearing for a previously held General Court-Martial in Mayport, Florida, ABE2 Alonzo Bass, III, USN was sentenced for violations of a general order and wrongful sexual contact.  On 28 March 2016, the military judge sentenced him to be discharged with a Bad Conduct Discharge, reduction in rank to paygrade E-1 and confinement for 2 years.  Pursuant to a post-trial agreement, confinement greater than confinement previously served (679 days) will be suspended and remitted.  The suspended confinement may be served if the Service Member violates the terms of the post-trial agreement.    \n",
      " General Court-Martial in Norfolk, Virginia, an E-4 USN was tried of attempted murder by reason of lack of mental responsibility.  On 31 May 2016, the military judge ruled that continued confinement in a treatment facility may be appropriate.  The accused was remanded into the Attorney General’s custody for treatment.  Special Court-Martial    \n",
      " General Court-Martial in Mayport, Florida, HN Kevin Corcoran, USN was tried for sexual assault.  On 23 October 2013, the military judge returned a verdict of guilty and 1   \f",
      "  \n",
      " Special Court-Martial in Naples, Italy, CE2 Joel Stein, USN pleaded guilty to assault consummated by a battery.  On 21 October 2013, the military judge awarded no punishment.    3 \f",
      "\n"
     ]
    }
   ],
   "source": [
    "data_dir = '../data/navy/SentencesNAVY/'\n",
    "df_list = []\n",
    "court_martial_list = []\n",
    "for document in glob.glob('../data/navy/SentencesNAVY/*.pdf'):\n",
    "\n",
    "    # naming...\n",
    "#     print('----------------------------------')\n",
    "#     print('processing %s...' % document)\n",
    "#     print('----------------------------------')\n",
    "    fp = document\n",
    "    text = textract.process(fp)\n",
    "    court_martial=unicode(text, encoding='utf-8').split('At a')[1:]\n",
    "    court_martial_list += court_martial\n",
    "\n",
    "    for idx, paragraph in enumerate(court_martial):\n",
    "        if 'sentencing rehearing' not in paragraph:\n",
    "            output = {}\n",
    "            output['Document'] = document\n",
    "            output['paragraph'] = paragraph\n",
    "            paragraph= navy_python_scraper.clean_paragraph(paragraph)\n",
    "            output = navy_python_scraper.get_date(paragraph, output)    \n",
    "            \n",
    "            output = navy_python_scraper.get_gender(paragraph, output)\n",
    "            output = navy_python_scraper.get_rank(paragraph, output)\n",
    "            output = navy_python_scraper.get_location(paragraph, output)\n",
    "            output = navy_python_scraper.get_name(paragraph, output)\n",
    "            output = navy_python_scraper.get_described_offense(paragraph, output)\n",
    "            output = navy_python_scraper.get_conviction(paragraph, output)\n",
    "            output = navy_python_scraper.get_sentence(paragraph, output)\n",
    "            output = navy_python_scraper.cleanup(paragraph, output)\n",
    "            df_list.append(output)\n",
    "\n",
    "#     print\n",
    "#     print"
   ]
  },
  {
   "cell_type": "code",
   "execution_count": 7,
   "metadata": {},
   "outputs": [],
   "source": [
    "df = pd.DataFrame(df_list)"
   ]
  },
  {
   "cell_type": "code",
   "execution_count": 9,
   "metadata": {},
   "outputs": [],
   "source": [
    "df.to_csv('../data/navy/navy-processed-alex.csv', encoding='utf8')"
   ]
  },
  {
   "cell_type": "code",
   "execution_count": null,
   "metadata": {},
   "outputs": [],
   "source": []
  }
 ],
 "metadata": {
  "anaconda-cloud": {},
  "kernelspec": {
   "display_name": "Python 2",
   "language": "python",
   "name": "python2"
  },
  "language_info": {
   "codemirror_mode": {
    "name": "ipython",
    "version": 2
   },
   "file_extension": ".py",
   "mimetype": "text/x-python",
   "name": "python",
   "nbconvert_exporter": "python",
   "pygments_lexer": "ipython2",
   "version": "2.7.13"
  }
 },
 "nbformat": 4,
 "nbformat_minor": 1
}
