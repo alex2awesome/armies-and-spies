{
 "cells": [
  {
   "cell_type": "code",
   "execution_count": 20,
   "metadata": {
    "hideCode": false,
    "hidePrompt": false
   },
   "outputs": [],
   "source": [
    "import pandas as pd\n",
    "from glob import glob\n",
    "import os\n",
    "import numpy as np\n",
    "import re\n",
    "import sys\n",
    "from collections import defaultdict\n",
    "import itertools\n",
    "sys.path.append('utils/')\n",
    "from airforce_python_scraper import states\n",
    "import calendar\n",
    "from fuzzywuzzy import fuzz\n",
    "%matplotlib inline\n",
    "import matplotlib.pyplot as plt"
   ]
  },
  {
   "cell_type": "code",
   "execution_count": 2,
   "metadata": {
    "hideCode": false,
    "hidePrompt": false
   },
   "outputs": [],
   "source": [
    "sapro_full = pd.read_excel('sapro_full.xlsx')"
   ]
  },
  {
   "cell_type": "code",
   "execution_count": 3,
   "metadata": {
    "hideCode": false,
    "hidePrompt": false
   },
   "outputs": [
    {
     "data": {
      "text/plain": [
       "no court-martial    6042\n",
       "guilty              1536\n",
       "not guilty           785\n",
       "Name: Outcome, dtype: int64"
      ]
     },
     "execution_count": 3,
     "metadata": {},
     "output_type": "execute_result"
    }
   ],
   "source": [
    "sapro_full['Outcome'].value_counts()"
   ]
  },
  {
   "cell_type": "code",
   "execution_count": 4,
   "metadata": {
    "hideCode": false,
    "hidePrompt": false
   },
   "outputs": [],
   "source": [
    "fn = '../data/final_usm_data/size-of-usm-by-rank/DRS_42486_Active Duty_FY2014.xlsx'\n",
    "num_active_duty_2014 = pd.ExcelFile(fn)\n",
    "sheets_2014 = num_active_duty_2014.sheet_names\n",
    "\n",
    "fn = '../data/final_usm_data/size-of-usm-by-rank/DRS_42486_Active Duty_FY2015.xlsx'\n",
    "num_active_duty_2015 = pd.ExcelFile(fn)\n",
    "sheets_2015 = num_active_duty_2015.sheet_names"
   ]
  },
  {
   "cell_type": "code",
   "execution_count": 5,
   "metadata": {
    "hideCode": false,
    "hidePrompt": false
   },
   "outputs": [],
   "source": [
    "output = {}\n",
    "\n",
    "for year in ['2014','2015']:\n",
    "    for sheet in eval('sheets_%s' % year):\n",
    "        sheet_date = sheet.split(' - ')[1]\n",
    "        t = eval(\"num_active_duty_%s\" % year).parse(sheet)\n",
    "        df = (t.loc[6:31]\n",
    "              .set_index('Department of Defense')\n",
    "              .drop([np.nan, 'TOTAL OFFICER']).sum(axis=1)\n",
    "             )\n",
    "        output[sheet_date] = df"
   ]
  },
  {
   "cell_type": "code",
   "execution_count": 6,
   "metadata": {
    "hideCode": false,
    "hidePrompt": false
   },
   "outputs": [],
   "source": [
    "full_enlisted_df = pd.DataFrame(output)"
   ]
  },
  {
   "cell_type": "code",
   "execution_count": 7,
   "metadata": {
    "hideCode": false,
    "hidePrompt": false
   },
   "outputs": [],
   "source": [
    "ordering = [\"Cadet\", \"E-1\", \"E-2\", \"E-3\", \"E-4\", \"E-5\", \"E-6\", \n",
    " \"E-7\", \"E-8\", \"E-9\", \"W-1\", \"W-2\", \"W-3\", \"W-4\", \"W-5\", \n",
    " \"O-1\", \"O-2\", \"O-3\", \"O-4\", \"O-5\", \"O-6\", \"O-7\", \"O-8\",\n",
    " \"O-9\", \"O-10\",]"
   ]
  },
  {
   "cell_type": "code",
   "execution_count": 8,
   "metadata": {
    "hideCode": false,
    "hidePrompt": false
   },
   "outputs": [],
   "source": [
    "mapping = {\n",
    "\"GENERAL       -ADMIRAL\": \"O-10\",\n",
    "\"LT GENERAL    -VICE ADMIRAL\": 'O-9',\n",
    "\"MAJ GENERAL   -REAR ADMIRAL(U)\" : \"O-8\",\n",
    "\"BRIG GENERAL  -REAR ADMIRAL(L)\": \"O-7\",\n",
    "\"COLONEL       -CAPTAIN\": \"O-6\",\n",
    "\"LIEUTENANT COL-COMMANDER\": \"O-5\",\n",
    "\"MAJOR         -LT COMMANDER\": \"O-4\",\n",
    "\"CAPTAIN       -LIEUTENANT\": \"O-3\",\n",
    "\"Ist LIEUTENANT-LIEUTENANT(JG)\": \"O-2\",\n",
    "\"2nd LIEUTENANT-ENSIGN\": \"O-1\",\n",
    "\"CHIEF WARRANT OFFICER W-5\":\"W-5\",\n",
    "\"CHIEF WARRANT OFFICER W-4\":\"W-4\",\n",
    "\"CHIEF WARRANT OFFICER W-3\":\"W-3\",\n",
    "\"CHIEF WARRANT OFFICER W-2\":\"W-2\",\n",
    "\"WARRANT OFFICER W-1\":\"W-1\",\n",
    "\"E-9\":\"E-9\",\n",
    "\"E-8\":\"E-8\",\n",
    "\"E-7\":\"E-7\",\n",
    "\"E-6\":\"E-6\",\n",
    "\"E-5\":\"E-5\",\n",
    "\"E-4\":\"E-4\",\n",
    "\"E-3\":\"E-3\",\n",
    "\"E-2\":\"E-2\",\n",
    "\"E-1\":\"E-1\",}"
   ]
  },
  {
   "cell_type": "code",
   "execution_count": 9,
   "metadata": {
    "hideCode": false,
    "hidePrompt": false
   },
   "outputs": [],
   "source": [
    "full_enlisted_df = (full_enlisted_df\n",
    " .reset_index()\n",
    " .assign(pay_grade = lambda df: df['Department of Defense'].apply(lambda x: mapping[x] ))\n",
    " .drop('Department of Defense', axis=1)\n",
    " .set_index('pay_grade')\n",
    ")"
   ]
  },
  {
   "cell_type": "markdown",
   "metadata": {
    "hideCode": false,
    "hidePrompt": false
   },
   "source": [
    "#### Total SAPRO Records"
   ]
  },
  {
   "cell_type": "code",
   "execution_count": 16,
   "metadata": {
    "hideCode": false,
    "hidePrompt": false
   },
   "outputs": [
    {
     "data": {
      "text/plain": [
       "<matplotlib.axes._subplots.AxesSubplot at 0x110ff0c10>"
      ]
     },
     "execution_count": 16,
     "metadata": {},
     "output_type": "execute_result"
    },
    {
     "data": {
      "image/png": "[encoded data removed]",
      "text/plain": [
       "<Figure size 720x432 with 1 Axes>"
      ]
     },
     "metadata": {},
     "output_type": "display_data"
    }
   ],
   "source": [
    "full_enlisted_df.reindex(index=ordering).pipe(lambda df: \n",
    "    df.mean(axis=1).plot(\n",
    "        kind='bar',\n",
    "        yerr=df.std(axis=1),\n",
    "        title='Mean Size of USM 2013/10-2015/09',\n",
    "        figsize=(10,6),\n",
    "        color='lightblue'\n",
    "    )\n",
    ")"
   ]
  },
  {
   "cell_type": "code",
   "execution_count": 17,
   "metadata": {
    "hideCode": false,
    "hidePrompt": false
   },
   "outputs": [],
   "source": [
    "to_drop = [\n",
    "    'Cadet/Mid shipman',\n",
    "    'Foreign National',\n",
    "    'Subject Pay Grade',\n",
    "    'UNKNOWN', 'Unknow','Unknown',\n",
    "    'US Civilian',\n",
    "    \"C-1\",\"C-2\",\"C-3\",\"C-4\",\n",
    "    \"M-1\",\"M-2\",\"M-3\"\n",
    "]\n",
    "intermediate_sapro_ranks = (sapro_full\n",
    " [['Subject Pay Grade', 'Outcome']]\n",
    " .assign(c=1)\n",
    " .pivot_table('c', 'Subject Pay Grade', 'Outcome', aggfunc='sum')\n",
    " .sort_index()\n",
    " .drop(to_drop)\n",
    ")"
   ]
  },
  {
   "cell_type": "code",
   "execution_count": null,
   "metadata": {},
   "outputs": [],
   "source": []
  },
  {
   "cell_type": "code",
   "execution_count": null,
   "metadata": {},
   "outputs": [],
   "source": []
  },
  {
   "cell_type": "code",
   "execution_count": null,
   "metadata": {},
   "outputs": [],
   "source": []
  },
  {
   "cell_type": "code",
   "execution_count": null,
   "metadata": {},
   "outputs": [],
   "source": []
  },
  {
   "cell_type": "code",
   "execution_count": 18,
   "metadata": {
    "hideCode": false,
    "hidePrompt": false
   },
   "outputs": [],
   "source": [
    "normed_overall_counts = (intermediate_sapro_ranks\n",
    "                 .fillna(0)\n",
    "                 .apply(lambda x: x/ full_enlisted_df.mean(axis=1))\n",
    "                 .fillna(0)\n",
    "                 .loc[ordering]\n",
    "                )"
   ]
  },
  {
   "cell_type": "code",
   "execution_count": 21,
   "metadata": {
    "hideCode": false,
    "hidePrompt": false
   },
   "outputs": [
    {
     "data": {
      "image/png": "[encoded data removed]",
      "text/plain": [
       "<Figure size 720x432 with 1 Axes>"
      ]
     },
     "metadata": {},
     "output_type": "display_data"
    }
   ],
   "source": [
    "(normed_overall_counts\n",
    " .sum(axis=1)\n",
    " .plot(kind='bar', figsize=(10,6), color='lightblue')\n",
    ")\n",
    "plt.title('Likelihood of Complaint being filed in SAPRO by Pay Grade')\n",
    "\n",
    "x, y = range(len(normed_overall_counts)), normed_overall_counts.sum(axis=1).values\n",
    "fit = np.poly1d(np.polyfit(x, y, 1))\n",
    "plt.plot(np.unique(x), fit(np.unique(x)), color='black')\n",
    "plt.text(x[-10], fit(x[-10])+ .001, 'f(x) = ' + str(fit));"
   ]
  },
  {
   "cell_type": "code",
   "execution_count": null,
   "metadata": {},
   "outputs": [],
   "source": []
  },
  {
   "cell_type": "code",
   "execution_count": null,
   "metadata": {},
   "outputs": [],
   "source": []
  },
  {
   "cell_type": "code",
   "execution_count": 380,
   "metadata": {
    "hideCode": false,
    "hidePrompt": false
   },
   "outputs": [
    {
     "data": {
      "image/png": "[encoded data removed]",
      "text/plain": [
       "<matplotlib.figure.Figure at 0x125e9c250>"
      ]
     },
     "metadata": {},
     "output_type": "display_data"
    }
   ],
   "source": [
    "court_martial_likelihood = (\n",
    "    normed_overall_counts.pipe(lambda df: (df['guilty'] + df['not guilty']) / df.sum(axis=1))\n",
    "                 .fillna(0)\n",
    "                 .loc[ordering]\n",
    ")\n",
    "court_martial_likelihood.plot(kind='bar', figsize=(10,6), color='lightblue')\n",
    "plt.title('Likelihood of Going to Court-Martial by Pay Grade, Given Complaint was filed in SAPRO')\n",
    "x, y = range(len(court_martial_likelihood)), court_martial_likelihood.values\n",
    "fit = np.poly1d(np.polyfit(x, y, 1))\n",
    "plt.plot(np.unique(x), fit(np.unique(x)), color='black')\n",
    "idx = -6\n",
    "plt.text(x[idx], fit(x[idx])+ .04, 'f(x) = ' + str(fit));"
   ]
  },
  {
   "cell_type": "code",
   "execution_count": 381,
   "metadata": {
    "hideCode": false,
    "hidePrompt": false
   },
   "outputs": [
    {
     "data": {
      "image/png": "[encoded data removed]",
      "text/plain": [
       "<matplotlib.figure.Figure at 0x11b1904d0>"
      ]
     },
     "metadata": {},
     "output_type": "display_data"
    }
   ],
   "source": [
    "conviction_likelihood = (\n",
    "    normed_overall_counts.pipe(lambda df: df['guilty']/ (df['guilty'] + df['not guilty']) )\n",
    "                 .fillna(0)\n",
    "                 .loc[ordering]\n",
    "                )\n",
    "conviction_likelihood.plot(kind='bar', figsize=(10,6), color='lightblue')\n",
    "plt.title('Likelihood of Getting Convicted by Pay Grade')\n",
    "x, y = range(len(conviction_likelihood)), conviction_likelihood.values\n",
    "fit = np.poly1d(np.polyfit(x, y, 1))\n",
    "plt.plot(np.unique(x), fit(np.unique(x)), color='black')\n",
    "idx = -6\n",
    "plt.text(x[idx], fit(x[idx])+ .04, 'f(x) = ' + str(fit));"
   ]
  },
  {
   "cell_type": "code",
   "execution_count": null,
   "metadata": {},
   "outputs": [],
   "source": []
  },
  {
   "cell_type": "code",
   "execution_count": null,
   "metadata": {},
   "outputs": [],
   "source": []
  },
  {
   "cell_type": "markdown",
   "metadata": {},
   "source": [
    "# By Grouping"
   ]
  },
  {
   "cell_type": "code",
   "execution_count": 28,
   "metadata": {},
   "outputs": [],
   "source": [
    "from scipy.stats import chi2_contingency"
   ]
  },
  {
   "cell_type": "code",
   "execution_count": 30,
   "metadata": {
    "hideCode": false,
    "hidePrompt": false
   },
   "outputs": [],
   "source": [
    "groupings = {\n",
    "'low-enlisted': ['E-1', 'E-2', 'E-3', 'E-4'],\n",
    "'mid-enlisted': ['E-5', 'E-6'],\n",
    "'high-enlisted': ['E-7', 'E-8', 'E-9'],\n",
    "'warrant': ['W-1', 'W-2', 'W-3', 'W-4', 'W-5'],\n",
    "'low-officer':['O-1','O-2','O-3'],\n",
    "'mid-officer':['O-4', 'O-5', 'O-6'],\n",
    "'high-officer':['O-7', 'O-8', 'O-9', 'O-10']\n",
    "}\n",
    "\n",
    "grade_to_grouping = {}\n",
    "for group, items in groupings.items():\n",
    "    for item in items:\n",
    "        grade_to_grouping[item] = group\n",
    "\n",
    "grade_to_grouping = pd.Series(grade_to_grouping).to_frame('group')\n",
    "grouped_ranks= (intermediate_sapro_ranks\n",
    "                .merge(grade_to_grouping, left_index=True, right_index=True)\n",
    "                .groupby('group')\n",
    "                .sum()\n",
    ")\n",
    "grouped_size = (\n",
    "    full_enlisted_df\n",
    "        .mean(axis=1)\n",
    "        .to_frame('size')\n",
    "        .merge(grade_to_grouping, left_index=True, right_index=True)\n",
    "        .groupby('group')\n",
    "        .sum()\n",
    ")\n",
    "group_ordering = [\"low-enlisted\",\n",
    "\"mid-enlisted\",\n",
    "\"high-enlisted\",\n",
    "\"warrant\",\n",
    "\"low-officer\",\n",
    "\"mid-officer\",\n",
    "\"high-officer\",]\n",
    "\n",
    "normed_groups = (grouped_ranks\n",
    "                  .apply(lambda x: x/ grouped_size['size'])\n",
    "                  .loc[group_ordering])"
   ]
  },
  {
   "cell_type": "code",
   "execution_count": 44,
   "metadata": {},
   "outputs": [
    {
     "data": {
      "text/html": [
       "<div>\n",
       "<style scoped>\n",
       "    .dataframe tbody tr th:only-of-type {\n",
       "        vertical-align: middle;\n",
       "    }\n",
       "\n",
       "    .dataframe tbody tr th {\n",
       "        vertical-align: top;\n",
       "    }\n",
       "\n",
       "    .dataframe thead th {\n",
       "        text-align: right;\n",
       "    }\n",
       "</style>\n",
       "<table border=\"1\" class=\"dataframe\">\n",
       "  <thead>\n",
       "    <tr style=\"text-align: right;\">\n",
       "      <th>group</th>\n",
       "      <th>low-enlisted</th>\n",
       "      <th>mid-enlisted</th>\n",
       "      <th>high-enlisted</th>\n",
       "      <th>warrant</th>\n",
       "      <th>low-officer</th>\n",
       "      <th>mid-officer</th>\n",
       "      <th>high-officer</th>\n",
       "    </tr>\n",
       "  </thead>\n",
       "  <tbody>\n",
       "    <tr>\n",
       "      <th>Count Of Complaints</th>\n",
       "      <td>3568.00</td>\n",
       "      <td>1911.000000</td>\n",
       "      <td>508.000000</td>\n",
       "      <td>46.000000</td>\n",
       "      <td>280.000000</td>\n",
       "      <td>129.000000</td>\n",
       "      <td>1.000000</td>\n",
       "    </tr>\n",
       "    <tr>\n",
       "      <th>size</th>\n",
       "      <td>1146807.25</td>\n",
       "      <td>779600.416667</td>\n",
       "      <td>260723.583333</td>\n",
       "      <td>38372.666667</td>\n",
       "      <td>259638.916667</td>\n",
       "      <td>169417.333333</td>\n",
       "      <td>1813.583333</td>\n",
       "    </tr>\n",
       "  </tbody>\n",
       "</table>\n",
       "</div>"
      ],
      "text/plain": [
       "group                low-enlisted   mid-enlisted  high-enlisted       warrant  \\\n",
       "Count Of Complaints       3568.00    1911.000000     508.000000     46.000000   \n",
       "size                   1146807.25  779600.416667  260723.583333  38372.666667   \n",
       "\n",
       "group                  low-officer    mid-officer  high-officer  \n",
       "Count Of Complaints     280.000000     129.000000      1.000000  \n",
       "size                 259638.916667  169417.333333   1813.583333  "
      ]
     },
     "execution_count": 44,
     "metadata": {},
     "output_type": "execute_result"
    }
   ],
   "source": [
    "(grouped_ranks\n",
    " .sum(axis=1)\n",
    " .loc[group_ordering]\n",
    " .to_frame(\"Count Of Complaints\")\n",
    " .merge(right=grouped_size, left_index=True, right_index=True)\n",
    ").T"
   ]
  },
  {
   "cell_type": "code",
   "execution_count": 58,
   "metadata": {},
   "outputs": [
    {
     "data": {
      "text/plain": [
       "enlisted    0.002737\n",
       "officer     0.000952\n",
       "dtype: float64"
      ]
     },
     "execution_count": 58,
     "metadata": {},
     "output_type": "execute_result"
    }
   ],
   "source": [
    "((grouped_ranks\n",
    " .sum(axis=1)\n",
    " .loc[group_ordering]\n",
    " .to_frame(\"Count Of Complaints\")\n",
    " .merge(right=grouped_size, left_index=True, right_index=True)\n",
    ").T\n",
    " .pipe(lambda df: pd.concat([\n",
    "        df[filter(lambda x: 'enlisted' in x, df.columns)].sum(axis=1).to_frame('enlisted'),\n",
    "        df[filter(lambda x: 'officer' in x, df.columns)].sum(axis=1).to_frame('officer')\n",
    "    ], axis=1))\n",
    " .pipe(lambda df: df.loc['Count Of Complaints']/df.loc['size'])\n",
    ")"
   ]
  },
  {
   "cell_type": "markdown",
   "metadata": {},
   "source": [
    "# investigate the language used in case notes for higher-ranking officers"
   ]
  },
  {
   "cell_type": "code",
   "execution_count": 66,
   "metadata": {},
   "outputs": [],
   "source": [
    "officer_sapro = sapro_full.loc[lambda df: df.fillna('')['Subject Pay Grade'].apply(lambda x: 'O' in x)]\n",
    "enlisted_sapro = sapro_full.loc[lambda df: df.fillna('')['Subject Pay Grade'].apply(lambda x: 'E' in x)]"
   ]
  },
  {
   "cell_type": "code",
   "execution_count": null,
   "metadata": {},
   "outputs": [],
   "source": []
  },
  {
   "cell_type": "code",
   "execution_count": 79,
   "metadata": {},
   "outputs": [
    {
     "data": {
      "text/plain": [
       "Female      0.763658\n",
       "Male        0.203682\n",
       "Multiple    0.022565\n",
       "Unknown     0.009501\n",
       "Q1          0.000594\n",
       "Name: Victim Gender, dtype: float64"
      ]
     },
     "execution_count": 79,
     "metadata": {},
     "output_type": "execute_result"
    }
   ],
   "source": [
    "(officer_sapro['Victim Gender']\n",
    " .apply(lambda x: 'Multiple' if 'Multiple' in x else x)\n",
    " .value_counts()\n",
    " .pipe(lambda s: s/s.sum())\n",
    ")"
   ]
  },
  {
   "cell_type": "code",
   "execution_count": 78,
   "metadata": {},
   "outputs": [
    {
     "data": {
      "text/plain": [
       "Female                    0.788208\n",
       "Male                      0.123434\n",
       "Multiple                  0.071822\n",
       "Unknown                   0.015534\n",
       "Female, Female, Female    0.000334\n",
       "Female, Female            0.000334\n",
       "Male, Male                0.000167\n",
       "Female,                   0.000167\n",
       "Name: Victim Gender, dtype: float64"
      ]
     },
     "execution_count": 78,
     "metadata": {},
     "output_type": "execute_result"
    }
   ],
   "source": [
    "(enlisted_sapro['Victim Gender']\n",
    " .apply(lambda x: 'Multiple' if 'Multiple' in x else x)\n",
    " .value_counts()\n",
    " .pipe(lambda s: s/s.sum())\n",
    ")"
   ]
  },
  {
   "cell_type": "code",
   "execution_count": null,
   "metadata": {},
   "outputs": [],
   "source": []
  },
  {
   "cell_type": "code",
   "execution_count": 96,
   "metadata": {},
   "outputs": [],
   "source": [
    "import string"
   ]
  },
  {
   "cell_type": "code",
   "execution_count": 109,
   "metadata": {},
   "outputs": [],
   "source": [
    "from sklearn.feature_extraction.text import CountVectorizer"
   ]
  },
  {
   "cell_type": "code",
   "execution_count": 110,
   "metadata": {},
   "outputs": [],
   "source": [
    "cv = CountVectorizer(stop_words=\"english\")"
   ]
  },
  {
   "cell_type": "code",
   "execution_count": 111,
   "metadata": {},
   "outputs": [],
   "source": [
    "def repl_punc(x):\n",
    "    for punc in string.punctuation:\n",
    "        x = x.replace(punc, \" \")\n",
    "    return x"
   ]
  },
  {
   "cell_type": "code",
   "execution_count": 115,
   "metadata": {},
   "outputs": [],
   "source": [
    "words = cv.fit_transform(pd.concat([\n",
    "    (enlisted_sapro\n",
    "     .pipe(lambda df: df['Case Synopsis'].fillna('') + df['Case Synopsis'].fillna(''))\n",
    "     .apply(repl_punc)\n",
    "        )\n",
    "        ,\n",
    "    (officer_sapro\n",
    "     .pipe(lambda df: df['Case Synopsis'].fillna('') + df['Case Synopsis'].fillna(''))\n",
    "     .apply(repl_punc)\n",
    "    )\n",
    "]))"
   ]
  },
  {
   "cell_type": "code",
   "execution_count": 120,
   "metadata": {},
   "outputs": [],
   "source": [
    "word_df = pd.DataFrame(words.todense(), columns=pd.Series(cv.vocabulary_).index)"
   ]
  },
  {
   "cell_type": "code",
   "execution_count": 123,
   "metadata": {},
   "outputs": [],
   "source": [
    "enlisted_sapro_words = word_df.loc[:len(enlisted_sapro)]"
   ]
  },
  {
   "cell_type": "code",
   "execution_count": 124,
   "metadata": {},
   "outputs": [],
   "source": [
    "officer_sapro_words = word_df.loc[len(enlisted_sapro): ]"
   ]
  },
  {
   "cell_type": "code",
   "execution_count": 132,
   "metadata": {},
   "outputs": [
    {
     "data": {
      "text/plain": [
       "victim     1378\n",
       "subject    1322\n",
       "pay        1050\n",
       "yes        1004\n",
       "alleged     966\n",
       "dtype: int64"
      ]
     },
     "execution_count": 132,
     "metadata": {},
     "output_type": "execute_result"
    }
   ],
   "source": [
    "enlisted_sapro_words.sum().sort_values(ascending=False).head()"
   ]
  },
  {
   "cell_type": "code",
   "execution_count": 133,
   "metadata": {},
   "outputs": [
    {
     "data": {
      "text/plain": [
       "subject    321\n",
       "victim     284\n",
       "alleged    262\n",
       "notes      248\n",
       "assault    146\n",
       "dtype: int64"
      ]
     },
     "execution_count": 133,
     "metadata": {},
     "output_type": "execute_result"
    }
   ],
   "source": [
    "officer_sapro_words.sum().sort_values(ascending=False).head()"
   ]
  },
  {
   "cell_type": "code",
   "execution_count": 134,
   "metadata": {},
   "outputs": [],
   "source": [
    "e_counts = enlisted_sapro_words.sum()"
   ]
  },
  {
   "cell_type": "code",
   "execution_count": 135,
   "metadata": {},
   "outputs": [],
   "source": [
    "o_counts = officer_sapro_words.sum()"
   ]
  },
  {
   "cell_type": "code",
   "execution_count": 185,
   "metadata": {},
   "outputs": [],
   "source": [
    "top_words = (word_df\n",
    "             .sum()\n",
    "             .loc[lambda s: s>5]\n",
    "             .index)"
   ]
  },
  {
   "cell_type": "code",
   "execution_count": 186,
   "metadata": {},
   "outputs": [],
   "source": [
    "p_word_lift = (\n",
    "    e_counts.pipe(lambda s: s/s.sum()).loc[top_words] / \n",
    "    o_counts.pipe(lambda s: s/s.sum()).loc[top_words]\n",
    ").replace([-np.inf, np.inf], np.nan).dropna().sort_values()"
   ]
  },
  {
   "cell_type": "code",
   "execution_count": 187,
   "metadata": {},
   "outputs": [
    {
     "data": {
      "text/plain": [
       "elimination          inf\n",
       "foreign              inf\n",
       "workplace            inf\n",
       "bus                  inf\n",
       "barred               inf\n",
       "national       53.417130\n",
       "dismissal      47.693866\n",
       "unbecoming     38.155093\n",
       "known          26.708565\n",
       "sent           22.893056\n",
       "unknown        18.653601\n",
       "arm            15.262037\n",
       "police         15.262037\n",
       "threatening    15.262037\n",
       "naked          15.262037\n",
       "board          11.446528\n",
       "shoulders      11.446528\n",
       "officer        10.174692\n",
       "male            7.631019\n",
       "legs            7.631019\n",
       "superior        7.631019\n",
       "office          7.631019\n",
       "leg             7.631019\n",
       "discharged      7.631019\n",
       "authority       7.631019\n",
       "photos          7.631019\n",
       "500             7.631019\n",
       "hugged          5.087346\n",
       "assault         4.761234\n",
       "written         4.578611\n",
       "unwanted        4.239455\n",
       "impaired        3.815509\n",
       "fellatio        3.815509\n",
       "dance           3.815509\n",
       "testify         3.815509\n",
       "dtype: float64"
      ]
     },
     "execution_count": 187,
     "metadata": {},
     "output_type": "execute_result"
    }
   ],
   "source": [
    "1/p_word_lift.iloc[:35]"
   ]
  },
  {
   "cell_type": "code",
   "execution_count": 189,
   "metadata": {},
   "outputs": [
    {
     "data": {
      "text/plain": [
       "asleep               1.834617\n",
       "pay                  1.859410\n",
       "30                   1.878299\n",
       "sex                  1.965662\n",
       "trial                1.965662\n",
       "14                   2.037140\n",
       "did                  2.096706\n",
       "raped                2.096706\n",
       "vulva                2.096706\n",
       "days                 2.173148\n",
       "yes                  2.268419\n",
       "tf                   2.358794\n",
       "maltreatment         2.358794\n",
       "oth                  2.467997\n",
       "incapacitated        2.489838\n",
       "multiple             2.489838\n",
       "discharge            2.507708\n",
       "administrative       2.555360\n",
       "intoxicated          2.686404\n",
       "committed            2.686404\n",
       "12c                  2.751926\n",
       "court                2.817448\n",
       "fg                   2.882970\n",
       "gcm                  2.915731\n",
       "party                3.014014\n",
       "chapter              3.145058\n",
       "insufficient         3.669235\n",
       "genitals             3.669235\n",
       "barracks             3.800279\n",
       "100                  3.996845\n",
       "45                   4.127889\n",
       "charges              4.237093\n",
       "administratively     4.258933\n",
       "lieu                 4.324455\n",
       "dismissed            4.586544\n",
       "evidence             4.586544\n",
       "reduced              4.796214\n",
       "grade                5.045198\n",
       "victims              5.503852\n",
       "rank                 6.814293\n",
       "10                   7.076382\n",
       "reduction            7.163744\n",
       "separated            8.648911\n",
       "red                 10.745617\n",
       "bcd                 11.007705\n",
       "dtype: float64"
      ]
     },
     "execution_count": 189,
     "metadata": {},
     "output_type": "execute_result"
    }
   ],
   "source": [
    "p_word_lift.iloc[-45:]"
   ]
  },
  {
   "cell_type": "code",
   "execution_count": 210,
   "metadata": {},
   "outputs": [],
   "source": [
    "officer_top_words = [\n",
    "    \"threatening\", \n",
    "#     \"assault\",\n",
    "]# \"unwanted\", \"impaired\", \"dance\"]\n",
    "enlisted_top_words = [\"party\", \"intoxicated\"]\n",
    "secondary_enlisted_list = [\"separated\", \"genitals\"]"
   ]
  },
  {
   "cell_type": "code",
   "execution_count": 206,
   "metadata": {},
   "outputs": [],
   "source": [
    "officer_sapro = officer_sapro.assign(results=lambda df: df['Case Synopsis'].fillna('') + df['Case Synopsis Note'].fillna(''))\n",
    "enlisted_sapro = enlisted_sapro.assign(results=lambda df: df['Case Synopsis'].fillna('') + df['Case Synopsis Note'].fillna(''))"
   ]
  },
  {
   "cell_type": "code",
   "execution_count": 220,
   "metadata": {},
   "outputs": [
    {
     "data": {
      "text/plain": [
       "u'Notes: Cadet Victim alleged that Subject forced her to engage in sex acts by threatening her career. Subject died (natural causes) prior to allegations being reported.'"
      ]
     },
     "execution_count": 220,
     "metadata": {},
     "output_type": "execute_result"
    }
   ],
   "source": [
    "(officer_sapro['results']\n",
    " .loc[lambda s: s.fillna('').apply(lambda r: any(map(lambda x: x in r.lower(), officer_top_words)))]\n",
    ").iloc[3]"
   ]
  },
  {
   "cell_type": "code",
   "execution_count": 225,
   "metadata": {},
   "outputs": [
    {
     "data": {
      "text/plain": [
       "u'Notes: Victim reported that Subject sexually assaulted him by touching his penis while the victim was too intoxicated to consent. Subject pled guilty in civilian court to Battery, receving three years probation. After consultation with the SJA, the Subject was administratively separated with an Other than Honorable.'"
      ]
     },
     "execution_count": 225,
     "metadata": {},
     "output_type": "execute_result"
    }
   ],
   "source": [
    "(enlisted_sapro['results']\n",
    " .loc[lambda s: s.fillna('').apply(lambda r: any(map(lambda x: x in r.lower(), enlisted_top_words)))]\n",
    ").iloc[25]"
   ]
  },
  {
   "cell_type": "code",
   "execution_count": null,
   "metadata": {},
   "outputs": [],
   "source": []
  },
  {
   "cell_type": "code",
   "execution_count": null,
   "metadata": {},
   "outputs": [],
   "source": []
  },
  {
   "cell_type": "code",
   "execution_count": null,
   "metadata": {},
   "outputs": [],
   "source": []
  },
  {
   "cell_type": "code",
   "execution_count": null,
   "metadata": {},
   "outputs": [],
   "source": []
  },
  {
   "cell_type": "code",
   "execution_count": null,
   "metadata": {},
   "outputs": [],
   "source": []
  },
  {
   "cell_type": "code",
   "execution_count": null,
   "metadata": {},
   "outputs": [],
   "source": []
  },
  {
   "cell_type": "code",
   "execution_count": null,
   "metadata": {},
   "outputs": [],
   "source": []
  },
  {
   "cell_type": "code",
   "execution_count": null,
   "metadata": {},
   "outputs": [],
   "source": []
  },
  {
   "cell_type": "code",
   "execution_count": 120,
   "metadata": {
    "hideCode": false,
    "hidePrompt": false
   },
   "outputs": [
    {
     "data": {
      "text/plain": [
       "([<matplotlib.axis.YTick at 0x115e09ed0>,\n",
       "  <matplotlib.axis.YTick at 0x115e09950>,\n",
       "  <matplotlib.axis.YTick at 0x115ea3850>,\n",
       "  <matplotlib.axis.YTick at 0x115ea3f50>,\n",
       "  <matplotlib.axis.YTick at 0x115ead510>,\n",
       "  <matplotlib.axis.YTick at 0x115eada90>,\n",
       "  <matplotlib.axis.YTick at 0x115eb7050>],\n",
       " <a list of 7 Text yticklabel objects>)"
      ]
     },
     "execution_count": 120,
     "metadata": {},
     "output_type": "execute_result"
    },
    {
     "data": {
      "image/png": "[encoded data removed]",
      "text/plain": [
       "<Figure size 720x432 with 1 Axes>"
      ]
     },
     "metadata": {},
     "output_type": "display_data"
    }
   ],
   "source": [
    "import matplotlib.pyplot as plt\n",
    "%matplotlib inline\n",
    "\n",
    "plt.rc('font', size=22)\n",
    "normed_groups.sum(axis=1).plot(kind='bar', figsize=(10,6), color='lightblue')\n",
    "plt.title('Complaint Filed by Group')\n",
    "\n",
    "x, y = range(len(normed_groups)), normed_groups.sum(axis=1).values\n",
    "fit = np.poly1d(np.polyfit(x, y, 1))\n",
    "plt.plot(np.unique(x), fit(np.unique(x)), color='black')\n",
    "plt.xlabel('')\n",
    "\n",
    "plt.ylabel('Likelihood (%)')\n",
    "y_ticks = plt.yticks()[0][:-1]\n",
    "plt.yticks(\n",
    "    list(y_ticks),\n",
    "    ['%.02f' % (item*100) + '%' for item in  y_ticks]\n",
    ")\n",
    "\n"
   ]
  },
  {
   "cell_type": "code",
   "execution_count": 111,
   "metadata": {
    "hideCode": false,
    "hidePrompt": false
   },
   "outputs": [
    {
     "data": {
      "text/plain": [
       "([<matplotlib.axis.YTick at 0x119e2a510>,\n",
       "  <matplotlib.axis.YTick at 0x119e2a0d0>,\n",
       "  <matplotlib.axis.YTick at 0x10efac150>,\n",
       "  <matplotlib.axis.YTick at 0x10efac910>],\n",
       " <a list of 4 Text yticklabel objects>)"
      ]
     },
     "execution_count": 111,
     "metadata": {},
     "output_type": "execute_result"
    },
    {
     "data": {
      "image/png": "[encoded data removed]",
      "text/plain": [
       "<Figure size 720x432 with 1 Axes>"
      ]
     },
     "metadata": {},
     "output_type": "display_data"
    }
   ],
   "source": [
    "t = (normed_groups\n",
    " .pipe(lambda df: (df['guilty'] + df['not guilty']) / df.sum(axis=1))\n",
    " .fillna(0)\n",
    "    )\n",
    "t.plot(kind='bar', figsize=(10,6), color='lightblue')\n",
    "plt.title('Court-Martial by Group, After Complaint')\n",
    "\n",
    "t = t[t!=0]\n",
    "x, y = range(len(t)), t.values\n",
    "fit = np.poly1d(np.polyfit(x, y, 1))\n",
    "plt.plot(x + [6], fit(x + [6]), color='black')\n",
    "plt.xlabel('')\n",
    "\n",
    "plt.ylabel('Likelihood (%)')\n",
    "y_ticks = plt.yticks()[0][:-1]\n",
    "plt.yticks(\n",
    "    list(y_ticks),\n",
    "    [str(int(item*100)) + '%' for item in  y_ticks]\n",
    ")\n",
    "\n",
    "# idx = -3\n",
    "# plt.text(x[idx], fit(x[idx])+.0001, 'f(x) = ' + str(fit));"
   ]
  },
  {
   "cell_type": "code",
   "execution_count": null,
   "metadata": {},
   "outputs": [],
   "source": []
  },
  {
   "cell_type": "code",
   "execution_count": 121,
   "metadata": {
    "hideCode": false,
    "hidePrompt": false
   },
   "outputs": [
    {
     "data": {
      "text/plain": [
       "Text(0,0.5,'Likelihood (%)')"
      ]
     },
     "execution_count": 121,
     "metadata": {},
     "output_type": "execute_result"
    },
    {
     "data": {
      "image/png": "[encoded data removed]",
      "text/plain": [
       "<Figure size 720x432 with 1 Axes>"
      ]
     },
     "metadata": {},
     "output_type": "display_data"
    }
   ],
   "source": [
    "t = (normed_groups\n",
    " .pipe(lambda df: df['guilty']/ (df['guilty'] + df['not guilty']) )).fillna(0)\n",
    "t.plot(kind='bar', figsize=(10,6), color='lightblue')\n",
    "plt.title('Conviction by Group, After Court-Martial')\n",
    "\n",
    "t = t[t!=0]\n",
    "x, y = range(len(t)), t.values\n",
    "fit = np.poly1d(np.polyfit(x, y, 1))\n",
    "plt.plot(x + [6], fit(x + [6]), color='black')\n",
    "plt.xlabel('')\n",
    "\n",
    "y_ticks = plt.yticks()[0][:-1]\n",
    "plt.yticks(\n",
    "    list(y_ticks),\n",
    "    [str(int(item*100)) + '%' for item in  y_ticks]\n",
    ")\n",
    "plt.ylabel('Likelihood (%)')\n",
    "\n",
    "# idx = -3\n",
    "# plt.text(x[idx], fit(x[idx])+.0001, 'f(x) = ' + str(fit));"
   ]
  },
  {
   "cell_type": "code",
   "execution_count": null,
   "metadata": {
    "hideCode": false,
    "hidePrompt": false
   },
   "outputs": [],
   "source": []
  },
  {
   "cell_type": "code",
   "execution_count": null,
   "metadata": {
    "hideCode": false,
    "hidePrompt": false
   },
   "outputs": [],
   "source": []
  },
  {
   "cell_type": "code",
   "execution_count": null,
   "metadata": {
    "hideCode": false,
    "hidePrompt": false
   },
   "outputs": [],
   "source": []
  },
  {
   "cell_type": "code",
   "execution_count": null,
   "metadata": {
    "hideCode": false,
    "hidePrompt": false
   },
   "outputs": [],
   "source": []
  },
  {
   "cell_type": "code",
   "execution_count": null,
   "metadata": {
    "hideCode": false,
    "hidePrompt": false
   },
   "outputs": [],
   "source": []
  },
  {
   "cell_type": "code",
   "execution_count": null,
   "metadata": {
    "hideCode": false,
    "hidePrompt": false
   },
   "outputs": [],
   "source": []
  },
  {
   "cell_type": "code",
   "execution_count": null,
   "metadata": {
    "hideCode": false,
    "hidePrompt": false
   },
   "outputs": [],
   "source": []
  },
  {
   "cell_type": "code",
   "execution_count": 73,
   "metadata": {
    "hideCode": false,
    "hidePrompt": false
   },
   "outputs": [
    {
     "name": "stderr",
     "output_type": "stream",
     "text": [
      "/Users/206309/anaconda/lib/python2.7/site-packages/ipykernel_launcher.py:7: UserWarning: Boolean Series key will be reindexed to match DataFrame index.\n",
      "  import sys\n",
      "/Users/206309/anaconda/lib/python2.7/site-packages/ipykernel_launcher.py:14: UserWarning: Boolean Series key will be reindexed to match DataFrame index.\n",
      "  \n"
     ]
    },
    {
     "data": {
      "image/png": "[encoded data removed]",
      "text/plain": [
       "<matplotlib.figure.Figure at 0x117c3ef90>"
      ]
     },
     "metadata": {},
     "output_type": "display_data"
    }
   ],
   "source": [
    "%matplotlib inline\n",
    "import matplotlib.pyplot as plt\n",
    "\n",
    "t=  pd.concat([\n",
    "    (summary_full\n",
    "     [summary_full['Year'].isin(['2014', '2015', '2016', '2017'])]\n",
    "     [summary_full['Sexual-assault?'] ==True]\n",
    "     ['Date-clean']\n",
    "     .value_counts()\n",
    "     .to_frame('Sexual Assault')\n",
    "    ).sort_index(),\n",
    "    (summary_full\n",
    "     [summary_full['Year'].isin(['2014', '2015', '2016', '2017'])]\n",
    "     [summary_full['Sexual-assault?'] ==False]\n",
    "     ['Date-clean']\n",
    "     .value_counts()\n",
    "     .to_frame('Not sexual assault'))\n",
    "    .sort_index()\n",
    "], axis=1)\n",
    "\n",
    "t.plot(figsize=(12,6))\n",
    "plt.xticks(range(len(t))[::2], list(t.index)[::2], rotation='vertical')\n",
    "plt.title('Sexaul Assault Martials vs. Not Sexual Assault Cases')\n",
    "plt.ylabel('Count');"
   ]
  },
  {
   "cell_type": "code",
   "execution_count": 65,
   "metadata": {
    "hideCode": false,
    "hidePrompt": false
   },
   "outputs": [
    {
     "name": "stderr",
     "output_type": "stream",
     "text": [
      "/Users/206309/anaconda/lib/python2.7/site-packages/ipykernel_launcher.py:7: UserWarning: Boolean Series key will be reindexed to match DataFrame index.\n",
      "  import sys\n",
      "/Users/206309/anaconda/lib/python2.7/site-packages/ipykernel_launcher.py:14: UserWarning: Boolean Series key will be reindexed to match DataFrame index.\n",
      "  \n"
     ]
    },
    {
     "data": {
      "image/png": "[encoded data removed]",
      "text/plain": [
       "<matplotlib.figure.Figure at 0x1188c4810>"
      ]
     },
     "metadata": {},
     "output_type": "display_data"
    }
   ],
   "source": [
    "%matplotlib inline\n",
    "import matplotlib.pyplot as plt\n",
    "\n",
    "t=  pd.concat([\n",
    "    (summary_sex_assault_full\n",
    "     [summary_sex_assault_full['Year'].isin(['2014', '2015', '2016', '2017'])]\n",
    "     [summary_sex_assault_full['Conclusion'] =='guilty']\n",
    "     ['Date-clean']\n",
    "     .value_counts()\n",
    "     .to_frame('Guilty')\n",
    "    ).sort_index(),\n",
    "    (summary_sex_assault_full\n",
    "     [summary_sex_assault_full['Year'].isin(['2014', '2015', '2016', '2017'])]\n",
    "     [summary_sex_assault_full['Conclusion'] =='not guilty']\n",
    "     ['Date-clean']\n",
    "     .value_counts()\n",
    "     .to_frame('Not Guilty'))\n",
    "    .sort_index()\n",
    "], axis=1)\n",
    "\n",
    "t.plot(figsize=(12,6))\n",
    "plt.xticks(range(len(t))[::2], list(t.index)[::2], rotation='vertical')\n",
    "plt.title('Court Marials for Sexual Assault over Time')\n",
    "plt.ylabel('Count');"
   ]
  },
  {
   "cell_type": "code",
   "execution_count": null,
   "metadata": {
    "hideCode": false,
    "hidePrompt": false
   },
   "outputs": [],
   "source": []
  },
  {
   "cell_type": "code",
   "execution_count": null,
   "metadata": {
    "hideCode": false,
    "hidePrompt": false
   },
   "outputs": [],
   "source": []
  },
  {
   "cell_type": "code",
   "execution_count": null,
   "metadata": {
    "hideCode": false,
    "hidePrompt": false
   },
   "outputs": [],
   "source": []
  },
  {
   "cell_type": "code",
   "execution_count": 88,
   "metadata": {
    "hideCode": false,
    "hidePrompt": false
   },
   "outputs": [
    {
     "data": {
      "text/html": [
       "<div>\n",
       "<style scoped>\n",
       "    .dataframe tbody tr th:only-of-type {\n",
       "        vertical-align: middle;\n",
       "    }\n",
       "\n",
       "    .dataframe tbody tr th {\n",
       "        vertical-align: top;\n",
       "    }\n",
       "\n",
       "    .dataframe thead th {\n",
       "        text-align: right;\n",
       "    }\n",
       "</style>\n",
       "<table border=\"1\" class=\"dataframe\">\n",
       "  <thead>\n",
       "    <tr style=\"text-align: right;\">\n",
       "      <th></th>\n",
       "      <th>Rank</th>\n",
       "      <th>2016</th>\n",
       "      <th>2017</th>\n",
       "      <th>2018</th>\n",
       "    </tr>\n",
       "  </thead>\n",
       "  <tbody>\n",
       "    <tr>\n",
       "      <th>0</th>\n",
       "      <td>General (O10)</td>\n",
       "      <td>13</td>\n",
       "      <td>14</td>\n",
       "      <td>14</td>\n",
       "    </tr>\n",
       "    <tr>\n",
       "      <th>1</th>\n",
       "      <td>Lieutenant General (O9)</td>\n",
       "      <td>40</td>\n",
       "      <td>41</td>\n",
       "      <td>42</td>\n",
       "    </tr>\n",
       "    <tr>\n",
       "      <th>2</th>\n",
       "      <td>Major General (O8)</td>\n",
       "      <td>91</td>\n",
       "      <td>97</td>\n",
       "      <td>92</td>\n",
       "    </tr>\n",
       "    <tr>\n",
       "      <th>3</th>\n",
       "      <td>Brigadier General (O7)</td>\n",
       "      <td>153</td>\n",
       "      <td>145</td>\n",
       "      <td>149</td>\n",
       "    </tr>\n",
       "    <tr>\n",
       "      <th>4</th>\n",
       "      <td>Colonel (O6)</td>\n",
       "      <td>3,320</td>\n",
       "      <td>3,395</td>\n",
       "      <td>3,415</td>\n",
       "    </tr>\n",
       "    <tr>\n",
       "      <th>5</th>\n",
       "      <td>Lieutenant Colonel (O5)</td>\n",
       "      <td>9,585</td>\n",
       "      <td>9,812</td>\n",
       "      <td>10,011</td>\n",
       "    </tr>\n",
       "    <tr>\n",
       "      <th>6</th>\n",
       "      <td>Major (O4)</td>\n",
       "      <td>12,902</td>\n",
       "      <td>13,488</td>\n",
       "      <td>13,396</td>\n",
       "    </tr>\n",
       "    <tr>\n",
       "      <th>7</th>\n",
       "      <td>Captain (O3)</td>\n",
       "      <td>21,252</td>\n",
       "      <td>21,010</td>\n",
       "      <td>21,577</td>\n",
       "    </tr>\n",
       "    <tr>\n",
       "      <th>8</th>\n",
       "      <td>1st Lieutenant (O2)</td>\n",
       "      <td>6,901</td>\n",
       "      <td>6,787</td>\n",
       "      <td>6,781</td>\n",
       "    </tr>\n",
       "    <tr>\n",
       "      <th>9</th>\n",
       "      <td>2nd Lieutenant (O1)</td>\n",
       "      <td>6,704</td>\n",
       "      <td>6,909</td>\n",
       "      <td>6,974</td>\n",
       "    </tr>\n",
       "    <tr>\n",
       "      <th>10</th>\n",
       "      <td>Chief Master Sergeant (E9)</td>\n",
       "      <td>2,515</td>\n",
       "      <td>2,510</td>\n",
       "      <td>2,580</td>\n",
       "    </tr>\n",
       "    <tr>\n",
       "      <th>11</th>\n",
       "      <td>Senior Master Sergeant (E8)</td>\n",
       "      <td>4,995</td>\n",
       "      <td>5,020</td>\n",
       "      <td>5,085</td>\n",
       "    </tr>\n",
       "    <tr>\n",
       "      <th>12</th>\n",
       "      <td>Master Sergeant (E7)</td>\n",
       "      <td>24,484</td>\n",
       "      <td>25,100</td>\n",
       "      <td>25,267</td>\n",
       "    </tr>\n",
       "    <tr>\n",
       "      <th>13</th>\n",
       "      <td>Technical Sergeant (E6)</td>\n",
       "      <td>39,677</td>\n",
       "      <td>39,659</td>\n",
       "      <td>40,426</td>\n",
       "    </tr>\n",
       "    <tr>\n",
       "      <th>14</th>\n",
       "      <td>Staff Sergeant (E5)</td>\n",
       "      <td>59,395</td>\n",
       "      <td>62,686</td>\n",
       "      <td>63,108</td>\n",
       "    </tr>\n",
       "    <tr>\n",
       "      <th>15</th>\n",
       "      <td>Senior Airman (E4)</td>\n",
       "      <td>59,550</td>\n",
       "      <td>59,050</td>\n",
       "      <td>58,810</td>\n",
       "    </tr>\n",
       "    <tr>\n",
       "      <th>16</th>\n",
       "      <td>Airman First Class (E3)</td>\n",
       "      <td>43,852</td>\n",
       "      <td>43,825</td>\n",
       "      <td>45,365</td>\n",
       "    </tr>\n",
       "    <tr>\n",
       "      <th>17</th>\n",
       "      <td>Airman (E2)</td>\n",
       "      <td>7,021</td>\n",
       "      <td>6,856</td>\n",
       "      <td>7,343</td>\n",
       "    </tr>\n",
       "    <tr>\n",
       "      <th>18</th>\n",
       "      <td>Airman Basic (E1)</td>\n",
       "      <td>11,273</td>\n",
       "      <td>10,596</td>\n",
       "      <td>10,665</td>\n",
       "    </tr>\n",
       "    <tr>\n",
       "      <th>19</th>\n",
       "      <td>Total Officer Personnel</td>\n",
       "      <td>60,961</td>\n",
       "      <td>61,698</td>\n",
       "      <td>62,451</td>\n",
       "    </tr>\n",
       "    <tr>\n",
       "      <th>20</th>\n",
       "      <td>Total Enlisted</td>\n",
       "      <td>252,762</td>\n",
       "      <td>255,302</td>\n",
       "      <td>258,649</td>\n",
       "    </tr>\n",
       "    <tr>\n",
       "      <th>21</th>\n",
       "      <td>Cadets</td>\n",
       "      <td>4,160</td>\n",
       "      <td>4,125</td>\n",
       "      <td>4,000</td>\n",
       "    </tr>\n",
       "    <tr>\n",
       "      <th>22</th>\n",
       "      <td>Total End Strength</td>\n",
       "      <td>317,883</td>\n",
       "      <td>321,125</td>\n",
       "      <td>325,100</td>\n",
       "    </tr>\n",
       "  </tbody>\n",
       "</table>\n",
       "</div>"
      ],
      "text/plain": [
       "                           Rank     2016     2017     2018\n",
       "0                 General (O10)       13       14       14\n",
       "1       Lieutenant General (O9)       40       41       42\n",
       "2            Major General (O8)       91       97       92\n",
       "3        Brigadier General (O7)      153      145      149\n",
       "4                  Colonel (O6)    3,320    3,395    3,415\n",
       "5       Lieutenant Colonel (O5)    9,585    9,812   10,011\n",
       "6                    Major (O4)   12,902   13,488   13,396\n",
       "7                  Captain (O3)   21,252   21,010   21,577\n",
       "8           1st Lieutenant (O2)    6,901    6,787    6,781\n",
       "9           2nd Lieutenant (O1)    6,704    6,909    6,974\n",
       "10   Chief Master Sergeant (E9)    2,515    2,510    2,580\n",
       "11  Senior Master Sergeant (E8)    4,995    5,020    5,085\n",
       "12         Master Sergeant (E7)   24,484   25,100   25,267\n",
       "13      Technical Sergeant (E6)   39,677   39,659   40,426\n",
       "14          Staff Sergeant (E5)   59,395   62,686   63,108\n",
       "15           Senior Airman (E4)   59,550   59,050   58,810\n",
       "16      Airman First Class (E3)   43,852   43,825   45,365\n",
       "17                  Airman (E2)    7,021    6,856    7,343\n",
       "18            Airman Basic (E1)   11,273   10,596   10,665\n",
       "19      Total Officer Personnel   60,961   61,698   62,451\n",
       "20               Total Enlisted  252,762  255,302  258,649\n",
       "21                       Cadets    4,160    4,125    4,000\n",
       "22           Total End Strength  317,883  321,125  325,100"
      ]
     },
     "execution_count": 88,
     "metadata": {},
     "output_type": "execute_result"
    }
   ],
   "source": [
    "pd.read_csv(StringIO(rank_by_year) , sep='\\t', names=['Rank','2016','2017','2018'])"
   ]
  },
  {
   "cell_type": "code",
   "execution_count": null,
   "metadata": {
    "hideCode": false,
    "hidePrompt": false
   },
   "outputs": [],
   "source": [
    "pd.read_csv()"
   ]
  },
  {
   "cell_type": "code",
   "execution_count": null,
   "metadata": {
    "hideCode": false,
    "hidePrompt": false
   },
   "outputs": [],
   "source": []
  },
  {
   "cell_type": "code",
   "execution_count": null,
   "metadata": {
    "hideCode": false,
    "hidePrompt": false
   },
   "outputs": [],
   "source": []
  },
  {
   "cell_type": "code",
   "execution_count": null,
   "metadata": {
    "hideCode": false,
    "hidePrompt": false
   },
   "outputs": [],
   "source": []
  },
  {
   "cell_type": "code",
   "execution_count": 52,
   "metadata": {
    "hideCode": false,
    "hidePrompt": false
   },
   "outputs": [
    {
     "data": {
      "text/plain": [
       "<matplotlib.text.Text at 0x117ce63d0>"
      ]
     },
     "execution_count": 52,
     "metadata": {},
     "output_type": "execute_result"
    },
    {
     "data": {
      "image/png": "[encoded data removed]",
      "text/plain": [
       "<matplotlib.figure.Figure at 0x118294910>"
      ]
     },
     "metadata": {},
     "output_type": "display_data"
    }
   ],
   "source": [
    "(conviction_by_pay_grade\n",
    " .fillna(0)\n",
    " .pipe(lambda df: df['guilty'] / (df['guilty'] + df['not guilty']))\n",
    " .plot(kind='bar', color='lightblue')\n",
    ")\n",
    "plt.title('Ratios of Guilty Rates by Rank')"
   ]
  },
  {
   "cell_type": "code",
   "execution_count": 45,
   "metadata": {
    "hideCode": false,
    "hidePrompt": false
   },
   "outputs": [
    {
     "data": {
      "image/png": "[encoded data removed]",
      "text/plain": [
       "<matplotlib.figure.Figure at 0x1171bf0d0>"
      ]
     },
     "metadata": {},
     "output_type": "display_data"
    }
   ],
   "source": [
    "conviction_by_pay_grade = (summary_sex_assault_full\n",
    " [['Pay Grade', 'Conclusion']]\n",
    " .assign(c=1)\n",
    " .pivot_table('c', 'Pay Grade', 'Conclusion', aggfunc='sum')\n",
    "#  .pipe(lambda df: df.fillna(0))\n",
    "#  .pipe(lambda df: df['guilty'] / (df['guilty'] + df['not guilty']) )\n",
    " .sort_index())\n",
    "conviction_by_pay_grade.plot(kind='bar', figsize=(12,8))\n",
    "\n",
    "plt.title('Likelihood of Conviction by Pay Grade (Court Martial Summaries)')\n",
    "plt.ylabel('Count');"
   ]
  },
  {
   "cell_type": "code",
   "execution_count": 468,
   "metadata": {
    "hideCode": false,
    "hidePrompt": false
   },
   "outputs": [
    {
     "data": {
      "text/html": [
       "<div>\n",
       "<style scoped>\n",
       "    .dataframe tbody tr th:only-of-type {\n",
       "        vertical-align: middle;\n",
       "    }\n",
       "\n",
       "    .dataframe tbody tr th {\n",
       "        vertical-align: top;\n",
       "    }\n",
       "\n",
       "    .dataframe thead th {\n",
       "        text-align: right;\n",
       "    }\n",
       "</style>\n",
       "<table border=\"1\" class=\"dataframe\">\n",
       "  <thead>\n",
       "    <tr style=\"text-align: right;\">\n",
       "      <th></th>\n",
       "      <th>Must Register as Sex Offender</th>\n",
       "      <th>Administrative Discharge Type</th>\n",
       "      <th>Adverse Administrative Action Type</th>\n",
       "      <th>Extra Duty</th>\n",
       "      <th>Fines and Forfeiture s</th>\n",
       "      <th>Hard Labor</th>\n",
       "    </tr>\n",
       "  </thead>\n",
       "  <tbody>\n",
       "    <tr>\n",
       "      <th>0</th>\n",
       "      <td>null</td>\n",
       "      <td>General</td>\n",
       "      <td>null</td>\n",
       "      <td>YES</td>\n",
       "      <td>YES</td>\n",
       "      <td>null</td>\n",
       "    </tr>\n",
       "    <tr>\n",
       "      <th>1</th>\n",
       "      <td>null</td>\n",
       "      <td>General</td>\n",
       "      <td>null</td>\n",
       "      <td>null</td>\n",
       "      <td>null</td>\n",
       "      <td>null</td>\n",
       "    </tr>\n",
       "    <tr>\n",
       "      <th>2</th>\n",
       "      <td>null</td>\n",
       "      <td>General</td>\n",
       "      <td>null</td>\n",
       "      <td>null</td>\n",
       "      <td>null</td>\n",
       "      <td>null</td>\n",
       "    </tr>\n",
       "    <tr>\n",
       "      <th>3</th>\n",
       "      <td>null</td>\n",
       "      <td>Pending</td>\n",
       "      <td>null</td>\n",
       "      <td>null</td>\n",
       "      <td>null</td>\n",
       "      <td>null</td>\n",
       "    </tr>\n",
       "    <tr>\n",
       "      <th>4</th>\n",
       "      <td>null</td>\n",
       "      <td>Uncharacterized</td>\n",
       "      <td>null</td>\n",
       "      <td>null</td>\n",
       "      <td>null</td>\n",
       "      <td>null</td>\n",
       "    </tr>\n",
       "    <tr>\n",
       "      <th>5</th>\n",
       "      <td>null</td>\n",
       "      <td>Uncharacterized</td>\n",
       "      <td>null</td>\n",
       "      <td>null</td>\n",
       "      <td>null</td>\n",
       "      <td>null</td>\n",
       "    </tr>\n",
       "    <tr>\n",
       "      <th>6</th>\n",
       "      <td>null</td>\n",
       "      <td>UOTHC</td>\n",
       "      <td>null</td>\n",
       "      <td>null</td>\n",
       "      <td>null</td>\n",
       "      <td>null</td>\n",
       "    </tr>\n",
       "    <tr>\n",
       "      <th>7</th>\n",
       "      <td>null</td>\n",
       "      <td>General</td>\n",
       "      <td>null</td>\n",
       "      <td>null</td>\n",
       "      <td>null</td>\n",
       "      <td>null</td>\n",
       "    </tr>\n",
       "    <tr>\n",
       "      <th>8</th>\n",
       "      <td>null</td>\n",
       "      <td>General</td>\n",
       "      <td>null</td>\n",
       "      <td>null</td>\n",
       "      <td>null</td>\n",
       "      <td>null</td>\n",
       "    </tr>\n",
       "    <tr>\n",
       "      <th>9</th>\n",
       "      <td>null</td>\n",
       "      <td>General</td>\n",
       "      <td>null</td>\n",
       "      <td>YES</td>\n",
       "      <td>YES</td>\n",
       "      <td>null</td>\n",
       "    </tr>\n",
       "  </tbody>\n",
       "</table>\n",
       "</div>"
      ],
      "text/plain": [
       "  Must Register as Sex Offender Administrative Discharge Type  \\\n",
       "0                          null                       General   \n",
       "1                          null                       General   \n",
       "2                          null                       General   \n",
       "3                          null                       Pending   \n",
       "4                          null               Uncharacterized   \n",
       "5                          null               Uncharacterized   \n",
       "6                          null                         UOTHC   \n",
       "7                          null                       General   \n",
       "8                          null                       General   \n",
       "9                          null                       General   \n",
       "\n",
       "  Adverse Administrative Action Type Extra Duty Fines and Forfeiture s  \\\n",
       "0                               null        YES                    YES   \n",
       "1                               null       null                   null   \n",
       "2                               null       null                   null   \n",
       "3                               null       null                   null   \n",
       "4                               null       null                   null   \n",
       "5                               null       null                   null   \n",
       "6                               null       null                   null   \n",
       "7                               null       null                   null   \n",
       "8                               null       null                   null   \n",
       "9                               null        YES                    YES   \n",
       "\n",
       "  Hard Labor  \n",
       "0       null  \n",
       "1       null  \n",
       "2       null  \n",
       "3       null  \n",
       "4       null  \n",
       "5       null  \n",
       "6       null  \n",
       "7       null  \n",
       "8       null  \n",
       "9       null  "
      ]
     },
     "execution_count": 468,
     "metadata": {},
     "output_type": "execute_result"
    }
   ],
   "source": [
    "sapro_full[[\n",
    "    'Must Register as Sex Offender',\n",
    "    'Administrative Discharge Type',\n",
    "    'Adverse Administrative Action Type',\n",
    "    'Extra Duty',\n",
    "    'Fines and Forfeiture s',\n",
    "    'Hard Labor'\n",
    "]].head(10)"
   ]
  },
  {
   "cell_type": "code",
   "execution_count": null,
   "metadata": {
    "hideCode": false,
    "hidePrompt": false
   },
   "outputs": [],
   "source": []
  },
  {
   "cell_type": "code",
   "execution_count": null,
   "metadata": {
    "hideCode": false,
    "hidePrompt": false
   },
   "outputs": [],
   "source": []
  },
  {
   "cell_type": "code",
   "execution_count": null,
   "metadata": {
    "hideCode": false,
    "hidePrompt": false
   },
   "outputs": [],
   "source": []
  },
  {
   "cell_type": "code",
   "execution_count": null,
   "metadata": {
    "hideCode": false,
    "hidePrompt": false
   },
   "outputs": [],
   "source": []
  },
  {
   "cell_type": "code",
   "execution_count": null,
   "metadata": {
    "hideCode": false,
    "hidePrompt": false
   },
   "outputs": [],
   "source": []
  },
  {
   "cell_type": "code",
   "execution_count": null,
   "metadata": {
    "hideCode": false,
    "hidePrompt": false
   },
   "outputs": [],
   "source": []
  },
  {
   "cell_type": "code",
   "execution_count": null,
   "metadata": {
    "hideCode": false,
    "hidePrompt": false
   },
   "outputs": [],
   "source": []
  },
  {
   "cell_type": "code",
   "execution_count": null,
   "metadata": {
    "hideCode": false,
    "hidePrompt": false
   },
   "outputs": [],
   "source": []
  },
  {
   "cell_type": "code",
   "execution_count": null,
   "metadata": {
    "hideCode": false,
    "hidePrompt": false
   },
   "outputs": [],
   "source": []
  },
  {
   "cell_type": "code",
   "execution_count": null,
   "metadata": {
    "hideCode": false,
    "hidePrompt": false
   },
   "outputs": [],
   "source": []
  },
  {
   "cell_type": "code",
   "execution_count": null,
   "metadata": {
    "hideCode": false,
    "hidePrompt": false
   },
   "outputs": [],
   "source": []
  },
  {
   "cell_type": "code",
   "execution_count": null,
   "metadata": {
    "hideCode": false,
    "hidePrompt": false
   },
   "outputs": [],
   "source": []
  },
  {
   "cell_type": "code",
   "execution_count": null,
   "metadata": {
    "hideCode": false,
    "hidePrompt": false
   },
   "outputs": [],
   "source": []
  },
  {
   "cell_type": "code",
   "execution_count": null,
   "metadata": {
    "hideCode": false,
    "hidePrompt": false
   },
   "outputs": [],
   "source": []
  },
  {
   "cell_type": "code",
   "execution_count": null,
   "metadata": {
    "hideCode": false,
    "hidePrompt": false
   },
   "outputs": [],
   "source": []
  },
  {
   "cell_type": "code",
   "execution_count": null,
   "metadata": {
    "hideCode": false,
    "hidePrompt": false
   },
   "outputs": [],
   "source": []
  },
  {
   "cell_type": "code",
   "execution_count": null,
   "metadata": {
    "hideCode": false,
    "hidePrompt": false
   },
   "outputs": [],
   "source": []
  },
  {
   "cell_type": "code",
   "execution_count": null,
   "metadata": {
    "hideCode": false,
    "hidePrompt": false
   },
   "outputs": [],
   "source": []
  },
  {
   "cell_type": "markdown",
   "metadata": {
    "hideCode": false,
    "hidePrompt": false
   },
   "source": [
    "# Get and clean data"
   ]
  },
  {
   "cell_type": "code",
   "execution_count": 71,
   "metadata": {
    "hideCode": false,
    "hidePrompt": false
   },
   "outputs": [],
   "source": [
    "sapro_tables = [(pd.read_excel(path)\n",
    "         .assign(Year='20' + re.search('\\d\\d', path).group())\n",
    ") for path in glob('../data/intermediate_usm_data/sapro/SAPRO Annual Reports/SAPRO_*_all.xlsx')\n",
    "                + ['../data/intermediate_usm_data/sapro/SAPRO Annual Reports/SAPRO_charts_army_14.xlsx']\n",
    "]\n",
    "\n",
    "def clean_colname(col):\n",
    "    return (col.replace('\\r', ' ')\n",
    "                  .replace('Administra- tive Discharge Type', 'Administrative Discharge Type')\n",
    "                  .replace('Confinemen t', 'Confinement')\n",
    "                  .replace('Incident Location', 'Location')\n",
    "                  .replace('Quarter Dispositio n Complete d', 'Quarter Disposition Completed')\n",
    "                  .replace('applicable.', 'applicable')\n",
    "                  .replace('Acession ?', 'Acession?')\n",
    "                  .replace('Restrictio n', 'Restriction')\n",
    "                  .replace('Investi- gation', 'Investigation')\n",
    "                  .replace('Victim Grade', 'Victim Pay Grade')\n",
    "                  .replace('Subject Grade', 'Subject Pay Grade')\n",
    "                  .replace('Subject Affiliation', 'Subject Service')\n",
    "                  )\n",
    "\n",
    "cleaned_tables = [table.rename(\n",
    "    columns={col:clean_colname(col) for col in table.columns}\n",
    ") for table in sapro_tables]\n",
    "\n",
    "sapro_full = pd.concat(cleaned_tables).reset_index(drop=True)\n",
    "sapro_full = sapro_full.applymap(lambda x: x.replace('\\r', ' ') if isinstance(x, basestring) else x)\n",
    "\n",
    "summary_tables = [\n",
    "    pd.read_csv(path,index_col=0).assign(division=os.path.basename(path).split('_')[0])\n",
    "    for path in glob('../data/final_usm_data/court_martial_summaries/*')\n",
    "]\n",
    "summary_tables = map(lambda table: table.rename(columns={\n",
    "    col: col.replace('date', 'Date').title() for col in table.columns\n",
    "}), summary_tables)\n",
    "summary_full = pd.concat(summary_tables).reset_index(drop=True)\n",
    "\n",
    "# get rank table\n",
    "rank_mapping_table = pd.read_csv('../data/final_usm_data/rank-mapping.csv')[['Branch', 'Rank', 'Standardized Pay Grade']]\n",
    "rank_mapping_table = rank_mapping_table.set_index('Branch')\n",
    "\n",
    "###### normalize rank\n",
    "ranks = (summary_full\n",
    " .groupby('Division')['Rank']\n",
    " .apply(lambda x: x.value_counts())\n",
    " .reset_index()\n",
    " .iloc[:, :2]\n",
    " .rename(columns={'level_1': 'Rank'})\n",
    ")\n",
    "\n",
    "def normalize_rank(row):\n",
    "    if pd.notnull(row['Rank']):\n",
    "        branch = rank_mapping_table.loc[row['Division']]\n",
    "        grade = branch[branch['Rank'] ==  row['Rank']]['Standardized Pay Grade'].unique()\n",
    "        if len(grade) == 1:\n",
    "            return grade[0]\n",
    "    return np.nan\n",
    "\n",
    "summary_full['Pay Grade'] = summary_full.apply(normalize_rank, axis=1)\n",
    "\n",
    "########## normalize date\n",
    "summary_full['Date'] = summary_full.apply(lambda x: x['Date'] if pd.notnull(x['Date']) else x['Document'], axis=1)\n",
    "\n",
    "def get_year(date_val):\n",
    "    if isinstance(date_val, basestring):\n",
    "        full = re.search('\\d{4}', date_val)\n",
    "        if full:\n",
    "            return full.group()\n",
    "        small = re.search('\\d{2}', date_val)\n",
    "        if small:\n",
    "            return '20' + small.group()\n",
    "    return np.nan\n",
    "\n",
    "summary_full['Year'] = summary_full['Date'].apply(get_year)\n",
    "\n",
    "## get court martials that have to do with sexual assault\n",
    "summary_sex_assault_full = summary_full[(summary_full['Offense'].apply(lambda x: \n",
    "    (('sex' in x)\n",
    "     or ('rape' in x)\n",
    "     or ('raping' in x)\n",
    "     or ('assault' in x)\n",
    "     or ('120' in x)\n",
    "#      or ('134' in x)\n",
    "     or ('indecent visual recording' in x)\n",
    "     or ('lawful general order' in x)\n",
    "#      or ('128' in x)\n",
    " ) if pd.notnull(x) else False))].copy()\n",
    "\n",
    "summary_full['Sexual-assault?'] = (summary_full['Offense'].apply(lambda x: \n",
    "    (('sex' in x)\n",
    "     or ('rape' in x)\n",
    "     or ('raping' in x)\n",
    "     or ('assault' in x)\n",
    "     or ('120' in x)\n",
    "#      or ('134' in x)\n",
    "     or ('indecent visual recording' in x)\n",
    "     or ('lawful general order' in x)\n",
    "#      or ('128' in x)\n",
    " ) if pd.notnull(x) else False)).copy()\n",
    "\n",
    "def clean_conclusion(row):\n",
    "    if row['Conclusion'] == 'not guilty':\n",
    "        if (row.fillna('null')['Sentence'] != 'null'):\n",
    "            return 'guilty'\n",
    "    return row['Conclusion']\n",
    " \n",
    "summary_sex_assault_full['Conclusion'] = (summary_sex_assault_full\n",
    "                      .apply(clean_conclusion, axis=1))\n",
    "\n",
    "exact_matches = pd.DataFrame([\n",
    "    {\"type\": \"Service\", \"SAPRO\": \"Subject Service\", \"SUMMARIES\": \"Division\"},\n",
    "    {\"type\": \"Year\", \"SAPRO\": \"Year\", \"SUMMARIES\": \"Year\"},\n",
    "    {\"type\": \"Rank\", \"SAPRO\": \"Subject Pay Grade\", \"SUMMARIES\": \"Pay Grade\"},\n",
    "#     {\"type\": \"Country\", \"SAPRO\": \"Location\", \"SUMMARIES\": \"Country\"},\n",
    "    {\"type\": \"Gender\", \"SAPRO\": \"Subject Gender\", \"SUMMARIES\": \"Gender\"},\n",
    "    {\"type\": \"Case_outcome\", \"SAPRO\": \"Outcome\", \"SUMMARIES\": \"Conclusion\"}\n",
    "]).set_index(\"type\")\n",
    "\n",
    "\n",
    "def clean_sapro_service(service_elem):\n",
    "    if pd.notnull(service_elem):\n",
    "        return (service_elem\n",
    "         .replace('(', '').replace(')', '')\n",
    "         .replace(' Corps', 's')\n",
    "         .replace('Air Force', 'AirForce')\n",
    "         .strip()\n",
    "         .upper()\n",
    "    ) \n",
    "def clean_summaries_countries(country_row):\n",
    "    if pd.notnull(country_row):\n",
    "        country_row = (country_row\n",
    "         .replace(' a', '')\n",
    "         .replace('(',''). replace(')', '')\n",
    "         .replace('U.S.A.', 'USA')\n",
    "         .replace('MCRD San Diego', 'USA')\n",
    "         .replace('Calfornia', 'USA')\n",
    "         .replace('D.C.', 'USA')\n",
    "      )  \n",
    "        if country_row in states:\n",
    "            country_row = 'USA'\n",
    "        return country_row.upper()\n",
    "\n",
    "def clean_sapro_country(country_row):\n",
    "    if pd.notnull(country_row):\n",
    "        country_row = (country_row.upper()\n",
    "         .replace('OCONUS', 'USA')\n",
    "         .replace('CONUS', 'USA')\n",
    "         .replace('UNITED STATES', 'USA')\n",
    "         .replace('AFGHANIST AN', 'AFGHANISTAN')\n",
    "         .replace('AFGHANISTA N', 'AFGHANISTAN')\n",
    "         .replace('UNKNOW N', 'UNKNOWN')\n",
    "        )\n",
    "        if country_row == 'AFGHANISTA':\n",
    "            country_row = 'AFGHANISTAN'\n",
    "        if country_row in states:\n",
    "            country_row = 'USA'\n",
    "        if country_row == 'US':\n",
    "            country_row = 'USA'\n",
    "        if country_row == 'UK':\n",
    "            country_row = 'United Kingdom'\n",
    "        if country_row == 'CA,MD':\n",
    "            country_row = 'USA'\n",
    "        return country_row.upper()\n",
    "\n",
    "def sapro_get_court_martial_outcome(row):\n",
    "    if pd.notnull(row):\n",
    "        row = row.lower()\n",
    "        if row !='null':\n",
    "            if ('dismissed' in row) or ('acquit' in row):\n",
    "                if ('subsequent' in row) or ('prior' in row):\n",
    "                    outcome = 'no court-martial'\n",
    "                else:\n",
    "                    outcome = 'not guilty'\n",
    "            elif ('in lieu' in row) or ('article 15' in row) or ('art 15' in row):\n",
    "                outcome = 'no court-martial'\n",
    "            else:\n",
    "                outcome = 'guilty'\n",
    "            return outcome\n",
    "    return 'no court-martial'\n",
    "\n",
    "sapro_full['Subject Service'] = sapro_full['Subject Service'].apply(clean_sapro_service)\n",
    "summary_sex_assault_full['Country'] = (summary_sex_assault_full['Country']\n",
    "                                       .apply(\n",
    "    clean_summaries_countries\n",
    "))\n",
    "sapro_full['Location'] = sapro_full['Location'].apply(clean_sapro_country)\n",
    "sapro_full['Location'] = sapro_full['Location'].apply(clean_sapro_country)\n",
    "sapro_full['Outcome'] = sapro_full['Court Case or Article 15 Outcome'].apply(\n",
    "    sapro_get_court_martial_outcome\n",
    ")\n",
    "sapro_full['Subject Gender'] = sapro_full['Subject Gender'].apply(\n",
    "    lambda x: x.lower() if pd.notnull(x) else x\n",
    ")\n",
    "\n",
    "\n",
    "summary_sex_assault_full = (summary_sex_assault_full\n",
    ".applymap(lambda x: unicode(x, encoding='utf-8') if pd.notnull(x) else x)\n",
    ")\n",
    "\n",
    "def clean_subject_service(row):\n",
    "    if pd.isnull(row['Subject Service']):\n",
    "        if pd.notnull(row['Case Disposition']):\n",
    "            if row['Case Disposition'] in [\n",
    "                'Civilian or Foreign Prosecution of Person Not Subject to UCMJ',\n",
    "                'Unknown Subject',\n",
    "                'Civilian or Foreign Prosecution of Person Not Subject to',\n",
    "                'Offender is Unknown',\n",
    "                'Subject is a Civilian or Foreign National',\n",
    "                'Unknown']:\n",
    "                return 'UNKNOWN'\n",
    "    else:\n",
    "        return row['Subject Service']\n",
    "\n",
    "sapro_full['Subject Service'] = sapro_full.apply(clean_subject_service, axis=1)\n",
    "sapro_full['Subject Pay Grade'] = (sapro_full\n",
    "   .apply(lambda x: 'UNKNOWN' if  x['Subject Service'] == 'UNKNOWN' else x['Subject Pay Grade']\n",
    ", axis=1))\n",
    "\n",
    "import gender_guesser.detector as gender\n",
    "d = gender.Detector()\n",
    "\n",
    "def summary_get_gender(row):    \n",
    "    male_names = ['Alexzander','Frankey','Marckus','Frankey','Jeffary','Juventino',\n",
    "                  'Jerard','Trentlee','Jarrid','Nehral','Keidrick','Leather','Alexeiv',\n",
    "                  'Kirkland','Darris',u'Tyrus',u'Cooney', 'Edmourd',\n",
    "                  'Terance','Vincell','Deandrea','Casey']\n",
    "    \n",
    "    gender = row['Gender']\n",
    "    if pd.isnull(gender):\n",
    "        if isinstance(row['Name'], basestring) and (row['Name'] != 'null'):\n",
    "            for name in row['Name'].split(' '):\n",
    "                if name in male_names:\n",
    "                    gender = 'male'\n",
    "                    break\n",
    "                d_gender = d.get_gender(name)\n",
    "                d_gender = d_gender.replace('mostly_', '')\n",
    "                if d_gender in ['male', 'female']:\n",
    "                    gender = d_gender\n",
    "                    break\n",
    "    \n",
    "    return gender\n",
    "\n",
    "summary_sex_assault_full['Gender'] = summary_sex_assault_full.apply(summary_get_gender, axis=1)\n",
    "summary_sex_assault_full.isnull().apply(lambda x: x.value_counts())[list(exact_matches['SUMMARIES'])]\n",
    "\n",
    "month_mapping = {v:k for k,v in enumerate(list(calendar.month_abbr))}\n",
    "month_mapping.update( {v.upper():k for k,v in enumerate(list(calendar.month_abbr))})\n",
    "month_re = '|'.join(map(lambda x: x.upper(), list(calendar.month_abbr)[1:] )+ list(calendar.month_abbr)[1:])\n",
    "\n",
    "def get_month(date_val):\n",
    "    if re.match('\\d{1,2}/\\d{1,2}/\\d\\d\\d\\d', date_val):\n",
    "        return date_val.split('/')[0]\n",
    "    month_match = re.search(month_re, date_val)\n",
    "    if month_match:\n",
    "        return month_mapping[month_match.group()]\n",
    "        \n",
    "# def get_year(date_val):\n",
    "#     if isinstance(date_val, basestring):\n",
    "#         full = re.search('\\d{4}', date_val)\n",
    "#         if full:\n",
    "#             return full.group()\n",
    "#         small = re.search('\\d{2}', date_val)\n",
    "#         if small:\n",
    "#             return '20' + small.group()\n",
    "#     return np.nan\n",
    "# if pd.notnull()\n",
    "\n",
    "summary_full['Month'] = summary_full['Date'].fillna('').apply(get_month)\n",
    "summary_full['Date-clean'] = (summary_full[['Month','Year']]\n",
    "                                          .replace('null',np.nan)\n",
    "                                          .apply(\n",
    "                      lambda x: '%04d-%02d' % (int(x['Year']), int(x['Month']))\n",
    "                          if pd.notnull(x).any() else np.nan, axis=1)\n",
    "                                         )\n",
    "\n",
    "summary_sex_assault_full['Month'] = summary_sex_assault_full['Date'].fillna('').apply(get_month)\n",
    "summary_sex_assault_full['Date-clean'] = (summary_sex_assault_full\n",
    "                                          [['Month','Year']]\n",
    "                                          .replace('null',np.nan)\n",
    "                                          .apply(\n",
    "                      lambda x: '%04d-%02d' % (int(x['Year']), int(x['Month']))\n",
    "                          if pd.notnull(x).any() else np.nan, axis=1)\n",
    "                                         )"
   ]
  }
 ],
 "metadata": {
  "anaconda-cloud": {},
  "hide_code_all_hidden": false,
  "kernelspec": {
   "display_name": "Python 2",
   "language": "python",
   "name": "python2"
  },
  "language_info": {
   "codemirror_mode": {
    "name": "ipython",
    "version": 2
   },
   "file_extension": ".py",
   "mimetype": "text/x-python",
   "name": "python",
   "nbconvert_exporter": "python",
   "pygments_lexer": "ipython2",
   "version": "2.7.13"
  }
 },
 "nbformat": 4,
 "nbformat_minor": 1
}
